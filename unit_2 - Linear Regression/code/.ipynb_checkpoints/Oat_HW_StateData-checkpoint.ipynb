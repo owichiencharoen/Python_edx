{
 "cells": [
  {
   "cell_type": "markdown",
   "metadata": {},
   "source": [
    "#### STATE DATA (OPTIONAL)\n",
    "\n",
    "We often take data for granted. However, one of the hardest parts about analyzing a problem you're interested in can be to find good data to answer the questions you want to ask. As you're learning R, though, there are many datasets that R has built in that you can take advantage of.\n",
    "\n",
    "In this problem, we will be examining the \"state\" dataset, which has data from the 1970s on all fifty US states. For each state, the dataset includes the population, per capita income, illiteracy rate, murder rate, high school graduation rate, average number of frost days, area, latitude and longitude, division the state belongs to,  region the state belongs to, and two-letter abbreviation.\n",
    "\n",
    "Load the dataset with read_csv() and convert it to a data frame.\n",
    "\n",
    "This dataset has 50 observations (one for each US state)"
   ]
  },
  {
   "cell_type": "code",
   "execution_count": 1,
   "metadata": {
    "collapsed": true
   },
   "outputs": [],
   "source": [
    "import pandas as pd\n",
    "from pandas import Series, DataFrame\n",
    "import numpy as np\n",
    "import seaborn as sns\n",
    "sns.set_style('darkgrid')\n",
    "\n",
    "from scipy import stats\n",
    "import statsmodels.formula.api as smf\n",
    "import statsmodels.api as sm\n",
    "\n",
    "import matplotlib.pyplot as plt\n",
    "%matplotlib inline\n",
    "\n",
    "#from sklearn import datasets, linear_model, metrics\n",
    "\n",
    "#import itertools\n",
    "#import pandas_datareader.data as pdweb\n",
    "#from pandas_datareader.data import DataReader\n",
    "#from datetime import datetime\n",
    "#from io import StringIO"
   ]
  },
  {
   "cell_type": "code",
   "execution_count": 2,
   "metadata": {
    "collapsed": false
   },
   "outputs": [
    {
     "name": "stdout",
     "output_type": "stream",
     "text": [
      "<class 'pandas.core.frame.DataFrame'>\n",
      "RangeIndex: 50 entries, 0 to 49\n",
      "Data columns (total 15 columns):\n",
      "Population        50 non-null int64\n",
      "Income            50 non-null int64\n",
      "Illiteracy        50 non-null float64\n",
      "Life.Exp          50 non-null float64\n",
      "Murder            50 non-null float64\n",
      "HS.Grad           50 non-null float64\n",
      "Frost             50 non-null int64\n",
      "Area              50 non-null int64\n",
      "state.abb         50 non-null object\n",
      "state.area        50 non-null int64\n",
      "x                 50 non-null float64\n",
      "y                 50 non-null float64\n",
      "state.division    50 non-null object\n",
      "state.name        50 non-null object\n",
      "state.region      50 non-null object\n",
      "dtypes: float64(6), int64(5), object(4)\n",
      "memory usage: 5.9+ KB\n"
     ]
    }
   ],
   "source": [
    "statedata = pd.read_csv('../data/statedata.csv')\n",
    "statedata.info()"
   ]
  },
  {
   "cell_type": "markdown",
   "metadata": {},
   "source": [
    "#### Explore the data"
   ]
  },
  {
   "cell_type": "code",
   "execution_count": 3,
   "metadata": {
    "collapsed": false
   },
   "outputs": [
    {
     "data": {
      "text/plain": [
       "[<matplotlib.lines.Line2D at 0xb1b3cf8>]"
      ]
     },
     "execution_count": 3,
     "metadata": {},
     "output_type": "execute_result"
    },
    {
     "data": {
      "image/png": "[encoded data removed]",
      "text/plain": [
       "<matplotlib.figure.Figure at 0xadd2978>"
      ]
     },
     "metadata": {},
     "output_type": "display_data"
    }
   ],
   "source": [
    "# X,Y are coordinates? Then the plot should look like a USA map!\n",
    "plt.plot(statedata['x'],statedata['y'],'ro')"
   ]
  },
  {
   "cell_type": "code",
   "execution_count": 4,
   "metadata": {
    "collapsed": false
   },
   "outputs": [
    {
     "data": {
      "text/plain": [
       "[<matplotlib.lines.Line2D at 0xb6eec18>]"
      ]
     },
     "execution_count": 4,
     "metadata": {},
     "output_type": "execute_result"
    },
    {
     "data": {
      "image/png": "[encoded data removed]",
      "text/plain": [
       "<matplotlib.figure.Figure at 0xadf8278>"
      ]
     },
     "metadata": {},
     "output_type": "display_data"
    }
   ],
   "source": [
    "# It would be really cool if we could overlay this with an actual USA map\n",
    "plt.plot(statedata['x'],statedata['y'],'bo')"
   ]
  },
  {
   "cell_type": "code",
   "execution_count": 5,
   "metadata": {
    "collapsed": false
   },
   "outputs": [
    {
     "data": {
      "text/plain": [
       "state.region\n",
       "North Central    54.516667\n",
       "Northeast        53.966667\n",
       "South            44.343750\n",
       "West             62.000000\n",
       "Name: HS.Grad, dtype: float64"
      ]
     },
     "execution_count": 5,
     "metadata": {},
     "output_type": "execute_result"
    }
   ],
   "source": [
    "# which region of the US (West, North Central, South, or Northeast) has the highest average high school graduation\n",
    "# rate of all the states in the region?\n",
    "\n",
    "statedata.groupby('state.region')['HS.Grad'].mean()"
   ]
  },
  {
   "cell_type": "code",
   "execution_count": 6,
   "metadata": {
    "collapsed": false
   },
   "outputs": [
    {
     "data": {
      "text/plain": [
       "<matplotlib.axes._subplots.AxesSubplot at 0xb6bf860>"
      ]
     },
     "execution_count": 6,
     "metadata": {},
     "output_type": "execute_result"
    },
    {
     "data": {
      "image/png": "[encoded data removed]",
      "text/plain": [
       "<matplotlib.figure.Figure at 0xb714a90>"
      ]
     },
     "metadata": {},
     "output_type": "display_data"
    }
   ],
   "source": [
    "sns.boxplot(x='state.region',y='Murder',data=statedata)"
   ]
  },
  {
   "cell_type": "code",
   "execution_count": 7,
   "metadata": {
    "collapsed": false
   },
   "outputs": [
    {
     "data": {
      "text/plain": [
       "15.1"
      ]
     },
     "execution_count": 7,
     "metadata": {},
     "output_type": "execute_result"
    }
   ],
   "source": [
    "# What state is that outlier in the Northeast region?\n",
    "\n",
    "statedata['Murder'].max()"
   ]
  },
  {
   "cell_type": "code",
   "execution_count": 8,
   "metadata": {
    "collapsed": false
   },
   "outputs": [
    {
     "data": {
      "text/plain": [
       "6      3.1\n",
       "18     2.7\n",
       "20     3.3\n",
       "28     3.3\n",
       "29     5.2\n",
       "31    10.9\n",
       "37     6.1\n",
       "38     2.4\n",
       "44     5.5\n",
       "Name: Murder, dtype: float64"
      ]
     },
     "execution_count": 8,
     "metadata": {},
     "output_type": "execute_result"
    }
   ],
   "source": [
    "statedata[statedata['state.region']=='Northeast']['Murder']"
   ]
  },
  {
   "cell_type": "code",
   "execution_count": 9,
   "metadata": {
    "collapsed": false
   },
   "outputs": [
    {
     "data": {
      "text/plain": [
       "state.region    Northeast\n",
       "state.name       New York\n",
       "Name: 31, dtype: object"
      ]
     },
     "execution_count": 9,
     "metadata": {},
     "output_type": "execute_result"
    }
   ],
   "source": [
    "statedata.loc[31,['state.region','state.name']]"
   ]
  },
  {
   "cell_type": "markdown",
   "metadata": {},
   "source": [
    "#### Linear Model\n",
    "We would like to build a model to predict life expectancy by state using the state statistics we have.\n",
    "\n",
    "Build the model with all potential variables included (Population, Income, Illiteracy, Murder, HS.Grad, Frost, and Area). Note: use the variable \"Area\", NOT the variable \"state.area\".\n",
    "\n",
    "What is the coefficient for \"Income\" in the linear regression model?"
   ]
  },
  {
   "cell_type": "code",
   "execution_count": 10,
   "metadata": {
    "collapsed": false
   },
   "outputs": [
    {
     "data": {
      "text/plain": [
       "Index(['Population', 'Income', 'Illiteracy', 'Life.Exp', 'Murder', 'HS.Grad',\n",
       "       'Frost', 'Area', 'state.abb', 'state.area', 'x', 'y', 'state.division',\n",
       "       'state.name', 'state.region'],\n",
       "      dtype='object')"
      ]
     },
     "execution_count": 10,
     "metadata": {},
     "output_type": "execute_result"
    }
   ],
   "source": [
    "# First we need to clean up column names\n",
    "\n",
    "statedata.columns"
   ]
  },
  {
   "cell_type": "code",
   "execution_count": 11,
   "metadata": {
    "collapsed": false
   },
   "outputs": [
    {
     "data": {
      "text/html": [
       "<div>\n",
       "<table border=\"1\" class=\"dataframe\">\n",
       "  <thead>\n",
       "    <tr style=\"text-align: right;\">\n",
       "      <th></th>\n",
       "      <th>Population</th>\n",
       "      <th>Income</th>\n",
       "      <th>Illiteracy</th>\n",
       "      <th>Life_Exp</th>\n",
       "      <th>Murder</th>\n",
       "      <th>HS_Grad</th>\n",
       "      <th>Frost</th>\n",
       "      <th>Area</th>\n",
       "      <th>state_abb</th>\n",
       "      <th>state_area</th>\n",
       "      <th>x</th>\n",
       "      <th>y</th>\n",
       "      <th>state_division</th>\n",
       "      <th>state_name</th>\n",
       "      <th>state_region</th>\n",
       "    </tr>\n",
       "  </thead>\n",
       "  <tbody>\n",
       "    <tr>\n",
       "      <th>0</th>\n",
       "      <td>3615</td>\n",
       "      <td>3624</td>\n",
       "      <td>2.1</td>\n",
       "      <td>69.05</td>\n",
       "      <td>15.1</td>\n",
       "      <td>41.3</td>\n",
       "      <td>20</td>\n",
       "      <td>50708</td>\n",
       "      <td>AL</td>\n",
       "      <td>51609</td>\n",
       "      <td>-86.7509</td>\n",
       "      <td>32.5901</td>\n",
       "      <td>East South Central</td>\n",
       "      <td>Alabama</td>\n",
       "      <td>South</td>\n",
       "    </tr>\n",
       "    <tr>\n",
       "      <th>1</th>\n",
       "      <td>365</td>\n",
       "      <td>6315</td>\n",
       "      <td>1.5</td>\n",
       "      <td>69.31</td>\n",
       "      <td>11.3</td>\n",
       "      <td>66.7</td>\n",
       "      <td>152</td>\n",
       "      <td>566432</td>\n",
       "      <td>AK</td>\n",
       "      <td>589757</td>\n",
       "      <td>-127.2500</td>\n",
       "      <td>49.2500</td>\n",
       "      <td>Pacific</td>\n",
       "      <td>Alaska</td>\n",
       "      <td>West</td>\n",
       "    </tr>\n",
       "    <tr>\n",
       "      <th>2</th>\n",
       "      <td>2212</td>\n",
       "      <td>4530</td>\n",
       "      <td>1.8</td>\n",
       "      <td>70.55</td>\n",
       "      <td>7.8</td>\n",
       "      <td>58.1</td>\n",
       "      <td>15</td>\n",
       "      <td>113417</td>\n",
       "      <td>AZ</td>\n",
       "      <td>113909</td>\n",
       "      <td>-111.6250</td>\n",
       "      <td>34.2192</td>\n",
       "      <td>Mountain</td>\n",
       "      <td>Arizona</td>\n",
       "      <td>West</td>\n",
       "    </tr>\n",
       "  </tbody>\n",
       "</table>\n",
       "</div>"
      ],
      "text/plain": [
       "   Population  Income  Illiteracy  Life_Exp  Murder  HS_Grad  Frost    Area  \\\n",
       "0        3615    3624         2.1     69.05    15.1     41.3     20   50708   \n",
       "1         365    6315         1.5     69.31    11.3     66.7    152  566432   \n",
       "2        2212    4530         1.8     70.55     7.8     58.1     15  113417   \n",
       "\n",
       "  state_abb  state_area         x        y      state_division state_name  \\\n",
       "0        AL       51609  -86.7509  32.5901  East South Central    Alabama   \n",
       "1        AK      589757 -127.2500  49.2500             Pacific     Alaska   \n",
       "2        AZ      113909 -111.6250  34.2192            Mountain    Arizona   \n",
       "\n",
       "  state_region  \n",
       "0        South  \n",
       "1         West  \n",
       "2         West  "
      ]
     },
     "execution_count": 11,
     "metadata": {},
     "output_type": "execute_result"
    }
   ],
   "source": [
    "statedata.columns = ['Population', 'Income', 'Illiteracy', 'Life_Exp', 'Murder', 'HS_Grad',\n",
    "       'Frost', 'Area', 'state_abb', 'state_area', 'x', 'y', 'state_division',\n",
    "       'state_name', 'state_region']\n",
    "statedata[:3]"
   ]
  },
  {
   "cell_type": "code",
   "execution_count": 12,
   "metadata": {
    "collapsed": false
   },
   "outputs": [
    {
     "data": {
      "text/html": [
       "<table class=\"simpletable\">\n",
       "<caption>OLS Regression Results</caption>\n",
       "<tr>\n",
       "  <th>Dep. Variable:</th>        <td>Life_Exp</td>     <th>  R-squared:         </th> <td>   0.736</td>\n",
       "</tr>\n",
       "<tr>\n",
       "  <th>Model:</th>                   <td>OLS</td>       <th>  Adj. R-squared:    </th> <td>   0.692</td>\n",
       "</tr>\n",
       "<tr>\n",
       "  <th>Method:</th>             <td>Least Squares</td>  <th>  F-statistic:       </th> <td>   16.74</td>\n",
       "</tr>\n",
       "<tr>\n",
       "  <th>Date:</th>             <td>Mon, 25 Jul 2016</td> <th>  Prob (F-statistic):</th> <td>2.53e-10</td>\n",
       "</tr>\n",
       "<tr>\n",
       "  <th>Time:</th>                 <td>15:59:36</td>     <th>  Log-Likelihood:    </th> <td> -51.855</td>\n",
       "</tr>\n",
       "<tr>\n",
       "  <th>No. Observations:</th>      <td>    50</td>      <th>  AIC:               </th> <td>   119.7</td>\n",
       "</tr>\n",
       "<tr>\n",
       "  <th>Df Residuals:</th>          <td>    42</td>      <th>  BIC:               </th> <td>   135.0</td>\n",
       "</tr>\n",
       "<tr>\n",
       "  <th>Df Model:</th>              <td>     7</td>      <th>                     </th>     <td> </td>   \n",
       "</tr>\n",
       "<tr>\n",
       "  <th>Covariance Type:</th>      <td>nonrobust</td>    <th>                     </th>     <td> </td>   \n",
       "</tr>\n",
       "</table>\n",
       "<table class=\"simpletable\">\n",
       "<tr>\n",
       "       <td></td>         <th>coef</th>     <th>std err</th>      <th>t</th>      <th>P>|t|</th> <th>[95.0% Conf. Int.]</th> \n",
       "</tr>\n",
       "<tr>\n",
       "  <th>Intercept</th>  <td>   70.9432</td> <td>    1.748</td> <td>   40.586</td> <td> 0.000</td> <td>   67.416    74.471</td>\n",
       "</tr>\n",
       "<tr>\n",
       "  <th>Population</th> <td>  5.18e-05</td> <td> 2.92e-05</td> <td>    1.775</td> <td> 0.083</td> <td> -7.1e-06     0.000</td>\n",
       "</tr>\n",
       "<tr>\n",
       "  <th>Income</th>     <td> -2.18e-05</td> <td>    0.000</td> <td>   -0.089</td> <td> 0.929</td> <td>   -0.001     0.000</td>\n",
       "</tr>\n",
       "<tr>\n",
       "  <th>Illiteracy</th> <td>    0.0338</td> <td>    0.366</td> <td>    0.092</td> <td> 0.927</td> <td>   -0.705     0.773</td>\n",
       "</tr>\n",
       "<tr>\n",
       "  <th>Murder</th>     <td>   -0.3011</td> <td>    0.047</td> <td>   -6.459</td> <td> 0.000</td> <td>   -0.395    -0.207</td>\n",
       "</tr>\n",
       "<tr>\n",
       "  <th>HS_Grad</th>    <td>    0.0489</td> <td>    0.023</td> <td>    2.098</td> <td> 0.042</td> <td>    0.002     0.096</td>\n",
       "</tr>\n",
       "<tr>\n",
       "  <th>Frost</th>      <td>   -0.0057</td> <td>    0.003</td> <td>   -1.825</td> <td> 0.075</td> <td>   -0.012     0.001</td>\n",
       "</tr>\n",
       "<tr>\n",
       "  <th>Area</th>       <td>-7.383e-08</td> <td> 1.67e-06</td> <td>   -0.044</td> <td> 0.965</td> <td>-3.44e-06  3.29e-06</td>\n",
       "</tr>\n",
       "</table>\n",
       "<table class=\"simpletable\">\n",
       "<tr>\n",
       "  <th>Omnibus:</th>       <td> 2.385</td> <th>  Durbin-Watson:     </th> <td>   1.929</td>\n",
       "</tr>\n",
       "<tr>\n",
       "  <th>Prob(Omnibus):</th> <td> 0.303</td> <th>  Jarque-Bera (JB):  </th> <td>   1.420</td>\n",
       "</tr>\n",
       "<tr>\n",
       "  <th>Skew:</th>          <td>-0.081</td> <th>  Prob(JB):          </th> <td>   0.492</td>\n",
       "</tr>\n",
       "<tr>\n",
       "  <th>Kurtosis:</th>      <td> 2.190</td> <th>  Cond. No.          </th> <td>1.85e+06</td>\n",
       "</tr>\n",
       "</table>"
      ],
      "text/plain": [
       "<class 'statsmodels.iolib.summary.Summary'>\n",
       "\"\"\"\n",
       "                            OLS Regression Results                            \n",
       "==============================================================================\n",
       "Dep. Variable:               Life_Exp   R-squared:                       0.736\n",
       "Model:                            OLS   Adj. R-squared:                  0.692\n",
       "Method:                 Least Squares   F-statistic:                     16.74\n",
       "Date:                Mon, 25 Jul 2016   Prob (F-statistic):           2.53e-10\n",
       "Time:                        15:59:36   Log-Likelihood:                -51.855\n",
       "No. Observations:                  50   AIC:                             119.7\n",
       "Df Residuals:                      42   BIC:                             135.0\n",
       "Df Model:                           7                                         \n",
       "Covariance Type:            nonrobust                                         \n",
       "==============================================================================\n",
       "                 coef    std err          t      P>|t|      [95.0% Conf. Int.]\n",
       "------------------------------------------------------------------------------\n",
       "Intercept     70.9432      1.748     40.586      0.000        67.416    74.471\n",
       "Population   5.18e-05   2.92e-05      1.775      0.083      -7.1e-06     0.000\n",
       "Income      -2.18e-05      0.000     -0.089      0.929        -0.001     0.000\n",
       "Illiteracy     0.0338      0.366      0.092      0.927        -0.705     0.773\n",
       "Murder        -0.3011      0.047     -6.459      0.000        -0.395    -0.207\n",
       "HS_Grad        0.0489      0.023      2.098      0.042         0.002     0.096\n",
       "Frost         -0.0057      0.003     -1.825      0.075        -0.012     0.001\n",
       "Area       -7.383e-08   1.67e-06     -0.044      0.965     -3.44e-06  3.29e-06\n",
       "==============================================================================\n",
       "Omnibus:                        2.385   Durbin-Watson:                   1.929\n",
       "Prob(Omnibus):                  0.303   Jarque-Bera (JB):                1.420\n",
       "Skew:                          -0.081   Prob(JB):                        0.492\n",
       "Kurtosis:                       2.190   Cond. No.                     1.85e+06\n",
       "==============================================================================\n",
       "\n",
       "Warnings:\n",
       "[1] Standard Errors assume that the covariance matrix of the errors is correctly specified.\n",
       "[2] The condition number is large, 1.85e+06. This might indicate that there are\n",
       "strong multicollinearity or other numerical problems.\n",
       "\"\"\""
      ]
     },
     "execution_count": 12,
     "metadata": {},
     "output_type": "execute_result"
    }
   ],
   "source": [
    "LinReg = smf.ols(formula='Life_Exp ~ Population + Income + Illiteracy + Murder + HS_Grad + Frost + Area',data=statedata).fit()\n",
    "LinReg.summary()"
   ]
  },
  {
   "cell_type": "code",
   "execution_count": 13,
   "metadata": {
    "collapsed": false
   },
   "outputs": [
    {
     "data": {
      "text/plain": [
       "<seaborn.axisgrid.FacetGrid at 0xb883048>"
      ]
     },
     "execution_count": 13,
     "metadata": {},
     "output_type": "execute_result"
    },
    {
     "data": {
      "image/png": "[encoded data removed]",
      "text/plain": [
       "<matplotlib.figure.Figure at 0xb8318d0>"
      ]
     },
     "metadata": {},
     "output_type": "display_data"
    },
    {
     "data": {
      "image/png": "[encoded data removed]",
      "text/plain": [
       "<matplotlib.figure.Figure at 0xb8830f0>"
      ]
     },
     "metadata": {},
     "output_type": "display_data"
    }
   ],
   "source": [
    "# Look, the income coefficient is negative. The higher the income, the lower your life expectancy? Weird.\n",
    "\n",
    "plt.plot(statedata['Income'], statedata['Life_Exp'],'go')\n",
    "plt.xlabel('Income')\n",
    "plt.ylabel('Life_Exp')\n",
    "\n",
    "sns.lmplot('Income', 'Life_Exp', data=statedata)"
   ]
  },
  {
   "cell_type": "markdown",
   "metadata": {},
   "source": [
    "#### # Now do \"backwards variable selection\"\n",
    "\n",
    "Use the significance of the coefficients to decide which variables to remove (remove the one with the largest \"p-value\" first, or the one with the \"t value\" closest to zero), and to remove them one at a time"
   ]
  },
  {
   "cell_type": "code",
   "execution_count": 14,
   "metadata": {
    "collapsed": false
   },
   "outputs": [
    {
     "data": {
      "text/html": [
       "<table class=\"simpletable\">\n",
       "<caption>OLS Regression Results</caption>\n",
       "<tr>\n",
       "  <th>Dep. Variable:</th>        <td>Life_Exp</td>     <th>  R-squared:         </th> <td>   0.736</td>\n",
       "</tr>\n",
       "<tr>\n",
       "  <th>Model:</th>                   <td>OLS</td>       <th>  Adj. R-squared:    </th> <td>   0.713</td>\n",
       "</tr>\n",
       "<tr>\n",
       "  <th>Method:</th>             <td>Least Squares</td>  <th>  F-statistic:       </th> <td>   31.37</td>\n",
       "</tr>\n",
       "<tr>\n",
       "  <th>Date:</th>             <td>Mon, 25 Jul 2016</td> <th>  Prob (F-statistic):</th> <td>1.70e-12</td>\n",
       "</tr>\n",
       "<tr>\n",
       "  <th>Time:</th>                 <td>15:59:37</td>     <th>  Log-Likelihood:    </th> <td> -51.866</td>\n",
       "</tr>\n",
       "<tr>\n",
       "  <th>No. Observations:</th>      <td>    50</td>      <th>  AIC:               </th> <td>   113.7</td>\n",
       "</tr>\n",
       "<tr>\n",
       "  <th>Df Residuals:</th>          <td>    45</td>      <th>  BIC:               </th> <td>   123.3</td>\n",
       "</tr>\n",
       "<tr>\n",
       "  <th>Df Model:</th>              <td>     4</td>      <th>                     </th>     <td> </td>   \n",
       "</tr>\n",
       "<tr>\n",
       "  <th>Covariance Type:</th>      <td>nonrobust</td>    <th>                     </th>     <td> </td>   \n",
       "</tr>\n",
       "</table>\n",
       "<table class=\"simpletable\">\n",
       "<tr>\n",
       "       <td></td>         <th>coef</th>     <th>std err</th>      <th>t</th>      <th>P>|t|</th> <th>[95.0% Conf. Int.]</th> \n",
       "</tr>\n",
       "<tr>\n",
       "  <th>Intercept</th>  <td>   71.0271</td> <td>    0.953</td> <td>   74.542</td> <td> 0.000</td> <td>   69.108    72.946</td>\n",
       "</tr>\n",
       "<tr>\n",
       "  <th>Population</th> <td> 5.014e-05</td> <td> 2.51e-05</td> <td>    1.996</td> <td> 0.052</td> <td>-4.54e-07     0.000</td>\n",
       "</tr>\n",
       "<tr>\n",
       "  <th>Murder</th>     <td>   -0.3001</td> <td>    0.037</td> <td>   -8.199</td> <td> 0.000</td> <td>   -0.374    -0.226</td>\n",
       "</tr>\n",
       "<tr>\n",
       "  <th>HS_Grad</th>    <td>    0.0466</td> <td>    0.015</td> <td>    3.142</td> <td> 0.003</td> <td>    0.017     0.076</td>\n",
       "</tr>\n",
       "<tr>\n",
       "  <th>Frost</th>      <td>   -0.0059</td> <td>    0.002</td> <td>   -2.455</td> <td> 0.018</td> <td>   -0.011    -0.001</td>\n",
       "</tr>\n",
       "</table>\n",
       "<table class=\"simpletable\">\n",
       "<tr>\n",
       "  <th>Omnibus:</th>       <td> 2.444</td> <th>  Durbin-Watson:     </th> <td>   1.914</td>\n",
       "</tr>\n",
       "<tr>\n",
       "  <th>Prob(Omnibus):</th> <td> 0.295</td> <th>  Jarque-Bera (JB):  </th> <td>   1.426</td>\n",
       "</tr>\n",
       "<tr>\n",
       "  <th>Skew:</th>          <td>-0.065</td> <th>  Prob(JB):          </th> <td>   0.490</td>\n",
       "</tr>\n",
       "<tr>\n",
       "  <th>Kurtosis:</th>      <td> 2.183</td> <th>  Cond. No.          </th> <td>5.74e+04</td>\n",
       "</tr>\n",
       "</table>"
      ],
      "text/plain": [
       "<class 'statsmodels.iolib.summary.Summary'>\n",
       "\"\"\"\n",
       "                            OLS Regression Results                            \n",
       "==============================================================================\n",
       "Dep. Variable:               Life_Exp   R-squared:                       0.736\n",
       "Model:                            OLS   Adj. R-squared:                  0.713\n",
       "Method:                 Least Squares   F-statistic:                     31.37\n",
       "Date:                Mon, 25 Jul 2016   Prob (F-statistic):           1.70e-12\n",
       "Time:                        15:59:37   Log-Likelihood:                -51.866\n",
       "No. Observations:                  50   AIC:                             113.7\n",
       "Df Residuals:                      45   BIC:                             123.3\n",
       "Df Model:                           4                                         \n",
       "Covariance Type:            nonrobust                                         \n",
       "==============================================================================\n",
       "                 coef    std err          t      P>|t|      [95.0% Conf. Int.]\n",
       "------------------------------------------------------------------------------\n",
       "Intercept     71.0271      0.953     74.542      0.000        69.108    72.946\n",
       "Population  5.014e-05   2.51e-05      1.996      0.052     -4.54e-07     0.000\n",
       "Murder        -0.3001      0.037     -8.199      0.000        -0.374    -0.226\n",
       "HS_Grad        0.0466      0.015      3.142      0.003         0.017     0.076\n",
       "Frost         -0.0059      0.002     -2.455      0.018        -0.011    -0.001\n",
       "==============================================================================\n",
       "Omnibus:                        2.444   Durbin-Watson:                   1.914\n",
       "Prob(Omnibus):                  0.295   Jarque-Bera (JB):                1.426\n",
       "Skew:                          -0.065   Prob(JB):                        0.490\n",
       "Kurtosis:                       2.183   Cond. No.                     5.74e+04\n",
       "==============================================================================\n",
       "\n",
       "Warnings:\n",
       "[1] Standard Errors assume that the covariance matrix of the errors is correctly specified.\n",
       "[2] The condition number is large, 5.74e+04. This might indicate that there are\n",
       "strong multicollinearity or other numerical problems.\n",
       "\"\"\""
      ]
     },
     "execution_count": 14,
     "metadata": {},
     "output_type": "execute_result"
    }
   ],
   "source": [
    "# Step 0: We had 7 independent vars in our model. Let's remove some.\n",
    "# Step 1: Looks like 'Area' has the highest P Value.  Remove it and re-fit.\n",
    "# Step 2: Now 'Illiteracy' has the highest.  Remove it and re-fit.\n",
    "# Step 3: Now 'Income' has the highest.  Remove it and re-fit.\n",
    "\n",
    "LinReg = smf.ols(formula='Life_Exp ~ Population + Murder + HS_Grad + Frost',data=statedata).fit()\n",
    "LinReg.summary()"
   ]
  },
  {
   "cell_type": "code",
   "execution_count": 15,
   "metadata": {
    "collapsed": false
   },
   "outputs": [
    {
     "data": {
      "text/plain": [
       "array([ 68.48111866,  69.85740399,  71.41415671,  69.57373881,\n",
       "        71.79564599,  71.10354184,  72.03458972,  71.12646884,\n",
       "        70.61539495,  68.63694227,  72.09316854,  71.49989286,\n",
       "        70.1924416 ,  70.90158526,  72.39652876,  71.90351963,\n",
       "        69.24417933,  69.15044846,  71.86095411,  70.51851996,\n",
       "        72.44105391,  69.8689336 ,  72.2655962 ,  69.00535384,\n",
       "        70.10610031,  71.40024805,  72.17032309,  69.52482393,\n",
       "        71.72635615,  71.59612086,  70.03119055,  70.62937149,\n",
       "        69.28624179,  71.8764945 ,  71.08548767,  71.15860042,\n",
       "        72.41445333,  71.38045527,  71.76007018,  69.06109172,\n",
       "        72.01160881,  69.46583349,  69.97885943,  72.05753183,\n",
       "        71.06134981,  70.14691392,  72.68272426,  70.44982588,\n",
       "        72.00995676,  70.87678863])"
      ]
     },
     "execution_count": 15,
     "metadata": {},
     "output_type": "execute_result"
    }
   ],
   "source": [
    "Pred = LinReg.predict(statedata)\n",
    "Pred"
   ]
  },
  {
   "cell_type": "code",
   "execution_count": 16,
   "metadata": {
    "collapsed": false
   },
   "outputs": [
    {
     "data": {
      "text/html": [
       "<div>\n",
       "<table border=\"1\" class=\"dataframe\">\n",
       "  <thead>\n",
       "    <tr style=\"text-align: right;\">\n",
       "      <th></th>\n",
       "      <th>Pred_Life_Exp</th>\n",
       "      <th>state</th>\n",
       "    </tr>\n",
       "  </thead>\n",
       "  <tbody>\n",
       "    <tr>\n",
       "      <th>0</th>\n",
       "      <td>68.481119</td>\n",
       "      <td>Alabama</td>\n",
       "    </tr>\n",
       "    <tr>\n",
       "      <th>1</th>\n",
       "      <td>69.857404</td>\n",
       "      <td>Alaska</td>\n",
       "    </tr>\n",
       "    <tr>\n",
       "      <th>2</th>\n",
       "      <td>71.414157</td>\n",
       "      <td>Arizona</td>\n",
       "    </tr>\n",
       "    <tr>\n",
       "      <th>3</th>\n",
       "      <td>69.573739</td>\n",
       "      <td>Arkansas</td>\n",
       "    </tr>\n",
       "    <tr>\n",
       "      <th>4</th>\n",
       "      <td>71.795646</td>\n",
       "      <td>California</td>\n",
       "    </tr>\n",
       "  </tbody>\n",
       "</table>\n",
       "</div>"
      ],
      "text/plain": [
       "   Pred_Life_Exp       state\n",
       "0      68.481119     Alabama\n",
       "1      69.857404      Alaska\n",
       "2      71.414157     Arizona\n",
       "3      69.573739    Arkansas\n",
       "4      71.795646  California"
      ]
     },
     "execution_count": 16,
     "metadata": {},
     "output_type": "execute_result"
    }
   ],
   "source": [
    "Pred_dict = {'state':statedata.state_name,'Pred_Life_Exp':Pred}\n",
    "Predictions = pd.DataFrame(Pred_dict)\n",
    "Predictions.head()"
   ]
  },
  {
   "cell_type": "code",
   "execution_count": 17,
   "metadata": {
    "collapsed": false
   },
   "outputs": [
    {
     "data": {
      "text/html": [
       "<div>\n",
       "<table border=\"1\" class=\"dataframe\">\n",
       "  <thead>\n",
       "    <tr style=\"text-align: right;\">\n",
       "      <th></th>\n",
       "      <th>Pred_Life_Exp</th>\n",
       "      <th>state</th>\n",
       "    </tr>\n",
       "  </thead>\n",
       "  <tbody>\n",
       "    <tr>\n",
       "      <th>0</th>\n",
       "      <td>68.481119</td>\n",
       "      <td>Alabama</td>\n",
       "    </tr>\n",
       "  </tbody>\n",
       "</table>\n",
       "</div>"
      ],
      "text/plain": [
       "   Pred_Life_Exp    state\n",
       "0      68.481119  Alabama"
      ]
     },
     "execution_count": 17,
     "metadata": {},
     "output_type": "execute_result"
    }
   ],
   "source": [
    "# Which state do we predict to have the lowest life expectancy?\n",
    "\n",
    "Predictions[Predictions['Pred_Life_Exp'] == Predictions['Pred_Life_Exp'].min()]"
   ]
  },
  {
   "cell_type": "code",
   "execution_count": 18,
   "metadata": {
    "collapsed": false
   },
   "outputs": [
    {
     "data": {
      "text/html": [
       "<div>\n",
       "<table border=\"1\" class=\"dataframe\">\n",
       "  <thead>\n",
       "    <tr style=\"text-align: right;\">\n",
       "      <th></th>\n",
       "      <th>Life_Exp</th>\n",
       "      <th>state_name</th>\n",
       "    </tr>\n",
       "  </thead>\n",
       "  <tbody>\n",
       "    <tr>\n",
       "      <th>39</th>\n",
       "      <td>67.96</td>\n",
       "      <td>South Carolina</td>\n",
       "    </tr>\n",
       "  </tbody>\n",
       "</table>\n",
       "</div>"
      ],
      "text/plain": [
       "    Life_Exp      state_name\n",
       "39     67.96  South Carolina"
      ]
     },
     "execution_count": 18,
     "metadata": {},
     "output_type": "execute_result"
    }
   ],
   "source": [
    "statedata[statedata['Life_Exp'] == statedata['Life_Exp'].min()][['Life_Exp','state_name']]"
   ]
  },
  {
   "cell_type": "code",
   "execution_count": 19,
   "metadata": {
    "collapsed": false
   },
   "outputs": [
    {
     "data": {
      "text/html": [
       "<div>\n",
       "<table border=\"1\" class=\"dataframe\">\n",
       "  <thead>\n",
       "    <tr style=\"text-align: right;\">\n",
       "      <th></th>\n",
       "      <th>Pred_Life_Exp</th>\n",
       "      <th>state</th>\n",
       "    </tr>\n",
       "  </thead>\n",
       "  <tbody>\n",
       "    <tr>\n",
       "      <th>46</th>\n",
       "      <td>72.682724</td>\n",
       "      <td>Washington</td>\n",
       "    </tr>\n",
       "  </tbody>\n",
       "</table>\n",
       "</div>"
      ],
      "text/plain": [
       "    Pred_Life_Exp       state\n",
       "46      72.682724  Washington"
      ]
     },
     "execution_count": 19,
     "metadata": {},
     "output_type": "execute_result"
    }
   ],
   "source": [
    "# Which state do we predict to have the highest life expectancy?\n",
    "\n",
    "Predictions[Predictions['Pred_Life_Exp'] == Predictions['Pred_Life_Exp'].max()]"
   ]
  },
  {
   "cell_type": "code",
   "execution_count": 20,
   "metadata": {
    "collapsed": false
   },
   "outputs": [
    {
     "data": {
      "text/html": [
       "<div>\n",
       "<table border=\"1\" class=\"dataframe\">\n",
       "  <thead>\n",
       "    <tr style=\"text-align: right;\">\n",
       "      <th></th>\n",
       "      <th>Life_Exp</th>\n",
       "      <th>state_name</th>\n",
       "    </tr>\n",
       "  </thead>\n",
       "  <tbody>\n",
       "    <tr>\n",
       "      <th>10</th>\n",
       "      <td>73.6</td>\n",
       "      <td>Hawaii</td>\n",
       "    </tr>\n",
       "  </tbody>\n",
       "</table>\n",
       "</div>"
      ],
      "text/plain": [
       "    Life_Exp state_name\n",
       "10      73.6     Hawaii"
      ]
     },
     "execution_count": 20,
     "metadata": {},
     "output_type": "execute_result"
    }
   ],
   "source": [
    "statedata[statedata['Life_Exp'] == statedata['Life_Exp'].max()][['Life_Exp','state_name']]"
   ]
  },
  {
   "cell_type": "code",
   "execution_count": 22,
   "metadata": {
    "collapsed": false
   },
   "outputs": [
    {
     "data": {
      "text/plain": [
       "0     0.568881\n",
       "1    -0.547404\n",
       "2    -0.864157\n",
       "3     1.086261\n",
       "4    -0.085646\n",
       "5     0.956458\n",
       "6     0.445410\n",
       "7    -1.066469\n",
       "8     0.044605\n",
       "9    -0.096942\n",
       "10    1.506831\n",
       "11    0.370107\n",
       "12   -0.052442\n",
       "13   -0.021585\n",
       "14    0.163471\n",
       "15    0.676480\n",
       "16    0.855821\n",
       "17   -0.390448\n",
       "18   -1.470954\n",
       "19   -0.298520\n",
       "20   -0.611054\n",
       "21    0.761066\n",
       "22    0.694404\n",
       "23   -0.915354\n",
       "24    0.583900\n",
       "25   -0.840248\n",
       "26    0.429677\n",
       "27   -0.494824\n",
       "28   -0.496356\n",
       "29   -0.666121\n",
       "30    0.288809\n",
       "31   -0.079371\n",
       "32   -0.076242\n",
       "33    0.903506\n",
       "34   -0.265488\n",
       "35    0.261400\n",
       "36   -0.284453\n",
       "37   -0.950455\n",
       "38    0.139930\n",
       "39   -1.101092\n",
       "40    0.068391\n",
       "41    0.644167\n",
       "42    0.921141\n",
       "43    0.842468\n",
       "44    0.578650\n",
       "45   -0.066914\n",
       "46   -0.962724\n",
       "47   -0.969826\n",
       "48    0.470043\n",
       "49   -0.586789\n",
       "dtype: float64"
      ]
     },
     "execution_count": 22,
     "metadata": {},
     "output_type": "execute_result"
    }
   ],
   "source": [
    "LinReg.resid"
   ]
  },
  {
   "cell_type": "code",
   "execution_count": 27,
   "metadata": {
    "collapsed": false
   },
   "outputs": [
    {
     "data": {
      "text/html": [
       "<div>\n",
       "<table border=\"1\" class=\"dataframe\">\n",
       "  <thead>\n",
       "    <tr style=\"text-align: right;\">\n",
       "      <th></th>\n",
       "      <th>Abs_resid</th>\n",
       "      <th>state</th>\n",
       "    </tr>\n",
       "  </thead>\n",
       "  <tbody>\n",
       "    <tr>\n",
       "      <th>0</th>\n",
       "      <td>0.568881</td>\n",
       "      <td>Alabama</td>\n",
       "    </tr>\n",
       "    <tr>\n",
       "      <th>1</th>\n",
       "      <td>0.547404</td>\n",
       "      <td>Alaska</td>\n",
       "    </tr>\n",
       "    <tr>\n",
       "      <th>2</th>\n",
       "      <td>0.864157</td>\n",
       "      <td>Arizona</td>\n",
       "    </tr>\n",
       "    <tr>\n",
       "      <th>3</th>\n",
       "      <td>1.086261</td>\n",
       "      <td>Arkansas</td>\n",
       "    </tr>\n",
       "    <tr>\n",
       "      <th>4</th>\n",
       "      <td>0.085646</td>\n",
       "      <td>California</td>\n",
       "    </tr>\n",
       "  </tbody>\n",
       "</table>\n",
       "</div>"
      ],
      "text/plain": [
       "   Abs_resid       state\n",
       "0   0.568881     Alabama\n",
       "1   0.547404      Alaska\n",
       "2   0.864157     Arizona\n",
       "3   1.086261    Arkansas\n",
       "4   0.085646  California"
      ]
     },
     "execution_count": 27,
     "metadata": {},
     "output_type": "execute_result"
    }
   ],
   "source": [
    "Resid_dict = {'state':statedata.state_name,'Abs_resid': np.abs(LinReg.resid)}\n",
    "Residuals = pd.DataFrame(Resid_dict)\n",
    "Residuals.head()"
   ]
  },
  {
   "cell_type": "code",
   "execution_count": 29,
   "metadata": {
    "collapsed": false
   },
   "outputs": [
    {
     "data": {
      "text/html": [
       "<div>\n",
       "<table border=\"1\" class=\"dataframe\">\n",
       "  <thead>\n",
       "    <tr style=\"text-align: right;\">\n",
       "      <th></th>\n",
       "      <th>Abs_resid</th>\n",
       "      <th>state</th>\n",
       "    </tr>\n",
       "  </thead>\n",
       "  <tbody>\n",
       "    <tr>\n",
       "      <th>13</th>\n",
       "      <td>0.021585</td>\n",
       "      <td>Indiana</td>\n",
       "    </tr>\n",
       "  </tbody>\n",
       "</table>\n",
       "</div>"
      ],
      "text/plain": [
       "    Abs_resid    state\n",
       "13   0.021585  Indiana"
      ]
     },
     "execution_count": 29,
     "metadata": {},
     "output_type": "execute_result"
    }
   ],
   "source": [
    "# Which state has the lowest residuals (the difference between the predicted and actual values)?\n",
    "\n",
    "Residuals[Residuals['Abs_resid'] == Residuals['Abs_resid'].min()]"
   ]
  },
  {
   "cell_type": "code",
   "execution_count": 30,
   "metadata": {
    "collapsed": false
   },
   "outputs": [
    {
     "data": {
      "text/html": [
       "<div>\n",
       "<table border=\"1\" class=\"dataframe\">\n",
       "  <thead>\n",
       "    <tr style=\"text-align: right;\">\n",
       "      <th></th>\n",
       "      <th>Abs_resid</th>\n",
       "      <th>state</th>\n",
       "    </tr>\n",
       "  </thead>\n",
       "  <tbody>\n",
       "    <tr>\n",
       "      <th>10</th>\n",
       "      <td>1.506831</td>\n",
       "      <td>Hawaii</td>\n",
       "    </tr>\n",
       "  </tbody>\n",
       "</table>\n",
       "</div>"
      ],
      "text/plain": [
       "    Abs_resid   state\n",
       "10   1.506831  Hawaii"
      ]
     },
     "execution_count": 30,
     "metadata": {},
     "output_type": "execute_result"
    }
   ],
   "source": [
    "# For which state do we make the largest absolute error?\n",
    "\n",
    "Residuals[Residuals['Abs_resid'] == Residuals['Abs_resid'].max()]"
   ]
  },
  {
   "cell_type": "code",
   "execution_count": null,
   "metadata": {
    "collapsed": true
   },
   "outputs": [],
   "source": []
  }
 ],
 "metadata": {
  "kernelspec": {
   "display_name": "Python 3",
   "language": "python",
   "name": "python3"
  },
  "language_info": {
   "codemirror_mode": {
    "name": "ipython",
    "version": 3
   },
   "file_extension": ".py",
   "mimetype": "text/x-python",
   "name": "python",
   "nbconvert_exporter": "python",
   "pygments_lexer": "ipython3",
   "version": "3.5.1"
  }
 },
 "nbformat": 4,
 "nbformat_minor": 0
}
