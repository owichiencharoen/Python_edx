{
 "cells": [
  {
   "cell_type": "markdown",
   "metadata": {},
   "source": [
    "#### READING TEST SCORES\n",
    "\n",
    "The Programme for International Student Assessment (PISA) is a test given every three years to 15-year-old students from around the world to evaluate their performance in mathematics, reading, and science. This test provides a quantitative way to compare the performance of students from different parts of the world. In this homework assignment, we will predict the reading scores of students from the United States of America on the 2009 PISA exam.\n",
    "\n",
    "The datasets pisa2009train.csv and pisa2009test.csv contain information about the demographics and schools for American students taking the exam, derived from 2009 PISA Public-Use Data Files distributed by the United States National Center for Education Statistics (NCES). While the datasets are not supposed to contain identifying information about students taking the test, by using the data you are bound by the NCES data use agreement, which prohibits any attempt to determine the identity of any student in the datasets.\n",
    "\n",
    "Each row in the datasets pisa2009train.csv and pisa2009test.csv represents one student taking the exam."
   ]
  },
  {
   "cell_type": "code",
   "execution_count": 1,
   "metadata": {
    "collapsed": true
   },
   "outputs": [],
   "source": [
    "import pandas as pd\n",
    "from pandas import Series, DataFrame\n",
    "import numpy as np\n",
    "import seaborn as sns\n",
    "sns.set_style('darkgrid')\n",
    "\n",
    "from scipy import stats\n",
    "import statsmodels.formula.api as smf\n",
    "import statsmodels.api as sm\n",
    "\n",
    "import matplotlib.pyplot as plt\n",
    "%matplotlib inline\n",
    "\n",
    "#from sklearn import datasets, linear_model, metrics\n",
    "\n",
    "#import itertools\n",
    "#import pandas_datareader.data as pdweb\n",
    "#from pandas_datareader.data import DataReader\n",
    "#from datetime import datetime\n",
    "#from io import StringIO"
   ]
  },
  {
   "cell_type": "code",
   "execution_count": 4,
   "metadata": {
    "collapsed": false
   },
   "outputs": [
    {
     "name": "stdout",
     "output_type": "stream",
     "text": [
      "<class 'pandas.core.frame.DataFrame'>\n",
      "RangeIndex: 3663 entries, 0 to 3662\n",
      "Data columns (total 24 columns):\n",
      "grade                    3663 non-null int64\n",
      "male                     3663 non-null int64\n",
      "raceeth                  3628 non-null object\n",
      "preschool                3607 non-null float64\n",
      "expectBachelors          3601 non-null float64\n",
      "motherHS                 3566 non-null float64\n",
      "motherBachelors          3266 non-null float64\n",
      "motherWork               3570 non-null float64\n",
      "fatherHS                 3418 non-null float64\n",
      "fatherBachelors          3094 non-null float64\n",
      "fatherWork               3430 non-null float64\n",
      "selfBornUS               3594 non-null float64\n",
      "motherBornUS             3592 non-null float64\n",
      "fatherBornUS             3550 non-null float64\n",
      "englishAtHome            3592 non-null float64\n",
      "computerForSchoolwork    3598 non-null float64\n",
      "read30MinsADay           3629 non-null float64\n",
      "minutesPerWeekEnglish    3477 non-null float64\n",
      "studentsInEnglish        3414 non-null float64\n",
      "schoolHasLibrary         3520 non-null float64\n",
      "publicSchool             3663 non-null int64\n",
      "urban                    3663 non-null int64\n",
      "schoolSize               3501 non-null float64\n",
      "readingScore             3663 non-null float64\n",
      "dtypes: float64(19), int64(4), object(1)\n",
      "memory usage: 686.9+ KB\n"
     ]
    }
   ],
   "source": [
    "pisaTrain = pd.read_csv('../data/pisa2009train.csv')\n",
    "pisaTest = pd.read_csv('../data/pisa2009test.csv')\n",
    "pisaTrain.info()"
   ]
  },
  {
   "cell_type": "code",
   "execution_count": 11,
   "metadata": {
    "collapsed": false
   },
   "outputs": [
    {
     "data": {
      "text/plain": [
       "grade                      10.036859\n",
       "male                        1.000000\n",
       "preschool                   0.729246\n",
       "expectBachelors             0.754615\n",
       "motherHS                    0.889746\n",
       "motherBachelors             0.382902\n",
       "motherWork                  0.729418\n",
       "fatherHS                    0.865330\n",
       "fatherBachelors             0.367153\n",
       "fatherWork                  0.863662\n",
       "selfBornUS                  0.936854\n",
       "motherBornUS                0.778747\n",
       "fatherBornUS                0.770166\n",
       "englishAtHome               0.868450\n",
       "computerForSchoolwork       0.894823\n",
       "read30MinsADay              0.192121\n",
       "minutesPerWeekEnglish     267.769231\n",
       "studentsInEnglish          24.318630\n",
       "schoolHasLibrary            0.973199\n",
       "publicSchool                0.915598\n",
       "urban                       0.402244\n",
       "schoolSize               1380.298716\n",
       "readingScore              483.532479\n",
       "dtype: float64"
      ]
     },
     "execution_count": 11,
     "metadata": {},
     "output_type": "execute_result"
    }
   ],
   "source": [
    "#What is the average reading score of males?\n",
    "pisaTrain[pisaTrain['male']==1].mean()"
   ]
  },
  {
   "cell_type": "code",
   "execution_count": 12,
   "metadata": {
    "collapsed": false
   },
   "outputs": [
    {
     "data": {
      "text/plain": [
       "grade                      10.145170\n",
       "male                        0.000000\n",
       "preschool                   0.715986\n",
       "expectBachelors             0.818647\n",
       "motherHS                    0.869863\n",
       "motherBachelors             0.312150\n",
       "motherWork                  0.739703\n",
       "fatherHS                    0.852959\n",
       "fatherBachelors             0.295320\n",
       "fatherWork                  0.841980\n",
       "selfBornUS                  0.925441\n",
       "motherBornUS                0.766079\n",
       "fatherBornUS                0.763218\n",
       "englishAtHome               0.875000\n",
       "computerForSchoolwork       0.904141\n",
       "read30MinsADay              0.391892\n",
       "minutesPerWeekEnglish     264.593329\n",
       "studentsInEnglish          24.683619\n",
       "schoolHasLibrary            0.961828\n",
       "publicSchool                0.953099\n",
       "urban                       0.366834\n",
       "schoolSize               1357.814620\n",
       "readingScore              512.940631\n",
       "dtype: float64"
      ]
     },
     "execution_count": 12,
     "metadata": {},
     "output_type": "execute_result"
    }
   ],
   "source": [
    "#What is the average reading score of females?\n",
    "pisaTrain[pisaTrain['male']==0].mean()"
   ]
  },
  {
   "cell_type": "code",
   "execution_count": 14,
   "metadata": {
    "collapsed": false
   },
   "outputs": [
    {
     "data": {
      "text/plain": [
       "grade                      0\n",
       "male                       0\n",
       "raceeth                   35\n",
       "preschool                 56\n",
       "expectBachelors           62\n",
       "motherHS                  97\n",
       "motherBachelors          397\n",
       "motherWork                93\n",
       "fatherHS                 245\n",
       "fatherBachelors          569\n",
       "fatherWork               233\n",
       "selfBornUS                69\n",
       "motherBornUS              71\n",
       "fatherBornUS             113\n",
       "englishAtHome             71\n",
       "computerForSchoolwork     65\n",
       "read30MinsADay            34\n",
       "minutesPerWeekEnglish    186\n",
       "studentsInEnglish        249\n",
       "schoolHasLibrary         143\n",
       "publicSchool               0\n",
       "urban                      0\n",
       "schoolSize               162\n",
       "readingScore               0\n",
       "dtype: int64"
      ]
     },
     "execution_count": 14,
     "metadata": {},
     "output_type": "execute_result"
    }
   ],
   "source": [
    "#Which columns are missing data in at least one row? Two ways to do it:\n",
    "\n",
    "#1\n",
    "len(pisaTrain.index)-pisaTrain.count()\n",
    "\n",
    "#2\n",
    "pisaTrain.isnull().sum()"
   ]
  },
  {
   "cell_type": "code",
   "execution_count": 16,
   "metadata": {
    "collapsed": false
   },
   "outputs": [
    {
     "name": "stdout",
     "output_type": "stream",
     "text": [
      "<class 'pandas.core.frame.DataFrame'>\n",
      "Int64Index: 2414 entries, 1 to 3662\n",
      "Data columns (total 24 columns):\n",
      "grade                    2414 non-null int64\n",
      "male                     2414 non-null int64\n",
      "raceeth                  2414 non-null object\n",
      "preschool                2414 non-null float64\n",
      "expectBachelors          2414 non-null float64\n",
      "motherHS                 2414 non-null float64\n",
      "motherBachelors          2414 non-null float64\n",
      "motherWork               2414 non-null float64\n",
      "fatherHS                 2414 non-null float64\n",
      "fatherBachelors          2414 non-null float64\n",
      "fatherWork               2414 non-null float64\n",
      "selfBornUS               2414 non-null float64\n",
      "motherBornUS             2414 non-null float64\n",
      "fatherBornUS             2414 non-null float64\n",
      "englishAtHome            2414 non-null float64\n",
      "computerForSchoolwork    2414 non-null float64\n",
      "read30MinsADay           2414 non-null float64\n",
      "minutesPerWeekEnglish    2414 non-null float64\n",
      "studentsInEnglish        2414 non-null float64\n",
      "schoolHasLibrary         2414 non-null float64\n",
      "publicSchool             2414 non-null int64\n",
      "urban                    2414 non-null int64\n",
      "schoolSize               2414 non-null float64\n",
      "readingScore             2414 non-null float64\n",
      "dtypes: float64(19), int64(4), object(1)\n",
      "memory usage: 471.5+ KB\n"
     ]
    }
   ],
   "source": [
    "# Now impute the data / get rid of rows with missing values\n",
    "pisaTrain = pisaTrain.dropna()\n",
    "pisaTest = pisaTest.dropna()\n",
    "pisaTrain.info()"
   ]
  },
  {
   "cell_type": "code",
   "execution_count": 17,
   "metadata": {
    "collapsed": false
   },
   "outputs": [
    {
     "name": "stdout",
     "output_type": "stream",
     "text": [
      "<class 'pandas.core.frame.DataFrame'>\n",
      "Int64Index: 990 entries, 0 to 1569\n",
      "Data columns (total 24 columns):\n",
      "grade                    990 non-null int64\n",
      "male                     990 non-null int64\n",
      "raceeth                  990 non-null object\n",
      "preschool                990 non-null float64\n",
      "expectBachelors          990 non-null float64\n",
      "motherHS                 990 non-null float64\n",
      "motherBachelors          990 non-null float64\n",
      "motherWork               990 non-null float64\n",
      "fatherHS                 990 non-null float64\n",
      "fatherBachelors          990 non-null float64\n",
      "fatherWork               990 non-null float64\n",
      "selfBornUS               990 non-null float64\n",
      "motherBornUS             990 non-null float64\n",
      "fatherBornUS             990 non-null float64\n",
      "englishAtHome            990 non-null float64\n",
      "computerForSchoolwork    990 non-null float64\n",
      "read30MinsADay           990 non-null float64\n",
      "minutesPerWeekEnglish    990 non-null float64\n",
      "studentsInEnglish        990 non-null float64\n",
      "schoolHasLibrary         990 non-null float64\n",
      "publicSchool             990 non-null int64\n",
      "urban                    990 non-null int64\n",
      "schoolSize               990 non-null float64\n",
      "readingScore             990 non-null float64\n",
      "dtypes: float64(19), int64(4), object(1)\n",
      "memory usage: 193.4+ KB\n"
     ]
    }
   ],
   "source": [
    "pisaTest.info()"
   ]
  },
  {
   "cell_type": "code",
   "execution_count": 23,
   "metadata": {
    "collapsed": false
   },
   "outputs": [
    {
     "data": {
      "text/html": [
       "<div>\n",
       "<table border=\"1\" class=\"dataframe\">\n",
       "  <thead>\n",
       "    <tr style=\"text-align: right;\">\n",
       "      <th></th>\n",
       "      <th>race_American Indian/Alaska Native</th>\n",
       "      <th>race_Asian</th>\n",
       "      <th>race_Black</th>\n",
       "      <th>race_Hispanic</th>\n",
       "      <th>race_More than one race</th>\n",
       "      <th>race_Native Hawaiian/Other Pacific Islander</th>\n",
       "    </tr>\n",
       "  </thead>\n",
       "  <tbody>\n",
       "    <tr>\n",
       "      <th>1</th>\n",
       "      <td>0.0</td>\n",
       "      <td>0.0</td>\n",
       "      <td>0.0</td>\n",
       "      <td>0.0</td>\n",
       "      <td>0.0</td>\n",
       "      <td>0.0</td>\n",
       "    </tr>\n",
       "    <tr>\n",
       "      <th>3</th>\n",
       "      <td>0.0</td>\n",
       "      <td>0.0</td>\n",
       "      <td>1.0</td>\n",
       "      <td>0.0</td>\n",
       "      <td>0.0</td>\n",
       "      <td>0.0</td>\n",
       "    </tr>\n",
       "    <tr>\n",
       "      <th>4</th>\n",
       "      <td>0.0</td>\n",
       "      <td>0.0</td>\n",
       "      <td>0.0</td>\n",
       "      <td>1.0</td>\n",
       "      <td>0.0</td>\n",
       "      <td>0.0</td>\n",
       "    </tr>\n",
       "    <tr>\n",
       "      <th>7</th>\n",
       "      <td>0.0</td>\n",
       "      <td>0.0</td>\n",
       "      <td>0.0</td>\n",
       "      <td>0.0</td>\n",
       "      <td>0.0</td>\n",
       "      <td>0.0</td>\n",
       "    </tr>\n",
       "    <tr>\n",
       "      <th>9</th>\n",
       "      <td>0.0</td>\n",
       "      <td>0.0</td>\n",
       "      <td>0.0</td>\n",
       "      <td>0.0</td>\n",
       "      <td>1.0</td>\n",
       "      <td>0.0</td>\n",
       "    </tr>\n",
       "  </tbody>\n",
       "</table>\n",
       "</div>"
      ],
      "text/plain": [
       "   race_American Indian/Alaska Native  race_Asian  race_Black  race_Hispanic  \\\n",
       "1                                 0.0         0.0         0.0            0.0   \n",
       "3                                 0.0         0.0         1.0            0.0   \n",
       "4                                 0.0         0.0         0.0            1.0   \n",
       "7                                 0.0         0.0         0.0            0.0   \n",
       "9                                 0.0         0.0         0.0            0.0   \n",
       "\n",
       "   race_More than one race  race_Native Hawaiian/Other Pacific Islander  \n",
       "1                      0.0                                          0.0  \n",
       "3                      0.0                                          0.0  \n",
       "4                      0.0                                          0.0  \n",
       "7                      0.0                                          0.0  \n",
       "9                      1.0                                          0.0  "
      ]
     },
     "execution_count": 23,
     "metadata": {},
     "output_type": "execute_result"
    }
   ],
   "source": [
    "# Now use get_dummies on raceeth. Use White as the reference level as it is the most frequently occurring level in the data.\n",
    "\n",
    "dummy_df = pd.get_dummies(pisaTrain['raceeth'], prefix='race', prefix_sep ='_')\n",
    "# del dummy_df['race_White']\n",
    "dummy_df = dummy_df.drop(['race_White'], axis = 1)\n",
    "dummy_df[:5]"
   ]
  },
  {
   "cell_type": "code",
   "execution_count": 25,
   "metadata": {
    "collapsed": false
   },
   "outputs": [
    {
     "data": {
      "text/html": [
       "<div>\n",
       "<table border=\"1\" class=\"dataframe\">\n",
       "  <thead>\n",
       "    <tr style=\"text-align: right;\">\n",
       "      <th></th>\n",
       "      <th>grade</th>\n",
       "      <th>male</th>\n",
       "      <th>preschool</th>\n",
       "      <th>expectBachelors</th>\n",
       "      <th>motherHS</th>\n",
       "      <th>motherBachelors</th>\n",
       "      <th>motherWork</th>\n",
       "      <th>fatherHS</th>\n",
       "      <th>fatherBachelors</th>\n",
       "      <th>fatherWork</th>\n",
       "      <th>...</th>\n",
       "      <th>publicSchool</th>\n",
       "      <th>urban</th>\n",
       "      <th>schoolSize</th>\n",
       "      <th>readingScore</th>\n",
       "      <th>race_American Indian/Alaska Native</th>\n",
       "      <th>race_Asian</th>\n",
       "      <th>race_Black</th>\n",
       "      <th>race_Hispanic</th>\n",
       "      <th>race_More than one race</th>\n",
       "      <th>race_Native Hawaiian/Other Pacific Islander</th>\n",
       "    </tr>\n",
       "  </thead>\n",
       "  <tbody>\n",
       "    <tr>\n",
       "      <th>1</th>\n",
       "      <td>11</td>\n",
       "      <td>1</td>\n",
       "      <td>0.0</td>\n",
       "      <td>0.0</td>\n",
       "      <td>1.0</td>\n",
       "      <td>1.0</td>\n",
       "      <td>1.0</td>\n",
       "      <td>1.0</td>\n",
       "      <td>0.0</td>\n",
       "      <td>1.0</td>\n",
       "      <td>...</td>\n",
       "      <td>1</td>\n",
       "      <td>0</td>\n",
       "      <td>1173.0</td>\n",
       "      <td>575.01</td>\n",
       "      <td>0.0</td>\n",
       "      <td>0.0</td>\n",
       "      <td>0.0</td>\n",
       "      <td>0.0</td>\n",
       "      <td>0.0</td>\n",
       "      <td>0.0</td>\n",
       "    </tr>\n",
       "    <tr>\n",
       "      <th>3</th>\n",
       "      <td>10</td>\n",
       "      <td>0</td>\n",
       "      <td>1.0</td>\n",
       "      <td>1.0</td>\n",
       "      <td>0.0</td>\n",
       "      <td>0.0</td>\n",
       "      <td>1.0</td>\n",
       "      <td>1.0</td>\n",
       "      <td>0.0</td>\n",
       "      <td>1.0</td>\n",
       "      <td>...</td>\n",
       "      <td>1</td>\n",
       "      <td>1</td>\n",
       "      <td>2640.0</td>\n",
       "      <td>458.11</td>\n",
       "      <td>0.0</td>\n",
       "      <td>0.0</td>\n",
       "      <td>1.0</td>\n",
       "      <td>0.0</td>\n",
       "      <td>0.0</td>\n",
       "      <td>0.0</td>\n",
       "    </tr>\n",
       "    <tr>\n",
       "      <th>4</th>\n",
       "      <td>10</td>\n",
       "      <td>1</td>\n",
       "      <td>1.0</td>\n",
       "      <td>0.0</td>\n",
       "      <td>1.0</td>\n",
       "      <td>0.0</td>\n",
       "      <td>1.0</td>\n",
       "      <td>1.0</td>\n",
       "      <td>0.0</td>\n",
       "      <td>0.0</td>\n",
       "      <td>...</td>\n",
       "      <td>1</td>\n",
       "      <td>1</td>\n",
       "      <td>1095.0</td>\n",
       "      <td>613.89</td>\n",
       "      <td>0.0</td>\n",
       "      <td>0.0</td>\n",
       "      <td>0.0</td>\n",
       "      <td>1.0</td>\n",
       "      <td>0.0</td>\n",
       "      <td>0.0</td>\n",
       "    </tr>\n",
       "    <tr>\n",
       "      <th>7</th>\n",
       "      <td>10</td>\n",
       "      <td>0</td>\n",
       "      <td>1.0</td>\n",
       "      <td>1.0</td>\n",
       "      <td>1.0</td>\n",
       "      <td>0.0</td>\n",
       "      <td>0.0</td>\n",
       "      <td>1.0</td>\n",
       "      <td>0.0</td>\n",
       "      <td>1.0</td>\n",
       "      <td>...</td>\n",
       "      <td>1</td>\n",
       "      <td>0</td>\n",
       "      <td>1913.0</td>\n",
       "      <td>439.36</td>\n",
       "      <td>0.0</td>\n",
       "      <td>0.0</td>\n",
       "      <td>0.0</td>\n",
       "      <td>0.0</td>\n",
       "      <td>0.0</td>\n",
       "      <td>0.0</td>\n",
       "    </tr>\n",
       "    <tr>\n",
       "      <th>9</th>\n",
       "      <td>10</td>\n",
       "      <td>1</td>\n",
       "      <td>1.0</td>\n",
       "      <td>1.0</td>\n",
       "      <td>1.0</td>\n",
       "      <td>1.0</td>\n",
       "      <td>1.0</td>\n",
       "      <td>0.0</td>\n",
       "      <td>0.0</td>\n",
       "      <td>1.0</td>\n",
       "      <td>...</td>\n",
       "      <td>1</td>\n",
       "      <td>0</td>\n",
       "      <td>899.0</td>\n",
       "      <td>465.90</td>\n",
       "      <td>0.0</td>\n",
       "      <td>0.0</td>\n",
       "      <td>0.0</td>\n",
       "      <td>0.0</td>\n",
       "      <td>1.0</td>\n",
       "      <td>0.0</td>\n",
       "    </tr>\n",
       "  </tbody>\n",
       "</table>\n",
       "<p>5 rows × 29 columns</p>\n",
       "</div>"
      ],
      "text/plain": [
       "   grade  male  preschool  expectBachelors  motherHS  motherBachelors  \\\n",
       "1     11     1        0.0              0.0       1.0              1.0   \n",
       "3     10     0        1.0              1.0       0.0              0.0   \n",
       "4     10     1        1.0              0.0       1.0              0.0   \n",
       "7     10     0        1.0              1.0       1.0              0.0   \n",
       "9     10     1        1.0              1.0       1.0              1.0   \n",
       "\n",
       "   motherWork  fatherHS  fatherBachelors  fatherWork  \\\n",
       "1         1.0       1.0              0.0         1.0   \n",
       "3         1.0       1.0              0.0         1.0   \n",
       "4         1.0       1.0              0.0         0.0   \n",
       "7         0.0       1.0              0.0         1.0   \n",
       "9         1.0       0.0              0.0         1.0   \n",
       "\n",
       "                      ...                       publicSchool  urban  \\\n",
       "1                     ...                                  1      0   \n",
       "3                     ...                                  1      1   \n",
       "4                     ...                                  1      1   \n",
       "7                     ...                                  1      0   \n",
       "9                     ...                                  1      0   \n",
       "\n",
       "   schoolSize  readingScore  race_American Indian/Alaska Native  race_Asian  \\\n",
       "1      1173.0        575.01                                 0.0         0.0   \n",
       "3      2640.0        458.11                                 0.0         0.0   \n",
       "4      1095.0        613.89                                 0.0         0.0   \n",
       "7      1913.0        439.36                                 0.0         0.0   \n",
       "9       899.0        465.90                                 0.0         0.0   \n",
       "\n",
       "   race_Black  race_Hispanic  race_More than one race  \\\n",
       "1         0.0            0.0                      0.0   \n",
       "3         1.0            0.0                      0.0   \n",
       "4         0.0            1.0                      0.0   \n",
       "7         0.0            0.0                      0.0   \n",
       "9         0.0            0.0                      1.0   \n",
       "\n",
       "   race_Native Hawaiian/Other Pacific Islander  \n",
       "1                                          0.0  \n",
       "3                                          0.0  \n",
       "4                                          0.0  \n",
       "7                                          0.0  \n",
       "9                                          0.0  \n",
       "\n",
       "[5 rows x 29 columns]"
      ]
     },
     "execution_count": 25,
     "metadata": {},
     "output_type": "execute_result"
    }
   ],
   "source": [
    "pisaTrain = pisaTrain.join(dummy_df)\n",
    "pisaTrain.drop(['raceeth'], axis = 1 , inplace= True, errors= 'ignore')\n",
    "pisaTrain[:5]"
   ]
  },
  {
   "cell_type": "code",
   "execution_count": 30,
   "metadata": {
    "collapsed": false
   },
   "outputs": [
    {
     "data": {
      "text/plain": [
       "array(['grade', 'male', 'preschool', 'expectBachelors', 'motherHS',\n",
       "       'motherBachelors', 'motherWork', 'fatherHS', 'fatherBachelors',\n",
       "       'fatherWork', 'selfBornUS', 'motherBornUS', 'fatherBornUS',\n",
       "       'englishAtHome', 'computerForSchoolwork', 'read30MinsADay',\n",
       "       'minutesPerWeekEnglish', 'studentsInEnglish', 'schoolHasLibrary',\n",
       "       'publicSchool', 'urban', 'schoolSize', 'readingScore',\n",
       "       'race_American Indian/Alaska Native', 'race_Asian', 'race_Black',\n",
       "       'race_Hispanic', 'race_More than one race',\n",
       "       'race_Native Hawaiian/Other Pacific Islander'], dtype=object)"
      ]
     },
     "execution_count": 30,
     "metadata": {},
     "output_type": "execute_result"
    }
   ],
   "source": [
    "#Python doesn't like the name: race_Native Hawaiian/Other Pacific Islander\n",
    "pisaTrain.columns.values"
   ]
  },
  {
   "cell_type": "code",
   "execution_count": 33,
   "metadata": {
    "collapsed": true
   },
   "outputs": [],
   "source": [
    "pisaTrain.columns = ['grade', 'male', 'preschool', 'expectBachelors', 'motherHS',\n",
    "       'motherBachelors', 'motherWork', 'fatherHS', 'fatherBachelors',\n",
    "       'fatherWork', 'selfBornUS', 'motherBornUS', 'fatherBornUS',\n",
    "       'englishAtHome', 'computerForSchoolwork', 'read30MinsADay',\n",
    "       'minutesPerWeekEnglish', 'studentsInEnglish', 'schoolHasLibrary',\n",
    "       'publicSchool', 'urban', 'schoolSize', 'readingScore',\n",
    "       'race_American_Indian_or_Alaska_Native', 'race_Asian', 'race_Black',\n",
    "       'race_Hispanic', 'race_More_than_one',\n",
    "       'race_Native_Hawaiian_or_Other_Pacific_Islander']"
   ]
  },
  {
   "cell_type": "code",
   "execution_count": 34,
   "metadata": {
    "collapsed": false
   },
   "outputs": [
    {
     "name": "stderr",
     "output_type": "stream",
     "text": [
      "C:\\Anaconda3\\lib\\site-packages\\ipykernel\\__main__.py:1: FutureWarning: using '-' to provide set differences with Indexes is deprecated, use .difference()\n",
      "  if __name__ == '__main__':\n"
     ]
    },
    {
     "data": {
      "text/html": [
       "<table class=\"simpletable\">\n",
       "<caption>OLS Regression Results</caption>\n",
       "<tr>\n",
       "  <th>Dep. Variable:</th>      <td>readingScore</td>   <th>  R-squared:         </th> <td>   0.325</td> \n",
       "</tr>\n",
       "<tr>\n",
       "  <th>Model:</th>                   <td>OLS</td>       <th>  Adj. R-squared:    </th> <td>   0.317</td> \n",
       "</tr>\n",
       "<tr>\n",
       "  <th>Method:</th>             <td>Least Squares</td>  <th>  F-statistic:       </th> <td>   41.04</td> \n",
       "</tr>\n",
       "<tr>\n",
       "  <th>Date:</th>             <td>Tue, 19 Jul 2016</td> <th>  Prob (F-statistic):</th> <td>1.72e-180</td>\n",
       "</tr>\n",
       "<tr>\n",
       "  <th>Time:</th>                 <td>11:33:18</td>     <th>  Log-Likelihood:    </th> <td> -13795.</td> \n",
       "</tr>\n",
       "<tr>\n",
       "  <th>No. Observations:</th>      <td>  2414</td>      <th>  AIC:               </th> <td>2.765e+04</td>\n",
       "</tr>\n",
       "<tr>\n",
       "  <th>Df Residuals:</th>          <td>  2385</td>      <th>  BIC:               </th> <td>2.781e+04</td>\n",
       "</tr>\n",
       "<tr>\n",
       "  <th>Df Model:</th>              <td>    28</td>      <th>                     </th>     <td> </td>    \n",
       "</tr>\n",
       "<tr>\n",
       "  <th>Covariance Type:</th>      <td>nonrobust</td>    <th>                     </th>     <td> </td>    \n",
       "</tr>\n",
       "</table>\n",
       "<table class=\"simpletable\">\n",
       "<tr>\n",
       "                         <td></td>                           <th>coef</th>     <th>std err</th>      <th>t</th>      <th>P>|t|</th> <th>[95.0% Conf. Int.]</th> \n",
       "</tr>\n",
       "<tr>\n",
       "  <th>Intercept</th>                                      <td>  143.7663</td> <td>   33.841</td> <td>    4.248</td> <td> 0.000</td> <td>   77.405   210.128</td>\n",
       "</tr>\n",
       "<tr>\n",
       "  <th>computerForSchoolwork</th>                          <td>   22.5002</td> <td>    5.703</td> <td>    3.946</td> <td> 0.000</td> <td>   11.318    33.683</td>\n",
       "</tr>\n",
       "<tr>\n",
       "  <th>englishAtHome</th>                                  <td>    8.0357</td> <td>    6.859</td> <td>    1.171</td> <td> 0.242</td> <td>   -5.415    21.487</td>\n",
       "</tr>\n",
       "<tr>\n",
       "  <th>expectBachelors</th>                                <td>   55.2671</td> <td>    4.294</td> <td>   12.871</td> <td> 0.000</td> <td>   46.847    63.687</td>\n",
       "</tr>\n",
       "<tr>\n",
       "  <th>fatherBachelors</th>                                <td>   16.9298</td> <td>    3.995</td> <td>    4.237</td> <td> 0.000</td> <td>    9.095    24.764</td>\n",
       "</tr>\n",
       "<tr>\n",
       "  <th>fatherBornUS</th>                                   <td>    4.3070</td> <td>    6.264</td> <td>    0.688</td> <td> 0.492</td> <td>   -7.976    16.590</td>\n",
       "</tr>\n",
       "<tr>\n",
       "  <th>fatherHS</th>                                       <td>    4.0182</td> <td>    5.579</td> <td>    0.720</td> <td> 0.471</td> <td>   -6.923    14.959</td>\n",
       "</tr>\n",
       "<tr>\n",
       "  <th>fatherWork</th>                                     <td>    5.8428</td> <td>    4.396</td> <td>    1.329</td> <td> 0.184</td> <td>   -2.778    14.463</td>\n",
       "</tr>\n",
       "<tr>\n",
       "  <th>grade</th>                                          <td>   29.5427</td> <td>    2.937</td> <td>   10.057</td> <td> 0.000</td> <td>   23.783    35.303</td>\n",
       "</tr>\n",
       "<tr>\n",
       "  <th>male</th>                                           <td>  -14.5217</td> <td>    3.156</td> <td>   -4.601</td> <td> 0.000</td> <td>  -20.710    -8.333</td>\n",
       "</tr>\n",
       "<tr>\n",
       "  <th>minutesPerWeekEnglish</th>                          <td>    0.0128</td> <td>    0.011</td> <td>    1.194</td> <td> 0.233</td> <td>   -0.008     0.034</td>\n",
       "</tr>\n",
       "<tr>\n",
       "  <th>motherBachelors</th>                                <td>   12.6381</td> <td>    3.861</td> <td>    3.273</td> <td> 0.001</td> <td>    5.066    20.210</td>\n",
       "</tr>\n",
       "<tr>\n",
       "  <th>motherBornUS</th>                                   <td>   -8.7982</td> <td>    6.588</td> <td>   -1.336</td> <td> 0.182</td> <td>  -21.716     4.120</td>\n",
       "</tr>\n",
       "<tr>\n",
       "  <th>motherHS</th>                                       <td>    6.0588</td> <td>    6.091</td> <td>    0.995</td> <td> 0.320</td> <td>   -5.886    18.004</td>\n",
       "</tr>\n",
       "<tr>\n",
       "  <th>motherWork</th>                                     <td>   -2.8091</td> <td>    3.522</td> <td>   -0.798</td> <td> 0.425</td> <td>   -9.715     4.097</td>\n",
       "</tr>\n",
       "<tr>\n",
       "  <th>preschool</th>                                      <td>   -4.4637</td> <td>    3.486</td> <td>   -1.280</td> <td> 0.201</td> <td>  -11.300     2.372</td>\n",
       "</tr>\n",
       "<tr>\n",
       "  <th>publicSchool</th>                                   <td>  -16.8575</td> <td>    6.726</td> <td>   -2.506</td> <td> 0.012</td> <td>  -30.046    -3.669</td>\n",
       "</tr>\n",
       "<tr>\n",
       "  <th>race_American_Indian_or_Alaska_Native</th>          <td>  -67.2773</td> <td>   16.787</td> <td>   -4.008</td> <td> 0.000</td> <td> -100.196   -34.359</td>\n",
       "</tr>\n",
       "<tr>\n",
       "  <th>race_Asian</th>                                     <td>   -4.1103</td> <td>    9.220</td> <td>   -0.446</td> <td> 0.656</td> <td>  -22.191    13.970</td>\n",
       "</tr>\n",
       "<tr>\n",
       "  <th>race_Black</th>                                     <td>  -67.0123</td> <td>    5.461</td> <td>  -12.271</td> <td> 0.000</td> <td>  -77.721   -56.304</td>\n",
       "</tr>\n",
       "<tr>\n",
       "  <th>race_Hispanic</th>                                  <td>  -38.9755</td> <td>    5.178</td> <td>   -7.528</td> <td> 0.000</td> <td>  -49.129   -28.822</td>\n",
       "</tr>\n",
       "<tr>\n",
       "  <th>race_More_than_one</th>                             <td>  -16.9225</td> <td>    8.496</td> <td>   -1.992</td> <td> 0.047</td> <td>  -33.583    -0.262</td>\n",
       "</tr>\n",
       "<tr>\n",
       "  <th>race_Native_Hawaiian_or_Other_Pacific_Islander</th> <td>   -5.1016</td> <td>   17.006</td> <td>   -0.300</td> <td> 0.764</td> <td>  -38.449    28.246</td>\n",
       "</tr>\n",
       "<tr>\n",
       "  <th>read30MinsADay</th>                                 <td>   34.8719</td> <td>    3.408</td> <td>   10.231</td> <td> 0.000</td> <td>   28.188    41.556</td>\n",
       "</tr>\n",
       "<tr>\n",
       "  <th>schoolHasLibrary</th>                               <td>   12.2151</td> <td>    9.265</td> <td>    1.318</td> <td> 0.187</td> <td>   -5.953    30.383</td>\n",
       "</tr>\n",
       "<tr>\n",
       "  <th>schoolSize</th>                                     <td>    0.0065</td> <td>    0.002</td> <td>    2.977</td> <td> 0.003</td> <td>    0.002     0.011</td>\n",
       "</tr>\n",
       "<tr>\n",
       "  <th>selfBornUS</th>                                     <td>   -3.8063</td> <td>    7.324</td> <td>   -0.520</td> <td> 0.603</td> <td>  -18.168    10.555</td>\n",
       "</tr>\n",
       "<tr>\n",
       "  <th>studentsInEnglish</th>                              <td>   -0.2866</td> <td>    0.228</td> <td>   -1.258</td> <td> 0.208</td> <td>   -0.733     0.160</td>\n",
       "</tr>\n",
       "<tr>\n",
       "  <th>urban</th>                                          <td>   -0.1101</td> <td>    3.963</td> <td>   -0.028</td> <td> 0.978</td> <td>   -7.881     7.661</td>\n",
       "</tr>\n",
       "</table>\n",
       "<table class=\"simpletable\">\n",
       "<tr>\n",
       "  <th>Omnibus:</th>       <td> 8.273</td> <th>  Durbin-Watson:     </th> <td>   1.998</td>\n",
       "</tr>\n",
       "<tr>\n",
       "  <th>Prob(Omnibus):</th> <td> 0.016</td> <th>  Jarque-Bera (JB):  </th> <td>   8.362</td>\n",
       "</tr>\n",
       "<tr>\n",
       "  <th>Skew:</th>          <td>-0.141</td> <th>  Prob(JB):          </th> <td>  0.0153</td>\n",
       "</tr>\n",
       "<tr>\n",
       "  <th>Kurtosis:</th>      <td> 2.943</td> <th>  Cond. No.          </th> <td>3.70e+04</td>\n",
       "</tr>\n",
       "</table>"
      ],
      "text/plain": [
       "<class 'statsmodels.iolib.summary.Summary'>\n",
       "\"\"\"\n",
       "                            OLS Regression Results                            \n",
       "==============================================================================\n",
       "Dep. Variable:           readingScore   R-squared:                       0.325\n",
       "Model:                            OLS   Adj. R-squared:                  0.317\n",
       "Method:                 Least Squares   F-statistic:                     41.04\n",
       "Date:                Tue, 19 Jul 2016   Prob (F-statistic):          1.72e-180\n",
       "Time:                        11:33:18   Log-Likelihood:                -13795.\n",
       "No. Observations:                2414   AIC:                         2.765e+04\n",
       "Df Residuals:                    2385   BIC:                         2.781e+04\n",
       "Df Model:                          28                                         \n",
       "Covariance Type:            nonrobust                                         \n",
       "==================================================================================================================\n",
       "                                                     coef    std err          t      P>|t|      [95.0% Conf. Int.]\n",
       "------------------------------------------------------------------------------------------------------------------\n",
       "Intercept                                        143.7663     33.841      4.248      0.000        77.405   210.128\n",
       "computerForSchoolwork                             22.5002      5.703      3.946      0.000        11.318    33.683\n",
       "englishAtHome                                      8.0357      6.859      1.171      0.242        -5.415    21.487\n",
       "expectBachelors                                   55.2671      4.294     12.871      0.000        46.847    63.687\n",
       "fatherBachelors                                   16.9298      3.995      4.237      0.000         9.095    24.764\n",
       "fatherBornUS                                       4.3070      6.264      0.688      0.492        -7.976    16.590\n",
       "fatherHS                                           4.0182      5.579      0.720      0.471        -6.923    14.959\n",
       "fatherWork                                         5.8428      4.396      1.329      0.184        -2.778    14.463\n",
       "grade                                             29.5427      2.937     10.057      0.000        23.783    35.303\n",
       "male                                             -14.5217      3.156     -4.601      0.000       -20.710    -8.333\n",
       "minutesPerWeekEnglish                              0.0128      0.011      1.194      0.233        -0.008     0.034\n",
       "motherBachelors                                   12.6381      3.861      3.273      0.001         5.066    20.210\n",
       "motherBornUS                                      -8.7982      6.588     -1.336      0.182       -21.716     4.120\n",
       "motherHS                                           6.0588      6.091      0.995      0.320        -5.886    18.004\n",
       "motherWork                                        -2.8091      3.522     -0.798      0.425        -9.715     4.097\n",
       "preschool                                         -4.4637      3.486     -1.280      0.201       -11.300     2.372\n",
       "publicSchool                                     -16.8575      6.726     -2.506      0.012       -30.046    -3.669\n",
       "race_American_Indian_or_Alaska_Native            -67.2773     16.787     -4.008      0.000      -100.196   -34.359\n",
       "race_Asian                                        -4.1103      9.220     -0.446      0.656       -22.191    13.970\n",
       "race_Black                                       -67.0123      5.461    -12.271      0.000       -77.721   -56.304\n",
       "race_Hispanic                                    -38.9755      5.178     -7.528      0.000       -49.129   -28.822\n",
       "race_More_than_one                               -16.9225      8.496     -1.992      0.047       -33.583    -0.262\n",
       "race_Native_Hawaiian_or_Other_Pacific_Islander    -5.1016     17.006     -0.300      0.764       -38.449    28.246\n",
       "read30MinsADay                                    34.8719      3.408     10.231      0.000        28.188    41.556\n",
       "schoolHasLibrary                                  12.2151      9.265      1.318      0.187        -5.953    30.383\n",
       "schoolSize                                         0.0065      0.002      2.977      0.003         0.002     0.011\n",
       "selfBornUS                                        -3.8063      7.324     -0.520      0.603       -18.168    10.555\n",
       "studentsInEnglish                                 -0.2866      0.228     -1.258      0.208        -0.733     0.160\n",
       "urban                                             -0.1101      3.963     -0.028      0.978        -7.881     7.661\n",
       "==============================================================================\n",
       "Omnibus:                        8.273   Durbin-Watson:                   1.998\n",
       "Prob(Omnibus):                  0.016   Jarque-Bera (JB):                8.362\n",
       "Skew:                          -0.141   Prob(JB):                       0.0153\n",
       "Kurtosis:                       2.943   Cond. No.                     3.70e+04\n",
       "==============================================================================\n",
       "\n",
       "Warnings:\n",
       "[1] Standard Errors assume that the covariance matrix of the errors is correctly specified.\n",
       "[2] The condition number is large, 3.7e+04. This might indicate that there are\n",
       "strong multicollinearity or other numerical problems.\n",
       "\"\"\""
      ]
     },
     "execution_count": 34,
     "metadata": {},
     "output_type": "execute_result"
    }
   ],
   "source": [
    "all_columns = \"+\".join(pisaTrain.columns - [\"readingScore\"])\n",
    "my_formula = 'readingScore ~' + all_columns\n",
    "LinReg = smf.ols(formula=my_formula, data = pisaTrain).fit()\n",
    "LinReg.summary()"
   ]
  },
  {
   "cell_type": "code",
   "execution_count": 35,
   "metadata": {
    "collapsed": false
   },
   "outputs": [
    {
     "name": "stdout",
     "output_type": "stream",
     "text": [
      "RMSE =  73.365551433\n"
     ]
    }
   ],
   "source": [
    "# What is root mean squared error of this model?\n",
    "SSE = sum(LinReg.resid**2)\n",
    "RMSE = np.sqrt(SSE/len(pisaTrain))\n",
    "print('RMSE = ',RMSE)"
   ]
  },
  {
   "cell_type": "code",
   "execution_count": 39,
   "metadata": {
    "collapsed": false
   },
   "outputs": [
    {
     "data": {
      "text/plain": [
       "59.08541418353866"
      ]
     },
     "execution_count": 39,
     "metadata": {},
     "output_type": "execute_result"
    }
   ],
   "source": [
    "# Now predict the difference in reading scores of two similar students one in grade 9 and one in grade 11.\n",
    "\n",
    "LinReg.params['grade']*11 - LinReg.params['grade']*9"
   ]
  },
  {
   "cell_type": "code",
   "execution_count": 40,
   "metadata": {
    "collapsed": false
   },
   "outputs": [
    {
     "data": {
      "text/plain": [
       "Intercept                                          4.248260\n",
       "computerForSchoolwork                              3.945636\n",
       "englishAtHome                                      1.171469\n",
       "expectBachelors                                   12.871088\n",
       "fatherBachelors                                    4.237468\n",
       "fatherBornUS                                       0.687593\n",
       "fatherHS                                           0.720204\n",
       "fatherWork                                         1.329124\n",
       "grade                                             10.057438\n",
       "male                                              -4.601392\n",
       "minutesPerWeekEnglish                              1.193878\n",
       "motherBachelors                                    3.272875\n",
       "motherBornUS                                      -1.335558\n",
       "motherHS                                           0.994640\n",
       "motherWork                                        -0.797626\n",
       "preschool                                         -1.280436\n",
       "publicSchool                                      -2.506459\n",
       "race_American_Indian_or_Alaska_Native             -4.007720\n",
       "race_Asian                                        -0.445802\n",
       "race_Black                                       -12.271340\n",
       "race_Hispanic                                     -7.527505\n",
       "race_More_than_one                                -1.991760\n",
       "race_Native_Hawaiian_or_Other_Pacific_Islander    -0.299994\n",
       "read30MinsADay                                    10.231030\n",
       "schoolHasLibrary                                   1.318428\n",
       "schoolSize                                         2.976854\n",
       "selfBornUS                                        -0.519719\n",
       "studentsInEnglish                                 -1.258152\n",
       "urban                                             -0.027792\n",
       "dtype: float64"
      ]
     },
     "execution_count": 40,
     "metadata": {},
     "output_type": "execute_result"
    }
   ],
   "source": [
    "LinReg.tvalues"
   ]
  },
  {
   "cell_type": "code",
   "execution_count": 46,
   "metadata": {
    "collapsed": false
   },
   "outputs": [
    {
     "data": {
      "text/plain": [
       "<class 'statsmodels.stats.contrast.ContrastResults'>\n",
       "                             Test for Constraints                             \n",
       "==============================================================================\n",
       "                 coef    std err          t      P>|t|      [95.0% Conf. Int.]\n",
       "------------------------------------------------------------------------------\n",
       "c0          -321.3024    209.855     -1.531      0.126      -732.820    90.215\n",
       "=============================================================================="
      ]
     },
     "execution_count": 46,
     "metadata": {},
     "output_type": "execute_result"
    }
   ],
   "source": [
    "LinReg.t_test([1,1,1,1,1,22,2,2,2,2,3,3,3,3,3,4,4,4,4,4,5,5,5,5,5,6,6,6,6])"
   ]
  },
  {
   "cell_type": "code",
   "execution_count": 45,
   "metadata": {
    "collapsed": false
   },
   "outputs": [
    {
     "data": {
      "text/plain": [
       "<class 'statsmodels.stats.contrast.ContrastResults'>\n",
       "<F test: F=array([[ 2.34416245]]), p=0.12588575506292887, df_denom=2385, df_num=1>"
      ]
     },
     "execution_count": 45,
     "metadata": {},
     "output_type": "execute_result"
    }
   ],
   "source": [
    "LinReg.f_test([1,1,1,1,1,22,2,2,2,2,3,3,3,3,3,4,4,4,4,4,5,5,5,5,5,6,6,6,6])"
   ]
  },
  {
   "cell_type": "code",
   "execution_count": 55,
   "metadata": {
    "collapsed": false
   },
   "outputs": [],
   "source": [
    "# Now predict with pisaTest data. (out of sample prediction)\n",
    "# Note that we probably need to add dummy variables and clean up column names again...\n",
    "\n",
    "dummy_df = pd.get_dummies(pisaTest['raceeth'], prefix='race', prefix_sep ='_')\n",
    "dummy_df = dummy_df.drop(['race_White'], axis = 1)\n",
    "\n",
    "pisaTest = pisaTest.join(dummy_df)\n",
    "pisaTest = pisaTest.drop(['raceeth'], axis = 1)\n",
    "\n",
    "pisaTest.columns = ['grade', 'male', 'preschool', 'expectBachelors', 'motherHS',\n",
    "       'motherBachelors', 'motherWork', 'fatherHS', 'fatherBachelors',\n",
    "       'fatherWork', 'selfBornUS', 'motherBornUS', 'fatherBornUS',\n",
    "       'englishAtHome', 'computerForSchoolwork', 'read30MinsADay',\n",
    "       'minutesPerWeekEnglish', 'studentsInEnglish', 'schoolHasLibrary',\n",
    "       'publicSchool', 'urban', 'schoolSize', 'readingScore',\n",
    "       'race_American_Indian_or_Alaska_Native', 'race_Asian', 'race_Black',\n",
    "       'race_Hispanic', 'race_More_than_one',\n",
    "       'race_Native_Hawaiian_or_Other_Pacific_Islander']"
   ]
  },
  {
   "cell_type": "code",
   "execution_count": 62,
   "metadata": {
    "collapsed": false
   },
   "outputs": [
    {
     "name": "stdout",
     "output_type": "stream",
     "text": [
      "min= 353.223123114 max= 637.691434909 range= 284.468311795\n"
     ]
    }
   ],
   "source": [
    "predTest = LinReg.predict(pisaTest)\n",
    "print('min=',predTest.min(),'max=',predTest.max(),'range=',predTest.max()-predTest.min())"
   ]
  },
  {
   "cell_type": "code",
   "execution_count": 64,
   "metadata": {
    "collapsed": false
   },
   "outputs": [
    {
     "name": "stdout",
     "output_type": "stream",
     "text": [
      "SSE = 5762082.37114\n",
      "RMSE =  76.2907938311\n"
     ]
    }
   ],
   "source": [
    "# What is the sum of squared errors (SSE) on the testing set?\n",
    "\n",
    "SSE = sum((predTest-pisaTest['readingScore'])**2)\n",
    "print('SSE =',SSE)\n",
    "RMSE = np.sqrt(SSE/len(pisaTest))\n",
    "print('RMSE = ',RMSE)"
   ]
  },
  {
   "cell_type": "code",
   "execution_count": 68,
   "metadata": {
    "collapsed": false
   },
   "outputs": [
    {
     "name": "stdout",
     "output_type": "stream",
     "text": [
      "mean of predicted readingScores on pisaTrain:  517.962887324\n",
      "mean of pisaTrain readingScore:  517.9628873239429\n"
     ]
    }
   ],
   "source": [
    "# What is the predicted test score used in the baseline model? Compute this value using the training set and not the test set.\n",
    "\n",
    "predTrain = LinReg.predict(pisaTrain)\n",
    "print('mean of predicted readingScores on pisaTrain: ',predTrain.mean())\n",
    "\n",
    "print('mean of pisaTrain readingScore: ',pisaTrain['readingScore'].mean())"
   ]
  },
  {
   "cell_type": "code",
   "execution_count": 72,
   "metadata": {
    "collapsed": false
   },
   "outputs": [
    {
     "name": "stdout",
     "output_type": "stream",
     "text": [
      "SST = 7802354.07761\n"
     ]
    }
   ],
   "source": [
    "# What is the sum of squared errors of the baseline model on the testing set?\n",
    "# We call the sum of squared errors for the baseline model the total sum of squares (SST).\n",
    "\n",
    "SST = sum((predTrain.mean()-pisaTest['readingScore'])**2)\n",
    "print('SST =',SST)"
   ]
  },
  {
   "cell_type": "markdown",
   "metadata": {},
   "source": [
    "## What is the test-set R-squared?"
   ]
  },
  {
   "cell_type": "code",
   "execution_count": 76,
   "metadata": {
    "collapsed": false
   },
   "outputs": [
    {
     "name": "stdout",
     "output_type": "stream",
     "text": [
      "SSE = 5762082.37114\n",
      "SST = 7802354.07761\n",
      "test-set R^2:  0.261494375438\n"
     ]
    }
   ],
   "source": [
    "# The test-set R^2 is defined as 1-SSE/SST, where SSE is the sum of squared errors of the model on the test set\n",
    "# and SST is the sum of squared errors of the baseline model.\n",
    "\n",
    "SSE = sum((predTest-pisaTest['readingScore'])**2)\n",
    "print('SSE =',SSE)\n",
    "\n",
    "SST = sum((predTrain.mean()-pisaTest['readingScore'])**2)\n",
    "print('SST =',SST)\n",
    "\n",
    "print('test-set R^2: ',1-SSE/SST)"
   ]
  },
  {
   "cell_type": "code",
   "execution_count": null,
   "metadata": {
    "collapsed": true
   },
   "outputs": [],
   "source": []
  }
 ],
 "metadata": {
  "kernelspec": {
   "display_name": "Python 3",
   "language": "python",
   "name": "python3"
  },
  "language_info": {
   "codemirror_mode": {
    "name": "ipython",
    "version": 3
   },
   "file_extension": ".py",
   "mimetype": "text/x-python",
   "name": "python",
   "nbconvert_exporter": "python",
   "pygments_lexer": "ipython3",
   "version": "3.5.1"
  }
 },
 "nbformat": 4,
 "nbformat_minor": 0
}
