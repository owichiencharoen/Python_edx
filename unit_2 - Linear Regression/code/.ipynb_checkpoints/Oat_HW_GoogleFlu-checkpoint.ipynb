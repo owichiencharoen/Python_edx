{
 "cells": [
  {
   "cell_type": "markdown",
   "metadata": {},
   "source": [
    "#### DETECTING FLU EPIDEMICS VIA SEARCH ENGINE QUERY DATA \n",
    "\n",
    "Flu epidemics constitute a major public health concern causing respiratory illnesses, hospitalizations, and deaths. According to the National Vital Statistics Reports published in October 2012, influenza ranked as the eighth leading cause of death in 2011 in the United States. Each year, 250,000 to 500,000 deaths are attributed to influenza related diseases throughout the world.\n",
    "\n",
    "The U.S. Centers for Disease Control and Prevention (CDC) and the European Influenza Surveillance Scheme (EISS) detect influenza activity through virologic and clinical data, including Influenza-like Illness (ILI) physician visits. Reporting national and regional data, however, are published with a 1-2 week lag.\n",
    "\n",
    "The Google Flu Trends project was initiated to see if faster reporting can be made possible by considering flu-related online search queries -- data that is available almost immediately."
   ]
  },
  {
   "cell_type": "code",
   "execution_count": 8,
   "metadata": {
    "collapsed": true
   },
   "outputs": [],
   "source": [
    "import pandas as pd\n",
    "from pandas import Series, DataFrame\n",
    "import numpy as np\n",
    "import seaborn as sns\n",
    "sns.set_style('darkgrid')\n",
    "\n",
    "from scipy import stats\n",
    "import statsmodels.formula.api as smf\n",
    "import statsmodels.api as sm\n",
    "\n",
    "import matplotlib.pyplot as plt\n",
    "%matplotlib inline\n",
    "\n",
    "#from sklearn import datasets, linear_model, metrics\n",
    "\n",
    "#import itertools\n",
    "#import pandas_datareader.data as pdweb\n",
    "#from pandas_datareader.data import DataReader\n",
    "#from datetime import datetime\n",
    "#from io import StringIO"
   ]
  },
  {
   "cell_type": "code",
   "execution_count": 9,
   "metadata": {
    "collapsed": false
   },
   "outputs": [
    {
     "data": {
      "text/html": [
       "<div>\n",
       "<table border=\"1\" class=\"dataframe\">\n",
       "  <thead>\n",
       "    <tr style=\"text-align: right;\">\n",
       "      <th></th>\n",
       "      <th>Week</th>\n",
       "      <th>ILI</th>\n",
       "      <th>Queries</th>\n",
       "    </tr>\n",
       "  </thead>\n",
       "  <tbody>\n",
       "    <tr>\n",
       "      <th>0</th>\n",
       "      <td>2004-01-04 - 2004-01-10</td>\n",
       "      <td>2.418331</td>\n",
       "      <td>0.237716</td>\n",
       "    </tr>\n",
       "    <tr>\n",
       "      <th>1</th>\n",
       "      <td>2004-01-11 - 2004-01-17</td>\n",
       "      <td>1.809056</td>\n",
       "      <td>0.220452</td>\n",
       "    </tr>\n",
       "    <tr>\n",
       "      <th>2</th>\n",
       "      <td>2004-01-18 - 2004-01-24</td>\n",
       "      <td>1.712024</td>\n",
       "      <td>0.225764</td>\n",
       "    </tr>\n",
       "    <tr>\n",
       "      <th>3</th>\n",
       "      <td>2004-01-25 - 2004-01-31</td>\n",
       "      <td>1.542495</td>\n",
       "      <td>0.237716</td>\n",
       "    </tr>\n",
       "    <tr>\n",
       "      <th>4</th>\n",
       "      <td>2004-02-01 - 2004-02-07</td>\n",
       "      <td>1.437868</td>\n",
       "      <td>0.224436</td>\n",
       "    </tr>\n",
       "    <tr>\n",
       "      <th>5</th>\n",
       "      <td>2004-02-08 - 2004-02-14</td>\n",
       "      <td>1.324274</td>\n",
       "      <td>0.207171</td>\n",
       "    </tr>\n",
       "    <tr>\n",
       "      <th>6</th>\n",
       "      <td>2004-02-15 - 2004-02-21</td>\n",
       "      <td>1.307257</td>\n",
       "      <td>0.241700</td>\n",
       "    </tr>\n",
       "    <tr>\n",
       "      <th>7</th>\n",
       "      <td>2004-02-22 - 2004-02-28</td>\n",
       "      <td>1.036977</td>\n",
       "      <td>0.216467</td>\n",
       "    </tr>\n",
       "    <tr>\n",
       "      <th>8</th>\n",
       "      <td>2004-02-29 - 2004-03-06</td>\n",
       "      <td>1.010320</td>\n",
       "      <td>0.225764</td>\n",
       "    </tr>\n",
       "    <tr>\n",
       "      <th>9</th>\n",
       "      <td>2004-03-07 - 2004-03-13</td>\n",
       "      <td>1.052492</td>\n",
       "      <td>0.199203</td>\n",
       "    </tr>\n",
       "  </tbody>\n",
       "</table>\n",
       "</div>"
      ],
      "text/plain": [
       "                      Week       ILI   Queries\n",
       "0  2004-01-04 - 2004-01-10  2.418331  0.237716\n",
       "1  2004-01-11 - 2004-01-17  1.809056  0.220452\n",
       "2  2004-01-18 - 2004-01-24  1.712024  0.225764\n",
       "3  2004-01-25 - 2004-01-31  1.542495  0.237716\n",
       "4  2004-02-01 - 2004-02-07  1.437868  0.224436\n",
       "5  2004-02-08 - 2004-02-14  1.324274  0.207171\n",
       "6  2004-02-15 - 2004-02-21  1.307257  0.241700\n",
       "7  2004-02-22 - 2004-02-28  1.036977  0.216467\n",
       "8  2004-02-29 - 2004-03-06  1.010320  0.225764\n",
       "9  2004-03-07 - 2004-03-13  1.052492  0.199203"
      ]
     },
     "execution_count": 9,
     "metadata": {},
     "output_type": "execute_result"
    }
   ],
   "source": [
    "FluTrain = pd.read_csv('../data/FluTrain.csv')\n",
    "FluTrain[:10]"
   ]
  },
  {
   "cell_type": "code",
   "execution_count": 10,
   "metadata": {
    "collapsed": false
   },
   "outputs": [
    {
     "data": {
      "text/html": [
       "<div>\n",
       "<table border=\"1\" class=\"dataframe\">\n",
       "  <thead>\n",
       "    <tr style=\"text-align: right;\">\n",
       "      <th></th>\n",
       "      <th>Week</th>\n",
       "      <th>ILI</th>\n",
       "      <th>Queries</th>\n",
       "    </tr>\n",
       "  </thead>\n",
       "  <tbody>\n",
       "    <tr>\n",
       "      <th>302</th>\n",
       "      <td>2009-10-18 - 2009-10-24</td>\n",
       "      <td>7.618892</td>\n",
       "      <td>1.0</td>\n",
       "    </tr>\n",
       "  </tbody>\n",
       "</table>\n",
       "</div>"
      ],
      "text/plain": [
       "                        Week       ILI  Queries\n",
       "302  2009-10-18 - 2009-10-24  7.618892      1.0"
      ]
     },
     "execution_count": 10,
     "metadata": {},
     "output_type": "execute_result"
    }
   ],
   "source": [
    "# Which week has the highest visits (ILI)?\n",
    "FluTrain[FluTrain['ILI']==FluTrain['ILI'].max()]"
   ]
  },
  {
   "cell_type": "code",
   "execution_count": 11,
   "metadata": {
    "collapsed": false
   },
   "outputs": [
    {
     "data": {
      "text/html": [
       "<div>\n",
       "<table border=\"1\" class=\"dataframe\">\n",
       "  <thead>\n",
       "    <tr style=\"text-align: right;\">\n",
       "      <th></th>\n",
       "      <th>Week</th>\n",
       "      <th>ILI</th>\n",
       "      <th>Queries</th>\n",
       "    </tr>\n",
       "  </thead>\n",
       "  <tbody>\n",
       "    <tr>\n",
       "      <th>302</th>\n",
       "      <td>2009-10-18 - 2009-10-24</td>\n",
       "      <td>7.618892</td>\n",
       "      <td>1.0</td>\n",
       "    </tr>\n",
       "  </tbody>\n",
       "</table>\n",
       "</div>"
      ],
      "text/plain": [
       "                        Week       ILI  Queries\n",
       "302  2009-10-18 - 2009-10-24  7.618892      1.0"
      ]
     },
     "execution_count": 11,
     "metadata": {},
     "output_type": "execute_result"
    }
   ],
   "source": [
    "# Which week has the highest queries?\n",
    "FluTrain[FluTrain['Queries']==FluTrain['Queries'].max()]"
   ]
  },
  {
   "cell_type": "code",
   "execution_count": 12,
   "metadata": {
    "collapsed": false
   },
   "outputs": [
    {
     "data": {
      "text/plain": [
       "<matplotlib.axes._subplots.AxesSubplot at 0xae354e0>"
      ]
     },
     "execution_count": 12,
     "metadata": {},
     "output_type": "execute_result"
    },
    {
     "data": {
      "image/png": "[encoded data removed]",
      "text/plain": [
       "<matplotlib.figure.Figure at 0x460f5f8>"
      ]
     },
     "metadata": {},
     "output_type": "display_data"
    }
   ],
   "source": [
    "# Plot the histogram of ILI. What best describes the distribution of values of ILI?\n",
    "sns.distplot(FluTrain['ILI'], bins=29)"
   ]
  },
  {
   "cell_type": "code",
   "execution_count": 13,
   "metadata": {
    "collapsed": false
   },
   "outputs": [
    {
     "data": {
      "text/plain": [
       "<matplotlib.axes._subplots.AxesSubplot at 0xaf06390>"
      ]
     },
     "execution_count": 13,
     "metadata": {},
     "output_type": "execute_result"
    },
    {
     "data": {
      "image/png": "[encoded data removed]",
      "text/plain": [
       "<matplotlib.figure.Figure at 0xaecbc50>"
      ]
     },
     "metadata": {},
     "output_type": "display_data"
    }
   ],
   "source": [
    "sns.distplot(FluTrain['ILI'], bins=29,kde=False, rug=True)"
   ]
  },
  {
   "cell_type": "code",
   "execution_count": 14,
   "metadata": {
    "collapsed": false
   },
   "outputs": [
    {
     "data": {
      "text/plain": [
       "<matplotlib.axes._subplots.AxesSubplot at 0xbd1bb70>"
      ]
     },
     "execution_count": 14,
     "metadata": {},
     "output_type": "execute_result"
    },
    {
     "data": {
      "image/png": "[encoded data removed]",
      "text/plain": [
       "<matplotlib.figure.Figure at 0xbd1e198>"
      ]
     },
     "metadata": {},
     "output_type": "display_data"
    }
   ],
   "source": [
    "# When data is skewed like that, try log transforming\n",
    "sns.distplot(np.log(FluTrain['ILI']), bins=29)"
   ]
  },
  {
   "cell_type": "code",
   "execution_count": 15,
   "metadata": {
    "collapsed": false
   },
   "outputs": [
    {
     "data": {
      "text/plain": [
       "<seaborn.axisgrid.FacetGrid at 0xbdd89b0>"
      ]
     },
     "execution_count": 15,
     "metadata": {},
     "output_type": "execute_result"
    },
    {
     "data": {
      "image/png": "[encoded data removed]",
      "text/plain": [
       "<matplotlib.figure.Figure at 0xbde30b8>"
      ]
     },
     "metadata": {},
     "output_type": "display_data"
    }
   ],
   "source": [
    "FluTrain['log_ILI'] = np.log(FluTrain['ILI'])\n",
    "sns.lmplot(x='log_ILI',y='Queries', data=FluTrain)"
   ]
  },
  {
   "cell_type": "code",
   "execution_count": 16,
   "metadata": {
    "collapsed": false
   },
   "outputs": [
    {
     "data": {
      "text/html": [
       "<table class=\"simpletable\">\n",
       "<caption>OLS Regression Results</caption>\n",
       "<tr>\n",
       "  <th>Dep. Variable:</th>         <td>log_ILI</td>     <th>  R-squared:         </th> <td>   0.709</td> \n",
       "</tr>\n",
       "<tr>\n",
       "  <th>Model:</th>                   <td>OLS</td>       <th>  Adj. R-squared:    </th> <td>   0.708</td> \n",
       "</tr>\n",
       "<tr>\n",
       "  <th>Method:</th>             <td>Least Squares</td>  <th>  F-statistic:       </th> <td>   1011.</td> \n",
       "</tr>\n",
       "<tr>\n",
       "  <th>Date:</th>             <td>Thu, 28 Jul 2016</td> <th>  Prob (F-statistic):</th> <td>2.62e-113</td>\n",
       "</tr>\n",
       "<tr>\n",
       "  <th>Time:</th>                 <td>20:09:26</td>     <th>  Log-Likelihood:    </th> <td> -87.974</td> \n",
       "</tr>\n",
       "<tr>\n",
       "  <th>No. Observations:</th>      <td>   417</td>      <th>  AIC:               </th> <td>   179.9</td> \n",
       "</tr>\n",
       "<tr>\n",
       "  <th>Df Residuals:</th>          <td>   415</td>      <th>  BIC:               </th> <td>   188.0</td> \n",
       "</tr>\n",
       "<tr>\n",
       "  <th>Df Model:</th>              <td>     1</td>      <th>                     </th>     <td> </td>    \n",
       "</tr>\n",
       "<tr>\n",
       "  <th>Covariance Type:</th>      <td>nonrobust</td>    <th>                     </th>     <td> </td>    \n",
       "</tr>\n",
       "</table>\n",
       "<table class=\"simpletable\">\n",
       "<tr>\n",
       "      <td></td>         <th>coef</th>     <th>std err</th>      <th>t</th>      <th>P>|t|</th> <th>[95.0% Conf. Int.]</th> \n",
       "</tr>\n",
       "<tr>\n",
       "  <th>Intercept</th> <td>   -0.4993</td> <td>    0.030</td> <td>  -16.422</td> <td> 0.000</td> <td>   -0.559    -0.440</td>\n",
       "</tr>\n",
       "<tr>\n",
       "  <th>Queries</th>   <td>    2.9613</td> <td>    0.093</td> <td>   31.800</td> <td> 0.000</td> <td>    2.778     3.144</td>\n",
       "</tr>\n",
       "</table>\n",
       "<table class=\"simpletable\">\n",
       "<tr>\n",
       "  <th>Omnibus:</th>       <td> 9.797</td> <th>  Durbin-Watson:     </th> <td>   0.283</td>\n",
       "</tr>\n",
       "<tr>\n",
       "  <th>Prob(Omnibus):</th> <td> 0.007</td> <th>  Jarque-Bera (JB):  </th> <td>   9.884</td>\n",
       "</tr>\n",
       "<tr>\n",
       "  <th>Skew:</th>          <td> 0.373</td> <th>  Prob(JB):          </th> <td> 0.00714</td>\n",
       "</tr>\n",
       "<tr>\n",
       "  <th>Kurtosis:</th>      <td> 3.112</td> <th>  Cond. No.          </th> <td>    6.88</td>\n",
       "</tr>\n",
       "</table>"
      ],
      "text/plain": [
       "<class 'statsmodels.iolib.summary.Summary'>\n",
       "\"\"\"\n",
       "                            OLS Regression Results                            \n",
       "==============================================================================\n",
       "Dep. Variable:                log_ILI   R-squared:                       0.709\n",
       "Model:                            OLS   Adj. R-squared:                  0.708\n",
       "Method:                 Least Squares   F-statistic:                     1011.\n",
       "Date:                Thu, 28 Jul 2016   Prob (F-statistic):          2.62e-113\n",
       "Time:                        20:09:26   Log-Likelihood:                -87.974\n",
       "No. Observations:                 417   AIC:                             179.9\n",
       "Df Residuals:                     415   BIC:                             188.0\n",
       "Df Model:                           1                                         \n",
       "Covariance Type:            nonrobust                                         \n",
       "==============================================================================\n",
       "                 coef    std err          t      P>|t|      [95.0% Conf. Int.]\n",
       "------------------------------------------------------------------------------\n",
       "Intercept     -0.4993      0.030    -16.422      0.000        -0.559    -0.440\n",
       "Queries        2.9613      0.093     31.800      0.000         2.778     3.144\n",
       "==============================================================================\n",
       "Omnibus:                        9.797   Durbin-Watson:                   0.283\n",
       "Prob(Omnibus):                  0.007   Jarque-Bera (JB):                9.884\n",
       "Skew:                           0.373   Prob(JB):                      0.00714\n",
       "Kurtosis:                       3.112   Cond. No.                         6.88\n",
       "==============================================================================\n",
       "\n",
       "Warnings:\n",
       "[1] Standard Errors assume that the covariance matrix of the errors is correctly specified.\n",
       "\"\"\""
      ]
     },
     "execution_count": 16,
     "metadata": {},
     "output_type": "execute_result"
    }
   ],
   "source": [
    "FluTrend1 = smf.ols(formula='log_ILI ~ Queries',data=FluTrain).fit()\n",
    "FluTrend1.summary()"
   ]
  },
  {
   "cell_type": "code",
   "execution_count": 17,
   "metadata": {
    "collapsed": false
   },
   "outputs": [
    {
     "name": "stdout",
     "output_type": "stream",
     "text": [
      "R-squared check:  0.7090200553481864\n"
     ]
    }
   ],
   "source": [
    "# For a single variable linear regression, R-squared = correlation^2 (correlation of dependent and independent variables)\n",
    "\n",
    "print('R-squared check: ',np.corrcoef(FluTrain['log_ILI'], FluTrain['Queries']).item(1)**2)"
   ]
  },
  {
   "cell_type": "code",
   "execution_count": 18,
   "metadata": {
    "collapsed": false
   },
   "outputs": [
    {
     "name": "stdout",
     "output_type": "stream",
     "text": [
      "** length of FluTest is: 52\n",
      "\n",
      "[ 3.52033171  2.66268872  2.67318078  2.51016006  2.45162375  2.6942891\n",
      "  2.78040239  2.67318078  2.37569324  2.35708095  2.18737772  1.7969135\n",
      "  1.78986074  1.71408354  1.78986074  1.6158945   1.52933261  1.49955462\n",
      "  1.38068852  1.48780641  1.3752694   1.31704473  1.35913934  1.27625386\n",
      "  1.31704473  1.23187226  1.27625386  1.33267522  1.25633465  1.27625386\n",
      "  1.26625508  1.28128281  1.3484912   1.44740777  1.52333008  1.62865414\n",
      "  1.75500994  2.09477089  2.19599687  2.35708095  2.4228695   2.33861448\n",
      "  2.32943556  2.53995026  2.44200129  2.85800628  2.75861941  3.69044531\n",
      "  4.43967921  4.89835095  6.2508877   6.59125245]\n",
      "\n",
      "** length of the prediction is: 52\n"
     ]
    }
   ],
   "source": [
    "# The csv file FluTest.csv provides the 2012 weekly data of the ILI-related search queries and the observed weekly\n",
    "# percentage of ILI-related physician visits. Load this data into a data frame called FluTest.\n",
    "# REMEMBER:  FluTest doesn't have the 'Log_ILI' column\n",
    "\n",
    "FluTest = pd.read_csv('../data/FluTest.csv')\n",
    "FluTest['log_ILI'] = np.log(FluTest['ILI'])\n",
    "print('** length of FluTest is:',len(FluTest))\n",
    "print()\n",
    "\n",
    "PredTest1 = np.exp(FluTrend1.predict(FluTest))\n",
    "\n",
    "print(PredTest1)\n",
    "print()\n",
    "print('** length of the prediction is:',len(PredTest1))"
   ]
  },
  {
   "cell_type": "code",
   "execution_count": 19,
   "metadata": {
    "collapsed": false
   },
   "outputs": [
    {
     "data": {
      "text/plain": [
       "2.1873777211145455"
      ]
     },
     "execution_count": 19,
     "metadata": {},
     "output_type": "execute_result"
    }
   ],
   "source": [
    "#What is our estimate for the percentage of ILI-related physician visits for the week of March 11, 2012\n",
    "\n",
    "x = FluTest[FluTest['Week'].str.contains('2012-03-11')==True].index  # now we know we're looking for PredTest1 item 10.\n",
    "PredTest1.item(x[0])"
   ]
  },
  {
   "cell_type": "code",
   "execution_count": 20,
   "metadata": {
    "collapsed": false
   },
   "outputs": [
    {
     "name": "stdout",
     "output_type": "stream",
     "text": [
      "Observed ILI:  2.293421558\n",
      "Estimated ILI:  2.1873777211145455\n",
      "relative error:  10    0.046238\n",
      "Name: ILI, dtype: float64\n"
     ]
    }
   ],
   "source": [
    "# What is the relative error betweeen the estimate (our prediction) and the observed value for week of March 11, 2012?\n",
    "# Relative error is calculated as (Observed ILI - Estimated ILI)/Observed ILI\n",
    "\n",
    "Observed_ILI = FluTest['ILI'][FluTest['Week'].str.contains('2012-03-11')==True]\n",
    "print('Observed ILI: ',Observed_ILI.loc[10])\n",
    "Estimated_ILI = PredTest1.item(x[0])\n",
    "print('Estimated ILI: ',Estimated_ILI)\n",
    "\n",
    "print('relative error: ',(Observed_ILI - Estimated_ILI)/Observed_ILI)"
   ]
  },
  {
   "cell_type": "code",
   "execution_count": 21,
   "metadata": {
    "collapsed": false
   },
   "outputs": [
    {
     "name": "stdout",
     "output_type": "stream",
     "text": [
      "37.2312064121\n",
      "0.298803394583\n"
     ]
    }
   ],
   "source": [
    "# SSE and RMSE for training set\n",
    "\n",
    "SSE = sum(FluTrend1.resid**2)\n",
    "print(SSE)\n",
    "RMSE = np.sqrt(SSE/len(FluTrain))\n",
    "print(RMSE)"
   ]
  },
  {
   "cell_type": "code",
   "execution_count": 22,
   "metadata": {
    "collapsed": false
   },
   "outputs": [
    {
     "name": "stdout",
     "output_type": "stream",
     "text": [
      "SSE = 29.1770786196\n",
      "RMSE =  0.749064527102\n"
     ]
    }
   ],
   "source": [
    "# SSE and RMSE for test set\n",
    "\n",
    "SSE = sum((PredTest1-FluTest['ILI'])**2)\n",
    "print('SSE =',SSE)\n",
    "RMSE = np.sqrt(SSE/len(FluTest))\n",
    "print('RMSE = ',RMSE)"
   ]
  },
  {
   "cell_type": "code",
   "execution_count": 23,
   "metadata": {
    "collapsed": false
   },
   "outputs": [
    {
     "data": {
      "text/html": [
       "<div>\n",
       "<table border=\"1\" class=\"dataframe\">\n",
       "  <thead>\n",
       "    <tr style=\"text-align: right;\">\n",
       "      <th></th>\n",
       "      <th>Week</th>\n",
       "      <th>ILI</th>\n",
       "      <th>Queries</th>\n",
       "      <th>log_ILI</th>\n",
       "      <th>ILILag2</th>\n",
       "    </tr>\n",
       "  </thead>\n",
       "  <tbody>\n",
       "    <tr>\n",
       "      <th>0</th>\n",
       "      <td>2004-01-04 - 2004-01-10</td>\n",
       "      <td>2.418331</td>\n",
       "      <td>0.237716</td>\n",
       "      <td>0.883078</td>\n",
       "      <td>NaN</td>\n",
       "    </tr>\n",
       "    <tr>\n",
       "      <th>1</th>\n",
       "      <td>2004-01-11 - 2004-01-17</td>\n",
       "      <td>1.809056</td>\n",
       "      <td>0.220452</td>\n",
       "      <td>0.592805</td>\n",
       "      <td>NaN</td>\n",
       "    </tr>\n",
       "    <tr>\n",
       "      <th>2</th>\n",
       "      <td>2004-01-18 - 2004-01-24</td>\n",
       "      <td>1.712024</td>\n",
       "      <td>0.225764</td>\n",
       "      <td>0.537676</td>\n",
       "      <td>NaN</td>\n",
       "    </tr>\n",
       "    <tr>\n",
       "      <th>3</th>\n",
       "      <td>2004-01-25 - 2004-01-31</td>\n",
       "      <td>1.542495</td>\n",
       "      <td>0.237716</td>\n",
       "      <td>0.433401</td>\n",
       "      <td>NaN</td>\n",
       "    </tr>\n",
       "    <tr>\n",
       "      <th>4</th>\n",
       "      <td>2004-02-01 - 2004-02-07</td>\n",
       "      <td>1.437868</td>\n",
       "      <td>0.224436</td>\n",
       "      <td>0.363162</td>\n",
       "      <td>NaN</td>\n",
       "    </tr>\n",
       "    <tr>\n",
       "      <th>5</th>\n",
       "      <td>2004-02-08 - 2004-02-14</td>\n",
       "      <td>1.324274</td>\n",
       "      <td>0.207171</td>\n",
       "      <td>0.280864</td>\n",
       "      <td>NaN</td>\n",
       "    </tr>\n",
       "    <tr>\n",
       "      <th>6</th>\n",
       "      <td>2004-02-15 - 2004-02-21</td>\n",
       "      <td>1.307257</td>\n",
       "      <td>0.241700</td>\n",
       "      <td>0.267931</td>\n",
       "      <td>NaN</td>\n",
       "    </tr>\n",
       "    <tr>\n",
       "      <th>7</th>\n",
       "      <td>2004-02-22 - 2004-02-28</td>\n",
       "      <td>1.036977</td>\n",
       "      <td>0.216467</td>\n",
       "      <td>0.036310</td>\n",
       "      <td>NaN</td>\n",
       "    </tr>\n",
       "    <tr>\n",
       "      <th>8</th>\n",
       "      <td>2004-02-29 - 2004-03-06</td>\n",
       "      <td>1.010320</td>\n",
       "      <td>0.225764</td>\n",
       "      <td>0.010268</td>\n",
       "      <td>NaN</td>\n",
       "    </tr>\n",
       "    <tr>\n",
       "      <th>9</th>\n",
       "      <td>2004-03-07 - 2004-03-13</td>\n",
       "      <td>1.052492</td>\n",
       "      <td>0.199203</td>\n",
       "      <td>0.051161</td>\n",
       "      <td>NaN</td>\n",
       "    </tr>\n",
       "  </tbody>\n",
       "</table>\n",
       "</div>"
      ],
      "text/plain": [
       "                      Week       ILI   Queries   log_ILI  ILILag2\n",
       "0  2004-01-04 - 2004-01-10  2.418331  0.237716  0.883078      NaN\n",
       "1  2004-01-11 - 2004-01-17  1.809056  0.220452  0.592805      NaN\n",
       "2  2004-01-18 - 2004-01-24  1.712024  0.225764  0.537676      NaN\n",
       "3  2004-01-25 - 2004-01-31  1.542495  0.237716  0.433401      NaN\n",
       "4  2004-02-01 - 2004-02-07  1.437868  0.224436  0.363162      NaN\n",
       "5  2004-02-08 - 2004-02-14  1.324274  0.207171  0.280864      NaN\n",
       "6  2004-02-15 - 2004-02-21  1.307257  0.241700  0.267931      NaN\n",
       "7  2004-02-22 - 2004-02-28  1.036977  0.216467  0.036310      NaN\n",
       "8  2004-02-29 - 2004-03-06  1.010320  0.225764  0.010268      NaN\n",
       "9  2004-03-07 - 2004-03-13  1.052492  0.199203  0.051161      NaN"
      ]
     },
     "execution_count": 23,
     "metadata": {},
     "output_type": "execute_result"
    }
   ],
   "source": [
    "### Now train a times series model.  Make a new column: ILILag2\n",
    "FluTrain['ILILag2']=np.nan\n",
    "FluTrain[:10]"
   ]
  },
  {
   "cell_type": "code",
   "execution_count": 24,
   "metadata": {
    "collapsed": false
   },
   "outputs": [
    {
     "data": {
      "text/html": [
       "<div>\n",
       "<table border=\"1\" class=\"dataframe\">\n",
       "  <thead>\n",
       "    <tr style=\"text-align: right;\">\n",
       "      <th></th>\n",
       "      <th>Week</th>\n",
       "      <th>ILI</th>\n",
       "      <th>Queries</th>\n",
       "      <th>log_ILI</th>\n",
       "      <th>ILILag2</th>\n",
       "    </tr>\n",
       "  </thead>\n",
       "  <tbody>\n",
       "    <tr>\n",
       "      <th>0</th>\n",
       "      <td>2004-01-04 - 2004-01-10</td>\n",
       "      <td>2.418331</td>\n",
       "      <td>0.237716</td>\n",
       "      <td>0.883078</td>\n",
       "      <td>NaN</td>\n",
       "    </tr>\n",
       "    <tr>\n",
       "      <th>1</th>\n",
       "      <td>2004-01-11 - 2004-01-17</td>\n",
       "      <td>1.809056</td>\n",
       "      <td>0.220452</td>\n",
       "      <td>0.592805</td>\n",
       "      <td>NaN</td>\n",
       "    </tr>\n",
       "    <tr>\n",
       "      <th>2</th>\n",
       "      <td>2004-01-18 - 2004-01-24</td>\n",
       "      <td>1.712024</td>\n",
       "      <td>0.225764</td>\n",
       "      <td>0.537676</td>\n",
       "      <td>2.418331</td>\n",
       "    </tr>\n",
       "    <tr>\n",
       "      <th>3</th>\n",
       "      <td>2004-01-25 - 2004-01-31</td>\n",
       "      <td>1.542495</td>\n",
       "      <td>0.237716</td>\n",
       "      <td>0.433401</td>\n",
       "      <td>1.809056</td>\n",
       "    </tr>\n",
       "    <tr>\n",
       "      <th>4</th>\n",
       "      <td>2004-02-01 - 2004-02-07</td>\n",
       "      <td>1.437868</td>\n",
       "      <td>0.224436</td>\n",
       "      <td>0.363162</td>\n",
       "      <td>1.712024</td>\n",
       "    </tr>\n",
       "    <tr>\n",
       "      <th>5</th>\n",
       "      <td>2004-02-08 - 2004-02-14</td>\n",
       "      <td>1.324274</td>\n",
       "      <td>0.207171</td>\n",
       "      <td>0.280864</td>\n",
       "      <td>1.542495</td>\n",
       "    </tr>\n",
       "    <tr>\n",
       "      <th>6</th>\n",
       "      <td>2004-02-15 - 2004-02-21</td>\n",
       "      <td>1.307257</td>\n",
       "      <td>0.241700</td>\n",
       "      <td>0.267931</td>\n",
       "      <td>1.437868</td>\n",
       "    </tr>\n",
       "    <tr>\n",
       "      <th>7</th>\n",
       "      <td>2004-02-22 - 2004-02-28</td>\n",
       "      <td>1.036977</td>\n",
       "      <td>0.216467</td>\n",
       "      <td>0.036310</td>\n",
       "      <td>1.324274</td>\n",
       "    </tr>\n",
       "    <tr>\n",
       "      <th>8</th>\n",
       "      <td>2004-02-29 - 2004-03-06</td>\n",
       "      <td>1.010320</td>\n",
       "      <td>0.225764</td>\n",
       "      <td>0.010268</td>\n",
       "      <td>1.307257</td>\n",
       "    </tr>\n",
       "    <tr>\n",
       "      <th>9</th>\n",
       "      <td>2004-03-07 - 2004-03-13</td>\n",
       "      <td>1.052492</td>\n",
       "      <td>0.199203</td>\n",
       "      <td>0.051161</td>\n",
       "      <td>1.036977</td>\n",
       "    </tr>\n",
       "  </tbody>\n",
       "</table>\n",
       "</div>"
      ],
      "text/plain": [
       "                      Week       ILI   Queries   log_ILI   ILILag2\n",
       "0  2004-01-04 - 2004-01-10  2.418331  0.237716  0.883078       NaN\n",
       "1  2004-01-11 - 2004-01-17  1.809056  0.220452  0.592805       NaN\n",
       "2  2004-01-18 - 2004-01-24  1.712024  0.225764  0.537676  2.418331\n",
       "3  2004-01-25 - 2004-01-31  1.542495  0.237716  0.433401  1.809056\n",
       "4  2004-02-01 - 2004-02-07  1.437868  0.224436  0.363162  1.712024\n",
       "5  2004-02-08 - 2004-02-14  1.324274  0.207171  0.280864  1.542495\n",
       "6  2004-02-15 - 2004-02-21  1.307257  0.241700  0.267931  1.437868\n",
       "7  2004-02-22 - 2004-02-28  1.036977  0.216467  0.036310  1.324274\n",
       "8  2004-02-29 - 2004-03-06  1.010320  0.225764  0.010268  1.307257\n",
       "9  2004-03-07 - 2004-03-13  1.052492  0.199203  0.051161  1.036977"
      ]
     },
     "execution_count": 24,
     "metadata": {},
     "output_type": "execute_result"
    }
   ],
   "source": [
    "for x in range(2,len(FluTrain)):\n",
    "    FluTrain.ix[x,'ILILag2']=FluTrain['ILI'][x-2]\n",
    "FluTrain[:10]"
   ]
  },
  {
   "cell_type": "code",
   "execution_count": 25,
   "metadata": {
    "collapsed": false
   },
   "outputs": [
    {
     "data": {
      "text/plain": [
       "<seaborn.axisgrid.FacetGrid at 0xbe0efd0>"
      ]
     },
     "execution_count": 25,
     "metadata": {},
     "output_type": "execute_result"
    },
    {
     "data": {
      "image/png": "[encoded data removed]",
      "text/plain": [
       "<matplotlib.figure.Figure at 0xbe0e6d8>"
      ]
     },
     "metadata": {},
     "output_type": "display_data"
    }
   ],
   "source": [
    "# plot the log of ILILag2 against the log of ILI. What is the relationship between these variables?\n",
    "\n",
    "sns.lmplot(x='log_ILI',y='ILILag2', data=FluTrain,fit_reg=False)"
   ]
  },
  {
   "cell_type": "code",
   "execution_count": 26,
   "metadata": {
    "collapsed": false
   },
   "outputs": [
    {
     "data": {
      "text/plain": [
       "<seaborn.axisgrid.FacetGrid at 0xb230c50>"
      ]
     },
     "execution_count": 26,
     "metadata": {},
     "output_type": "execute_result"
    },
    {
     "data": {
      "image/png": "[encoded data removed]",
      "text/plain": [
       "<matplotlib.figure.Figure at 0xbef8278>"
      ]
     },
     "metadata": {},
     "output_type": "display_data"
    }
   ],
   "source": [
    "# Try log transforming ILILag2...\n",
    "\n",
    "FluTrain['log_ILILag2'] = np.log(FluTrain['ILILag2'])\n",
    "sns.lmplot(x='log_ILI',y='log_ILILag2', data=FluTrain)"
   ]
  },
  {
   "cell_type": "code",
   "execution_count": 27,
   "metadata": {
    "collapsed": false
   },
   "outputs": [
    {
     "name": "stdout",
     "output_type": "stream",
     "text": [
      "415\n",
      "417\n"
     ]
    },
    {
     "data": {
      "text/html": [
       "<div>\n",
       "<table border=\"1\" class=\"dataframe\">\n",
       "  <thead>\n",
       "    <tr style=\"text-align: right;\">\n",
       "      <th></th>\n",
       "      <th>Week</th>\n",
       "      <th>ILI</th>\n",
       "      <th>Queries</th>\n",
       "      <th>log_ILI</th>\n",
       "      <th>ILILag2</th>\n",
       "      <th>log_ILILag2</th>\n",
       "    </tr>\n",
       "  </thead>\n",
       "  <tbody>\n",
       "    <tr>\n",
       "      <th>2</th>\n",
       "      <td>2004-01-18 - 2004-01-24</td>\n",
       "      <td>1.712024</td>\n",
       "      <td>0.225764</td>\n",
       "      <td>0.537676</td>\n",
       "      <td>2.418331</td>\n",
       "      <td>0.883078</td>\n",
       "    </tr>\n",
       "    <tr>\n",
       "      <th>3</th>\n",
       "      <td>2004-01-25 - 2004-01-31</td>\n",
       "      <td>1.542495</td>\n",
       "      <td>0.237716</td>\n",
       "      <td>0.433401</td>\n",
       "      <td>1.809056</td>\n",
       "      <td>0.592805</td>\n",
       "    </tr>\n",
       "    <tr>\n",
       "      <th>4</th>\n",
       "      <td>2004-02-01 - 2004-02-07</td>\n",
       "      <td>1.437868</td>\n",
       "      <td>0.224436</td>\n",
       "      <td>0.363162</td>\n",
       "      <td>1.712024</td>\n",
       "      <td>0.537676</td>\n",
       "    </tr>\n",
       "    <tr>\n",
       "      <th>5</th>\n",
       "      <td>2004-02-08 - 2004-02-14</td>\n",
       "      <td>1.324274</td>\n",
       "      <td>0.207171</td>\n",
       "      <td>0.280864</td>\n",
       "      <td>1.542495</td>\n",
       "      <td>0.433401</td>\n",
       "    </tr>\n",
       "    <tr>\n",
       "      <th>6</th>\n",
       "      <td>2004-02-15 - 2004-02-21</td>\n",
       "      <td>1.307257</td>\n",
       "      <td>0.241700</td>\n",
       "      <td>0.267931</td>\n",
       "      <td>1.437868</td>\n",
       "      <td>0.363162</td>\n",
       "    </tr>\n",
       "  </tbody>\n",
       "</table>\n",
       "</div>"
      ],
      "text/plain": [
       "                      Week       ILI   Queries   log_ILI   ILILag2  \\\n",
       "2  2004-01-18 - 2004-01-24  1.712024  0.225764  0.537676  2.418331   \n",
       "3  2004-01-25 - 2004-01-31  1.542495  0.237716  0.433401  1.809056   \n",
       "4  2004-02-01 - 2004-02-07  1.437868  0.224436  0.363162  1.712024   \n",
       "5  2004-02-08 - 2004-02-14  1.324274  0.207171  0.280864  1.542495   \n",
       "6  2004-02-15 - 2004-02-21  1.307257  0.241700  0.267931  1.437868   \n",
       "\n",
       "   log_ILILag2  \n",
       "2     0.883078  \n",
       "3     0.592805  \n",
       "4     0.537676  \n",
       "5     0.433401  \n",
       "6     0.363162  "
      ]
     },
     "execution_count": 27,
     "metadata": {},
     "output_type": "execute_result"
    }
   ],
   "source": [
    "FluTrain2 = FluTrain.dropna()\n",
    "print(len(FluTrain2))\n",
    "print(len(FluTrain))\n",
    "FluTrain2[:5]"
   ]
  },
  {
   "cell_type": "code",
   "execution_count": 28,
   "metadata": {
    "collapsed": false
   },
   "outputs": [
    {
     "data": {
      "text/html": [
       "<table class=\"simpletable\">\n",
       "<caption>OLS Regression Results</caption>\n",
       "<tr>\n",
       "  <th>Dep. Variable:</th>         <td>log_ILI</td>     <th>  R-squared:         </th> <td>   0.906</td> \n",
       "</tr>\n",
       "<tr>\n",
       "  <th>Model:</th>                   <td>OLS</td>       <th>  Adj. R-squared:    </th> <td>   0.906</td> \n",
       "</tr>\n",
       "<tr>\n",
       "  <th>Method:</th>             <td>Least Squares</td>  <th>  F-statistic:       </th> <td>   1993.</td> \n",
       "</tr>\n",
       "<tr>\n",
       "  <th>Date:</th>             <td>Thu, 28 Jul 2016</td> <th>  Prob (F-statistic):</th> <td>1.38e-212</td>\n",
       "</tr>\n",
       "<tr>\n",
       "  <th>Time:</th>                 <td>20:09:45</td>     <th>  Log-Likelihood:    </th> <td>  147.24</td> \n",
       "</tr>\n",
       "<tr>\n",
       "  <th>No. Observations:</th>      <td>   415</td>      <th>  AIC:               </th> <td>  -288.5</td> \n",
       "</tr>\n",
       "<tr>\n",
       "  <th>Df Residuals:</th>          <td>   412</td>      <th>  BIC:               </th> <td>  -276.4</td> \n",
       "</tr>\n",
       "<tr>\n",
       "  <th>Df Model:</th>              <td>     2</td>      <th>                     </th>     <td> </td>    \n",
       "</tr>\n",
       "<tr>\n",
       "  <th>Covariance Type:</th>      <td>nonrobust</td>    <th>                     </th>     <td> </td>    \n",
       "</tr>\n",
       "</table>\n",
       "<table class=\"simpletable\">\n",
       "<tr>\n",
       "       <td></td>          <th>coef</th>     <th>std err</th>      <th>t</th>      <th>P>|t|</th> <th>[95.0% Conf. Int.]</th> \n",
       "</tr>\n",
       "<tr>\n",
       "  <th>Intercept</th>   <td>   -0.2406</td> <td>    0.020</td> <td>  -12.321</td> <td> 0.000</td> <td>   -0.279    -0.202</td>\n",
       "</tr>\n",
       "<tr>\n",
       "  <th>Queries</th>     <td>    1.2558</td> <td>    0.079</td> <td>   15.876</td> <td> 0.000</td> <td>    1.100     1.411</td>\n",
       "</tr>\n",
       "<tr>\n",
       "  <th>log_ILILag2</th> <td>    0.6557</td> <td>    0.023</td> <td>   29.135</td> <td> 0.000</td> <td>    0.611     0.700</td>\n",
       "</tr>\n",
       "</table>\n",
       "<table class=\"simpletable\">\n",
       "<tr>\n",
       "  <th>Omnibus:</th>       <td>74.791</td> <th>  Durbin-Watson:     </th> <td>   0.764</td>\n",
       "</tr>\n",
       "<tr>\n",
       "  <th>Prob(Omnibus):</th> <td> 0.000</td> <th>  Jarque-Bera (JB):  </th> <td> 159.402</td>\n",
       "</tr>\n",
       "<tr>\n",
       "  <th>Skew:</th>          <td> 0.950</td> <th>  Prob(JB):          </th> <td>2.43e-35</td>\n",
       "</tr>\n",
       "<tr>\n",
       "  <th>Kurtosis:</th>      <td> 5.368</td> <th>  Cond. No.          </th> <td>    11.1</td>\n",
       "</tr>\n",
       "</table>"
      ],
      "text/plain": [
       "<class 'statsmodels.iolib.summary.Summary'>\n",
       "\"\"\"\n",
       "                            OLS Regression Results                            \n",
       "==============================================================================\n",
       "Dep. Variable:                log_ILI   R-squared:                       0.906\n",
       "Model:                            OLS   Adj. R-squared:                  0.906\n",
       "Method:                 Least Squares   F-statistic:                     1993.\n",
       "Date:                Thu, 28 Jul 2016   Prob (F-statistic):          1.38e-212\n",
       "Time:                        20:09:45   Log-Likelihood:                 147.24\n",
       "No. Observations:                 415   AIC:                            -288.5\n",
       "Df Residuals:                     412   BIC:                            -276.4\n",
       "Df Model:                           2                                         \n",
       "Covariance Type:            nonrobust                                         \n",
       "===============================================================================\n",
       "                  coef    std err          t      P>|t|      [95.0% Conf. Int.]\n",
       "-------------------------------------------------------------------------------\n",
       "Intercept      -0.2406      0.020    -12.321      0.000        -0.279    -0.202\n",
       "Queries         1.2558      0.079     15.876      0.000         1.100     1.411\n",
       "log_ILILag2     0.6557      0.023     29.135      0.000         0.611     0.700\n",
       "==============================================================================\n",
       "Omnibus:                       74.791   Durbin-Watson:                   0.764\n",
       "Prob(Omnibus):                  0.000   Jarque-Bera (JB):              159.402\n",
       "Skew:                           0.950   Prob(JB):                     2.43e-35\n",
       "Kurtosis:                       5.368   Cond. No.                         11.1\n",
       "==============================================================================\n",
       "\n",
       "Warnings:\n",
       "[1] Standard Errors assume that the covariance matrix of the errors is correctly specified.\n",
       "\"\"\""
      ]
     },
     "execution_count": 28,
     "metadata": {},
     "output_type": "execute_result"
    }
   ],
   "source": [
    "FluTrend2 = smf.ols(formula='log_ILI ~ Queries + log_ILILag2',data=FluTrain2).fit()\n",
    "FluTrend2.summary()"
   ]
  },
  {
   "cell_type": "code",
   "execution_count": 30,
   "metadata": {
    "collapsed": false
   },
   "outputs": [
    {
     "data": {
      "text/html": [
       "<div>\n",
       "<table border=\"1\" class=\"dataframe\">\n",
       "  <thead>\n",
       "    <tr style=\"text-align: right;\">\n",
       "      <th></th>\n",
       "      <th>Week</th>\n",
       "      <th>ILI</th>\n",
       "      <th>Queries</th>\n",
       "      <th>log_ILI</th>\n",
       "      <th>ILILag2</th>\n",
       "    </tr>\n",
       "  </thead>\n",
       "  <tbody>\n",
       "    <tr>\n",
       "      <th>0</th>\n",
       "      <td>2012-01-01 - 2012-01-07</td>\n",
       "      <td>1.766707</td>\n",
       "      <td>0.593625</td>\n",
       "      <td>0.569117</td>\n",
       "      <td>NaN</td>\n",
       "    </tr>\n",
       "    <tr>\n",
       "      <th>1</th>\n",
       "      <td>2012-01-08 - 2012-01-14</td>\n",
       "      <td>1.543401</td>\n",
       "      <td>0.499336</td>\n",
       "      <td>0.433988</td>\n",
       "      <td>NaN</td>\n",
       "    </tr>\n",
       "    <tr>\n",
       "      <th>2</th>\n",
       "      <td>2012-01-15 - 2012-01-21</td>\n",
       "      <td>1.647615</td>\n",
       "      <td>0.500664</td>\n",
       "      <td>0.499329</td>\n",
       "      <td>1.766707</td>\n",
       "    </tr>\n",
       "    <tr>\n",
       "      <th>3</th>\n",
       "      <td>2012-01-22 - 2012-01-28</td>\n",
       "      <td>1.684297</td>\n",
       "      <td>0.479416</td>\n",
       "      <td>0.521348</td>\n",
       "      <td>1.543401</td>\n",
       "    </tr>\n",
       "    <tr>\n",
       "      <th>4</th>\n",
       "      <td>2012-01-29 - 2012-02-04</td>\n",
       "      <td>1.863542</td>\n",
       "      <td>0.471448</td>\n",
       "      <td>0.622479</td>\n",
       "      <td>1.647615</td>\n",
       "    </tr>\n",
       "    <tr>\n",
       "      <th>5</th>\n",
       "      <td>2012-02-05 - 2012-02-11</td>\n",
       "      <td>1.864079</td>\n",
       "      <td>0.503320</td>\n",
       "      <td>0.622767</td>\n",
       "      <td>1.684297</td>\n",
       "    </tr>\n",
       "  </tbody>\n",
       "</table>\n",
       "</div>"
      ],
      "text/plain": [
       "                      Week       ILI   Queries   log_ILI   ILILag2\n",
       "0  2012-01-01 - 2012-01-07  1.766707  0.593625  0.569117       NaN\n",
       "1  2012-01-08 - 2012-01-14  1.543401  0.499336  0.433988       NaN\n",
       "2  2012-01-15 - 2012-01-21  1.647615  0.500664  0.499329  1.766707\n",
       "3  2012-01-22 - 2012-01-28  1.684297  0.479416  0.521348  1.543401\n",
       "4  2012-01-29 - 2012-02-04  1.863542  0.471448  0.622479  1.647615\n",
       "5  2012-02-05 - 2012-02-11  1.864079  0.503320  0.622767  1.684297"
      ]
     },
     "execution_count": 30,
     "metadata": {},
     "output_type": "execute_result"
    }
   ],
   "source": [
    "# Now we must modify FluTest to have the same columns:\n",
    "\n",
    "FluTest['ILILag2']=np.nan\n",
    "for x in range(2,len(FluTest)):\n",
    "    FluTest.ix[x,'ILILag2']=FluTest['ILI'][x-2]\n",
    "FluTest[:6]"
   ]
  },
  {
   "cell_type": "code",
   "execution_count": 32,
   "metadata": {
    "collapsed": false
   },
   "outputs": [
    {
     "data": {
      "text/html": [
       "<div>\n",
       "<table border=\"1\" class=\"dataframe\">\n",
       "  <thead>\n",
       "    <tr style=\"text-align: right;\">\n",
       "      <th></th>\n",
       "      <th>Week</th>\n",
       "      <th>ILI</th>\n",
       "      <th>Queries</th>\n",
       "      <th>log_ILI</th>\n",
       "      <th>ILILag2</th>\n",
       "      <th>log_ILILag2</th>\n",
       "    </tr>\n",
       "  </thead>\n",
       "  <tbody>\n",
       "    <tr>\n",
       "      <th>0</th>\n",
       "      <td>2012-01-01 - 2012-01-07</td>\n",
       "      <td>1.766707</td>\n",
       "      <td>0.593625</td>\n",
       "      <td>0.569117</td>\n",
       "      <td>1.852736</td>\n",
       "      <td>0.616663</td>\n",
       "    </tr>\n",
       "    <tr>\n",
       "      <th>1</th>\n",
       "      <td>2012-01-08 - 2012-01-14</td>\n",
       "      <td>1.543401</td>\n",
       "      <td>0.499336</td>\n",
       "      <td>0.433988</td>\n",
       "      <td>2.124130</td>\n",
       "      <td>0.753362</td>\n",
       "    </tr>\n",
       "    <tr>\n",
       "      <th>2</th>\n",
       "      <td>2012-01-15 - 2012-01-21</td>\n",
       "      <td>1.647615</td>\n",
       "      <td>0.500664</td>\n",
       "      <td>0.499329</td>\n",
       "      <td>1.766707</td>\n",
       "      <td>0.569117</td>\n",
       "    </tr>\n",
       "    <tr>\n",
       "      <th>3</th>\n",
       "      <td>2012-01-22 - 2012-01-28</td>\n",
       "      <td>1.684297</td>\n",
       "      <td>0.479416</td>\n",
       "      <td>0.521348</td>\n",
       "      <td>1.543401</td>\n",
       "      <td>0.433988</td>\n",
       "    </tr>\n",
       "    <tr>\n",
       "      <th>4</th>\n",
       "      <td>2012-01-29 - 2012-02-04</td>\n",
       "      <td>1.863542</td>\n",
       "      <td>0.471448</td>\n",
       "      <td>0.622479</td>\n",
       "      <td>1.647615</td>\n",
       "      <td>0.499329</td>\n",
       "    </tr>\n",
       "  </tbody>\n",
       "</table>\n",
       "</div>"
      ],
      "text/plain": [
       "                      Week       ILI   Queries   log_ILI   ILILag2  \\\n",
       "0  2012-01-01 - 2012-01-07  1.766707  0.593625  0.569117  1.852736   \n",
       "1  2012-01-08 - 2012-01-14  1.543401  0.499336  0.433988  2.124130   \n",
       "2  2012-01-15 - 2012-01-21  1.647615  0.500664  0.499329  1.766707   \n",
       "3  2012-01-22 - 2012-01-28  1.684297  0.479416  0.521348  1.543401   \n",
       "4  2012-01-29 - 2012-02-04  1.863542  0.471448  0.622479  1.647615   \n",
       "\n",
       "   log_ILILag2  \n",
       "0     0.616663  \n",
       "1     0.753362  \n",
       "2     0.569117  \n",
       "3     0.433988  \n",
       "4     0.499329  "
      ]
     },
     "execution_count": 32,
     "metadata": {},
     "output_type": "execute_result"
    }
   ],
   "source": [
    "# Take the last two ILI values from Train and put it in Test (since the split was chronological)\n",
    "\n",
    "FluTest.ix[0,'ILILag2'] = FluTrain.ix[(len(FluTrain)-2),'ILI']\n",
    "FluTest.ix[1,'ILILag2'] = FluTrain.ix[(len(FluTrain)-1),'ILI']\n",
    "FluTest['log_ILILag2'] = np.log(FluTest['ILILag2'])\n",
    "FluTest[:5]"
   ]
  },
  {
   "cell_type": "code",
   "execution_count": 33,
   "metadata": {
    "collapsed": false
   },
   "outputs": [
    {
     "name": "stdout",
     "output_type": "stream",
     "text": [
      "** length of FluTest is: 52\n",
      "\n",
      "[ 2.48223609  2.41182911  2.14094133  1.90781698  1.97150421  2.08185523\n",
      "  2.25446142  2.21759508  2.22340651  2.27594855  2.19925404  2.02864278\n",
      "  2.14304551  1.87407834  1.78970606  1.67067225  1.51518736  1.42573209\n",
      "  1.31535673  1.40518286  1.32591934  1.27509916  1.29916457  1.27901346\n",
      "  1.20507521  1.12043074  1.11714401  1.15324474  1.10275554  1.02599825\n",
      "  1.00355003  1.01889821  1.06815075  1.07327643  1.08525771  1.22059186\n",
      "  1.27490064  1.43785958  1.51712663  1.58716503  1.63843224  1.56279488\n",
      "  1.67143269  1.7206903   1.73606894  1.96630043  2.04226036  2.42414062\n",
      "  3.16028257  3.22068038  4.32251275  5.00643775]\n",
      "\n",
      "** length of the prediction is: 52\n"
     ]
    }
   ],
   "source": [
    "PredTest2 = np.exp(FluTrend2.predict(FluTest))\n",
    "\n",
    "print('** length of FluTest is:',len(FluTest))\n",
    "print()\n",
    "\n",
    "print(PredTest2)\n",
    "print()\n",
    "print('** length of the prediction is:',len(PredTest2))"
   ]
  },
  {
   "cell_type": "code",
   "execution_count": 34,
   "metadata": {
    "collapsed": false
   },
   "outputs": [
    {
     "name": "stdout",
     "output_type": "stream",
     "text": [
      "4.50087659104\n",
      "0.294202853587\n"
     ]
    }
   ],
   "source": [
    "# FOR TESTING SET\n",
    "SSE = sum((PredTest2-FluTest['ILI'])**2)\n",
    "print(SSE)\n",
    "RMSE = np.sqrt(SSE/len(FluTest))\n",
    "print(RMSE)"
   ]
  },
  {
   "cell_type": "code",
   "execution_count": null,
   "metadata": {
    "collapsed": true
   },
   "outputs": [],
   "source": []
  }
 ],
 "metadata": {
  "kernelspec": {
   "display_name": "Python 3",
   "language": "python",
   "name": "python3"
  },
  "language_info": {
   "codemirror_mode": {
    "name": "ipython",
    "version": 3
   },
   "file_extension": ".py",
   "mimetype": "text/x-python",
   "name": "python",
   "nbconvert_exporter": "python",
   "pygments_lexer": "ipython3",
   "version": "3.5.1"
  }
 },
 "nbformat": 4,
 "nbformat_minor": 0
}
