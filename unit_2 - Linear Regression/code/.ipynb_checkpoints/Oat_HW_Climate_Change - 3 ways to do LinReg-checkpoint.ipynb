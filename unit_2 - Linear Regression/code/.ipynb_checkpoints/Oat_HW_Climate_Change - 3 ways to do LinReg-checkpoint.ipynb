{
 "cells": [
  {
   "cell_type": "markdown",
   "metadata": {},
   "source": [
    "#### Climate Change\n",
    "\n",
    "There have been many studies documenting that the average global temperature has been increasing over the last century. The consequences of a continued rise in global temperature will be dire. Rising sea levels and an increased frequency of extreme weather events will affect billions of people.\n",
    "\n",
    "In this problem, we will attempt to study the relationship between average global temperature and several other factors.\n",
    "\n",
    "The file climate_change.csv contains climate data from May 1983 to December 2008."
   ]
  },
  {
   "cell_type": "code",
   "execution_count": 2,
   "metadata": {
    "collapsed": true
   },
   "outputs": [],
   "source": [
    "import pandas as pd\n",
    "from pandas import Series, DataFrame\n",
    "import numpy as np\n",
    "import seaborn as sns\n",
    "sns.set_style('whitegrid')\n",
    "\n",
    "from scipy import stats\n",
    "import statsmodels.formula.api as smf\n",
    "import statsmodels.api as sm\n",
    "\n",
    "import matplotlib.pyplot as plt\n",
    "%matplotlib inline\n",
    "\n",
    "# import scikit learn\n",
    "from sklearn import datasets, linear_model, metrics\n",
    "\n",
    "#import pandas_datareader.data as pdweb\n",
    "#from pandas_datareader.data import DataReader\n",
    "#from datetime import datetime\n",
    "#from io import StringIO"
   ]
  },
  {
   "cell_type": "code",
   "execution_count": 3,
   "metadata": {
    "collapsed": false
   },
   "outputs": [
    {
     "data": {
      "text/html": [
       "<div>\n",
       "<table border=\"1\" class=\"dataframe\">\n",
       "  <thead>\n",
       "    <tr style=\"text-align: right;\">\n",
       "      <th></th>\n",
       "      <th>Year</th>\n",
       "      <th>Month</th>\n",
       "      <th>MEI</th>\n",
       "      <th>CO2</th>\n",
       "      <th>CH4</th>\n",
       "      <th>N2O</th>\n",
       "      <th>CFC-11</th>\n",
       "      <th>CFC-12</th>\n",
       "      <th>TSI</th>\n",
       "      <th>Aerosols</th>\n",
       "      <th>Temp</th>\n",
       "    </tr>\n",
       "  </thead>\n",
       "  <tbody>\n",
       "    <tr>\n",
       "      <th>0</th>\n",
       "      <td>1983</td>\n",
       "      <td>5</td>\n",
       "      <td>2.556</td>\n",
       "      <td>345.96</td>\n",
       "      <td>1638.59</td>\n",
       "      <td>303.677</td>\n",
       "      <td>191.324</td>\n",
       "      <td>350.113</td>\n",
       "      <td>1366.1024</td>\n",
       "      <td>0.0863</td>\n",
       "      <td>0.109</td>\n",
       "    </tr>\n",
       "    <tr>\n",
       "      <th>1</th>\n",
       "      <td>1983</td>\n",
       "      <td>6</td>\n",
       "      <td>2.167</td>\n",
       "      <td>345.52</td>\n",
       "      <td>1633.71</td>\n",
       "      <td>303.746</td>\n",
       "      <td>192.057</td>\n",
       "      <td>351.848</td>\n",
       "      <td>1366.1208</td>\n",
       "      <td>0.0794</td>\n",
       "      <td>0.118</td>\n",
       "    </tr>\n",
       "    <tr>\n",
       "      <th>2</th>\n",
       "      <td>1983</td>\n",
       "      <td>7</td>\n",
       "      <td>1.741</td>\n",
       "      <td>344.15</td>\n",
       "      <td>1633.22</td>\n",
       "      <td>303.795</td>\n",
       "      <td>192.818</td>\n",
       "      <td>353.725</td>\n",
       "      <td>1366.2850</td>\n",
       "      <td>0.0731</td>\n",
       "      <td>0.137</td>\n",
       "    </tr>\n",
       "    <tr>\n",
       "      <th>3</th>\n",
       "      <td>1983</td>\n",
       "      <td>8</td>\n",
       "      <td>1.130</td>\n",
       "      <td>342.25</td>\n",
       "      <td>1631.35</td>\n",
       "      <td>303.839</td>\n",
       "      <td>193.602</td>\n",
       "      <td>355.633</td>\n",
       "      <td>1366.4202</td>\n",
       "      <td>0.0673</td>\n",
       "      <td>0.176</td>\n",
       "    </tr>\n",
       "    <tr>\n",
       "      <th>4</th>\n",
       "      <td>1983</td>\n",
       "      <td>9</td>\n",
       "      <td>0.428</td>\n",
       "      <td>340.17</td>\n",
       "      <td>1648.40</td>\n",
       "      <td>303.901</td>\n",
       "      <td>194.392</td>\n",
       "      <td>357.465</td>\n",
       "      <td>1366.2335</td>\n",
       "      <td>0.0619</td>\n",
       "      <td>0.149</td>\n",
       "    </tr>\n",
       "  </tbody>\n",
       "</table>\n",
       "</div>"
      ],
      "text/plain": [
       "   Year  Month    MEI     CO2      CH4      N2O   CFC-11   CFC-12        TSI  \\\n",
       "0  1983      5  2.556  345.96  1638.59  303.677  191.324  350.113  1366.1024   \n",
       "1  1983      6  2.167  345.52  1633.71  303.746  192.057  351.848  1366.1208   \n",
       "2  1983      7  1.741  344.15  1633.22  303.795  192.818  353.725  1366.2850   \n",
       "3  1983      8  1.130  342.25  1631.35  303.839  193.602  355.633  1366.4202   \n",
       "4  1983      9  0.428  340.17  1648.40  303.901  194.392  357.465  1366.2335   \n",
       "\n",
       "   Aerosols   Temp  \n",
       "0    0.0863  0.109  \n",
       "1    0.0794  0.118  \n",
       "2    0.0731  0.137  \n",
       "3    0.0673  0.176  \n",
       "4    0.0619  0.149  "
      ]
     },
     "execution_count": 3,
     "metadata": {},
     "output_type": "execute_result"
    }
   ],
   "source": [
    "alldata = pd.read_csv('../data/climate_change.csv')\n",
    "alldata[:5]"
   ]
  },
  {
   "cell_type": "code",
   "execution_count": 4,
   "metadata": {
    "collapsed": false
   },
   "outputs": [
    {
     "name": "stdout",
     "output_type": "stream",
     "text": [
      "<class 'pandas.core.frame.DataFrame'>\n",
      "RangeIndex: 308 entries, 0 to 307\n",
      "Data columns (total 11 columns):\n",
      "Year        308 non-null int64\n",
      "Month       308 non-null int64\n",
      "MEI         308 non-null float64\n",
      "CO2         308 non-null float64\n",
      "CH4         308 non-null float64\n",
      "N2O         308 non-null float64\n",
      "CFC-11      308 non-null float64\n",
      "CFC-12      308 non-null float64\n",
      "TSI         308 non-null float64\n",
      "Aerosols    308 non-null float64\n",
      "Temp        308 non-null float64\n",
      "dtypes: float64(9), int64(2)\n",
      "memory usage: 26.5 KB\n"
     ]
    }
   ],
   "source": [
    "alldata.info()"
   ]
  },
  {
   "cell_type": "code",
   "execution_count": 5,
   "metadata": {
    "collapsed": false
   },
   "outputs": [
    {
     "data": {
      "text/plain": [
       "array(['Year', 'Month', 'MEI', 'CO2', 'CH4', 'N2O', 'CFC-11', 'CFC-12',\n",
       "       'TSI', 'Aerosols', 'Temp'], dtype=object)"
      ]
     },
     "execution_count": 5,
     "metadata": {},
     "output_type": "execute_result"
    }
   ],
   "source": [
    "alldata.columns.values"
   ]
  },
  {
   "cell_type": "code",
   "execution_count": 6,
   "metadata": {
    "collapsed": true
   },
   "outputs": [],
   "source": [
    "alldata.columns = ['Year', 'Month', 'MEI', 'CO2', 'CH4', 'N2O', 'CFC11xx', 'CFC12xx',\n",
    "       'TSI', 'Aerosols', 'Temp']"
   ]
  },
  {
   "cell_type": "code",
   "execution_count": 7,
   "metadata": {
    "collapsed": false
   },
   "outputs": [
    {
     "name": "stdout",
     "output_type": "stream",
     "text": [
      "<class 'pandas.core.frame.DataFrame'>\n",
      "Int64Index: 284 entries, 0 to 283\n",
      "Data columns (total 11 columns):\n",
      "Year        284 non-null int64\n",
      "Month       284 non-null int64\n",
      "MEI         284 non-null float64\n",
      "CO2         284 non-null float64\n",
      "CH4         284 non-null float64\n",
      "N2O         284 non-null float64\n",
      "CFC11xx     284 non-null float64\n",
      "CFC12xx     284 non-null float64\n",
      "TSI         284 non-null float64\n",
      "Aerosols    284 non-null float64\n",
      "Temp        284 non-null float64\n",
      "dtypes: float64(9), int64(2)\n",
      "memory usage: 26.6 KB\n"
     ]
    }
   ],
   "source": [
    "datatrain = alldata[alldata['Year']<= 2006]\n",
    "datatrain.info()"
   ]
  },
  {
   "cell_type": "markdown",
   "metadata": {},
   "source": [
    "# There are 3 ways to do regression!"
   ]
  },
  {
   "cell_type": "markdown",
   "metadata": {},
   "source": [
    "### (1) Using R-Style Formulas"
   ]
  },
  {
   "cell_type": "code",
   "execution_count": 8,
   "metadata": {
    "collapsed": false,
    "scrolled": true
   },
   "outputs": [
    {
     "data": {
      "text/html": [
       "<table class=\"simpletable\">\n",
       "<caption>OLS Regression Results</caption>\n",
       "<tr>\n",
       "  <th>Dep. Variable:</th>          <td>Temp</td>       <th>  R-squared:         </th> <td>   0.751</td>\n",
       "</tr>\n",
       "<tr>\n",
       "  <th>Model:</th>                   <td>OLS</td>       <th>  Adj. R-squared:    </th> <td>   0.744</td>\n",
       "</tr>\n",
       "<tr>\n",
       "  <th>Method:</th>             <td>Least Squares</td>  <th>  F-statistic:       </th> <td>   103.6</td>\n",
       "</tr>\n",
       "<tr>\n",
       "  <th>Date:</th>             <td>Tue, 19 Jul 2016</td> <th>  Prob (F-statistic):</th> <td>1.94e-78</td>\n",
       "</tr>\n",
       "<tr>\n",
       "  <th>Time:</th>                 <td>21:46:36</td>     <th>  Log-Likelihood:    </th> <td>  280.10</td>\n",
       "</tr>\n",
       "<tr>\n",
       "  <th>No. Observations:</th>      <td>   284</td>      <th>  AIC:               </th> <td>  -542.2</td>\n",
       "</tr>\n",
       "<tr>\n",
       "  <th>Df Residuals:</th>          <td>   275</td>      <th>  BIC:               </th> <td>  -509.4</td>\n",
       "</tr>\n",
       "<tr>\n",
       "  <th>Df Model:</th>              <td>     8</td>      <th>                     </th>     <td> </td>   \n",
       "</tr>\n",
       "<tr>\n",
       "  <th>Covariance Type:</th>      <td>nonrobust</td>    <th>                     </th>     <td> </td>   \n",
       "</tr>\n",
       "</table>\n",
       "<table class=\"simpletable\">\n",
       "<tr>\n",
       "      <td></td>         <th>coef</th>     <th>std err</th>      <th>t</th>      <th>P>|t|</th> <th>[95.0% Conf. Int.]</th> \n",
       "</tr>\n",
       "<tr>\n",
       "  <th>Intercept</th> <td> -124.5943</td> <td>   19.887</td> <td>   -6.265</td> <td> 0.000</td> <td> -163.744   -85.445</td>\n",
       "</tr>\n",
       "<tr>\n",
       "  <th>MEI</th>       <td>    0.0642</td> <td>    0.006</td> <td>    9.923</td> <td> 0.000</td> <td>    0.051     0.077</td>\n",
       "</tr>\n",
       "<tr>\n",
       "  <th>CO2</th>       <td>    0.0065</td> <td>    0.002</td> <td>    2.826</td> <td> 0.005</td> <td>    0.002     0.011</td>\n",
       "</tr>\n",
       "<tr>\n",
       "  <th>CH4</th>       <td>    0.0001</td> <td>    0.001</td> <td>    0.240</td> <td> 0.810</td> <td>   -0.001     0.001</td>\n",
       "</tr>\n",
       "<tr>\n",
       "  <th>N2O</th>       <td>   -0.0165</td> <td>    0.009</td> <td>   -1.930</td> <td> 0.055</td> <td>   -0.033     0.000</td>\n",
       "</tr>\n",
       "<tr>\n",
       "  <th>CFC11xx</th>   <td>   -0.0066</td> <td>    0.002</td> <td>   -4.078</td> <td> 0.000</td> <td>   -0.010    -0.003</td>\n",
       "</tr>\n",
       "<tr>\n",
       "  <th>CFC12xx</th>   <td>    0.0038</td> <td>    0.001</td> <td>    3.757</td> <td> 0.000</td> <td>    0.002     0.006</td>\n",
       "</tr>\n",
       "<tr>\n",
       "  <th>TSI</th>       <td>    0.0931</td> <td>    0.015</td> <td>    6.313</td> <td> 0.000</td> <td>    0.064     0.122</td>\n",
       "</tr>\n",
       "<tr>\n",
       "  <th>Aerosols</th>  <td>   -1.5376</td> <td>    0.213</td> <td>   -7.210</td> <td> 0.000</td> <td>   -1.957    -1.118</td>\n",
       "</tr>\n",
       "</table>\n",
       "<table class=\"simpletable\">\n",
       "<tr>\n",
       "  <th>Omnibus:</th>       <td> 8.740</td> <th>  Durbin-Watson:     </th> <td>   0.956</td>\n",
       "</tr>\n",
       "<tr>\n",
       "  <th>Prob(Omnibus):</th> <td> 0.013</td> <th>  Jarque-Bera (JB):  </th> <td>  10.327</td>\n",
       "</tr>\n",
       "<tr>\n",
       "  <th>Skew:</th>          <td> 0.289</td> <th>  Prob(JB):          </th> <td> 0.00572</td>\n",
       "</tr>\n",
       "<tr>\n",
       "  <th>Kurtosis:</th>      <td> 3.733</td> <th>  Cond. No.          </th> <td>8.53e+06</td>\n",
       "</tr>\n",
       "</table>"
      ],
      "text/plain": [
       "<class 'statsmodels.iolib.summary.Summary'>\n",
       "\"\"\"\n",
       "                            OLS Regression Results                            \n",
       "==============================================================================\n",
       "Dep. Variable:                   Temp   R-squared:                       0.751\n",
       "Model:                            OLS   Adj. R-squared:                  0.744\n",
       "Method:                 Least Squares   F-statistic:                     103.6\n",
       "Date:                Tue, 19 Jul 2016   Prob (F-statistic):           1.94e-78\n",
       "Time:                        21:46:36   Log-Likelihood:                 280.10\n",
       "No. Observations:                 284   AIC:                            -542.2\n",
       "Df Residuals:                     275   BIC:                            -509.4\n",
       "Df Model:                           8                                         \n",
       "Covariance Type:            nonrobust                                         \n",
       "==============================================================================\n",
       "                 coef    std err          t      P>|t|      [95.0% Conf. Int.]\n",
       "------------------------------------------------------------------------------\n",
       "Intercept   -124.5943     19.887     -6.265      0.000      -163.744   -85.445\n",
       "MEI            0.0642      0.006      9.923      0.000         0.051     0.077\n",
       "CO2            0.0065      0.002      2.826      0.005         0.002     0.011\n",
       "CH4            0.0001      0.001      0.240      0.810        -0.001     0.001\n",
       "N2O           -0.0165      0.009     -1.930      0.055        -0.033     0.000\n",
       "CFC11xx       -0.0066      0.002     -4.078      0.000        -0.010    -0.003\n",
       "CFC12xx        0.0038      0.001      3.757      0.000         0.002     0.006\n",
       "TSI            0.0931      0.015      6.313      0.000         0.064     0.122\n",
       "Aerosols      -1.5376      0.213     -7.210      0.000        -1.957    -1.118\n",
       "==============================================================================\n",
       "Omnibus:                        8.740   Durbin-Watson:                   0.956\n",
       "Prob(Omnibus):                  0.013   Jarque-Bera (JB):               10.327\n",
       "Skew:                           0.289   Prob(JB):                      0.00572\n",
       "Kurtosis:                       3.733   Cond. No.                     8.53e+06\n",
       "==============================================================================\n",
       "\n",
       "Warnings:\n",
       "[1] Standard Errors assume that the covariance matrix of the errors is correctly specified.\n",
       "[2] The condition number is large, 8.53e+06. This might indicate that there are\n",
       "strong multicollinearity or other numerical problems.\n",
       "\"\"\""
      ]
     },
     "execution_count": 8,
     "metadata": {},
     "output_type": "execute_result"
    }
   ],
   "source": [
    "# USING R-STYLE FORMULAS\n",
    "# (a constant will be automatically added)\n",
    "\n",
    "LinReg = smf.ols(formula='Temp ~ MEI + CO2 + CH4 + N2O + CFC11xx + CFC12xx + TSI + Aerosols', data=datatrain).fit()\n",
    "LinReg.summary()"
   ]
  },
  {
   "cell_type": "code",
   "execution_count": 9,
   "metadata": {
    "collapsed": false
   },
   "outputs": [
    {
     "name": "stdout",
     "output_type": "stream",
     "text": [
      "AIC is:  -542.202303307\n"
     ]
    }
   ],
   "source": [
    "print ('AIC is: ',2*(8+1) - 2*LinReg.llf)"
   ]
  },
  {
   "cell_type": "markdown",
   "metadata": {},
   "source": [
    "### (2) Using Statsmodel API"
   ]
  },
  {
   "cell_type": "code",
   "execution_count": 10,
   "metadata": {
    "collapsed": false
   },
   "outputs": [
    {
     "data": {
      "text/html": [
       "<table class=\"simpletable\">\n",
       "<caption>OLS Regression Results</caption>\n",
       "<tr>\n",
       "  <th>Dep. Variable:</th>          <td>Temp</td>       <th>  R-squared:         </th> <td>   0.751</td>\n",
       "</tr>\n",
       "<tr>\n",
       "  <th>Model:</th>                   <td>OLS</td>       <th>  Adj. R-squared:    </th> <td>   0.744</td>\n",
       "</tr>\n",
       "<tr>\n",
       "  <th>Method:</th>             <td>Least Squares</td>  <th>  F-statistic:       </th> <td>   103.6</td>\n",
       "</tr>\n",
       "<tr>\n",
       "  <th>Date:</th>             <td>Tue, 19 Jul 2016</td> <th>  Prob (F-statistic):</th> <td>1.94e-78</td>\n",
       "</tr>\n",
       "<tr>\n",
       "  <th>Time:</th>                 <td>21:46:36</td>     <th>  Log-Likelihood:    </th> <td>  280.10</td>\n",
       "</tr>\n",
       "<tr>\n",
       "  <th>No. Observations:</th>      <td>   284</td>      <th>  AIC:               </th> <td>  -542.2</td>\n",
       "</tr>\n",
       "<tr>\n",
       "  <th>Df Residuals:</th>          <td>   275</td>      <th>  BIC:               </th> <td>  -509.4</td>\n",
       "</tr>\n",
       "<tr>\n",
       "  <th>Df Model:</th>              <td>     8</td>      <th>                     </th>     <td> </td>   \n",
       "</tr>\n",
       "<tr>\n",
       "  <th>Covariance Type:</th>      <td>nonrobust</td>    <th>                     </th>     <td> </td>   \n",
       "</tr>\n",
       "</table>\n",
       "<table class=\"simpletable\">\n",
       "<tr>\n",
       "      <td></td>        <th>coef</th>     <th>std err</th>      <th>t</th>      <th>P>|t|</th> <th>[95.0% Conf. Int.]</th> \n",
       "</tr>\n",
       "<tr>\n",
       "  <th>const</th>    <td> -124.5943</td> <td>   19.887</td> <td>   -6.265</td> <td> 0.000</td> <td> -163.744   -85.445</td>\n",
       "</tr>\n",
       "<tr>\n",
       "  <th>MEI</th>      <td>    0.0642</td> <td>    0.006</td> <td>    9.923</td> <td> 0.000</td> <td>    0.051     0.077</td>\n",
       "</tr>\n",
       "<tr>\n",
       "  <th>CO2</th>      <td>    0.0065</td> <td>    0.002</td> <td>    2.826</td> <td> 0.005</td> <td>    0.002     0.011</td>\n",
       "</tr>\n",
       "<tr>\n",
       "  <th>CH4</th>      <td>    0.0001</td> <td>    0.001</td> <td>    0.240</td> <td> 0.810</td> <td>   -0.001     0.001</td>\n",
       "</tr>\n",
       "<tr>\n",
       "  <th>N2O</th>      <td>   -0.0165</td> <td>    0.009</td> <td>   -1.930</td> <td> 0.055</td> <td>   -0.033     0.000</td>\n",
       "</tr>\n",
       "<tr>\n",
       "  <th>CFC11xx</th>  <td>   -0.0066</td> <td>    0.002</td> <td>   -4.078</td> <td> 0.000</td> <td>   -0.010    -0.003</td>\n",
       "</tr>\n",
       "<tr>\n",
       "  <th>CFC12xx</th>  <td>    0.0038</td> <td>    0.001</td> <td>    3.757</td> <td> 0.000</td> <td>    0.002     0.006</td>\n",
       "</tr>\n",
       "<tr>\n",
       "  <th>TSI</th>      <td>    0.0931</td> <td>    0.015</td> <td>    6.313</td> <td> 0.000</td> <td>    0.064     0.122</td>\n",
       "</tr>\n",
       "<tr>\n",
       "  <th>Aerosols</th> <td>   -1.5376</td> <td>    0.213</td> <td>   -7.210</td> <td> 0.000</td> <td>   -1.957    -1.118</td>\n",
       "</tr>\n",
       "</table>\n",
       "<table class=\"simpletable\">\n",
       "<tr>\n",
       "  <th>Omnibus:</th>       <td> 8.740</td> <th>  Durbin-Watson:     </th> <td>   0.956</td>\n",
       "</tr>\n",
       "<tr>\n",
       "  <th>Prob(Omnibus):</th> <td> 0.013</td> <th>  Jarque-Bera (JB):  </th> <td>  10.327</td>\n",
       "</tr>\n",
       "<tr>\n",
       "  <th>Skew:</th>          <td> 0.289</td> <th>  Prob(JB):          </th> <td> 0.00572</td>\n",
       "</tr>\n",
       "<tr>\n",
       "  <th>Kurtosis:</th>      <td> 3.733</td> <th>  Cond. No.          </th> <td>8.53e+06</td>\n",
       "</tr>\n",
       "</table>"
      ],
      "text/plain": [
       "<class 'statsmodels.iolib.summary.Summary'>\n",
       "\"\"\"\n",
       "                            OLS Regression Results                            \n",
       "==============================================================================\n",
       "Dep. Variable:                   Temp   R-squared:                       0.751\n",
       "Model:                            OLS   Adj. R-squared:                  0.744\n",
       "Method:                 Least Squares   F-statistic:                     103.6\n",
       "Date:                Tue, 19 Jul 2016   Prob (F-statistic):           1.94e-78\n",
       "Time:                        21:46:36   Log-Likelihood:                 280.10\n",
       "No. Observations:                 284   AIC:                            -542.2\n",
       "Df Residuals:                     275   BIC:                            -509.4\n",
       "Df Model:                           8                                         \n",
       "Covariance Type:            nonrobust                                         \n",
       "==============================================================================\n",
       "                 coef    std err          t      P>|t|      [95.0% Conf. Int.]\n",
       "------------------------------------------------------------------------------\n",
       "const       -124.5943     19.887     -6.265      0.000      -163.744   -85.445\n",
       "MEI            0.0642      0.006      9.923      0.000         0.051     0.077\n",
       "CO2            0.0065      0.002      2.826      0.005         0.002     0.011\n",
       "CH4            0.0001      0.001      0.240      0.810        -0.001     0.001\n",
       "N2O           -0.0165      0.009     -1.930      0.055        -0.033     0.000\n",
       "CFC11xx       -0.0066      0.002     -4.078      0.000        -0.010    -0.003\n",
       "CFC12xx        0.0038      0.001      3.757      0.000         0.002     0.006\n",
       "TSI            0.0931      0.015      6.313      0.000         0.064     0.122\n",
       "Aerosols      -1.5376      0.213     -7.210      0.000        -1.957    -1.118\n",
       "==============================================================================\n",
       "Omnibus:                        8.740   Durbin-Watson:                   0.956\n",
       "Prob(Omnibus):                  0.013   Jarque-Bera (JB):               10.327\n",
       "Skew:                           0.289   Prob(JB):                      0.00572\n",
       "Kurtosis:                       3.733   Cond. No.                     8.53e+06\n",
       "==============================================================================\n",
       "\n",
       "Warnings:\n",
       "[1] Standard Errors assume that the covariance matrix of the errors is correctly specified.\n",
       "[2] The condition number is large, 8.53e+06. This might indicate that there are\n",
       "strong multicollinearity or other numerical problems.\n",
       "\"\"\""
      ]
     },
     "execution_count": 10,
     "metadata": {},
     "output_type": "execute_result"
    }
   ],
   "source": [
    "# USING STATSMODEL API\n",
    "# Need to add a constant\n",
    "\n",
    "y = datatrain.loc[:,['Temp']]\n",
    "X = datatrain.loc[:,['MEI','CO2','CH4','N2O','CFC11xx','CFC12xx','TSI','Aerosols']]\n",
    "X = sm.add_constant(X)\n",
    "\n",
    "LinReg2 = sm.OLS(y, X).fit()\n",
    "LinReg2.summary()"
   ]
  },
  {
   "cell_type": "code",
   "execution_count": 11,
   "metadata": {
    "collapsed": false
   },
   "outputs": [
    {
     "name": "stdout",
     "output_type": "stream",
     "text": [
      "AIC is:  -542.202303307\n"
     ]
    }
   ],
   "source": [
    "print ('AIC is: ',2*(8+1) - 2*LinReg2.llf)"
   ]
  },
  {
   "cell_type": "markdown",
   "metadata": {},
   "source": [
    "### (3) Using Scikit Learn LinearRegression Object"
   ]
  },
  {
   "cell_type": "code",
   "execution_count": 12,
   "metadata": {
    "collapsed": false
   },
   "outputs": [
    {
     "name": "stdout",
     "output_type": "stream",
     "text": [
      "Coefficients are:   [  6.42053134e-02   6.45735927e-03   1.24041896e-04  -1.65280033e-02\n",
      "  -6.63048889e-03   3.80810324e-03   9.31410835e-02  -1.53761324e+00]\n",
      "\n",
      "Constant/intercept is:   -124.594260401\n",
      "\n",
      "R-squared is:   0.750893277052\n",
      "\n",
      "Get params for this model:  {'copy_X': True, 'n_jobs': 1, 'normalize': False, 'fit_intercept': True}\n"
     ]
    }
   ],
   "source": [
    "# USING LINEAR REGRESSION OBJECT\n",
    "# (no quick way to show p-values)\n",
    "\n",
    "from sklearn.linear_model import LinearRegression\n",
    "\n",
    "y = datatrain['Temp']\n",
    "X = datatrain.loc[:,['MEI','CO2','CH4','N2O','CFC11xx','CFC12xx','TSI','Aerosols']]\n",
    "\n",
    "LinReg3 = LinearRegression()\n",
    "LinReg3.fit(X, y)\n",
    "print ('Coefficients are:  ',LinReg3.coef_)\n",
    "print()\n",
    "print ('Constant/intercept is:  ',LinReg3.intercept_)\n",
    "print()\n",
    "print ('R-squared is:  ', LinReg3.score(X,y))\n",
    "print()\n",
    "print ('Get params for this model: ',LinReg3.get_params())"
   ]
  },
  {
   "cell_type": "code",
   "execution_count": null,
   "metadata": {
    "collapsed": true
   },
   "outputs": [],
   "source": []
  },
  {
   "cell_type": "markdown",
   "metadata": {},
   "source": [
    "# Now look for Multicollinearity.  Which predictors are highly correlated?"
   ]
  },
  {
   "cell_type": "code",
   "execution_count": 13,
   "metadata": {
    "collapsed": false,
    "scrolled": true
   },
   "outputs": [
    {
     "data": {
      "text/html": [
       "<div>\n",
       "<table border=\"1\" class=\"dataframe\">\n",
       "  <thead>\n",
       "    <tr style=\"text-align: right;\">\n",
       "      <th></th>\n",
       "      <th>Year</th>\n",
       "      <th>Month</th>\n",
       "      <th>MEI</th>\n",
       "      <th>CO2</th>\n",
       "      <th>CH4</th>\n",
       "      <th>N2O</th>\n",
       "      <th>CFC11xx</th>\n",
       "      <th>CFC12xx</th>\n",
       "      <th>TSI</th>\n",
       "      <th>Aerosols</th>\n",
       "      <th>Temp</th>\n",
       "    </tr>\n",
       "  </thead>\n",
       "  <tbody>\n",
       "    <tr>\n",
       "      <th>Year</th>\n",
       "      <td>1.000000</td>\n",
       "      <td>-0.027942</td>\n",
       "      <td>-0.036988</td>\n",
       "      <td>0.982749</td>\n",
       "      <td>0.915659</td>\n",
       "      <td>0.993845</td>\n",
       "      <td>0.569106</td>\n",
       "      <td>0.897012</td>\n",
       "      <td>0.170302</td>\n",
       "      <td>-0.345247</td>\n",
       "      <td>0.786797</td>\n",
       "    </tr>\n",
       "    <tr>\n",
       "      <th>Month</th>\n",
       "      <td>-0.027942</td>\n",
       "      <td>1.000000</td>\n",
       "      <td>0.000885</td>\n",
       "      <td>-0.106732</td>\n",
       "      <td>0.018569</td>\n",
       "      <td>0.013632</td>\n",
       "      <td>-0.013111</td>\n",
       "      <td>0.000675</td>\n",
       "      <td>-0.034606</td>\n",
       "      <td>0.014890</td>\n",
       "      <td>-0.099857</td>\n",
       "    </tr>\n",
       "    <tr>\n",
       "      <th>MEI</th>\n",
       "      <td>-0.036988</td>\n",
       "      <td>0.000885</td>\n",
       "      <td>1.000000</td>\n",
       "      <td>-0.041147</td>\n",
       "      <td>-0.033419</td>\n",
       "      <td>-0.050820</td>\n",
       "      <td>0.069000</td>\n",
       "      <td>0.008286</td>\n",
       "      <td>-0.154492</td>\n",
       "      <td>0.340238</td>\n",
       "      <td>0.172471</td>\n",
       "    </tr>\n",
       "    <tr>\n",
       "      <th>CO2</th>\n",
       "      <td>0.982749</td>\n",
       "      <td>-0.106732</td>\n",
       "      <td>-0.041147</td>\n",
       "      <td>1.000000</td>\n",
       "      <td>0.877280</td>\n",
       "      <td>0.976720</td>\n",
       "      <td>0.514060</td>\n",
       "      <td>0.852690</td>\n",
       "      <td>0.177429</td>\n",
       "      <td>-0.356155</td>\n",
       "      <td>0.788529</td>\n",
       "    </tr>\n",
       "    <tr>\n",
       "      <th>CH4</th>\n",
       "      <td>0.915659</td>\n",
       "      <td>0.018569</td>\n",
       "      <td>-0.033419</td>\n",
       "      <td>0.877280</td>\n",
       "      <td>1.000000</td>\n",
       "      <td>0.899839</td>\n",
       "      <td>0.779904</td>\n",
       "      <td>0.963616</td>\n",
       "      <td>0.245528</td>\n",
       "      <td>-0.267809</td>\n",
       "      <td>0.703255</td>\n",
       "    </tr>\n",
       "    <tr>\n",
       "      <th>N2O</th>\n",
       "      <td>0.993845</td>\n",
       "      <td>0.013632</td>\n",
       "      <td>-0.050820</td>\n",
       "      <td>0.976720</td>\n",
       "      <td>0.899839</td>\n",
       "      <td>1.000000</td>\n",
       "      <td>0.522477</td>\n",
       "      <td>0.867931</td>\n",
       "      <td>0.199757</td>\n",
       "      <td>-0.337055</td>\n",
       "      <td>0.778639</td>\n",
       "    </tr>\n",
       "    <tr>\n",
       "      <th>CFC11xx</th>\n",
       "      <td>0.569106</td>\n",
       "      <td>-0.013111</td>\n",
       "      <td>0.069000</td>\n",
       "      <td>0.514060</td>\n",
       "      <td>0.779904</td>\n",
       "      <td>0.522477</td>\n",
       "      <td>1.000000</td>\n",
       "      <td>0.868985</td>\n",
       "      <td>0.272046</td>\n",
       "      <td>-0.043921</td>\n",
       "      <td>0.407710</td>\n",
       "    </tr>\n",
       "    <tr>\n",
       "      <th>CFC12xx</th>\n",
       "      <td>0.897012</td>\n",
       "      <td>0.000675</td>\n",
       "      <td>0.008286</td>\n",
       "      <td>0.852690</td>\n",
       "      <td>0.963616</td>\n",
       "      <td>0.867931</td>\n",
       "      <td>0.868985</td>\n",
       "      <td>1.000000</td>\n",
       "      <td>0.255303</td>\n",
       "      <td>-0.225131</td>\n",
       "      <td>0.687558</td>\n",
       "    </tr>\n",
       "    <tr>\n",
       "      <th>TSI</th>\n",
       "      <td>0.170302</td>\n",
       "      <td>-0.034606</td>\n",
       "      <td>-0.154492</td>\n",
       "      <td>0.177429</td>\n",
       "      <td>0.245528</td>\n",
       "      <td>0.199757</td>\n",
       "      <td>0.272046</td>\n",
       "      <td>0.255303</td>\n",
       "      <td>1.000000</td>\n",
       "      <td>0.052117</td>\n",
       "      <td>0.243383</td>\n",
       "    </tr>\n",
       "    <tr>\n",
       "      <th>Aerosols</th>\n",
       "      <td>-0.345247</td>\n",
       "      <td>0.014890</td>\n",
       "      <td>0.340238</td>\n",
       "      <td>-0.356155</td>\n",
       "      <td>-0.267809</td>\n",
       "      <td>-0.337055</td>\n",
       "      <td>-0.043921</td>\n",
       "      <td>-0.225131</td>\n",
       "      <td>0.052117</td>\n",
       "      <td>1.000000</td>\n",
       "      <td>-0.384914</td>\n",
       "    </tr>\n",
       "    <tr>\n",
       "      <th>Temp</th>\n",
       "      <td>0.786797</td>\n",
       "      <td>-0.099857</td>\n",
       "      <td>0.172471</td>\n",
       "      <td>0.788529</td>\n",
       "      <td>0.703255</td>\n",
       "      <td>0.778639</td>\n",
       "      <td>0.407710</td>\n",
       "      <td>0.687558</td>\n",
       "      <td>0.243383</td>\n",
       "      <td>-0.384914</td>\n",
       "      <td>1.000000</td>\n",
       "    </tr>\n",
       "  </tbody>\n",
       "</table>\n",
       "</div>"
      ],
      "text/plain": [
       "              Year     Month       MEI       CO2       CH4       N2O  \\\n",
       "Year      1.000000 -0.027942 -0.036988  0.982749  0.915659  0.993845   \n",
       "Month    -0.027942  1.000000  0.000885 -0.106732  0.018569  0.013632   \n",
       "MEI      -0.036988  0.000885  1.000000 -0.041147 -0.033419 -0.050820   \n",
       "CO2       0.982749 -0.106732 -0.041147  1.000000  0.877280  0.976720   \n",
       "CH4       0.915659  0.018569 -0.033419  0.877280  1.000000  0.899839   \n",
       "N2O       0.993845  0.013632 -0.050820  0.976720  0.899839  1.000000   \n",
       "CFC11xx   0.569106 -0.013111  0.069000  0.514060  0.779904  0.522477   \n",
       "CFC12xx   0.897012  0.000675  0.008286  0.852690  0.963616  0.867931   \n",
       "TSI       0.170302 -0.034606 -0.154492  0.177429  0.245528  0.199757   \n",
       "Aerosols -0.345247  0.014890  0.340238 -0.356155 -0.267809 -0.337055   \n",
       "Temp      0.786797 -0.099857  0.172471  0.788529  0.703255  0.778639   \n",
       "\n",
       "           CFC11xx   CFC12xx       TSI  Aerosols      Temp  \n",
       "Year      0.569106  0.897012  0.170302 -0.345247  0.786797  \n",
       "Month    -0.013111  0.000675 -0.034606  0.014890 -0.099857  \n",
       "MEI       0.069000  0.008286 -0.154492  0.340238  0.172471  \n",
       "CO2       0.514060  0.852690  0.177429 -0.356155  0.788529  \n",
       "CH4       0.779904  0.963616  0.245528 -0.267809  0.703255  \n",
       "N2O       0.522477  0.867931  0.199757 -0.337055  0.778639  \n",
       "CFC11xx   1.000000  0.868985  0.272046 -0.043921  0.407710  \n",
       "CFC12xx   0.868985  1.000000  0.255303 -0.225131  0.687558  \n",
       "TSI       0.272046  0.255303  1.000000  0.052117  0.243383  \n",
       "Aerosols -0.043921 -0.225131  0.052117  1.000000 -0.384914  \n",
       "Temp      0.407710  0.687558  0.243383 -0.384914  1.000000  "
      ]
     },
     "execution_count": 13,
     "metadata": {},
     "output_type": "execute_result"
    }
   ],
   "source": [
    "# Which variables are highly correlated with N2O?\n",
    "datatrain.corr()"
   ]
  },
  {
   "cell_type": "code",
   "execution_count": 14,
   "metadata": {
    "collapsed": false
   },
   "outputs": [
    {
     "name": "stderr",
     "output_type": "stream",
     "text": [
      "C:\\Anaconda3\\lib\\site-packages\\seaborn\\linearmodels.py:1285: UserWarning: The `corrplot` function has been deprecated in favor of `heatmap` and will be removed in a forthcoming release. Please update your code.\n",
      "  warnings.warn((\"The `corrplot` function has been deprecated in favor \"\n",
      "C:\\Anaconda3\\lib\\site-packages\\seaborn\\linearmodels.py:1351: UserWarning: The `symmatplot` function has been deprecated in favor of `heatmap` and will be removed in a forthcoming release. Please update your code.\n",
      "  warnings.warn((\"The `symmatplot` function has been deprecated in favor \"\n"
     ]
    },
    {
     "data": {
      "text/plain": [
       "<matplotlib.axes._subplots.AxesSubplot at 0xb389438>"
      ]
     },
     "execution_count": 14,
     "metadata": {},
     "output_type": "execute_result"
    },
    {
     "data": {
      "image/png": "[encoded data removed]",
      "text/plain": [
       "<matplotlib.figure.Figure at 0xb333ef0>"
      ]
     },
     "metadata": {},
     "output_type": "display_data"
    }
   ],
   "source": [
    "# Try sns.corrplot - it's easier to look at.\n",
    "f, ax = plt.subplots(figsize=(10, 10))\n",
    "sns.corrplot(datatrain, ax=ax)"
   ]
  },
  {
   "cell_type": "code",
   "execution_count": 15,
   "metadata": {
    "collapsed": false
   },
   "outputs": [
    {
     "data": {
      "image/png": "[encoded data removed]",
      "text/plain": [
       "<matplotlib.figure.Figure at 0xbfb61d0>"
      ]
     },
     "metadata": {},
     "output_type": "display_data"
    }
   ],
   "source": [
    "# That worked, but it's a deprecated solution. Let's try and recreate that with sns.heatmap instead:\n",
    "corr = datatrain.corr()\n",
    "f, ax = plt.subplots(figsize=(12,12))\n",
    "ax.set_title(\"Owen's Pairwise Correlations\")\n",
    "\n",
    "#Set up mask for the diagonal cells\n",
    "mask = np.zeros_like(corr, dtype=np.bool)\n",
    "mask[np.triu_indices_from(mask)] = True\n",
    "mask[np.triu_indices(len(corr),1)]=False\n",
    "\n",
    "#Set up color palette\n",
    "cmap = sns.diverging_palette(220, 10, as_cmap=True)\n",
    "\n",
    "with sns.axes_style(\"white\"):\n",
    "    ax = sns.heatmap(corr, linewidths=.5, cmap=cmap, annot=True, mask=mask, square=True)"
   ]
  },
  {
   "cell_type": "code",
   "execution_count": 16,
   "metadata": {
    "collapsed": false
   },
   "outputs": [
    {
     "data": {
      "text/html": [
       "<table class=\"simpletable\">\n",
       "<caption>OLS Regression Results</caption>\n",
       "<tr>\n",
       "  <th>Dep. Variable:</th>          <td>Temp</td>       <th>  R-squared:         </th> <td>   0.726</td>\n",
       "</tr>\n",
       "<tr>\n",
       "  <th>Model:</th>                   <td>OLS</td>       <th>  Adj. R-squared:    </th> <td>   0.722</td>\n",
       "</tr>\n",
       "<tr>\n",
       "  <th>Method:</th>             <td>Least Squares</td>  <th>  F-statistic:       </th> <td>   184.9</td>\n",
       "</tr>\n",
       "<tr>\n",
       "  <th>Date:</th>             <td>Tue, 19 Jul 2016</td> <th>  Prob (F-statistic):</th> <td>3.52e-77</td>\n",
       "</tr>\n",
       "<tr>\n",
       "  <th>Time:</th>                 <td>21:46:37</td>     <th>  Log-Likelihood:    </th> <td>  266.64</td>\n",
       "</tr>\n",
       "<tr>\n",
       "  <th>No. Observations:</th>      <td>   284</td>      <th>  AIC:               </th> <td>  -523.3</td>\n",
       "</tr>\n",
       "<tr>\n",
       "  <th>Df Residuals:</th>          <td>   279</td>      <th>  BIC:               </th> <td>  -505.0</td>\n",
       "</tr>\n",
       "<tr>\n",
       "  <th>Df Model:</th>              <td>     4</td>      <th>                     </th>     <td> </td>   \n",
       "</tr>\n",
       "<tr>\n",
       "  <th>Covariance Type:</th>      <td>nonrobust</td>    <th>                     </th>     <td> </td>   \n",
       "</tr>\n",
       "</table>\n",
       "<table class=\"simpletable\">\n",
       "<tr>\n",
       "      <td></td>         <th>coef</th>     <th>std err</th>      <th>t</th>      <th>P>|t|</th> <th>[95.0% Conf. Int.]</th> \n",
       "</tr>\n",
       "<tr>\n",
       "  <th>Intercept</th> <td> -116.2269</td> <td>   20.223</td> <td>   -5.747</td> <td> 0.000</td> <td> -156.036   -76.418</td>\n",
       "</tr>\n",
       "<tr>\n",
       "  <th>MEI</th>       <td>    0.0642</td> <td>    0.007</td> <td>    9.649</td> <td> 0.000</td> <td>    0.051     0.077</td>\n",
       "</tr>\n",
       "<tr>\n",
       "  <th>TSI</th>       <td>    0.0795</td> <td>    0.015</td> <td>    5.344</td> <td> 0.000</td> <td>    0.050     0.109</td>\n",
       "</tr>\n",
       "<tr>\n",
       "  <th>N2O</th>       <td>    0.0253</td> <td>    0.001</td> <td>   19.307</td> <td> 0.000</td> <td>    0.023     0.028</td>\n",
       "</tr>\n",
       "<tr>\n",
       "  <th>Aerosols</th>  <td>   -1.7017</td> <td>    0.218</td> <td>   -7.806</td> <td> 0.000</td> <td>   -2.131    -1.273</td>\n",
       "</tr>\n",
       "</table>\n",
       "<table class=\"simpletable\">\n",
       "<tr>\n",
       "  <th>Omnibus:</th>       <td>10.908</td> <th>  Durbin-Watson:     </th> <td>   0.842</td>\n",
       "</tr>\n",
       "<tr>\n",
       "  <th>Prob(Omnibus):</th> <td> 0.004</td> <th>  Jarque-Bera (JB):  </th> <td>  15.097</td>\n",
       "</tr>\n",
       "<tr>\n",
       "  <th>Skew:</th>          <td> 0.289</td> <th>  Prob(JB):          </th> <td>0.000527</td>\n",
       "</tr>\n",
       "<tr>\n",
       "  <th>Kurtosis:</th>      <td> 3.971</td> <th>  Cond. No.          </th> <td>5.00e+06</td>\n",
       "</tr>\n",
       "</table>"
      ],
      "text/plain": [
       "<class 'statsmodels.iolib.summary.Summary'>\n",
       "\"\"\"\n",
       "                            OLS Regression Results                            \n",
       "==============================================================================\n",
       "Dep. Variable:                   Temp   R-squared:                       0.726\n",
       "Model:                            OLS   Adj. R-squared:                  0.722\n",
       "Method:                 Least Squares   F-statistic:                     184.9\n",
       "Date:                Tue, 19 Jul 2016   Prob (F-statistic):           3.52e-77\n",
       "Time:                        21:46:37   Log-Likelihood:                 266.64\n",
       "No. Observations:                 284   AIC:                            -523.3\n",
       "Df Residuals:                     279   BIC:                            -505.0\n",
       "Df Model:                           4                                         \n",
       "Covariance Type:            nonrobust                                         \n",
       "==============================================================================\n",
       "                 coef    std err          t      P>|t|      [95.0% Conf. Int.]\n",
       "------------------------------------------------------------------------------\n",
       "Intercept   -116.2269     20.223     -5.747      0.000      -156.036   -76.418\n",
       "MEI            0.0642      0.007      9.649      0.000         0.051     0.077\n",
       "TSI            0.0795      0.015      5.344      0.000         0.050     0.109\n",
       "N2O            0.0253      0.001     19.307      0.000         0.023     0.028\n",
       "Aerosols      -1.7017      0.218     -7.806      0.000        -2.131    -1.273\n",
       "==============================================================================\n",
       "Omnibus:                       10.908   Durbin-Watson:                   0.842\n",
       "Prob(Omnibus):                  0.004   Jarque-Bera (JB):               15.097\n",
       "Skew:                           0.289   Prob(JB):                     0.000527\n",
       "Kurtosis:                       3.971   Cond. No.                     5.00e+06\n",
       "==============================================================================\n",
       "\n",
       "Warnings:\n",
       "[1] Standard Errors assume that the covariance matrix of the errors is correctly specified.\n",
       "[2] The condition number is large,  5e+06. This might indicate that there are\n",
       "strong multicollinearity or other numerical problems.\n",
       "\"\"\""
      ]
     },
     "execution_count": 16,
     "metadata": {},
     "output_type": "execute_result"
    }
   ],
   "source": [
    "# Make a new regression model without the highly-correlated predictors (no multicollinearity).\n",
    "\n",
    "LinRegNew = smf.ols(formula='Temp ~ MEI + TSI + N2O + Aerosols', data=datatrain).fit()\n",
    "LinRegNew.summary()"
   ]
  },
  {
   "cell_type": "markdown",
   "metadata": {
    "collapsed": true
   },
   "source": [
    "# Now automatically choose the best set of predictors ('Step' function in R)"
   ]
  },
  {
   "cell_type": "markdown",
   "metadata": {},
   "source": [
    "### Version 1"
   ]
  },
  {
   "cell_type": "code",
   "execution_count": 29,
   "metadata": {
    "collapsed": false
   },
   "outputs": [
    {
     "data": {
      "text/plain": [
       "('const', 'MEI', 'CO2', 'CH4', 'N2O', 'CFC11xx', 'CFC12xx', 'TSI', 'Aerosols')"
      ]
     },
     "execution_count": 29,
     "metadata": {},
     "output_type": "execute_result"
    }
   ],
   "source": [
    "import itertools\n",
    "\n",
    "AICs = {}\n",
    "col = ['const','MEI','CO2','CH4','N2O','CFC11xx','CFC12xx','TSI','Aerosols']\n",
    "X = datatrain.loc[:,['MEI','CO2','CH4','N2O','CFC11xx','CFC12xx','TSI','Aerosols']]\n",
    "X = sm.add_constant(X)\n",
    "y = datatrain.loc[:,['Temp']]\n",
    "\n",
    "\n",
    "for k in range(1,len(X)+1):\n",
    "    for variables in itertools.combinations(col, k):\n",
    "#         print(variables)\n",
    "        x = X.loc[:,list(variables)]\n",
    "        res = sm.OLS(y, x).fit()\n",
    "        AICs[variables] = 2*(k+1) - 2*res.llf # llf is likelihood function\n",
    "\n",
    "pd.Series(AICs).idxmin()"
   ]
  },
  {
   "cell_type": "code",
   "execution_count": 30,
   "metadata": {
    "collapsed": false,
    "scrolled": true
   },
   "outputs": [
    {
     "data": {
      "text/html": [
       "<div>\n",
       "<table border=\"1\" class=\"dataframe\">\n",
       "  <thead>\n",
       "    <tr style=\"text-align: right;\">\n",
       "      <th></th>\n",
       "      <th>AIC</th>\n",
       "    </tr>\n",
       "  </thead>\n",
       "  <tbody>\n",
       "    <tr>\n",
       "      <th>(CO2, CH4, CFC12xx)</th>\n",
       "      <td>-406.430363</td>\n",
       "    </tr>\n",
       "    <tr>\n",
       "      <th>(const, CO2, CH4, N2O, CFC11xx, CFC12xx, Aerosols)</th>\n",
       "      <td>-443.868666</td>\n",
       "    </tr>\n",
       "    <tr>\n",
       "      <th>(CH4, CFC11xx, CFC12xx, Aerosols)</th>\n",
       "      <td>-441.604708</td>\n",
       "    </tr>\n",
       "    <tr>\n",
       "      <th>(MEI, CO2, CH4, N2O, CFC11xx, TSI, Aerosols)</th>\n",
       "      <td>-495.247491</td>\n",
       "    </tr>\n",
       "    <tr>\n",
       "      <th>(const, MEI, CO2, CFC11xx, CFC12xx, Aerosols)</th>\n",
       "      <td>-506.968993</td>\n",
       "    </tr>\n",
       "  </tbody>\n",
       "</table>\n",
       "</div>"
      ],
      "text/plain": [
       "                                                           AIC\n",
       "(CO2, CH4, CFC12xx)                                -406.430363\n",
       "(const, CO2, CH4, N2O, CFC11xx, CFC12xx, Aerosols) -443.868666\n",
       "(CH4, CFC11xx, CFC12xx, Aerosols)                  -441.604708\n",
       "(MEI, CO2, CH4, N2O, CFC11xx, TSI, Aerosols)       -495.247491\n",
       "(const, MEI, CO2, CFC11xx, CFC12xx, Aerosols)      -506.968993"
      ]
     },
     "execution_count": 30,
     "metadata": {},
     "output_type": "execute_result"
    }
   ],
   "source": [
    "AIC_scores = pd.DataFrame.from_dict(AICs, orient='index')\n",
    "AIC_scores.columns = ['AIC']\n",
    "AIC_scores.head()"
   ]
  },
  {
   "cell_type": "code",
   "execution_count": 31,
   "metadata": {
    "collapsed": false,
    "scrolled": true
   },
   "outputs": [
    {
     "data": {
      "text/html": [
       "<div>\n",
       "<table border=\"1\" class=\"dataframe\">\n",
       "  <thead>\n",
       "    <tr style=\"text-align: right;\">\n",
       "      <th></th>\n",
       "      <th>AIC</th>\n",
       "    </tr>\n",
       "  </thead>\n",
       "  <tbody>\n",
       "    <tr>\n",
       "      <th>(const, MEI, CO2, N2O, CFC11xx, CFC12xx, TSI, Aerosols)</th>\n",
       "      <td>-542.142592</td>\n",
       "    </tr>\n",
       "  </tbody>\n",
       "</table>\n",
       "</div>"
      ],
      "text/plain": [
       "                                                           AIC\n",
       "(const, MEI, CO2, N2O, CFC11xx, CFC12xx, TSI, A... -542.142592"
      ]
     },
     "execution_count": 31,
     "metadata": {},
     "output_type": "execute_result"
    }
   ],
   "source": [
    "AIC_scores[AIC_scores['AIC'] == AIC_scores['AIC'].min()]"
   ]
  },
  {
   "cell_type": "code",
   "execution_count": null,
   "metadata": {
    "collapsed": true
   },
   "outputs": [],
   "source": [
    "# Looks like AIC doesn't account for multicollinearity?"
   ]
  },
  {
   "cell_type": "markdown",
   "metadata": {},
   "source": [
    "### Version 2"
   ]
  },
  {
   "cell_type": "code",
   "execution_count": 32,
   "metadata": {
    "collapsed": false
   },
   "outputs": [
    {
     "data": {
      "text/plain": [
       "('MEI', 'CO2', 'CH4', 'N2O', 'CFC11xx', 'CFC12xx', 'TSI', 'Aerosols')"
      ]
     },
     "execution_count": 32,
     "metadata": {},
     "output_type": "execute_result"
    }
   ],
   "source": [
    "AICs = {}\n",
    "# X = datatrain.loc[:,['MEI','CO2','CH4','N2O','CFC11xx','CFC12xx','TSI','Aerosols']]\n",
    "# X = sm.add_constant(X)\n",
    "y = datatrain.loc[:,['Temp']]\n",
    "\n",
    "\n",
    "for k in range(1,len(X)+1):\n",
    "    for variables in itertools.combinations(X, k):\n",
    "        X = datatrain.loc[:,['MEI','CO2','CH4','N2O','CFC11xx','CFC12xx','TSI','Aerosols']]\n",
    "        i = True\n",
    "        independent =''\n",
    "        for p in X:\n",
    "            if i:\n",
    "                independent = p\n",
    "                i=False\n",
    "            else:\n",
    "                independent += ' + {}'.format(p)\n",
    "        formula = 'Temp ~ {}'.format(independent)\n",
    "        res = smf.ols(formula, data=datatrain).fit()\n",
    "        AICs[variables] = 2*(k+1) - 2*res.llf\n",
    "pd.Series(AICs).idxmin()"
   ]
  },
  {
   "cell_type": "code",
   "execution_count": 33,
   "metadata": {
    "collapsed": false
   },
   "outputs": [
    {
     "data": {
      "text/html": [
       "<div>\n",
       "<table border=\"1\" class=\"dataframe\">\n",
       "  <thead>\n",
       "    <tr style=\"text-align: right;\">\n",
       "      <th></th>\n",
       "      <th>AIC</th>\n",
       "    </tr>\n",
       "  </thead>\n",
       "  <tbody>\n",
       "    <tr>\n",
       "      <th>(CO2, CH4, CFC12xx)</th>\n",
       "      <td>-552.202303</td>\n",
       "    </tr>\n",
       "    <tr>\n",
       "      <th>(CH4, CFC11xx, CFC12xx, Aerosols)</th>\n",
       "      <td>-550.202303</td>\n",
       "    </tr>\n",
       "    <tr>\n",
       "      <th>(MEI, N2O, CFC12xx, Aerosols)</th>\n",
       "      <td>-550.202303</td>\n",
       "    </tr>\n",
       "    <tr>\n",
       "      <th>(N2O, CFC11xx, Aerosols)</th>\n",
       "      <td>-552.202303</td>\n",
       "    </tr>\n",
       "    <tr>\n",
       "      <th>(MEI, CH4, CFC11xx, CFC12xx)</th>\n",
       "      <td>-550.202303</td>\n",
       "    </tr>\n",
       "  </tbody>\n",
       "</table>\n",
       "</div>"
      ],
      "text/plain": [
       "                                          AIC\n",
       "(CO2, CH4, CFC12xx)               -552.202303\n",
       "(CH4, CFC11xx, CFC12xx, Aerosols) -550.202303\n",
       "(MEI, N2O, CFC12xx, Aerosols)     -550.202303\n",
       "(N2O, CFC11xx, Aerosols)          -552.202303\n",
       "(MEI, CH4, CFC11xx, CFC12xx)      -550.202303"
      ]
     },
     "execution_count": 33,
     "metadata": {},
     "output_type": "execute_result"
    }
   ],
   "source": [
    "AIC_scores = pd.DataFrame.from_dict(AICs, orient='index')\n",
    "AIC_scores.columns = ['AIC']\n",
    "AIC_scores.head()"
   ]
  },
  {
   "cell_type": "code",
   "execution_count": 34,
   "metadata": {
    "collapsed": false
   },
   "outputs": [
    {
     "data": {
      "text/html": [
       "<div>\n",
       "<table border=\"1\" class=\"dataframe\">\n",
       "  <thead>\n",
       "    <tr style=\"text-align: right;\">\n",
       "      <th></th>\n",
       "      <th>AIC</th>\n",
       "    </tr>\n",
       "  </thead>\n",
       "  <tbody>\n",
       "    <tr>\n",
       "      <th>(CH4,)</th>\n",
       "      <td>-556.202303</td>\n",
       "    </tr>\n",
       "    <tr>\n",
       "      <th>(CFC12xx,)</th>\n",
       "      <td>-556.202303</td>\n",
       "    </tr>\n",
       "    <tr>\n",
       "      <th>(const,)</th>\n",
       "      <td>-556.202303</td>\n",
       "    </tr>\n",
       "    <tr>\n",
       "      <th>(CO2,)</th>\n",
       "      <td>-556.202303</td>\n",
       "    </tr>\n",
       "    <tr>\n",
       "      <th>(CFC11xx,)</th>\n",
       "      <td>-556.202303</td>\n",
       "    </tr>\n",
       "    <tr>\n",
       "      <th>(N2O,)</th>\n",
       "      <td>-556.202303</td>\n",
       "    </tr>\n",
       "    <tr>\n",
       "      <th>(Aerosols,)</th>\n",
       "      <td>-556.202303</td>\n",
       "    </tr>\n",
       "    <tr>\n",
       "      <th>(TSI,)</th>\n",
       "      <td>-556.202303</td>\n",
       "    </tr>\n",
       "    <tr>\n",
       "      <th>(MEI,)</th>\n",
       "      <td>-556.202303</td>\n",
       "    </tr>\n",
       "  </tbody>\n",
       "</table>\n",
       "</div>"
      ],
      "text/plain": [
       "                    AIC\n",
       "(CH4,)      -556.202303\n",
       "(CFC12xx,)  -556.202303\n",
       "(const,)    -556.202303\n",
       "(CO2,)      -556.202303\n",
       "(CFC11xx,)  -556.202303\n",
       "(N2O,)      -556.202303\n",
       "(Aerosols,) -556.202303\n",
       "(TSI,)      -556.202303\n",
       "(MEI,)      -556.202303"
      ]
     },
     "execution_count": 34,
     "metadata": {},
     "output_type": "execute_result"
    }
   ],
   "source": [
    "AIC_scores[AIC_scores['AIC'] == AIC_scores['AIC'].min()]"
   ]
  },
  {
   "cell_type": "code",
   "execution_count": null,
   "metadata": {
    "collapsed": true
   },
   "outputs": [],
   "source": []
  }
 ],
 "metadata": {
  "kernelspec": {
   "display_name": "Python 3",
   "language": "python",
   "name": "python3"
  },
  "language_info": {
   "codemirror_mode": {
    "name": "ipython",
    "version": 3
   },
   "file_extension": ".py",
   "mimetype": "text/x-python",
   "name": "python",
   "nbconvert_exporter": "python",
   "pygments_lexer": "ipython3",
   "version": "3.5.1"
  }
 },
 "nbformat": 4,
 "nbformat_minor": 0
}
