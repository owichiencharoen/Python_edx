{
 "cells": [
  {
   "cell_type": "markdown",
   "metadata": {},
   "source": [
    "#### FORECASTING ELANTRA SALES\n",
    "\n",
    "An important application of linear regression is understanding sales. Consider a company that produces and sells a product. In a given period, if the company produces more units than how many consumers will buy, the company will not earn money on the unsold units and will incur additional costs due to having to store those units in inventory before they can be sold. If it produces fewer units than how many consumers will buy, the company will earn less than it potentially could have earned. Being able to predict consumer sales, therefore, is of first order importance to the company.\n",
    "\n",
    "In this problem, we will try to predict monthly sales of the Hyundai Elantra in the United States. The Hyundai Motor Company is a major automobile manufacturer based in South Korea. The Elantra is a car model that has been produced by Hyundai since 1990 and is sold all over the world, including the United States. We will build a linear regression model to predict monthly sales using economic indicators of the United States as well as Google search queries.\n",
    "\n",
    "The file elantra.csv contains data for the problem. Each observation is a month, from January 2010 to February 2014."
   ]
  },
  {
   "cell_type": "code",
   "execution_count": 1,
   "metadata": {
    "collapsed": true
   },
   "outputs": [],
   "source": [
    "import pandas as pd\n",
    "from pandas import Series, DataFrame\n",
    "import numpy as np\n",
    "import seaborn as sns\n",
    "sns.set_style('darkgrid')\n",
    "\n",
    "from scipy import stats\n",
    "import statsmodels.formula.api as smf\n",
    "import statsmodels.api as sm\n",
    "\n",
    "import matplotlib.pyplot as plt\n",
    "%matplotlib inline\n",
    "\n",
    "#from sklearn import datasets, linear_model, metrics\n",
    "\n",
    "#import itertools\n",
    "#import pandas_datareader.data as pdweb\n",
    "#from pandas_datareader.data import DataReader\n",
    "#from datetime import datetime\n",
    "#from io import StringIO"
   ]
  },
  {
   "cell_type": "code",
   "execution_count": 5,
   "metadata": {
    "collapsed": false
   },
   "outputs": [
    {
     "name": "stdout",
     "output_type": "stream",
     "text": [
      "<class 'pandas.core.frame.DataFrame'>\n",
      "RangeIndex: 50 entries, 0 to 49\n",
      "Data columns (total 7 columns):\n",
      "Month           50 non-null int64\n",
      "Year            50 non-null int64\n",
      "ElantraSales    50 non-null int64\n",
      "Unemployment    50 non-null float64\n",
      "Queries         50 non-null int64\n",
      "CPI_energy      50 non-null float64\n",
      "CPI_all         50 non-null float64\n",
      "dtypes: float64(3), int64(4)\n",
      "memory usage: 2.8 KB\n",
      "None\n",
      "\n",
      "Training set has 36 rows\n",
      "Test set has 14 rows\n"
     ]
    }
   ],
   "source": [
    "rawdf = pd.read_csv('../data/elantra.csv')\n",
    "print(rawdf.info())\n",
    "elantraTrain = rawdf[rawdf['Year'] < 2013]\n",
    "elantraTest = rawdf[rawdf['Year'] >= 2013]\n",
    "print()\n",
    "print('Training set has {} rows'.format(len(elantraTrain)))\n",
    "print('Test set has {} rows'.format(len(elantraTest)))"
   ]
  },
  {
   "cell_type": "code",
   "execution_count": 6,
   "metadata": {
    "collapsed": false
   },
   "outputs": [
    {
     "data": {
      "text/html": [
       "<table class=\"simpletable\">\n",
       "<caption>OLS Regression Results</caption>\n",
       "<tr>\n",
       "  <th>Dep. Variable:</th>      <td>ElantraSales</td>   <th>  R-squared:         </th> <td>   0.428</td>\n",
       "</tr>\n",
       "<tr>\n",
       "  <th>Model:</th>                   <td>OLS</td>       <th>  Adj. R-squared:    </th> <td>   0.354</td>\n",
       "</tr>\n",
       "<tr>\n",
       "  <th>Method:</th>             <td>Least Squares</td>  <th>  F-statistic:       </th> <td>   5.803</td>\n",
       "</tr>\n",
       "<tr>\n",
       "  <th>Date:</th>             <td>Mon, 25 Jul 2016</td> <th>  Prob (F-statistic):</th>  <td>0.00132</td>\n",
       "</tr>\n",
       "<tr>\n",
       "  <th>Time:</th>                 <td>16:50:44</td>     <th>  Log-Likelihood:    </th> <td> -339.99</td>\n",
       "</tr>\n",
       "<tr>\n",
       "  <th>No. Observations:</th>      <td>    36</td>      <th>  AIC:               </th> <td>   690.0</td>\n",
       "</tr>\n",
       "<tr>\n",
       "  <th>Df Residuals:</th>          <td>    31</td>      <th>  BIC:               </th> <td>   697.9</td>\n",
       "</tr>\n",
       "<tr>\n",
       "  <th>Df Model:</th>              <td>     4</td>      <th>                     </th>     <td> </td>   \n",
       "</tr>\n",
       "<tr>\n",
       "  <th>Covariance Type:</th>      <td>nonrobust</td>    <th>                     </th>     <td> </td>   \n",
       "</tr>\n",
       "</table>\n",
       "<table class=\"simpletable\">\n",
       "<tr>\n",
       "        <td></td>          <th>coef</th>     <th>std err</th>      <th>t</th>      <th>P>|t|</th> <th>[95.0% Conf. Int.]</th> \n",
       "</tr>\n",
       "<tr>\n",
       "  <th>Intercept</th>    <td> 9.539e+04</td> <td> 1.71e+05</td> <td>    0.559</td> <td> 0.580</td> <td>-2.53e+05  4.43e+05</td>\n",
       "</tr>\n",
       "<tr>\n",
       "  <th>Unemployment</th> <td>-3179.8996</td> <td> 3610.262</td> <td>   -0.881</td> <td> 0.385</td> <td>-1.05e+04  4183.279</td>\n",
       "</tr>\n",
       "<tr>\n",
       "  <th>CPI_all</th>      <td> -297.6456</td> <td>  704.837</td> <td>   -0.422</td> <td> 0.676</td> <td>-1735.169  1139.878</td>\n",
       "</tr>\n",
       "<tr>\n",
       "  <th>CPI_energy</th>   <td>   38.5060</td> <td>  109.601</td> <td>    0.351</td> <td> 0.728</td> <td> -185.027   262.039</td>\n",
       "</tr>\n",
       "<tr>\n",
       "  <th>Queries</th>      <td>   19.0297</td> <td>   11.259</td> <td>    1.690</td> <td> 0.101</td> <td>   -3.933    41.992</td>\n",
       "</tr>\n",
       "</table>\n",
       "<table class=\"simpletable\">\n",
       "<tr>\n",
       "  <th>Omnibus:</th>       <td> 1.210</td> <th>  Durbin-Watson:     </th> <td>   1.190</td>\n",
       "</tr>\n",
       "<tr>\n",
       "  <th>Prob(Omnibus):</th> <td> 0.546</td> <th>  Jarque-Bera (JB):  </th> <td>   0.947</td>\n",
       "</tr>\n",
       "<tr>\n",
       "  <th>Skew:</th>          <td> 0.390</td> <th>  Prob(JB):          </th> <td>   0.623</td>\n",
       "</tr>\n",
       "<tr>\n",
       "  <th>Kurtosis:</th>      <td> 2.845</td> <th>  Cond. No.          </th> <td>1.32e+05</td>\n",
       "</tr>\n",
       "</table>"
      ],
      "text/plain": [
       "<class 'statsmodels.iolib.summary.Summary'>\n",
       "\"\"\"\n",
       "                            OLS Regression Results                            \n",
       "==============================================================================\n",
       "Dep. Variable:           ElantraSales   R-squared:                       0.428\n",
       "Model:                            OLS   Adj. R-squared:                  0.354\n",
       "Method:                 Least Squares   F-statistic:                     5.803\n",
       "Date:                Mon, 25 Jul 2016   Prob (F-statistic):            0.00132\n",
       "Time:                        16:50:44   Log-Likelihood:                -339.99\n",
       "No. Observations:                  36   AIC:                             690.0\n",
       "Df Residuals:                      31   BIC:                             697.9\n",
       "Df Model:                           4                                         \n",
       "Covariance Type:            nonrobust                                         \n",
       "================================================================================\n",
       "                   coef    std err          t      P>|t|      [95.0% Conf. Int.]\n",
       "--------------------------------------------------------------------------------\n",
       "Intercept     9.539e+04   1.71e+05      0.559      0.580     -2.53e+05  4.43e+05\n",
       "Unemployment -3179.8996   3610.262     -0.881      0.385     -1.05e+04  4183.279\n",
       "CPI_all       -297.6456    704.837     -0.422      0.676     -1735.169  1139.878\n",
       "CPI_energy      38.5060    109.601      0.351      0.728      -185.027   262.039\n",
       "Queries         19.0297     11.259      1.690      0.101        -3.933    41.992\n",
       "==============================================================================\n",
       "Omnibus:                        1.210   Durbin-Watson:                   1.190\n",
       "Prob(Omnibus):                  0.546   Jarque-Bera (JB):                0.947\n",
       "Skew:                           0.390   Prob(JB):                        0.623\n",
       "Kurtosis:                       2.845   Cond. No.                     1.32e+05\n",
       "==============================================================================\n",
       "\n",
       "Warnings:\n",
       "[1] Standard Errors assume that the covariance matrix of the errors is correctly specified.\n",
       "[2] The condition number is large, 1.32e+05. This might indicate that there are\n",
       "strong multicollinearity or other numerical problems.\n",
       "\"\"\""
      ]
     },
     "execution_count": 6,
     "metadata": {},
     "output_type": "execute_result"
    }
   ],
   "source": [
    "LinReg = smf.ols(formula='ElantraSales ~ Unemployment + CPI_all + CPI_energy + Queries',data=elantraTrain).fit()\n",
    "LinReg.summary()"
   ]
  },
  {
   "cell_type": "markdown",
   "metadata": {},
   "source": [
    "Looks like none of the independent variables is significant...\n",
    "\n",
    "Our model R-Squared is relatively low, so we would now like to improve our model. In modeling demand and sales, it is often useful to model seasonality. Seasonality refers to the fact that demand is often cyclical/periodic in time. For example, in countries with different seasons, demand for warm outerwear (like jackets and coats) is higher in fall/autumn and winter (due to the colder weather) than in spring and summer. (In contrast, demand for swimsuits and sunscreen is higher in the summer than in the other seasons.) Another example is the \"back to school\" period in North America: demand for stationary (pencils, notebooks and so on) in late July and all of August is higher than the rest of the year due to the start of the school year in September.\n",
    "\n",
    "In our problem, since our data includes the month of the year in which the units were sold, it is feasible for us to incorporate monthly seasonality. From a modeling point of view, it may be reasonable that the month plays an effect in how many Elantra units are sold.\n",
    "\n",
    "To incorporate the seasonal effect due to the month, build a new linear regression model that predicts monthly Elantra sales using Month as well as Unemployment, CPI_all, CPI_energy and Queries. Do not modify the training and testing data frames before building the model."
   ]
  },
  {
   "cell_type": "code",
   "execution_count": 7,
   "metadata": {
    "collapsed": false
   },
   "outputs": [
    {
     "data": {
      "text/html": [
       "<table class=\"simpletable\">\n",
       "<caption>OLS Regression Results</caption>\n",
       "<tr>\n",
       "  <th>Dep. Variable:</th>      <td>ElantraSales</td>   <th>  R-squared:         </th> <td>   0.434</td>\n",
       "</tr>\n",
       "<tr>\n",
       "  <th>Model:</th>                   <td>OLS</td>       <th>  Adj. R-squared:    </th> <td>   0.340</td>\n",
       "</tr>\n",
       "<tr>\n",
       "  <th>Method:</th>             <td>Least Squares</td>  <th>  F-statistic:       </th> <td>   4.609</td>\n",
       "</tr>\n",
       "<tr>\n",
       "  <th>Date:</th>             <td>Mon, 25 Jul 2016</td> <th>  Prob (F-statistic):</th>  <td>0.00308</td>\n",
       "</tr>\n",
       "<tr>\n",
       "  <th>Time:</th>                 <td>16:53:23</td>     <th>  Log-Likelihood:    </th> <td> -339.79</td>\n",
       "</tr>\n",
       "<tr>\n",
       "  <th>No. Observations:</th>      <td>    36</td>      <th>  AIC:               </th> <td>   691.6</td>\n",
       "</tr>\n",
       "<tr>\n",
       "  <th>Df Residuals:</th>          <td>    30</td>      <th>  BIC:               </th> <td>   701.1</td>\n",
       "</tr>\n",
       "<tr>\n",
       "  <th>Df Model:</th>              <td>     5</td>      <th>                     </th>     <td> </td>   \n",
       "</tr>\n",
       "<tr>\n",
       "  <th>Covariance Type:</th>      <td>nonrobust</td>    <th>                     </th>     <td> </td>   \n",
       "</tr>\n",
       "</table>\n",
       "<table class=\"simpletable\">\n",
       "<tr>\n",
       "        <td></td>          <th>coef</th>     <th>std err</th>      <th>t</th>      <th>P>|t|</th> <th>[95.0% Conf. Int.]</th> \n",
       "</tr>\n",
       "<tr>\n",
       "  <th>Intercept</th>    <td> 1.483e+05</td> <td> 1.95e+05</td> <td>    0.759</td> <td> 0.454</td> <td>-2.51e+05  5.47e+05</td>\n",
       "</tr>\n",
       "<tr>\n",
       "  <th>Unemployment</th> <td>-4137.2826</td> <td> 4008.558</td> <td>   -1.032</td> <td> 0.310</td> <td>-1.23e+04  4049.285</td>\n",
       "</tr>\n",
       "<tr>\n",
       "  <th>CPI_all</th>      <td> -517.9910</td> <td>  808.259</td> <td>   -0.641</td> <td> 0.526</td> <td>-2168.676  1132.694</td>\n",
       "</tr>\n",
       "<tr>\n",
       "  <th>CPI_energy</th>   <td>   54.1833</td> <td>  114.076</td> <td>    0.475</td> <td> 0.638</td> <td> -178.790   287.157</td>\n",
       "</tr>\n",
       "<tr>\n",
       "  <th>Queries</th>      <td>   21.1855</td> <td>   11.978</td> <td>    1.769</td> <td> 0.087</td> <td>   -3.278    45.649</td>\n",
       "</tr>\n",
       "<tr>\n",
       "  <th>Month</th>        <td>  110.6853</td> <td>  191.657</td> <td>    0.578</td> <td> 0.568</td> <td> -280.731   502.102</td>\n",
       "</tr>\n",
       "</table>\n",
       "<table class=\"simpletable\">\n",
       "<tr>\n",
       "  <th>Omnibus:</th>       <td> 1.544</td> <th>  Durbin-Watson:     </th> <td>   1.158</td>\n",
       "</tr>\n",
       "<tr>\n",
       "  <th>Prob(Omnibus):</th> <td> 0.462</td> <th>  Jarque-Bera (JB):  </th> <td>   1.312</td>\n",
       "</tr>\n",
       "<tr>\n",
       "  <th>Skew:</th>          <td> 0.453</td> <th>  Prob(JB):          </th> <td>   0.519</td>\n",
       "</tr>\n",
       "<tr>\n",
       "  <th>Kurtosis:</th>      <td> 2.764</td> <th>  Cond. No.          </th> <td>1.49e+05</td>\n",
       "</tr>\n",
       "</table>"
      ],
      "text/plain": [
       "<class 'statsmodels.iolib.summary.Summary'>\n",
       "\"\"\"\n",
       "                            OLS Regression Results                            \n",
       "==============================================================================\n",
       "Dep. Variable:           ElantraSales   R-squared:                       0.434\n",
       "Model:                            OLS   Adj. R-squared:                  0.340\n",
       "Method:                 Least Squares   F-statistic:                     4.609\n",
       "Date:                Mon, 25 Jul 2016   Prob (F-statistic):            0.00308\n",
       "Time:                        16:53:23   Log-Likelihood:                -339.79\n",
       "No. Observations:                  36   AIC:                             691.6\n",
       "Df Residuals:                      30   BIC:                             701.1\n",
       "Df Model:                           5                                         \n",
       "Covariance Type:            nonrobust                                         \n",
       "================================================================================\n",
       "                   coef    std err          t      P>|t|      [95.0% Conf. Int.]\n",
       "--------------------------------------------------------------------------------\n",
       "Intercept     1.483e+05   1.95e+05      0.759      0.454     -2.51e+05  5.47e+05\n",
       "Unemployment -4137.2826   4008.558     -1.032      0.310     -1.23e+04  4049.285\n",
       "CPI_all       -517.9910    808.259     -0.641      0.526     -2168.676  1132.694\n",
       "CPI_energy      54.1833    114.076      0.475      0.638      -178.790   287.157\n",
       "Queries         21.1855     11.978      1.769      0.087        -3.278    45.649\n",
       "Month          110.6853    191.657      0.578      0.568      -280.731   502.102\n",
       "==============================================================================\n",
       "Omnibus:                        1.544   Durbin-Watson:                   1.158\n",
       "Prob(Omnibus):                  0.462   Jarque-Bera (JB):                1.312\n",
       "Skew:                           0.453   Prob(JB):                        0.519\n",
       "Kurtosis:                       2.764   Cond. No.                     1.49e+05\n",
       "==============================================================================\n",
       "\n",
       "Warnings:\n",
       "[1] Standard Errors assume that the covariance matrix of the errors is correctly specified.\n",
       "[2] The condition number is large, 1.49e+05. This might indicate that there are\n",
       "strong multicollinearity or other numerical problems.\n",
       "\"\"\""
      ]
     },
     "execution_count": 7,
     "metadata": {},
     "output_type": "execute_result"
    }
   ],
   "source": [
    "LinReg = smf.ols(formula='ElantraSales ~ Unemployment + CPI_all + CPI_energy + Queries + Month',data=elantraTrain).fit()\n",
    "LinReg.summary()"
   ]
  },
  {
   "cell_type": "markdown",
   "metadata": {},
   "source": [
    "This model is not better because the adjusted R-squared has gone down and none of the variables (including the new one) are very significant."
   ]
  },
  {
   "cell_type": "markdown",
   "metadata": {},
   "source": [
    "You may be experiencing an uneasy feeling that there is something not quite right in how we have modeled the effect of the calendar month on the monthly sales of Elantras. If so, you are right. In particular, we added Month as a variable, but Month is an ordinary numeric variable. In fact, we must convert Month to a factor variable before adding it to the model.\n",
    "\n",
    "By modeling Month as a factor variable, the effect of each calendar month is not restricted to be linear in the numerical coding of the month."
   ]
  },
  {
   "cell_type": "code",
   "execution_count": 14,
   "metadata": {
    "collapsed": false
   },
   "outputs": [
    {
     "name": "stderr",
     "output_type": "stream",
     "text": [
      "C:\\Anaconda3\\lib\\site-packages\\ipykernel\\__main__.py:1: SettingWithCopyWarning: \n",
      "A value is trying to be set on a copy of a slice from a DataFrame.\n",
      "Try using .loc[row_indexer,col_indexer] = value instead\n",
      "\n",
      "See the caveats in the documentation: http://pandas.pydata.org/pandas-docs/stable/indexing.html#indexing-view-versus-copy\n",
      "  if __name__ == '__main__':\n"
     ]
    },
    {
     "data": {
      "text/plain": [
       "0      1\n",
       "1      1\n",
       "2      1\n",
       "5      2\n",
       "6      2\n",
       "7      2\n",
       "10     3\n",
       "11     3\n",
       "12     3\n",
       "14     4\n",
       "15     4\n",
       "16     4\n",
       "18     5\n",
       "19     5\n",
       "20     5\n",
       "22     6\n",
       "23     6\n",
       "24     6\n",
       "26     7\n",
       "27     7\n",
       "28     7\n",
       "30     8\n",
       "31     8\n",
       "32     8\n",
       "34     9\n",
       "35     9\n",
       "36     9\n",
       "38    10\n",
       "39    10\n",
       "40    10\n",
       "42    11\n",
       "43    11\n",
       "44    11\n",
       "46    12\n",
       "47    12\n",
       "48    12\n",
       "Name: Month, dtype: category\n",
       "Categories (12, int64): [1, 2, 3, 4, ..., 9, 10, 11, 12]"
      ]
     },
     "execution_count": 14,
     "metadata": {},
     "output_type": "execute_result"
    }
   ],
   "source": [
    "elantraTrain['Month'] = elantraTrain['Month'].astype('category')\n",
    "elantraTrain['Month']"
   ]
  },
  {
   "cell_type": "code",
   "execution_count": 15,
   "metadata": {
    "collapsed": false
   },
   "outputs": [
    {
     "data": {
      "text/html": [
       "<table class=\"simpletable\">\n",
       "<caption>OLS Regression Results</caption>\n",
       "<tr>\n",
       "  <th>Dep. Variable:</th>      <td>ElantraSales</td>   <th>  R-squared:         </th> <td>   0.819</td>\n",
       "</tr>\n",
       "<tr>\n",
       "  <th>Model:</th>                   <td>OLS</td>       <th>  Adj. R-squared:    </th> <td>   0.684</td>\n",
       "</tr>\n",
       "<tr>\n",
       "  <th>Method:</th>             <td>Least Squares</td>  <th>  F-statistic:       </th> <td>   6.044</td>\n",
       "</tr>\n",
       "<tr>\n",
       "  <th>Date:</th>             <td>Mon, 25 Jul 2016</td> <th>  Prob (F-statistic):</th> <td>0.000147</td>\n",
       "</tr>\n",
       "<tr>\n",
       "  <th>Time:</th>                 <td>17:04:04</td>     <th>  Log-Likelihood:    </th> <td> -319.26</td>\n",
       "</tr>\n",
       "<tr>\n",
       "  <th>No. Observations:</th>      <td>    36</td>      <th>  AIC:               </th> <td>   670.5</td>\n",
       "</tr>\n",
       "<tr>\n",
       "  <th>Df Residuals:</th>          <td>    20</td>      <th>  BIC:               </th> <td>   695.9</td>\n",
       "</tr>\n",
       "<tr>\n",
       "  <th>Df Model:</th>              <td>    15</td>      <th>                     </th>     <td> </td>   \n",
       "</tr>\n",
       "<tr>\n",
       "  <th>Covariance Type:</th>      <td>nonrobust</td>    <th>                     </th>     <td> </td>   \n",
       "</tr>\n",
       "</table>\n",
       "<table class=\"simpletable\">\n",
       "<tr>\n",
       "        <td></td>          <th>coef</th>     <th>std err</th>      <th>t</th>      <th>P>|t|</th> <th>[95.0% Conf. Int.]</th> \n",
       "</tr>\n",
       "<tr>\n",
       "  <th>Intercept</th>    <td> 3.125e+05</td> <td> 1.44e+05</td> <td>    2.169</td> <td> 0.042</td> <td>  1.2e+04  6.13e+05</td>\n",
       "</tr>\n",
       "<tr>\n",
       "  <th>Month[T.2]</th>   <td> 2254.9978</td> <td> 1943.249</td> <td>    1.160</td> <td> 0.260</td> <td>-1798.548  6308.543</td>\n",
       "</tr>\n",
       "<tr>\n",
       "  <th>Month[T.3]</th>   <td> 6696.5568</td> <td> 1991.635</td> <td>    3.362</td> <td> 0.003</td> <td> 2542.080  1.09e+04</td>\n",
       "</tr>\n",
       "<tr>\n",
       "  <th>Month[T.4]</th>   <td> 7556.6074</td> <td> 2038.022</td> <td>    3.708</td> <td> 0.001</td> <td> 3305.368  1.18e+04</td>\n",
       "</tr>\n",
       "<tr>\n",
       "  <th>Month[T.5]</th>   <td> 7420.2490</td> <td> 1950.139</td> <td>    3.805</td> <td> 0.001</td> <td> 3352.331  1.15e+04</td>\n",
       "</tr>\n",
       "<tr>\n",
       "  <th>Month[T.6]</th>   <td> 9215.8326</td> <td> 1995.230</td> <td>    4.619</td> <td> 0.000</td> <td> 5053.856  1.34e+04</td>\n",
       "</tr>\n",
       "<tr>\n",
       "  <th>Month[T.7]</th>   <td> 9929.4644</td> <td> 2238.800</td> <td>    4.435</td> <td> 0.000</td> <td> 5259.409  1.46e+04</td>\n",
       "</tr>\n",
       "<tr>\n",
       "  <th>Month[T.8]</th>   <td> 7939.4474</td> <td> 2064.629</td> <td>    3.845</td> <td> 0.001</td> <td> 3632.706  1.22e+04</td>\n",
       "</tr>\n",
       "<tr>\n",
       "  <th>Month[T.9]</th>   <td> 5013.2866</td> <td> 2010.745</td> <td>    2.493</td> <td> 0.022</td> <td>  818.946  9207.627</td>\n",
       "</tr>\n",
       "<tr>\n",
       "  <th>Month[T.10]</th>  <td> 2500.1838</td> <td> 2084.057</td> <td>    1.200</td> <td> 0.244</td> <td>-1847.083  6847.451</td>\n",
       "</tr>\n",
       "<tr>\n",
       "  <th>Month[T.11]</th>  <td> 3238.9315</td> <td> 2397.231</td> <td>    1.351</td> <td> 0.192</td> <td>-1761.605  8239.468</td>\n",
       "</tr>\n",
       "<tr>\n",
       "  <th>Month[T.12]</th>  <td> 5293.9107</td> <td> 2228.310</td> <td>    2.376</td> <td> 0.028</td> <td>  645.738  9942.083</td>\n",
       "</tr>\n",
       "<tr>\n",
       "  <th>Unemployment</th> <td>-7739.3814</td> <td> 2968.747</td> <td>   -2.607</td> <td> 0.017</td> <td>-1.39e+04 -1546.683</td>\n",
       "</tr>\n",
       "<tr>\n",
       "  <th>CPI_all</th>      <td>-1343.3068</td> <td>  592.919</td> <td>   -2.266</td> <td> 0.035</td> <td>-2580.114  -106.500</td>\n",
       "</tr>\n",
       "<tr>\n",
       "  <th>CPI_energy</th>   <td>  288.6314</td> <td>   97.974</td> <td>    2.946</td> <td> 0.008</td> <td>   84.262   493.001</td>\n",
       "</tr>\n",
       "<tr>\n",
       "  <th>Queries</th>      <td>   -4.7636</td> <td>   12.938</td> <td>   -0.368</td> <td> 0.717</td> <td>  -31.752    22.224</td>\n",
       "</tr>\n",
       "</table>\n",
       "<table class=\"simpletable\">\n",
       "<tr>\n",
       "  <th>Omnibus:</th>       <td> 0.047</td> <th>  Durbin-Watson:     </th> <td>   2.795</td>\n",
       "</tr>\n",
       "<tr>\n",
       "  <th>Prob(Omnibus):</th> <td> 0.977</td> <th>  Jarque-Bera (JB):  </th> <td>   0.246</td>\n",
       "</tr>\n",
       "<tr>\n",
       "  <th>Skew:</th>          <td>-0.032</td> <th>  Prob(JB):          </th> <td>   0.884</td>\n",
       "</tr>\n",
       "<tr>\n",
       "  <th>Kurtosis:</th>      <td> 2.600</td> <th>  Cond. No.          </th> <td>1.59e+05</td>\n",
       "</tr>\n",
       "</table>"
      ],
      "text/plain": [
       "<class 'statsmodels.iolib.summary.Summary'>\n",
       "\"\"\"\n",
       "                            OLS Regression Results                            \n",
       "==============================================================================\n",
       "Dep. Variable:           ElantraSales   R-squared:                       0.819\n",
       "Model:                            OLS   Adj. R-squared:                  0.684\n",
       "Method:                 Least Squares   F-statistic:                     6.044\n",
       "Date:                Mon, 25 Jul 2016   Prob (F-statistic):           0.000147\n",
       "Time:                        17:04:04   Log-Likelihood:                -319.26\n",
       "No. Observations:                  36   AIC:                             670.5\n",
       "Df Residuals:                      20   BIC:                             695.9\n",
       "Df Model:                          15                                         \n",
       "Covariance Type:            nonrobust                                         \n",
       "================================================================================\n",
       "                   coef    std err          t      P>|t|      [95.0% Conf. Int.]\n",
       "--------------------------------------------------------------------------------\n",
       "Intercept     3.125e+05   1.44e+05      2.169      0.042       1.2e+04  6.13e+05\n",
       "Month[T.2]    2254.9978   1943.249      1.160      0.260     -1798.548  6308.543\n",
       "Month[T.3]    6696.5568   1991.635      3.362      0.003      2542.080  1.09e+04\n",
       "Month[T.4]    7556.6074   2038.022      3.708      0.001      3305.368  1.18e+04\n",
       "Month[T.5]    7420.2490   1950.139      3.805      0.001      3352.331  1.15e+04\n",
       "Month[T.6]    9215.8326   1995.230      4.619      0.000      5053.856  1.34e+04\n",
       "Month[T.7]    9929.4644   2238.800      4.435      0.000      5259.409  1.46e+04\n",
       "Month[T.8]    7939.4474   2064.629      3.845      0.001      3632.706  1.22e+04\n",
       "Month[T.9]    5013.2866   2010.745      2.493      0.022       818.946  9207.627\n",
       "Month[T.10]   2500.1838   2084.057      1.200      0.244     -1847.083  6847.451\n",
       "Month[T.11]   3238.9315   2397.231      1.351      0.192     -1761.605  8239.468\n",
       "Month[T.12]   5293.9107   2228.310      2.376      0.028       645.738  9942.083\n",
       "Unemployment -7739.3814   2968.747     -2.607      0.017     -1.39e+04 -1546.683\n",
       "CPI_all      -1343.3068    592.919     -2.266      0.035     -2580.114  -106.500\n",
       "CPI_energy     288.6314     97.974      2.946      0.008        84.262   493.001\n",
       "Queries         -4.7636     12.938     -0.368      0.717       -31.752    22.224\n",
       "==============================================================================\n",
       "Omnibus:                        0.047   Durbin-Watson:                   2.795\n",
       "Prob(Omnibus):                  0.977   Jarque-Bera (JB):                0.246\n",
       "Skew:                          -0.032   Prob(JB):                        0.884\n",
       "Kurtosis:                       2.600   Cond. No.                     1.59e+05\n",
       "==============================================================================\n",
       "\n",
       "Warnings:\n",
       "[1] Standard Errors assume that the covariance matrix of the errors is correctly specified.\n",
       "[2] The condition number is large, 1.59e+05. This might indicate that there are\n",
       "strong multicollinearity or other numerical problems.\n",
       "\"\"\""
      ]
     },
     "execution_count": 15,
     "metadata": {},
     "output_type": "execute_result"
    }
   ],
   "source": [
    "LinReg = smf.ols(formula='ElantraSales ~ Unemployment + CPI_all + CPI_energy + Queries + Month',data=elantraTrain).fit()\n",
    "LinReg.summary()"
   ]
  },
  {
   "cell_type": "markdown",
   "metadata": {},
   "source": [
    "Another peculiar observation about the regression is that the sign of the Queries variable has changed. In particular, when we naively modeled Month as a numeric variable, Queries had a positive coefficient. Now, Queries has a negative coefficient. Furthermore, CPI_energy has a positive coefficient -- as the overall price of energy increases, we expect Elantra sales to increase, which seems counter-intuitive (if the price of energy increases, we'd expect consumers to have less funds to purchase automobiles, leading to lower Elantra sales).\n",
    "\n",
    "As we have seen before, changes in coefficient signs and signs that are counter to our intuition may be due to a multicolinearity problem. To check, compute the correlations of the variables in the training set.\n",
    "\n",
    "Which of the following variables is CPI_energy highly correlated with? Indicate all that apply. (Include only variables where the absolute value of the correlation exceeds 0.6. For the purpose of this question, treat Month as a numeric variable, not a factor variable.)"
   ]
  },
  {
   "cell_type": "code",
   "execution_count": 16,
   "metadata": {
    "collapsed": false
   },
   "outputs": [
    {
     "name": "stderr",
     "output_type": "stream",
     "text": [
      "C:\\Anaconda3\\lib\\site-packages\\seaborn\\linearmodels.py:1285: UserWarning: The `corrplot` function has been deprecated in favor of `heatmap` and will be removed in a forthcoming release. Please update your code.\n",
      "  warnings.warn((\"The `corrplot` function has been deprecated in favor \"\n",
      "C:\\Anaconda3\\lib\\site-packages\\seaborn\\linearmodels.py:1351: UserWarning: The `symmatplot` function has been deprecated in favor of `heatmap` and will be removed in a forthcoming release. Please update your code.\n",
      "  warnings.warn((\"The `symmatplot` function has been deprecated in favor \"\n"
     ]
    },
    {
     "data": {
      "text/plain": [
       "<matplotlib.axes._subplots.AxesSubplot at 0x6047048>"
      ]
     },
     "execution_count": 16,
     "metadata": {},
     "output_type": "execute_result"
    },
    {
     "data": {
      "image/png": "[encoded data removed]",
      "text/plain": [
       "<matplotlib.figure.Figure at 0x5cf22e8>"
      ]
     },
     "metadata": {},
     "output_type": "display_data"
    }
   ],
   "source": [
    "sns.corrplot(elantraTrain)"
   ]
  },
  {
   "cell_type": "markdown",
   "metadata": {},
   "source": [
    "Let us now simplify our model (the model using the factor version of the Month variable). We will do this by iteratively removing variables, one at a time. Remove the variable with the highest p-value (i.e., the least statistically significant variable) from the model. Repeat this until there are no variables that are insignificant or variables for which all of the factor levels are insignificant. Use a threshold of 0.10 to determine whether a variable is significant.\n",
    "\n",
    "Which variables, and in what order, are removed by this process?"
   ]
  },
  {
   "cell_type": "code",
   "execution_count": 17,
   "metadata": {
    "collapsed": false
   },
   "outputs": [
    {
     "data": {
      "text/html": [
       "<table class=\"simpletable\">\n",
       "<caption>OLS Regression Results</caption>\n",
       "<tr>\n",
       "  <th>Dep. Variable:</th>      <td>ElantraSales</td>   <th>  R-squared:         </th> <td>   0.818</td>\n",
       "</tr>\n",
       "<tr>\n",
       "  <th>Model:</th>                   <td>OLS</td>       <th>  Adj. R-squared:    </th> <td>   0.697</td>\n",
       "</tr>\n",
       "<tr>\n",
       "  <th>Method:</th>             <td>Least Squares</td>  <th>  F-statistic:       </th> <td>   6.744</td>\n",
       "</tr>\n",
       "<tr>\n",
       "  <th>Date:</th>             <td>Mon, 25 Jul 2016</td> <th>  Prob (F-statistic):</th> <td>5.73e-05</td>\n",
       "</tr>\n",
       "<tr>\n",
       "  <th>Time:</th>                 <td>17:11:49</td>     <th>  Log-Likelihood:    </th> <td> -319.38</td>\n",
       "</tr>\n",
       "<tr>\n",
       "  <th>No. Observations:</th>      <td>    36</td>      <th>  AIC:               </th> <td>   668.8</td>\n",
       "</tr>\n",
       "<tr>\n",
       "  <th>Df Residuals:</th>          <td>    21</td>      <th>  BIC:               </th> <td>   692.5</td>\n",
       "</tr>\n",
       "<tr>\n",
       "  <th>Df Model:</th>              <td>    14</td>      <th>                     </th>     <td> </td>   \n",
       "</tr>\n",
       "<tr>\n",
       "  <th>Covariance Type:</th>      <td>nonrobust</td>    <th>                     </th>     <td> </td>   \n",
       "</tr>\n",
       "</table>\n",
       "<table class=\"simpletable\">\n",
       "<tr>\n",
       "        <td></td>          <th>coef</th>     <th>std err</th>      <th>t</th>      <th>P>|t|</th> <th>[95.0% Conf. Int.]</th> \n",
       "</tr>\n",
       "<tr>\n",
       "  <th>Intercept</th>    <td> 3.257e+05</td> <td> 1.37e+05</td> <td>    2.384</td> <td> 0.027</td> <td> 4.16e+04   6.1e+05</td>\n",
       "</tr>\n",
       "<tr>\n",
       "  <th>Month[T.2]</th>   <td> 2410.9137</td> <td> 1857.103</td> <td>    1.298</td> <td> 0.208</td> <td>-1451.144  6272.972</td>\n",
       "</tr>\n",
       "<tr>\n",
       "  <th>Month[T.3]</th>   <td> 6880.0868</td> <td> 1888.145</td> <td>    3.644</td> <td> 0.002</td> <td> 2953.474  1.08e+04</td>\n",
       "</tr>\n",
       "<tr>\n",
       "  <th>Month[T.4]</th>   <td> 7697.3580</td> <td> 1960.214</td> <td>    3.927</td> <td> 0.001</td> <td> 3620.869  1.18e+04</td>\n",
       "</tr>\n",
       "<tr>\n",
       "  <th>Month[T.5]</th>   <td> 7444.6447</td> <td> 1908.477</td> <td>    3.901</td> <td> 0.001</td> <td> 3475.749  1.14e+04</td>\n",
       "</tr>\n",
       "<tr>\n",
       "  <th>Month[T.6]</th>   <td> 9223.1343</td> <td> 1953.636</td> <td>    4.721</td> <td> 0.000</td> <td> 5160.325  1.33e+04</td>\n",
       "</tr>\n",
       "<tr>\n",
       "  <th>Month[T.7]</th>   <td> 9602.7221</td> <td> 2012.661</td> <td>    4.771</td> <td> 0.000</td> <td> 5417.165  1.38e+04</td>\n",
       "</tr>\n",
       "<tr>\n",
       "  <th>Month[T.8]</th>   <td> 7919.4990</td> <td> 2020.993</td> <td>    3.919</td> <td> 0.001</td> <td> 3716.614  1.21e+04</td>\n",
       "</tr>\n",
       "<tr>\n",
       "  <th>Month[T.9]</th>   <td> 5074.2910</td> <td> 1962.230</td> <td>    2.586</td> <td> 0.017</td> <td>  993.611  9154.971</td>\n",
       "</tr>\n",
       "<tr>\n",
       "  <th>Month[T.10]</th>  <td> 2724.2422</td> <td> 1951.778</td> <td>    1.396</td> <td> 0.177</td> <td>-1334.702  6783.186</td>\n",
       "</tr>\n",
       "<tr>\n",
       "  <th>Month[T.11]</th>  <td> 3665.0765</td> <td> 2055.659</td> <td>    1.783</td> <td> 0.089</td> <td> -609.900  7940.053</td>\n",
       "</tr>\n",
       "<tr>\n",
       "  <th>Month[T.12]</th>  <td> 5643.1903</td> <td> 1974.363</td> <td>    2.858</td> <td> 0.009</td> <td> 1537.278  9749.103</td>\n",
       "</tr>\n",
       "<tr>\n",
       "  <th>Unemployment</th> <td>-7971.3395</td> <td> 2840.795</td> <td>   -2.806</td> <td> 0.011</td> <td>-1.39e+04 -2063.584</td>\n",
       "</tr>\n",
       "<tr>\n",
       "  <th>CPI_all</th>      <td>-1377.5816</td> <td>  573.387</td> <td>   -2.403</td> <td> 0.026</td> <td>-2570.005  -185.158</td>\n",
       "</tr>\n",
       "<tr>\n",
       "  <th>CPI_energy</th>   <td>  268.0299</td> <td>   78.752</td> <td>    3.403</td> <td> 0.003</td> <td>  104.257   431.803</td>\n",
       "</tr>\n",
       "</table>\n",
       "<table class=\"simpletable\">\n",
       "<tr>\n",
       "  <th>Omnibus:</th>       <td> 0.000</td> <th>  Durbin-Watson:     </th> <td>   2.771</td>\n",
       "</tr>\n",
       "<tr>\n",
       "  <th>Prob(Omnibus):</th> <td> 1.000</td> <th>  Jarque-Bera (JB):  </th> <td>   0.137</td>\n",
       "</tr>\n",
       "<tr>\n",
       "  <th>Skew:</th>          <td>-0.001</td> <th>  Prob(JB):          </th> <td>   0.934</td>\n",
       "</tr>\n",
       "<tr>\n",
       "  <th>Kurtosis:</th>      <td> 2.698</td> <th>  Cond. No.          </th> <td>1.18e+05</td>\n",
       "</tr>\n",
       "</table>"
      ],
      "text/plain": [
       "<class 'statsmodels.iolib.summary.Summary'>\n",
       "\"\"\"\n",
       "                            OLS Regression Results                            \n",
       "==============================================================================\n",
       "Dep. Variable:           ElantraSales   R-squared:                       0.818\n",
       "Model:                            OLS   Adj. R-squared:                  0.697\n",
       "Method:                 Least Squares   F-statistic:                     6.744\n",
       "Date:                Mon, 25 Jul 2016   Prob (F-statistic):           5.73e-05\n",
       "Time:                        17:11:49   Log-Likelihood:                -319.38\n",
       "No. Observations:                  36   AIC:                             668.8\n",
       "Df Residuals:                      21   BIC:                             692.5\n",
       "Df Model:                          14                                         \n",
       "Covariance Type:            nonrobust                                         \n",
       "================================================================================\n",
       "                   coef    std err          t      P>|t|      [95.0% Conf. Int.]\n",
       "--------------------------------------------------------------------------------\n",
       "Intercept     3.257e+05   1.37e+05      2.384      0.027      4.16e+04   6.1e+05\n",
       "Month[T.2]    2410.9137   1857.103      1.298      0.208     -1451.144  6272.972\n",
       "Month[T.3]    6880.0868   1888.145      3.644      0.002      2953.474  1.08e+04\n",
       "Month[T.4]    7697.3580   1960.214      3.927      0.001      3620.869  1.18e+04\n",
       "Month[T.5]    7444.6447   1908.477      3.901      0.001      3475.749  1.14e+04\n",
       "Month[T.6]    9223.1343   1953.636      4.721      0.000      5160.325  1.33e+04\n",
       "Month[T.7]    9602.7221   2012.661      4.771      0.000      5417.165  1.38e+04\n",
       "Month[T.8]    7919.4990   2020.993      3.919      0.001      3716.614  1.21e+04\n",
       "Month[T.9]    5074.2910   1962.230      2.586      0.017       993.611  9154.971\n",
       "Month[T.10]   2724.2422   1951.778      1.396      0.177     -1334.702  6783.186\n",
       "Month[T.11]   3665.0765   2055.659      1.783      0.089      -609.900  7940.053\n",
       "Month[T.12]   5643.1903   1974.363      2.858      0.009      1537.278  9749.103\n",
       "Unemployment -7971.3395   2840.795     -2.806      0.011     -1.39e+04 -2063.584\n",
       "CPI_all      -1377.5816    573.387     -2.403      0.026     -2570.005  -185.158\n",
       "CPI_energy     268.0299     78.752      3.403      0.003       104.257   431.803\n",
       "==============================================================================\n",
       "Omnibus:                        0.000   Durbin-Watson:                   2.771\n",
       "Prob(Omnibus):                  1.000   Jarque-Bera (JB):                0.137\n",
       "Skew:                          -0.001   Prob(JB):                        0.934\n",
       "Kurtosis:                       2.698   Cond. No.                     1.18e+05\n",
       "==============================================================================\n",
       "\n",
       "Warnings:\n",
       "[1] Standard Errors assume that the covariance matrix of the errors is correctly specified.\n",
       "[2] The condition number is large, 1.18e+05. This might indicate that there are\n",
       "strong multicollinearity or other numerical problems.\n",
       "\"\"\""
      ]
     },
     "execution_count": 17,
     "metadata": {},
     "output_type": "execute_result"
    }
   ],
   "source": [
    "# Step 0:  We see above that Queries is not significant\n",
    "# Step 1:  Remove Queries and refit.  Now everything is significant!  We stop!\n",
    "\n",
    "LinReg = smf.ols(formula='ElantraSales ~ Unemployment + CPI_all + CPI_energy + Month',data=elantraTrain).fit()\n",
    "LinReg.summary()"
   ]
  },
  {
   "cell_type": "code",
   "execution_count": 18,
   "metadata": {
    "collapsed": true
   },
   "outputs": [],
   "source": [
    "Pred = LinReg.predict(elantraTest)"
   ]
  },
  {
   "cell_type": "code",
   "execution_count": 20,
   "metadata": {
    "collapsed": false
   },
   "outputs": [
    {
     "data": {
      "text/plain": [
       "190757747.44432235"
      ]
     },
     "execution_count": 20,
     "metadata": {},
     "output_type": "execute_result"
    }
   ],
   "source": [
    "# What is the sum of squared errors of this model on the test set?\n",
    "\n",
    "SSE = sum((Pred-elantraTest['ElantraSales'])**2)\n",
    "SSE"
   ]
  },
  {
   "cell_type": "code",
   "execution_count": 21,
   "metadata": {
    "collapsed": true
   },
   "outputs": [],
   "source": [
    "# What would the baseline method predict for all observations in the test set? Remember the\n",
    "# baseline method we use predicts the average outcome of all raws in the training set."
   ]
  },
  {
   "cell_type": "code",
   "execution_count": 22,
   "metadata": {
    "collapsed": false
   },
   "outputs": [
    {
     "data": {
      "text/plain": [
       "14462.25"
      ]
     },
     "execution_count": 22,
     "metadata": {},
     "output_type": "execute_result"
    }
   ],
   "source": [
    "elantraTrain['ElantraSales'].mean()"
   ]
  },
  {
   "cell_type": "code",
   "execution_count": 23,
   "metadata": {
    "collapsed": false
   },
   "outputs": [
    {
     "name": "stdout",
     "output_type": "stream",
     "text": [
      "SSE is 190757747.44432235\n",
      "SST is 701375142.375\n"
     ]
    },
    {
     "data": {
      "text/plain": [
       "0.7280232276291152"
      ]
     },
     "execution_count": 23,
     "metadata": {},
     "output_type": "execute_result"
    }
   ],
   "source": [
    "# What is the test set R-squared?\n",
    "\n",
    "# A: You can compute the SST as the sum of the squared differences between ElantraSales\n",
    "# in the testing set and the mean of ElantraSales in the training set:\n",
    "\n",
    "print('SSE is {}'.format(SSE))\n",
    "SST = sum((elantraTest['ElantraSales'] - elantraTrain['ElantraSales'].mean())**2)\n",
    "print('SST is {}'.format(SST))\n",
    "# Then, using the SSE computed previously, the R-squared is 1 minus  SSE/SST.\n",
    "\n",
    "1 - SSE/SST"
   ]
  },
  {
   "cell_type": "code",
   "execution_count": 31,
   "metadata": {
    "collapsed": false
   },
   "outputs": [
    {
     "data": {
      "text/plain": [
       "7491.4876927111764"
      ]
     },
     "execution_count": 31,
     "metadata": {},
     "output_type": "execute_result"
    }
   ],
   "source": [
    "# What is the largest absolute error that we make in our test set predictions?\n",
    "\n",
    "(np.abs(Pred-elantraTest['ElantraSales'])).max()"
   ]
  },
  {
   "cell_type": "code",
   "execution_count": 32,
   "metadata": {
    "collapsed": false
   },
   "outputs": [
    {
     "data": {
      "text/html": [
       "<div>\n",
       "<table border=\"1\" class=\"dataframe\">\n",
       "  <thead>\n",
       "    <tr style=\"text-align: right;\">\n",
       "      <th></th>\n",
       "      <th>Month</th>\n",
       "      <th>Year</th>\n",
       "    </tr>\n",
       "  </thead>\n",
       "  <tbody>\n",
       "    <tr>\n",
       "      <th>13</th>\n",
       "      <td>3</td>\n",
       "      <td>2013</td>\n",
       "    </tr>\n",
       "  </tbody>\n",
       "</table>\n",
       "</div>"
      ],
      "text/plain": [
       "    Month  Year\n",
       "13      3  2013"
      ]
     },
     "execution_count": 32,
     "metadata": {},
     "output_type": "execute_result"
    }
   ],
   "source": [
    "# In which period (Month,Year) do we make the largest absolute error in our prediction?\n",
    "\n",
    "elantraTest[np.abs(Pred-elantraTest['ElantraSales']) == (np.abs(Pred-elantraTest['ElantraSales'])).max()][['Month','Year']]"
   ]
  },
  {
   "cell_type": "code",
   "execution_count": null,
   "metadata": {
    "collapsed": true
   },
   "outputs": [],
   "source": []
  }
 ],
 "metadata": {
  "kernelspec": {
   "display_name": "Python 3",
   "language": "python",
   "name": "python3"
  },
  "language_info": {
   "codemirror_mode": {
    "name": "ipython",
    "version": 3
   },
   "file_extension": ".py",
   "mimetype": "text/x-python",
   "name": "python",
   "nbconvert_exporter": "python",
   "pygments_lexer": "ipython3",
   "version": "3.5.1"
  }
 },
 "nbformat": 4,
 "nbformat_minor": 0
}
