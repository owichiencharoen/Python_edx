{
 "cells": [
  {
   "cell_type": "code",
   "execution_count": 32,
   "metadata": {
    "collapsed": true
   },
   "outputs": [],
   "source": [
    "# Owen Wichiencharoen's standard Python Imports:\n",
    "\n",
    "import pandas as pd\n",
    "from pandas import Series, DataFrame\n",
    "import numpy as np\n",
    "import seaborn as sns\n",
    "sns.set_style('darkgrid')\n",
    "\n",
    "import matplotlib.pyplot as plt\n",
    "%matplotlib inline\n",
    "\n",
    "# from scipy import stats\n",
    "# import statsmodels.formula.api as smf\n",
    "# import statsmodels.api as sm\n",
    "\n",
    "from sklearn.cross_validation import train_test_split, cross_val_score\n",
    "from sklearn import datasets, metrics, preprocessing\n",
    "# import sklearn.linear_model as lm\n",
    "\n",
    "from sklearn.tree import DecisionTreeClassifier, export_graphviz\n",
    "# from sklearn.ensemble import RandomForestClassifier\n",
    "# import pydot\n",
    "# from os import system\n",
    "# from sklearn.externals.six import StringIO\n",
    "from IPython.display import Image\n",
    "\n",
    "# import itertools\n",
    "# import pandas_datareader.data as pdweb\n",
    "# from pandas_datareader.data import DataReader\n",
    "# from datetime import datetime\n",
    "# from io import StringIO"
   ]
  },
  {
   "cell_type": "code",
   "execution_count": 15,
   "metadata": {
    "collapsed": false
   },
   "outputs": [
    {
     "name": "stdout",
     "output_type": "stream",
     "text": [
      "<class 'pandas.core.frame.DataFrame'>\n",
      "RangeIndex: 566 entries, 0 to 565\n",
      "Data columns (total 9 columns):\n",
      "Docket        566 non-null object\n",
      "Term          566 non-null int64\n",
      "Circuit       566 non-null object\n",
      "Issue         566 non-null object\n",
      "Petitioner    566 non-null object\n",
      "Respondent    566 non-null object\n",
      "LowerCourt    566 non-null object\n",
      "Unconst       566 non-null int64\n",
      "Reverse       566 non-null int64\n",
      "dtypes: int64(3), object(6)\n",
      "memory usage: 39.9+ KB\n"
     ]
    }
   ],
   "source": [
    "stevens = pd.read_csv('../data/stevens.csv')\n",
    "stevens.info()"
   ]
  },
  {
   "cell_type": "code",
   "execution_count": 16,
   "metadata": {
    "collapsed": false
   },
   "outputs": [
    {
     "name": "stdout",
     "output_type": "stream",
     "text": [
      "<class 'pandas.core.frame.DataFrame'>\n",
      "RangeIndex: 566 entries, 0 to 565\n",
      "Data columns (total 9 columns):\n",
      "Docket            566 non-null object\n",
      "Term              566 non-null int64\n",
      "Circuit           566 non-null object\n",
      "Issue             566 non-null object\n",
      "Petitioner        566 non-null object\n",
      "Respondent        566 non-null object\n",
      "Unconst           566 non-null int64\n",
      "Reverse           566 non-null int64\n",
      "LowerCourt_Lib    566 non-null int64\n",
      "dtypes: int64(4), object(5)\n",
      "memory usage: 39.9+ KB\n"
     ]
    }
   ],
   "source": [
    "# Now replace values in LowerCourt column.  liberal = 1, conser = 0\n",
    "stevens['LowerCourt_Lib'] = 2\n",
    "stevens.loc[stevens['LowerCourt']=='liberal', 'LowerCourt_Lib'] = 1\n",
    "stevens.loc[stevens['LowerCourt']=='conser', 'LowerCourt_Lib'] = 0\n",
    "stevens.drop('LowerCourt',axis=1,inplace=True)\n",
    "stevens.info()"
   ]
  },
  {
   "cell_type": "code",
   "execution_count": 27,
   "metadata": {
    "collapsed": true
   },
   "outputs": [],
   "source": [
    "# Now encode the Docket, Circuit, Issue, Petitioner, and Respondent columns\n",
    "\n",
    "def encode_target(df, target_column, col_name):\n",
    "\n",
    "    \"\"\"Add column to df with integers for the target.\n",
    "\n",
    "    Args\n",
    "    ----\n",
    "    df -- pandas DataFrame.\n",
    "    target_column -- column to map to int, producing\n",
    "                     new Target column.\n",
    "\n",
    "    Returns\n",
    "    -------\n",
    "    df_mod -- modified DataFrame.\n",
    "    targets -- list of target names.\n",
    "    \n",
    "    \"\"\"\n",
    "    df_mod = df.copy()\n",
    "    targets = df_mod[target_column].unique()\n",
    "    map_to_int = {name: n for n, name in enumerate(targets)}\n",
    "    new_col_name = ''.join([col_name,'_encoded'])\n",
    "    df_mod[new_col_name] = df_mod[target_column].replace(map_to_int)\n",
    "\n",
    "    return (df_mod, targets)"
   ]
  },
  {
   "cell_type": "code",
   "execution_count": 31,
   "metadata": {
    "collapsed": false
   },
   "outputs": [
    {
     "name": "stdout",
     "output_type": "stream",
     "text": [
      "8     177\n",
      "0      80\n",
      "11     69\n",
      "2      58\n",
      "10     56\n",
      "3      28\n",
      "7      24\n",
      "4      21\n",
      "9      17\n",
      "6      14\n",
      "5      13\n",
      "1       9\n",
      "Name: Respondent_encoded, dtype: int64\n"
     ]
    },
    {
     "data": {
      "text/html": [
       "<div>\n",
       "<table border=\"1\" class=\"dataframe\">\n",
       "  <thead>\n",
       "    <tr style=\"text-align: right;\">\n",
       "      <th></th>\n",
       "      <th>Docket</th>\n",
       "      <th>Term</th>\n",
       "      <th>Circuit</th>\n",
       "      <th>Issue</th>\n",
       "      <th>Petitioner</th>\n",
       "      <th>Respondent</th>\n",
       "      <th>Unconst</th>\n",
       "      <th>Reverse</th>\n",
       "      <th>LowerCourt_Lib</th>\n",
       "      <th>Respondent_encoded</th>\n",
       "    </tr>\n",
       "  </thead>\n",
       "  <tbody>\n",
       "    <tr>\n",
       "      <th>0</th>\n",
       "      <td>93-1408</td>\n",
       "      <td>1994</td>\n",
       "      <td>2nd</td>\n",
       "      <td>EconomicActivity</td>\n",
       "      <td>BUSINESS</td>\n",
       "      <td>BUSINESS</td>\n",
       "      <td>0</td>\n",
       "      <td>1</td>\n",
       "      <td>1</td>\n",
       "      <td>0</td>\n",
       "    </tr>\n",
       "    <tr>\n",
       "      <th>1</th>\n",
       "      <td>93-1577</td>\n",
       "      <td>1994</td>\n",
       "      <td>9th</td>\n",
       "      <td>EconomicActivity</td>\n",
       "      <td>BUSINESS</td>\n",
       "      <td>BUSINESS</td>\n",
       "      <td>0</td>\n",
       "      <td>1</td>\n",
       "      <td>1</td>\n",
       "      <td>0</td>\n",
       "    </tr>\n",
       "    <tr>\n",
       "      <th>2</th>\n",
       "      <td>93-1612</td>\n",
       "      <td>1994</td>\n",
       "      <td>5th</td>\n",
       "      <td>EconomicActivity</td>\n",
       "      <td>BUSINESS</td>\n",
       "      <td>BUSINESS</td>\n",
       "      <td>0</td>\n",
       "      <td>1</td>\n",
       "      <td>1</td>\n",
       "      <td>0</td>\n",
       "    </tr>\n",
       "    <tr>\n",
       "      <th>3</th>\n",
       "      <td>94-623</td>\n",
       "      <td>1994</td>\n",
       "      <td>1st</td>\n",
       "      <td>EconomicActivity</td>\n",
       "      <td>BUSINESS</td>\n",
       "      <td>BUSINESS</td>\n",
       "      <td>0</td>\n",
       "      <td>1</td>\n",
       "      <td>0</td>\n",
       "      <td>0</td>\n",
       "    </tr>\n",
       "    <tr>\n",
       "      <th>4</th>\n",
       "      <td>94-1175</td>\n",
       "      <td>1995</td>\n",
       "      <td>7th</td>\n",
       "      <td>JudicialPower</td>\n",
       "      <td>BUSINESS</td>\n",
       "      <td>BUSINESS</td>\n",
       "      <td>0</td>\n",
       "      <td>1</td>\n",
       "      <td>0</td>\n",
       "      <td>0</td>\n",
       "    </tr>\n",
       "  </tbody>\n",
       "</table>\n",
       "</div>"
      ],
      "text/plain": [
       "    Docket  Term Circuit             Issue Petitioner Respondent  Unconst  \\\n",
       "0  93-1408  1994     2nd  EconomicActivity   BUSINESS   BUSINESS        0   \n",
       "1  93-1577  1994     9th  EconomicActivity   BUSINESS   BUSINESS        0   \n",
       "2  93-1612  1994     5th  EconomicActivity   BUSINESS   BUSINESS        0   \n",
       "3   94-623  1994     1st  EconomicActivity   BUSINESS   BUSINESS        0   \n",
       "4  94-1175  1995     7th     JudicialPower   BUSINESS   BUSINESS        0   \n",
       "\n",
       "   Reverse  LowerCourt_Lib  Respondent_encoded  \n",
       "0        1               1                   0  \n",
       "1        1               1                   0  \n",
       "2        1               1                   0  \n",
       "3        1               0                   0  \n",
       "4        1               0                   0  "
      ]
     },
     "execution_count": 31,
     "metadata": {},
     "output_type": "execute_result"
    }
   ],
   "source": [
    "temp_df, targets = encode_target(stevens, \"Respondent\", \"Respondent\")\n",
    "print(temp_df['Respondent_encoded'].value_counts())\n",
    "temp_df.head()"
   ]
  },
  {
   "cell_type": "code",
   "execution_count": 17,
   "metadata": {
    "collapsed": false
   },
   "outputs": [
    {
     "name": "stdout",
     "output_type": "stream",
     "text": [
      "396 170\n"
     ]
    }
   ],
   "source": [
    "Train, Test = train_test_split(stevens, test_size=0.3, random_state=3000)\n",
    "print(len(Train),len(Test))"
   ]
  },
  {
   "cell_type": "code",
   "execution_count": 18,
   "metadata": {
    "collapsed": false
   },
   "outputs": [
    {
     "ename": "ValueError",
     "evalue": "could not convert string to float: 'US'",
     "output_type": "error",
     "traceback": [
      "\u001b[1;31m---------------------------------------------------------------------------\u001b[0m",
      "\u001b[1;31mValueError\u001b[0m                                Traceback (most recent call last)",
      "\u001b[1;32m<ipython-input-18-e36e874cd235>\u001b[0m in \u001b[0;36m<module>\u001b[1;34m()\u001b[0m\n\u001b[0;32m      2\u001b[0m \u001b[0mX\u001b[0m \u001b[1;33m=\u001b[0m \u001b[0mTrain\u001b[0m\u001b[1;33m.\u001b[0m\u001b[0mdrop\u001b[0m\u001b[1;33m(\u001b[0m\u001b[1;34m'Reverse'\u001b[0m\u001b[1;33m,\u001b[0m\u001b[0maxis\u001b[0m\u001b[1;33m=\u001b[0m\u001b[1;36m1\u001b[0m\u001b[1;33m)\u001b[0m\u001b[1;33m\u001b[0m\u001b[0m\n\u001b[0;32m      3\u001b[0m \u001b[0my\u001b[0m \u001b[1;33m=\u001b[0m \u001b[0mTrain\u001b[0m\u001b[1;33m[\u001b[0m\u001b[1;33m[\u001b[0m\u001b[1;34m'Reverse'\u001b[0m\u001b[1;33m]\u001b[0m\u001b[1;33m]\u001b[0m\u001b[1;33m\u001b[0m\u001b[0m\n\u001b[1;32m----> 4\u001b[1;33m \u001b[0mmodel\u001b[0m\u001b[1;33m.\u001b[0m\u001b[0mfit\u001b[0m\u001b[1;33m(\u001b[0m\u001b[0mX\u001b[0m\u001b[1;33m,\u001b[0m\u001b[0my\u001b[0m\u001b[1;33m)\u001b[0m\u001b[1;33m\u001b[0m\u001b[0m\n\u001b[0m\u001b[0;32m      5\u001b[0m \u001b[1;33m\u001b[0m\u001b[0m\n\u001b[0;32m      6\u001b[0m FeaturesDF = pd.DataFrame({'Features': X.drop('Reverse',axis=1).columns,\n",
      "\u001b[1;32mC:\\Anaconda3\\lib\\site-packages\\sklearn\\tree\\tree.py\u001b[0m in \u001b[0;36mfit\u001b[1;34m(self, X, y, sample_weight, check_input, X_idx_sorted)\u001b[0m\n\u001b[0;32m    152\u001b[0m         \u001b[0mrandom_state\u001b[0m \u001b[1;33m=\u001b[0m \u001b[0mcheck_random_state\u001b[0m\u001b[1;33m(\u001b[0m\u001b[0mself\u001b[0m\u001b[1;33m.\u001b[0m\u001b[0mrandom_state\u001b[0m\u001b[1;33m)\u001b[0m\u001b[1;33m\u001b[0m\u001b[0m\n\u001b[0;32m    153\u001b[0m         \u001b[1;32mif\u001b[0m \u001b[0mcheck_input\u001b[0m\u001b[1;33m:\u001b[0m\u001b[1;33m\u001b[0m\u001b[0m\n\u001b[1;32m--> 154\u001b[1;33m             \u001b[0mX\u001b[0m \u001b[1;33m=\u001b[0m \u001b[0mcheck_array\u001b[0m\u001b[1;33m(\u001b[0m\u001b[0mX\u001b[0m\u001b[1;33m,\u001b[0m \u001b[0mdtype\u001b[0m\u001b[1;33m=\u001b[0m\u001b[0mDTYPE\u001b[0m\u001b[1;33m,\u001b[0m \u001b[0maccept_sparse\u001b[0m\u001b[1;33m=\u001b[0m\u001b[1;34m\"csc\"\u001b[0m\u001b[1;33m)\u001b[0m\u001b[1;33m\u001b[0m\u001b[0m\n\u001b[0m\u001b[0;32m    155\u001b[0m             \u001b[1;32mif\u001b[0m \u001b[0missparse\u001b[0m\u001b[1;33m(\u001b[0m\u001b[0mX\u001b[0m\u001b[1;33m)\u001b[0m\u001b[1;33m:\u001b[0m\u001b[1;33m\u001b[0m\u001b[0m\n\u001b[0;32m    156\u001b[0m                 \u001b[0mX\u001b[0m\u001b[1;33m.\u001b[0m\u001b[0msort_indices\u001b[0m\u001b[1;33m(\u001b[0m\u001b[1;33m)\u001b[0m\u001b[1;33m\u001b[0m\u001b[0m\n",
      "\u001b[1;32mC:\\Anaconda3\\lib\\site-packages\\sklearn\\utils\\validation.py\u001b[0m in \u001b[0;36mcheck_array\u001b[1;34m(array, accept_sparse, dtype, order, copy, force_all_finite, ensure_2d, allow_nd, ensure_min_samples, ensure_min_features, warn_on_dtype, estimator)\u001b[0m\n\u001b[0;32m    371\u001b[0m                                       force_all_finite)\n\u001b[0;32m    372\u001b[0m     \u001b[1;32melse\u001b[0m\u001b[1;33m:\u001b[0m\u001b[1;33m\u001b[0m\u001b[0m\n\u001b[1;32m--> 373\u001b[1;33m         \u001b[0marray\u001b[0m \u001b[1;33m=\u001b[0m \u001b[0mnp\u001b[0m\u001b[1;33m.\u001b[0m\u001b[0marray\u001b[0m\u001b[1;33m(\u001b[0m\u001b[0marray\u001b[0m\u001b[1;33m,\u001b[0m \u001b[0mdtype\u001b[0m\u001b[1;33m=\u001b[0m\u001b[0mdtype\u001b[0m\u001b[1;33m,\u001b[0m \u001b[0morder\u001b[0m\u001b[1;33m=\u001b[0m\u001b[0morder\u001b[0m\u001b[1;33m,\u001b[0m \u001b[0mcopy\u001b[0m\u001b[1;33m=\u001b[0m\u001b[0mcopy\u001b[0m\u001b[1;33m)\u001b[0m\u001b[1;33m\u001b[0m\u001b[0m\n\u001b[0m\u001b[0;32m    374\u001b[0m \u001b[1;33m\u001b[0m\u001b[0m\n\u001b[0;32m    375\u001b[0m         \u001b[1;32mif\u001b[0m \u001b[0mensure_2d\u001b[0m\u001b[1;33m:\u001b[0m\u001b[1;33m\u001b[0m\u001b[0m\n",
      "\u001b[1;31mValueError\u001b[0m: could not convert string to float: 'US'"
     ]
    }
   ],
   "source": [
    "model = DecisionTreeClassifier(max_depth = 3, min_samples_leaf=25)\n",
    "X = Train.drop('Reverse',axis=1)\n",
    "y = Train[['Reverse']]\n",
    "model.fit(X,y)\n",
    "\n",
    "FeaturesDF = pd.DataFrame({'Features': X.drop('Reverse',axis=1).columns,\n",
    "                           'Feature_Importance': model.feature_importances_})\n",
    "FeaturesDF.sort_values('Feature_Importance',inplace=True,ascending=False)\n",
    "FeaturesDF[:8]"
   ]
  },
  {
   "cell_type": "code",
   "execution_count": null,
   "metadata": {
    "collapsed": true
   },
   "outputs": [],
   "source": []
  }
 ],
 "metadata": {
  "kernelspec": {
   "display_name": "Python [Root]",
   "language": "python",
   "name": "Python [Root]"
  },
  "language_info": {
   "codemirror_mode": {
    "name": "ipython",
    "version": 3
   },
   "file_extension": ".py",
   "mimetype": "text/x-python",
   "name": "python",
   "nbconvert_exporter": "python",
   "pygments_lexer": "ipython3",
   "version": "3.5.2"
  }
 },
 "nbformat": 4,
 "nbformat_minor": 0
}
