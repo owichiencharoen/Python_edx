{
 "cells": [
  {
   "cell_type": "markdown",
   "metadata": {},
   "source": [
    "In this recitation, we will be using the dataset PollingData.csv. Please download this dataset to your computer, and save it in a location that you can easily navigate to in R. This data comes from RealClearPolitics.com.\n",
    "\n",
    "IMPORTANT NOTE: On some operating systems, the imputed results will be slightly different even if you set the random seed. This is just due to the randomess involved in the multiple imputation process. We've provided the imputed data here: PollingData_Imputed.csv. If your results are not matching after the imputation, you can use this dataset instead."
   ]
  },
  {
   "cell_type": "code",
   "execution_count": 1,
   "metadata": {
    "collapsed": true
   },
   "outputs": [],
   "source": [
    "import pandas as pd\n",
    "from pandas import Series, DataFrame\n",
    "import numpy as np\n",
    "import seaborn as sns\n",
    "sns.set_style('darkgrid')\n",
    "\n",
    "from scipy import stats\n",
    "import statsmodels.formula.api as smf\n",
    "import statsmodels.api as sm\n",
    "\n",
    "import matplotlib.pyplot as plt\n",
    "%matplotlib inline\n",
    "\n",
    "from sklearn.cross_validation import train_test_split\n",
    "# from sklearn import datasets, linear_model, metrics\n",
    "import sklearn.linear_model as lm\n",
    "\n",
    "#import itertools\n",
    "#import pandas_datareader.data as pdweb\n",
    "#from pandas_datareader.data import DataReader\n",
    "#from datetime import datetime\n",
    "#from io import StringIO"
   ]
  },
  {
   "cell_type": "code",
   "execution_count": 21,
   "metadata": {
    "collapsed": false
   },
   "outputs": [
    {
     "data": {
      "text/html": [
       "<div>\n",
       "<table border=\"1\" class=\"dataframe\">\n",
       "  <thead>\n",
       "    <tr style=\"text-align: right;\">\n",
       "      <th></th>\n",
       "      <th>State</th>\n",
       "      <th>Year</th>\n",
       "      <th>Rasmussen</th>\n",
       "      <th>SurveyUSA</th>\n",
       "      <th>DiffCount</th>\n",
       "      <th>PropR</th>\n",
       "      <th>Republican</th>\n",
       "    </tr>\n",
       "  </thead>\n",
       "  <tbody>\n",
       "    <tr>\n",
       "      <th>0</th>\n",
       "      <td>Alabama</td>\n",
       "      <td>2004</td>\n",
       "      <td>11</td>\n",
       "      <td>18</td>\n",
       "      <td>5</td>\n",
       "      <td>1.0</td>\n",
       "      <td>1</td>\n",
       "    </tr>\n",
       "    <tr>\n",
       "      <th>1</th>\n",
       "      <td>Alabama</td>\n",
       "      <td>2008</td>\n",
       "      <td>21</td>\n",
       "      <td>25</td>\n",
       "      <td>5</td>\n",
       "      <td>1.0</td>\n",
       "      <td>1</td>\n",
       "    </tr>\n",
       "    <tr>\n",
       "      <th>2</th>\n",
       "      <td>Alaska</td>\n",
       "      <td>2004</td>\n",
       "      <td>19</td>\n",
       "      <td>21</td>\n",
       "      <td>1</td>\n",
       "      <td>1.0</td>\n",
       "      <td>1</td>\n",
       "    </tr>\n",
       "    <tr>\n",
       "      <th>3</th>\n",
       "      <td>Alaska</td>\n",
       "      <td>2008</td>\n",
       "      <td>16</td>\n",
       "      <td>18</td>\n",
       "      <td>6</td>\n",
       "      <td>1.0</td>\n",
       "      <td>1</td>\n",
       "    </tr>\n",
       "    <tr>\n",
       "      <th>4</th>\n",
       "      <td>Arizona</td>\n",
       "      <td>2004</td>\n",
       "      <td>5</td>\n",
       "      <td>15</td>\n",
       "      <td>8</td>\n",
       "      <td>1.0</td>\n",
       "      <td>1</td>\n",
       "    </tr>\n",
       "  </tbody>\n",
       "</table>\n",
       "</div>"
      ],
      "text/plain": [
       "     State  Year  Rasmussen  SurveyUSA  DiffCount  PropR  Republican\n",
       "0  Alabama  2004         11         18          5    1.0           1\n",
       "1  Alabama  2008         21         25          5    1.0           1\n",
       "2   Alaska  2004         19         21          1    1.0           1\n",
       "3   Alaska  2008         16         18          6    1.0           1\n",
       "4  Arizona  2004          5         15          8    1.0           1"
      ]
     },
     "execution_count": 21,
     "metadata": {},
     "output_type": "execute_result"
    }
   ],
   "source": [
    "polling = pd.read_csv('../data/PollingData_Imputed.csv')\n",
    "polling[:5]"
   ]
  },
  {
   "cell_type": "code",
   "execution_count": 22,
   "metadata": {
    "collapsed": false
   },
   "outputs": [
    {
     "data": {
      "text/plain": [
       "State         0\n",
       "Year          0\n",
       "Rasmussen     0\n",
       "SurveyUSA     0\n",
       "DiffCount     0\n",
       "PropR         0\n",
       "Republican    0\n",
       "dtype: int64"
      ]
     },
     "execution_count": 22,
     "metadata": {},
     "output_type": "execute_result"
    }
   ],
   "source": [
    "polling.isnull().sum()"
   ]
  },
  {
   "cell_type": "code",
   "execution_count": 23,
   "metadata": {
    "collapsed": false
   },
   "outputs": [
    {
     "data": {
      "text/plain": [
       "<bound method DataFrame.info of               State  Year  Rasmussen  SurveyUSA  DiffCount     PropR  \\\n",
       "0           Alabama  2004         11         18          5  1.000000   \n",
       "1           Alabama  2008         21         25          5  1.000000   \n",
       "2            Alaska  2004         19         21          1  1.000000   \n",
       "3            Alaska  2008         16         18          6  1.000000   \n",
       "4           Arizona  2004          5         15          8  1.000000   \n",
       "5           Arizona  2008          5          3          9  1.000000   \n",
       "6           Arizona  2012          8          5          4  0.833333   \n",
       "7          Arkansas  2004          7          5          8  1.000000   \n",
       "8          Arkansas  2008         10          7          5  1.000000   \n",
       "9          Arkansas  2012         13         21          2  1.000000   \n",
       "10       California  2004        -11        -11         -8  0.000000   \n",
       "11       California  2008        -27        -24         -5  0.000000   \n",
       "12       California  2012        -12        -14         -6  0.000000   \n",
       "13         Colorado  2004          5          3          9  1.000000   \n",
       "14         Colorado  2008         -4         -1        -15  0.000000   \n",
       "15         Colorado  2012          3         -2         -5  0.307692   \n",
       "16      Connecticut  2004        -20        -33         -3  0.000000   \n",
       "17      Connecticut  2008        -17        -16         -4  0.000000   \n",
       "18      Connecticut  2012         -7        -13         -8  0.000000   \n",
       "19         Delaware  2004        -20        -16         -2  0.000000   \n",
       "20         Delaware  2008        -15        -30         -4  0.000000   \n",
       "21          Florida  2004          3          1          0  0.500000   \n",
       "22          Florida  2008          1         -3        -13  0.157895   \n",
       "23          Florida  2012          2          0          6  0.666667   \n",
       "24          Georgia  2004          8         12          4  1.000000   \n",
       "25          Georgia  2008          5          7          9  1.000000   \n",
       "26          Georgia  2012          5          8          4  1.000000   \n",
       "27           Hawaii  2004         12          4          2  0.750000   \n",
       "28           Hawaii  2008        -41        -24         -1  0.000000   \n",
       "29           Hawaii  2012        -22        -24         -2  0.000000   \n",
       "..              ...   ...        ...        ...        ...       ...   \n",
       "115  South Carolina  2008         11          8          5  1.000000   \n",
       "116  South Carolina  2012         19         23          1  1.000000   \n",
       "117    South Dakota  2004         10          8          4  1.000000   \n",
       "118    South Dakota  2008          9          7          4  1.000000   \n",
       "119    South Dakota  2012          9         16          1  1.000000   \n",
       "120       Tennessee  2004          6         18          7  1.000000   \n",
       "121       Tennessee  2008         12          8          5  1.000000   \n",
       "122       Tennessee  2012         32         24          1  1.000000   \n",
       "123           Texas  2004         19         22          2  1.000000   \n",
       "124           Texas  2008         10          7          5  1.000000   \n",
       "125           Texas  2012          9         12          4  1.000000   \n",
       "126            Utah  2004         11         18          3  1.000000   \n",
       "127            Utah  2008         32         30          3  1.000000   \n",
       "128            Utah  2012         34         22          1  1.000000   \n",
       "129         Vermont  2004        -15        -16         -2  0.000000   \n",
       "130         Vermont  2008        -24        -24         -2  0.000000   \n",
       "131        Virginia  2004          6          4          5  1.000000   \n",
       "132        Virginia  2008         -4         -4        -18  0.000000   \n",
       "133        Virginia  2012          2         -2         -4  0.333333   \n",
       "134      Washington  2004         -8         -4        -10  0.000000   \n",
       "135      Washington  2008        -11        -16         -6  0.000000   \n",
       "136      Washington  2012        -13        -14         -8  0.000000   \n",
       "137   West Virginia  2004          6          5          6  1.000000   \n",
       "138   West Virginia  2008          9         15         11  1.000000   \n",
       "139   West Virginia  2012         14         19          1  1.000000   \n",
       "140       Wisconsin  2004         -1         -5          1  0.533333   \n",
       "141       Wisconsin  2008         -7        -16        -12  0.000000   \n",
       "142       Wisconsin  2012          0         -4         -8  0.000000   \n",
       "143         Wyoming  2004         31         30          1  1.000000   \n",
       "144         Wyoming  2008         19         21          3  1.000000   \n",
       "\n",
       "     Republican  \n",
       "0             1  \n",
       "1             1  \n",
       "2             1  \n",
       "3             1  \n",
       "4             1  \n",
       "5             1  \n",
       "6             1  \n",
       "7             1  \n",
       "8             1  \n",
       "9             1  \n",
       "10            0  \n",
       "11            0  \n",
       "12            0  \n",
       "13            1  \n",
       "14            0  \n",
       "15            0  \n",
       "16            0  \n",
       "17            0  \n",
       "18            0  \n",
       "19            0  \n",
       "20            0  \n",
       "21            1  \n",
       "22            0  \n",
       "23            0  \n",
       "24            1  \n",
       "25            1  \n",
       "26            1  \n",
       "27            0  \n",
       "28            0  \n",
       "29            0  \n",
       "..          ...  \n",
       "115           1  \n",
       "116           1  \n",
       "117           1  \n",
       "118           1  \n",
       "119           1  \n",
       "120           1  \n",
       "121           1  \n",
       "122           1  \n",
       "123           1  \n",
       "124           1  \n",
       "125           1  \n",
       "126           1  \n",
       "127           1  \n",
       "128           1  \n",
       "129           0  \n",
       "130           0  \n",
       "131           1  \n",
       "132           0  \n",
       "133           0  \n",
       "134           0  \n",
       "135           0  \n",
       "136           0  \n",
       "137           1  \n",
       "138           1  \n",
       "139           1  \n",
       "140           0  \n",
       "141           0  \n",
       "142           0  \n",
       "143           1  \n",
       "144           1  \n",
       "\n",
       "[145 rows x 7 columns]>"
      ]
     },
     "execution_count": 23,
     "metadata": {},
     "output_type": "execute_result"
    }
   ],
   "source": [
    "polling.info"
   ]
  },
  {
   "cell_type": "code",
   "execution_count": 5,
   "metadata": {
    "collapsed": false
   },
   "outputs": [
    {
     "data": {
      "text/html": [
       "<div>\n",
       "<table border=\"1\" class=\"dataframe\">\n",
       "  <thead>\n",
       "    <tr style=\"text-align: right;\">\n",
       "      <th></th>\n",
       "      <th>Rasmussen</th>\n",
       "      <th>SurveyUSA</th>\n",
       "      <th>PropR</th>\n",
       "      <th>DiffCount</th>\n",
       "    </tr>\n",
       "  </thead>\n",
       "  <tbody>\n",
       "    <tr>\n",
       "      <th>count</th>\n",
       "      <td>145.000000</td>\n",
       "      <td>145.000000</td>\n",
       "      <td>145.000000</td>\n",
       "      <td>145.000000</td>\n",
       "    </tr>\n",
       "    <tr>\n",
       "      <th>mean</th>\n",
       "      <td>2.048276</td>\n",
       "      <td>1.358621</td>\n",
       "      <td>0.525943</td>\n",
       "      <td>-1.268966</td>\n",
       "    </tr>\n",
       "    <tr>\n",
       "      <th>std</th>\n",
       "      <td>15.427848</td>\n",
       "      <td>16.611440</td>\n",
       "      <td>0.466495</td>\n",
       "      <td>6.353318</td>\n",
       "    </tr>\n",
       "    <tr>\n",
       "      <th>min</th>\n",
       "      <td>-41.000000</td>\n",
       "      <td>-33.000000</td>\n",
       "      <td>0.000000</td>\n",
       "      <td>-19.000000</td>\n",
       "    </tr>\n",
       "    <tr>\n",
       "      <th>25%</th>\n",
       "      <td>-10.000000</td>\n",
       "      <td>-11.000000</td>\n",
       "      <td>0.000000</td>\n",
       "      <td>-6.000000</td>\n",
       "    </tr>\n",
       "    <tr>\n",
       "      <th>50%</th>\n",
       "      <td>3.000000</td>\n",
       "      <td>1.000000</td>\n",
       "      <td>0.625000</td>\n",
       "      <td>1.000000</td>\n",
       "    </tr>\n",
       "    <tr>\n",
       "      <th>75%</th>\n",
       "      <td>12.000000</td>\n",
       "      <td>16.000000</td>\n",
       "      <td>1.000000</td>\n",
       "      <td>4.000000</td>\n",
       "    </tr>\n",
       "    <tr>\n",
       "      <th>max</th>\n",
       "      <td>39.000000</td>\n",
       "      <td>30.000000</td>\n",
       "      <td>1.000000</td>\n",
       "      <td>11.000000</td>\n",
       "    </tr>\n",
       "  </tbody>\n",
       "</table>\n",
       "</div>"
      ],
      "text/plain": [
       "        Rasmussen   SurveyUSA       PropR   DiffCount\n",
       "count  145.000000  145.000000  145.000000  145.000000\n",
       "mean     2.048276    1.358621    0.525943   -1.268966\n",
       "std     15.427848   16.611440    0.466495    6.353318\n",
       "min    -41.000000  -33.000000    0.000000  -19.000000\n",
       "25%    -10.000000  -11.000000    0.000000   -6.000000\n",
       "50%      3.000000    1.000000    0.625000    1.000000\n",
       "75%     12.000000   16.000000    1.000000    4.000000\n",
       "max     39.000000   30.000000    1.000000   11.000000"
      ]
     },
     "execution_count": 5,
     "metadata": {},
     "output_type": "execute_result"
    }
   ],
   "source": [
    "simple = polling[['Rasmussen','SurveyUSA','PropR','DiffCount']]\n",
    "simple.describe()"
   ]
  },
  {
   "cell_type": "code",
   "execution_count": 14,
   "metadata": {
    "collapsed": false
   },
   "outputs": [
    {
     "data": {
      "text/plain": [
       "Rasmussen    0\n",
       "SurveyUSA    0\n",
       "PropR        0\n",
       "DiffCount    0\n",
       "dtype: int64"
      ]
     },
     "execution_count": 14,
     "metadata": {},
     "output_type": "execute_result"
    }
   ],
   "source": [
    "simple.isnull().sum()"
   ]
  },
  {
   "cell_type": "code",
   "execution_count": 16,
   "metadata": {
    "collapsed": false
   },
   "outputs": [
    {
     "data": {
      "text/plain": [
       "Rasmussen    145\n",
       "SurveyUSA    145\n",
       "PropR        145\n",
       "DiffCount    145\n",
       "dtype: int64"
      ]
     },
     "execution_count": 16,
     "metadata": {},
     "output_type": "execute_result"
    }
   ],
   "source": [
    "simple.notnull().sum()"
   ]
  },
  {
   "cell_type": "code",
   "execution_count": 17,
   "metadata": {
    "collapsed": false
   },
   "outputs": [
    {
     "data": {
      "text/html": [
       "<div>\n",
       "<table border=\"1\" class=\"dataframe\">\n",
       "  <thead>\n",
       "    <tr style=\"text-align: right;\">\n",
       "      <th></th>\n",
       "      <th>State</th>\n",
       "      <th>Year</th>\n",
       "      <th>Rasmussen</th>\n",
       "      <th>SurveyUSA</th>\n",
       "      <th>DiffCount</th>\n",
       "      <th>PropR</th>\n",
       "      <th>Republican</th>\n",
       "    </tr>\n",
       "  </thead>\n",
       "  <tbody>\n",
       "    <tr>\n",
       "      <th>0</th>\n",
       "      <td>Alabama</td>\n",
       "      <td>2004</td>\n",
       "      <td>11</td>\n",
       "      <td>18</td>\n",
       "      <td>5</td>\n",
       "      <td>1.0</td>\n",
       "      <td>1</td>\n",
       "    </tr>\n",
       "    <tr>\n",
       "      <th>1</th>\n",
       "      <td>Alabama</td>\n",
       "      <td>2008</td>\n",
       "      <td>21</td>\n",
       "      <td>25</td>\n",
       "      <td>5</td>\n",
       "      <td>1.0</td>\n",
       "      <td>1</td>\n",
       "    </tr>\n",
       "    <tr>\n",
       "      <th>2</th>\n",
       "      <td>Alaska</td>\n",
       "      <td>2004</td>\n",
       "      <td>19</td>\n",
       "      <td>21</td>\n",
       "      <td>1</td>\n",
       "      <td>1.0</td>\n",
       "      <td>1</td>\n",
       "    </tr>\n",
       "    <tr>\n",
       "      <th>3</th>\n",
       "      <td>Alaska</td>\n",
       "      <td>2008</td>\n",
       "      <td>16</td>\n",
       "      <td>18</td>\n",
       "      <td>6</td>\n",
       "      <td>1.0</td>\n",
       "      <td>1</td>\n",
       "    </tr>\n",
       "    <tr>\n",
       "      <th>4</th>\n",
       "      <td>Arizona</td>\n",
       "      <td>2004</td>\n",
       "      <td>5</td>\n",
       "      <td>15</td>\n",
       "      <td>8</td>\n",
       "      <td>1.0</td>\n",
       "      <td>1</td>\n",
       "    </tr>\n",
       "  </tbody>\n",
       "</table>\n",
       "</div>"
      ],
      "text/plain": [
       "     State  Year  Rasmussen  SurveyUSA  DiffCount  PropR  Republican\n",
       "0  Alabama  2004         11         18          5    1.0           1\n",
       "1  Alabama  2008         21         25          5    1.0           1\n",
       "2   Alaska  2004         19         21          1    1.0           1\n",
       "3   Alaska  2008         16         18          6    1.0           1\n",
       "4  Arizona  2004          5         15          8    1.0           1"
      ]
     },
     "execution_count": 17,
     "metadata": {},
     "output_type": "execute_result"
    }
   ],
   "source": [
    "imputed = pd.read_csv('../data/PollingData_Imputed.csv')\n",
    "imputed[:5]"
   ]
  },
  {
   "cell_type": "code",
   "execution_count": 24,
   "metadata": {
    "collapsed": true
   },
   "outputs": [],
   "source": [
    "polling['Rasmussen'] = imputed['Rasmussen']\n",
    "polling['SurveyUSA'] = imputed['SurveyUSA']"
   ]
  },
  {
   "cell_type": "code",
   "execution_count": 25,
   "metadata": {
    "collapsed": false
   },
   "outputs": [
    {
     "data": {
      "text/plain": [
       "State         0\n",
       "Year          0\n",
       "Rasmussen     0\n",
       "SurveyUSA     0\n",
       "DiffCount     0\n",
       "PropR         0\n",
       "Republican    0\n",
       "dtype: int64"
      ]
     },
     "execution_count": 25,
     "metadata": {},
     "output_type": "execute_result"
    }
   ],
   "source": [
    "polling.isnull().sum()"
   ]
  },
  {
   "cell_type": "code",
   "execution_count": 31,
   "metadata": {
    "collapsed": false
   },
   "outputs": [
    {
     "data": {
      "text/plain": [
       "Year\n",
       "2004    50\n",
       "2008    50\n",
       "2012    45\n",
       "Name: __dummy__, dtype: int64"
      ]
     },
     "execution_count": 31,
     "metadata": {},
     "output_type": "execute_result"
    }
   ],
   "source": [
    "# we have 145 rows, when we should have 150 (50 states * 3 cycles of elections)\n",
    "\n",
    "pd.crosstab(index=[], columns=polling['Year'])"
   ]
  },
  {
   "cell_type": "code",
   "execution_count": null,
   "metadata": {
    "collapsed": true
   },
   "outputs": [],
   "source": []
  }
 ],
 "metadata": {
  "kernelspec": {
   "display_name": "Python 3",
   "language": "python",
   "name": "python3"
  },
  "language_info": {
   "codemirror_mode": {
    "name": "ipython",
    "version": 3
   },
   "file_extension": ".py",
   "mimetype": "text/x-python",
   "name": "python",
   "nbconvert_exporter": "python",
   "pygments_lexer": "ipython3",
   "version": "3.5.1"
  }
 },
 "nbformat": 4,
 "nbformat_minor": 0
}
