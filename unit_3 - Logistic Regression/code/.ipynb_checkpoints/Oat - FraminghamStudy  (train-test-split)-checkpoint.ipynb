{
 "cells": [
  {
   "cell_type": "code",
   "execution_count": 84,
   "metadata": {
    "collapsed": true
   },
   "outputs": [],
   "source": [
    "import pandas as pd\n",
    "from pandas import Series, DataFrame\n",
    "import numpy as np\n",
    "import seaborn as sns\n",
    "sns.set_style('darkgrid')\n",
    "\n",
    "from scipy import stats\n",
    "import statsmodels.formula.api as smf\n",
    "import statsmodels.api as sm\n",
    "\n",
    "import matplotlib.pyplot as plt\n",
    "%matplotlib inline\n",
    "\n",
    "from sklearn.cross_validation import train_test_split\n",
    "# from sklearn import datasets, dummy, linear_model, metrics\n",
    "import sklearn.linear_model as lm\n",
    "from sklearn import dummy, metrics\n",
    "\n",
    "#import itertools\n",
    "#import pandas_datareader.data as pdweb\n",
    "#from pandas_datareader.data import DataReader\n",
    "#from datetime import datetime\n",
    "#from io import StringIO"
   ]
  },
  {
   "cell_type": "code",
   "execution_count": 2,
   "metadata": {
    "collapsed": false
   },
   "outputs": [
    {
     "name": "stdout",
     "output_type": "stream",
     "text": [
      "<class 'pandas.core.frame.DataFrame'>\n",
      "RangeIndex: 4240 entries, 0 to 4239\n",
      "Data columns (total 16 columns):\n",
      "male               4240 non-null int64\n",
      "age                4240 non-null int64\n",
      "education          4135 non-null float64\n",
      "currentSmoker      4240 non-null int64\n",
      "cigsPerDay         4211 non-null float64\n",
      "BPMeds             4187 non-null float64\n",
      "prevalentStroke    4240 non-null int64\n",
      "prevalentHyp       4240 non-null int64\n",
      "diabetes           4240 non-null int64\n",
      "totChol            4190 non-null float64\n",
      "sysBP              4240 non-null float64\n",
      "diaBP              4240 non-null float64\n",
      "BMI                4221 non-null float64\n",
      "heartRate          4239 non-null float64\n",
      "glucose            3852 non-null float64\n",
      "TenYearCHD         4240 non-null int64\n",
      "dtypes: float64(9), int64(7)\n",
      "memory usage: 530.1 KB\n"
     ]
    }
   ],
   "source": [
    "raw_df = pd.read_csv('../data/framingham.csv')\n",
    "raw_df.info()"
   ]
  },
  {
   "cell_type": "code",
   "execution_count": 30,
   "metadata": {
    "collapsed": false
   },
   "outputs": [
    {
     "name": "stdout",
     "output_type": "stream",
     "text": [
      "naive prediction accuracy is 0.847731\n"
     ]
    },
    {
     "data": {
      "text/html": [
       "<div>\n",
       "<table border=\"1\" class=\"dataframe\">\n",
       "  <thead>\n",
       "    <tr style=\"text-align: right;\">\n",
       "      <th>Row_Count</th>\n",
       "      <th>3658</th>\n",
       "    </tr>\n",
       "    <tr>\n",
       "      <th>TenYearCHD</th>\n",
       "      <th></th>\n",
       "    </tr>\n",
       "  </thead>\n",
       "  <tbody>\n",
       "    <tr>\n",
       "      <th>0</th>\n",
       "      <td>3101</td>\n",
       "    </tr>\n",
       "    <tr>\n",
       "      <th>1</th>\n",
       "      <td>557</td>\n",
       "    </tr>\n",
       "  </tbody>\n",
       "</table>\n",
       "</div>"
      ],
      "text/plain": [
       "Row_Count   3658\n",
       "TenYearCHD      \n",
       "0           3101\n",
       "1            557"
      ]
     },
     "execution_count": 30,
     "metadata": {},
     "output_type": "execute_result"
    }
   ],
   "source": [
    "raw_df.dropna(inplace=True)\n",
    "print('naive prediction accuracy is {:4f}'.format(len(raw_df[raw_df['TenYearCHD']==0])/len(raw_df)))\n",
    "pd.crosstab(raw_df['TenYearCHD'], raw_df['TenYearCHD'].count(), colnames=['Row_Count'])"
   ]
  },
  {
   "cell_type": "code",
   "execution_count": 106,
   "metadata": {
    "collapsed": false
   },
   "outputs": [
    {
     "name": "stdout",
     "output_type": "stream",
     "text": [
      "train has: 2377 \n",
      "test has: 1281\n"
     ]
    }
   ],
   "source": [
    "# Now let's split our data into train & test, set seed to 1000\n",
    "# sample.split in R\n",
    "\n",
    "train, test = train_test_split(raw_df, test_size=0.35, random_state=1000)\n",
    "print('train has:',len(train),'\\ntest has:',len(test))"
   ]
  },
  {
   "cell_type": "code",
   "execution_count": 11,
   "metadata": {
    "collapsed": false
   },
   "outputs": [
    {
     "data": {
      "text/plain": [
       "Index(['male', 'age', 'education', 'currentSmoker', 'cigsPerDay', 'BPMeds',\n",
       "       'prevalentStroke', 'prevalentHyp', 'diabetes', 'totChol', 'sysBP',\n",
       "       'diaBP', 'BMI', 'heartRate', 'glucose', 'TenYearCHD'],\n",
       "      dtype='object')"
      ]
     },
     "execution_count": 11,
     "metadata": {},
     "output_type": "execute_result"
    }
   ],
   "source": [
    "train.columns"
   ]
  },
  {
   "cell_type": "code",
   "execution_count": 86,
   "metadata": {
    "collapsed": false
   },
   "outputs": [
    {
     "data": {
      "text/html": [
       "<table class=\"simpletable\">\n",
       "<caption>Generalized Linear Model Regression Results</caption>\n",
       "<tr>\n",
       "  <th>Dep. Variable:</th>     <td>TenYearCHD</td>    <th>  No. Observations:  </th>  <td>  2377</td> \n",
       "</tr>\n",
       "<tr>\n",
       "  <th>Model:</th>                 <td>GLM</td>       <th>  Df Residuals:      </th>  <td>  2361</td> \n",
       "</tr>\n",
       "<tr>\n",
       "  <th>Model Family:</th>       <td>Binomial</td>     <th>  Df Model:          </th>  <td>    15</td> \n",
       "</tr>\n",
       "<tr>\n",
       "  <th>Link Function:</th>        <td>logit</td>      <th>  Scale:             </th>    <td>1.0</td>  \n",
       "</tr>\n",
       "<tr>\n",
       "  <th>Method:</th>               <td>IRLS</td>       <th>  Log-Likelihood:    </th> <td> -870.77</td>\n",
       "</tr>\n",
       "<tr>\n",
       "  <th>Date:</th>           <td>Fri, 29 Jul 2016</td> <th>  Deviance:          </th> <td>  1741.5</td>\n",
       "</tr>\n",
       "<tr>\n",
       "  <th>Time:</th>               <td>15:38:42</td>     <th>  Pearson chi2:      </th> <td>2.40e+03</td>\n",
       "</tr>\n",
       "<tr>\n",
       "  <th>No. Iterations:</th>         <td>8</td>        <th>                     </th>     <td> </td>   \n",
       "</tr>\n",
       "</table>\n",
       "<table class=\"simpletable\">\n",
       "<tr>\n",
       "         <td></td>            <th>coef</th>     <th>std err</th>      <th>z</th>      <th>P>|z|</th> <th>[95.0% Conf. Int.]</th> \n",
       "</tr>\n",
       "<tr>\n",
       "  <th>Intercept</th>       <td>   -9.8803</td> <td>    0.933</td> <td>  -10.592</td> <td> 0.000</td> <td>  -11.709    -8.052</td>\n",
       "</tr>\n",
       "<tr>\n",
       "  <th>male</th>            <td>    0.7192</td> <td>    0.138</td> <td>    5.201</td> <td> 0.000</td> <td>    0.448     0.990</td>\n",
       "</tr>\n",
       "<tr>\n",
       "  <th>age</th>             <td>    0.0734</td> <td>    0.008</td> <td>    8.648</td> <td> 0.000</td> <td>    0.057     0.090</td>\n",
       "</tr>\n",
       "<tr>\n",
       "  <th>education</th>       <td>   -0.0186</td> <td>    0.061</td> <td>   -0.304</td> <td> 0.761</td> <td>   -0.138     0.101</td>\n",
       "</tr>\n",
       "<tr>\n",
       "  <th>currentSmoker</th>   <td>   -0.0119</td> <td>    0.199</td> <td>   -0.060</td> <td> 0.952</td> <td>   -0.402     0.378</td>\n",
       "</tr>\n",
       "<tr>\n",
       "  <th>cigsPerDay</th>      <td>    0.0160</td> <td>    0.008</td> <td>    2.025</td> <td> 0.043</td> <td>    0.001     0.032</td>\n",
       "</tr>\n",
       "<tr>\n",
       "  <th>BPMeds</th>          <td>    0.2245</td> <td>    0.293</td> <td>    0.767</td> <td> 0.443</td> <td>   -0.349     0.798</td>\n",
       "</tr>\n",
       "<tr>\n",
       "  <th>prevalentStroke</th> <td>    1.1207</td> <td>    0.528</td> <td>    2.123</td> <td> 0.034</td> <td>    0.086     2.155</td>\n",
       "</tr>\n",
       "<tr>\n",
       "  <th>prevalentHyp</th>    <td>    0.0755</td> <td>    0.174</td> <td>    0.434</td> <td> 0.664</td> <td>   -0.265     0.416</td>\n",
       "</tr>\n",
       "<tr>\n",
       "  <th>diabetes</th>        <td>   -0.1202</td> <td>    0.416</td> <td>   -0.289</td> <td> 0.773</td> <td>   -0.937     0.696</td>\n",
       "</tr>\n",
       "<tr>\n",
       "  <th>totChol</th>         <td>    0.0036</td> <td>    0.001</td> <td>    2.575</td> <td> 0.010</td> <td>    0.001     0.006</td>\n",
       "</tr>\n",
       "<tr>\n",
       "  <th>sysBP</th>           <td>    0.0148</td> <td>    0.005</td> <td>    3.044</td> <td> 0.002</td> <td>    0.005     0.024</td>\n",
       "</tr>\n",
       "<tr>\n",
       "  <th>diaBP</th>           <td>   -0.0044</td> <td>    0.008</td> <td>   -0.527</td> <td> 0.598</td> <td>   -0.021     0.012</td>\n",
       "</tr>\n",
       "<tr>\n",
       "  <th>BMI</th>             <td>    0.0138</td> <td>    0.016</td> <td>    0.850</td> <td> 0.396</td> <td>   -0.018     0.046</td>\n",
       "</tr>\n",
       "<tr>\n",
       "  <th>heartRate</th>       <td>    0.0033</td> <td>    0.005</td> <td>    0.640</td> <td> 0.522</td> <td>   -0.007     0.014</td>\n",
       "</tr>\n",
       "<tr>\n",
       "  <th>glucose</th>         <td>    0.0082</td> <td>    0.003</td> <td>    2.818</td> <td> 0.005</td> <td>    0.002     0.014</td>\n",
       "</tr>\n",
       "</table>"
      ],
      "text/plain": [
       "<class 'statsmodels.iolib.summary.Summary'>\n",
       "\"\"\"\n",
       "                 Generalized Linear Model Regression Results                  \n",
       "==============================================================================\n",
       "Dep. Variable:             TenYearCHD   No. Observations:                 2377\n",
       "Model:                            GLM   Df Residuals:                     2361\n",
       "Model Family:                Binomial   Df Model:                           15\n",
       "Link Function:                  logit   Scale:                             1.0\n",
       "Method:                          IRLS   Log-Likelihood:                -870.77\n",
       "Date:                Fri, 29 Jul 2016   Deviance:                       1741.5\n",
       "Time:                        15:38:42   Pearson chi2:                 2.40e+03\n",
       "No. Iterations:                     8                                         \n",
       "===================================================================================\n",
       "                      coef    std err          z      P>|z|      [95.0% Conf. Int.]\n",
       "-----------------------------------------------------------------------------------\n",
       "Intercept          -9.8803      0.933    -10.592      0.000       -11.709    -8.052\n",
       "male                0.7192      0.138      5.201      0.000         0.448     0.990\n",
       "age                 0.0734      0.008      8.648      0.000         0.057     0.090\n",
       "education          -0.0186      0.061     -0.304      0.761        -0.138     0.101\n",
       "currentSmoker      -0.0119      0.199     -0.060      0.952        -0.402     0.378\n",
       "cigsPerDay          0.0160      0.008      2.025      0.043         0.001     0.032\n",
       "BPMeds              0.2245      0.293      0.767      0.443        -0.349     0.798\n",
       "prevalentStroke     1.1207      0.528      2.123      0.034         0.086     2.155\n",
       "prevalentHyp        0.0755      0.174      0.434      0.664        -0.265     0.416\n",
       "diabetes           -0.1202      0.416     -0.289      0.773        -0.937     0.696\n",
       "totChol             0.0036      0.001      2.575      0.010         0.001     0.006\n",
       "sysBP               0.0148      0.005      3.044      0.002         0.005     0.024\n",
       "diaBP              -0.0044      0.008     -0.527      0.598        -0.021     0.012\n",
       "BMI                 0.0138      0.016      0.850      0.396        -0.018     0.046\n",
       "heartRate           0.0033      0.005      0.640      0.522        -0.007     0.014\n",
       "glucose             0.0082      0.003      2.818      0.005         0.002     0.014\n",
       "===================================================================================\n",
       "\"\"\""
      ]
     },
     "execution_count": 86,
     "metadata": {},
     "output_type": "execute_result"
    }
   ],
   "source": [
    "framinghamLog = smf.GLM.from_formula(formula='TenYearCHD ~ male+age+education+currentSmoker+cigsPerDay+ \\\n",
    "BPMeds+prevalentStroke+prevalentHyp+diabetes+totChol+sysBP+diaBP+BMI+heartRate+glucose', data=train, family=sm.families.Binomial()).fit()\n",
    "framinghamLog.summary()\n",
    "\n",
    "# model = lm.LogisticRegression()\n",
    "# model.fit(train[['male', 'age', 'education', 'currentSmoker', 'cigsPerDay', 'BPMeds',\n",
    "#        'prevalentStroke', 'prevalentHyp', 'diabetes', 'totChol', 'sysBP',\n",
    "#        'diaBP', 'BMI', 'heartRate', 'glucose']],train['TenYearCHD'])"
   ]
  },
  {
   "cell_type": "code",
   "execution_count": 38,
   "metadata": {
    "collapsed": false
   },
   "outputs": [
    {
     "name": "stdout",
     "output_type": "stream",
     "text": [
      "min:  0.0111892680795\n",
      "mean:  0.147342015964\n",
      "median:  0.110215567075\n",
      "max:  0.93840758005\n"
     ]
    }
   ],
   "source": [
    "predictTest = framinghamLog.predict(test)\n",
    "print('min: ',predictTest.min())\n",
    "print('mean: ',predictTest.mean())\n",
    "print('median: ',np.median(predictTest))\n",
    "print('max: ',predictTest.max())"
   ]
  },
  {
   "cell_type": "code",
   "execution_count": 46,
   "metadata": {
    "collapsed": false
   },
   "outputs": [
    {
     "data": {
      "text/html": [
       "<div>\n",
       "<table border=\"1\" class=\"dataframe\">\n",
       "  <thead>\n",
       "    <tr style=\"text-align: right;\">\n",
       "      <th>Pred_TF</th>\n",
       "      <th>False</th>\n",
       "      <th>True</th>\n",
       "    </tr>\n",
       "    <tr>\n",
       "      <th>Actual</th>\n",
       "      <th></th>\n",
       "      <th></th>\n",
       "    </tr>\n",
       "  </thead>\n",
       "  <tbody>\n",
       "    <tr>\n",
       "      <th>0</th>\n",
       "      <td>1069</td>\n",
       "      <td>10</td>\n",
       "    </tr>\n",
       "    <tr>\n",
       "      <th>1</th>\n",
       "      <td>191</td>\n",
       "      <td>11</td>\n",
       "    </tr>\n",
       "  </tbody>\n",
       "</table>\n",
       "</div>"
      ],
      "text/plain": [
       "Pred_TF  False  True \n",
       "Actual               \n",
       "0         1069     10\n",
       "1          191     11"
      ]
     },
     "execution_count": 46,
     "metadata": {},
     "output_type": "execute_result"
    }
   ],
   "source": [
    "# Now make a confusion matrix\n",
    "\n",
    "# (1) merge prediction results with test actual data\n",
    "ConfuMatrix_df = pd.DataFrame(predictTest, columns=['My_Pred_Proba'])\n",
    "temp2 = pd.DataFrame(test['TenYearCHD'].tolist(), columns=['Actual'])\n",
    "ConfuMatrix_df = ConfuMatrix_df.join(temp2)\n",
    "del temp2\n",
    "\n",
    "# (2) set threshold and translate proba into classes\n",
    "threshold = 0.5\n",
    "ConfuMatrix_df['Pred_TF']=ConfuMatrix_df['My_Pred_Proba']>threshold\n",
    "del threshold\n",
    "\n",
    "# (3) draw the confusion matrix\n",
    "pd.crosstab(ConfuMatrix_df['Actual'],ConfuMatrix_df['Pred_TF'])\n",
    "# pd.pivot_table(ConfuMatrix_df,index='Actual',columns='Pred_TF',aggfunc='count')"
   ]
  },
  {
   "cell_type": "code",
   "execution_count": 82,
   "metadata": {
    "collapsed": false
   },
   "outputs": [
    {
     "name": "stdout",
     "output_type": "stream",
     "text": [
      "***OWEN'S CONFUSION SUMMARY***\n",
      "\n",
      "# True Positive: 11\n",
      "# False Positive: 10\n",
      "# True Negative: 1068\n",
      "# False Negative: 191\n",
      "Accuracy: 0.84296875\n",
      "Naive Baseline Method: 0.8423106947697112\n",
      "Sensitivity/Recall: 0.054455445544554455\n",
      "Specificity: 0.9907235621521335\n",
      "Precision: 0.5238095238095238\n",
      "F-Measure: 0.09865470852017937\n"
     ]
    }
   ],
   "source": [
    "print(\"***OWEN'S CONFUSION SUMMARY***\\n\")\n",
    "\n",
    "TP = np.sum(ConfuMatrix_df[ConfuMatrix_df['Actual']==1]['Pred_TF'])\n",
    "print('# True Positive: {}'.format(TP))\n",
    "FP = np.sum(ConfuMatrix_df[ConfuMatrix_df['Actual']==0]['Pred_TF'])\n",
    "print('# False Positive: {}'.format(FP))\n",
    "TN = len(ConfuMatrix_df[ConfuMatrix_df['Actual']==0]) - np.sum(ConfuMatrix_df[ConfuMatrix_df['Actual']==1]['Pred_TF'])\n",
    "print('# True Negative: {}'.format(TN))\n",
    "FN = len(ConfuMatrix_df[ConfuMatrix_df['Actual']==1]) - np.sum(ConfuMatrix_df[ConfuMatrix_df['Actual']==1]['Pred_TF'])\n",
    "print('# False Negative: {}'.format(FN))\n",
    "Accuracy = ((TP+TN)/(TP+TN+FP+FN))\n",
    "print('Accuracy: {}'.format(Accuracy))\n",
    "naive = max(len(ConfuMatrix_df[ConfuMatrix_df['Actual']==0]),len(ConfuMatrix_df[ConfuMatrix_df['Actual']==1]))/len(ConfuMatrix_df)\n",
    "print('Naive Baseline Method: {}'.format(naive))\n",
    "Sensitivity = (TP/(TP+FN))\n",
    "print('Sensitivity/Recall: {}'.format(Sensitivity))\n",
    "Specificity = (TN/(TN+FP))\n",
    "print('Specificity: {}'.format(Specificity))\n",
    "Precision = (TP/(TP+FP))\n",
    "print('Precision: {}'.format(Precision))\n",
    "Fmeasure = 2/((1/Precision)+(1/Sensitivity))\n",
    "print('F-Measure: {}'.format(Fmeasure))"
   ]
  },
  {
   "cell_type": "markdown",
   "metadata": {},
   "source": [
    "## NOW GET FANCY AND DO FANCY STUFF"
   ]
  },
  {
   "cell_type": "code",
   "execution_count": 110,
   "metadata": {
    "collapsed": false
   },
   "outputs": [
    {
     "name": "stderr",
     "output_type": "stream",
     "text": [
      "C:\\Anaconda3\\lib\\site-packages\\ipykernel\\__main__.py:8: SettingWithCopyWarning: \n",
      "A value is trying to be set on a copy of a slice from a DataFrame.\n",
      "Try using .loc[row_indexer,col_indexer] = value instead\n",
      "\n",
      "See the caveats in the documentation: http://pandas.pydata.org/pandas-docs/stable/indexing.html#indexing-view-versus-copy\n",
      "C:\\Anaconda3\\lib\\site-packages\\ipykernel\\__main__.py:11: SettingWithCopyWarning: \n",
      "A value is trying to be set on a copy of a slice from a DataFrame.\n",
      "Try using .loc[row_indexer,col_indexer] = value instead\n",
      "\n",
      "See the caveats in the documentation: http://pandas.pydata.org/pandas-docs/stable/indexing.html#indexing-view-versus-copy\n",
      "C:\\Anaconda3\\lib\\site-packages\\ipykernel\\__main__.py:21: SettingWithCopyWarning: \n",
      "A value is trying to be set on a copy of a slice from a DataFrame.\n",
      "Try using .loc[row_indexer,col_indexer] = value instead\n",
      "\n",
      "See the caveats in the documentation: http://pandas.pydata.org/pandas-docs/stable/indexing.html#indexing-view-versus-copy\n",
      "C:\\Anaconda3\\lib\\site-packages\\ipykernel\\__main__.py:24: SettingWithCopyWarning: \n",
      "A value is trying to be set on a copy of a slice from a DataFrame.\n",
      "Try using .loc[row_indexer,col_indexer] = value instead\n",
      "\n",
      "See the caveats in the documentation: http://pandas.pydata.org/pandas-docs/stable/indexing.html#indexing-view-versus-copy\n"
     ]
    }
   ],
   "source": [
    "model0 = dummy.DummyClassifier()\n",
    "model0.fit(train[['male', 'age', 'education', 'currentSmoker', 'cigsPerDay', 'BPMeds',\n",
    "       'prevalentStroke', 'prevalentHyp', 'diabetes', 'totChol', 'sysBP',\n",
    "       'diaBP', 'BMI', 'heartRate', 'glucose']], train['TenYearCHD'])\n",
    "\n",
    "train['probability_0'] = model0.predict_proba(train[['male', 'age', 'education', 'currentSmoker', 'cigsPerDay', 'BPMeds',\n",
    "       'prevalentStroke', 'prevalentHyp', 'diabetes', 'totChol', 'sysBP',\n",
    "       'diaBP', 'BMI', 'heartRate', 'glucose']]).T[1]\n",
    "test['probability_0'] = model0.predict_proba(test[['male', 'age', 'education', 'currentSmoker', 'cigsPerDay', 'BPMeds',\n",
    "       'prevalentStroke', 'prevalentHyp', 'diabetes', 'totChol', 'sysBP',\n",
    "       'diaBP', 'BMI', 'heartRate', 'glucose']]).T[1]\n",
    "\n",
    "\n",
    "model1 = lm.LogisticRegression()\n",
    "model1.fit(train[['male', 'age', 'education', 'currentSmoker', 'cigsPerDay', 'BPMeds',\n",
    "       'prevalentStroke', 'prevalentHyp', 'diabetes', 'totChol', 'sysBP',\n",
    "       'diaBP', 'BMI', 'heartRate', 'glucose']], train['TenYearCHD'])\n",
    "\n",
    "train['probability_1'] = model1.predict_proba(train[['male', 'age', 'education', 'currentSmoker', 'cigsPerDay', 'BPMeds',\n",
    "       'prevalentStroke', 'prevalentHyp', 'diabetes', 'totChol', 'sysBP',\n",
    "       'diaBP', 'BMI', 'heartRate', 'glucose']]).T[1]\n",
    "test['probability_1'] = model1.predict_proba(test.loc[:,['male', 'age', 'education', 'currentSmoker', 'cigsPerDay', 'BPMeds',\n",
    "       'prevalentStroke', 'prevalentHyp', 'diabetes', 'totChol', 'sysBP',\n",
    "       'diaBP', 'BMI', 'heartRate', 'glucose']]).T[1]"
   ]
  },
  {
   "cell_type": "code",
   "execution_count": 92,
   "metadata": {
    "collapsed": false
   },
   "outputs": [
    {
     "data": {
      "text/plain": [
       "(2377, 18)"
      ]
     },
     "execution_count": 92,
     "metadata": {},
     "output_type": "execute_result"
    }
   ],
   "source": [
    "train.shape"
   ]
  },
  {
   "cell_type": "code",
   "execution_count": 111,
   "metadata": {
    "collapsed": false
   },
   "outputs": [
    {
     "data": {
      "image/png": "[encoded data removed]",
      "text/plain": [
       "<matplotlib.figure.Figure at 0x72b6e48>"
      ]
     },
     "metadata": {},
     "output_type": "display_data"
    }
   ],
   "source": [
    "ax = plt.subplot(111)\n",
    "vals = metrics.roc_curve(train.TenYearCHD, train.probability_0)\n",
    "ax.plot(vals[0], vals[1], label='Dummy')\n",
    "\n",
    "vals = metrics.roc_curve(train.TenYearCHD, train.probability_1)\n",
    "ax.plot(vals[0], vals[1], label='Logistic')\n",
    "\n",
    "ax.set(title='AUC for prediction on Training data', ylabel='', xlabel='', xlim=(0, 1), ylim=(0, 1))\n",
    "ax.legend(loc='upper left', shadow=True);"
   ]
  },
  {
   "cell_type": "code",
   "execution_count": 112,
   "metadata": {
    "collapsed": false
   },
   "outputs": [
    {
     "data": {
      "image/png": "[encoded data removed]",
      "text/plain": [
       "<matplotlib.figure.Figure at 0xc9fe860>"
      ]
     },
     "metadata": {},
     "output_type": "display_data"
    }
   ],
   "source": [
    "ax = plt.subplot(111)\n",
    "vals = metrics.roc_curve(test.TenYearCHD, test.probability_0)\n",
    "ax.plot(vals[0], vals[1], label='Dummy')\n",
    "\n",
    "vals = metrics.roc_curve(test.TenYearCHD, test.probability_1)\n",
    "ax.plot(vals[0], vals[1], label='Logistic')\n",
    "\n",
    "ax.set(title='AUC for prediction on Test data', ylabel='', xlabel='', xlim=(0, 1), ylim=(0, 1))\n",
    "ax.legend(loc='upper left', shadow=True);"
   ]
  },
  {
   "cell_type": "code",
   "execution_count": 113,
   "metadata": {
    "collapsed": false
   },
   "outputs": [
    {
     "name": "stdout",
     "output_type": "stream",
     "text": [
      "0.0\n",
      "0.05\n",
      "0.1\n",
      "0.15\n",
      "0.2\n",
      "0.25\n",
      "0.3\n",
      "0.35\n",
      "0.4\n",
      "0.45\n",
      "0.5\n",
      "0.55\n",
      "0.6\n",
      "0.65\n",
      "0.7\n",
      "0.75\n",
      "0.8\n",
      "0.85\n",
      "0.9\n",
      "0.95\n",
      "       index         0\n",
      "0   0.000000  0.000000\n",
      "1   0.002817  0.500000\n",
      "2   0.014085  0.833333\n",
      "3   0.025352  0.900000\n",
      "4   0.039437  0.823529\n",
      "5   0.064789  0.676471\n",
      "6   0.078873  0.636364\n",
      "7   0.118310  0.494118\n",
      "8   0.169014  0.410959\n",
      "9   0.247887  0.384279\n",
      "10  0.391549  0.371658\n",
      "11  0.549296  0.333904\n",
      "12  0.698592  0.263549\n",
      "13  0.856338  0.213783\n",
      "14  0.974648  0.164449\n",
      "15  1.000000  0.149348\n"
     ]
    },
    {
     "name": "stderr",
     "output_type": "stream",
     "text": [
      "C:\\Anaconda3\\lib\\site-packages\\sklearn\\metrics\\classification.py:1074: UndefinedMetricWarning: Precision is ill-defined and being set to 0.0 due to no predicted samples.\n",
      "  'precision', 'predicted', average, warn_for)\n"
     ]
    }
   ],
   "source": [
    "y_true = train.TenYearCHD\n",
    "y_preds = train.probability_1\n",
    "\n",
    "metrics_summary = {}\n",
    "for threshold in np.arange(0, 1, 0.05):\n",
    "    print(threshold)\n",
    "    y_preds = train.probability_1.apply(lambda x: 0 if x <= threshold else 1)\n",
    "    metrics_summary[metrics.recall_score(y_true=y_true,y_pred=y_preds)] = \\\n",
    "    metrics.precision_score(y_true=y_true, y_pred=y_preds)\n",
    "    \n",
    "print(pd.Series(metrics_summary).to_frame().reset_index())"
   ]
  },
  {
   "cell_type": "code",
   "execution_count": 104,
   "metadata": {
    "collapsed": false
   },
   "outputs": [
    {
     "data": {
      "text/plain": [
       "0.74505231189311949"
      ]
     },
     "execution_count": 104,
     "metadata": {},
     "output_type": "execute_result"
    }
   ],
   "source": [
    "metrics.roc_auc_score(train.TenYearCHD, train.probability_1)"
   ]
  },
  {
   "cell_type": "code",
   "execution_count": 114,
   "metadata": {
    "collapsed": false
   },
   "outputs": [
    {
     "data": {
      "text/plain": [
       "0.71139393828168718"
      ]
     },
     "execution_count": 114,
     "metadata": {},
     "output_type": "execute_result"
    }
   ],
   "source": [
    "metrics.roc_auc_score(test.TenYearCHD, test.probability_1)"
   ]
  },
  {
   "cell_type": "code",
   "execution_count": 105,
   "metadata": {
    "collapsed": false
   },
   "outputs": [
    {
     "ename": "ValueError",
     "evalue": "Can't handle mix of binary and continuous",
     "output_type": "error",
     "traceback": [
      "\u001b[1;31m---------------------------------------------------------------------------\u001b[0m",
      "\u001b[1;31mValueError\u001b[0m                                Traceback (most recent call last)",
      "\u001b[1;32m<ipython-input-105-365769b34b80>\u001b[0m in \u001b[0;36m<module>\u001b[1;34m()\u001b[0m\n\u001b[1;32m----> 1\u001b[1;33m \u001b[0mmetrics\u001b[0m\u001b[1;33m.\u001b[0m\u001b[0mrecall_score\u001b[0m\u001b[1;33m(\u001b[0m\u001b[0mtrain\u001b[0m\u001b[1;33m.\u001b[0m\u001b[0mTenYearCHD\u001b[0m\u001b[1;33m,\u001b[0m \u001b[0mtrain\u001b[0m\u001b[1;33m.\u001b[0m\u001b[0mprobability_1\u001b[0m\u001b[1;33m)\u001b[0m\u001b[1;33m\u001b[0m\u001b[0m\n\u001b[0m",
      "\u001b[1;32mC:\\Anaconda3\\lib\\site-packages\\sklearn\\metrics\\classification.py\u001b[0m in \u001b[0;36mrecall_score\u001b[1;34m(y_true, y_pred, labels, pos_label, average, sample_weight)\u001b[0m\n\u001b[0;32m   1302\u001b[0m                                                  \u001b[0maverage\u001b[0m\u001b[1;33m=\u001b[0m\u001b[0maverage\u001b[0m\u001b[1;33m,\u001b[0m\u001b[1;33m\u001b[0m\u001b[0m\n\u001b[0;32m   1303\u001b[0m                                                  \u001b[0mwarn_for\u001b[0m\u001b[1;33m=\u001b[0m\u001b[1;33m(\u001b[0m\u001b[1;34m'recall'\u001b[0m\u001b[1;33m,\u001b[0m\u001b[1;33m)\u001b[0m\u001b[1;33m,\u001b[0m\u001b[1;33m\u001b[0m\u001b[0m\n\u001b[1;32m-> 1304\u001b[1;33m                                                  sample_weight=sample_weight)\n\u001b[0m\u001b[0;32m   1305\u001b[0m     \u001b[1;32mreturn\u001b[0m \u001b[0mr\u001b[0m\u001b[1;33m\u001b[0m\u001b[0m\n\u001b[0;32m   1306\u001b[0m \u001b[1;33m\u001b[0m\u001b[0m\n",
      "\u001b[1;32mC:\\Anaconda3\\lib\\site-packages\\sklearn\\metrics\\classification.py\u001b[0m in \u001b[0;36mprecision_recall_fscore_support\u001b[1;34m(y_true, y_pred, beta, labels, pos_label, average, warn_for, sample_weight)\u001b[0m\n\u001b[0;32m    954\u001b[0m         \u001b[1;32mraise\u001b[0m \u001b[0mValueError\u001b[0m\u001b[1;33m(\u001b[0m\u001b[1;34m\"beta should be >0 in the F-beta score\"\u001b[0m\u001b[1;33m)\u001b[0m\u001b[1;33m\u001b[0m\u001b[0m\n\u001b[0;32m    955\u001b[0m \u001b[1;33m\u001b[0m\u001b[0m\n\u001b[1;32m--> 956\u001b[1;33m     \u001b[0my_type\u001b[0m\u001b[1;33m,\u001b[0m \u001b[0my_true\u001b[0m\u001b[1;33m,\u001b[0m \u001b[0my_pred\u001b[0m \u001b[1;33m=\u001b[0m \u001b[0m_check_targets\u001b[0m\u001b[1;33m(\u001b[0m\u001b[0my_true\u001b[0m\u001b[1;33m,\u001b[0m \u001b[0my_pred\u001b[0m\u001b[1;33m)\u001b[0m\u001b[1;33m\u001b[0m\u001b[0m\n\u001b[0m\u001b[0;32m    957\u001b[0m     \u001b[0mpresent_labels\u001b[0m \u001b[1;33m=\u001b[0m \u001b[0munique_labels\u001b[0m\u001b[1;33m(\u001b[0m\u001b[0my_true\u001b[0m\u001b[1;33m,\u001b[0m \u001b[0my_pred\u001b[0m\u001b[1;33m)\u001b[0m\u001b[1;33m\u001b[0m\u001b[0m\n\u001b[0;32m    958\u001b[0m \u001b[1;33m\u001b[0m\u001b[0m\n",
      "\u001b[1;32mC:\\Anaconda3\\lib\\site-packages\\sklearn\\metrics\\classification.py\u001b[0m in \u001b[0;36m_check_targets\u001b[1;34m(y_true, y_pred)\u001b[0m\n\u001b[0;32m     80\u001b[0m     \u001b[1;32mif\u001b[0m \u001b[0mlen\u001b[0m\u001b[1;33m(\u001b[0m\u001b[0my_type\u001b[0m\u001b[1;33m)\u001b[0m \u001b[1;33m>\u001b[0m \u001b[1;36m1\u001b[0m\u001b[1;33m:\u001b[0m\u001b[1;33m\u001b[0m\u001b[0m\n\u001b[0;32m     81\u001b[0m         raise ValueError(\"Can't handle mix of {0} and {1}\"\n\u001b[1;32m---> 82\u001b[1;33m                          \"\".format(type_true, type_pred))\n\u001b[0m\u001b[0;32m     83\u001b[0m \u001b[1;33m\u001b[0m\u001b[0m\n\u001b[0;32m     84\u001b[0m     \u001b[1;31m# We can't have more than one value on y_type => The set is no more needed\u001b[0m\u001b[1;33m\u001b[0m\u001b[1;33m\u001b[0m\u001b[0m\n",
      "\u001b[1;31mValueError\u001b[0m: Can't handle mix of binary and continuous"
     ]
    }
   ],
   "source": [
    "metrics.recall_score(train.TenYearCHD, train.probability_1)"
   ]
  },
  {
   "cell_type": "markdown",
   "metadata": {},
   "source": [
    "## NOW DO SAME THING FOR TESTING SET?"
   ]
  }
 ],
 "metadata": {
  "kernelspec": {
   "display_name": "Python 3",
   "language": "python",
   "name": "python3"
  },
  "language_info": {
   "codemirror_mode": {
    "name": "ipython",
    "version": 3
   },
   "file_extension": ".py",
   "mimetype": "text/x-python",
   "name": "python",
   "nbconvert_exporter": "python",
   "pygments_lexer": "ipython3",
   "version": "3.5.1"
  }
 },
 "nbformat": 4,
 "nbformat_minor": 0
}
