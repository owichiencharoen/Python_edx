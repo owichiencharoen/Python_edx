{
 "cells": [
  {
   "cell_type": "markdown",
   "metadata": {},
   "source": [
    "### PREDICTING PAROLE VIOLATORS\n",
    "\n",
    "In many criminal justice systems around the world, inmates deemed not to be a threat to society are released from prison under the parole system prior to completing their sentence. They are still considered to be serving their sentence while on parole, and they can be returned to prison if they violate the terms of their parole.\n",
    "\n",
    "Parole boards are charged with identifying which inmates are good candidates for release on parole. They seek to release inmates who will not commit additional crimes after release. In this problem, we will build and validate a model that predicts if an inmate will violate the terms of his or her parole. Such a model could be useful to a parole board when deciding to approve or deny an application for parole.\n",
    "\n",
    "For this prediction task, we will use data from the United States 2004 National Corrections Reporting Program, a nationwide census of parole releases that occurred during 2004. We limited our focus to parolees who served no more than 6 months in prison and whose maximum sentence for all charges did not exceed 18 months. The dataset contains all such parolees who either successfully completed their term of parole during 2004 or those who violated the terms of their parole during that year. The dataset contains the following variables:\n",
    "\n",
    "- male: 1 if the parolee is male, 0 if female\n",
    "- race: 1 if the parolee is white, 2 otherwise\n",
    "- age: the parolee's age (in years) when he or she was released from prison\n",
    "- state: a code for the parolee's state. 2 is Kentucky, 3 is Louisiana, 4 is Virginia, and 1 is any other state. The three states were selected due to having a high representation in the dataset.\n",
    "- time.served: the number of months the parolee served in prison (limited by the inclusion criteria to not exceed 6 months).\n",
    "- max.sentence: the maximum sentence length for all charges, in months (limited by the inclusion criteria to not exceed 18 months).\n",
    "- multiple.offenses: 1 if the parolee was incarcerated for multiple offenses, 0 otherwise.\n",
    "- crime: a code for the parolee's main crime leading to incarceration. 2 is larceny, 3 is drug-related crime, 4 is driving-related crime, and 1 is any other crime.\n",
    "- violator: 1 if the parolee violated the parole, and 0 if the parolee completed the parole without violation."
   ]
  },
  {
   "cell_type": "code",
   "execution_count": 16,
   "metadata": {
    "collapsed": true
   },
   "outputs": [],
   "source": [
    "# Owen Wichiencharoen's standard Python Imports:\n",
    "\n",
    "import pandas as pd\n",
    "from pandas import Series, DataFrame\n",
    "import numpy as np\n",
    "import seaborn as sns\n",
    "sns.set_style('darkgrid')\n",
    "\n",
    "from scipy import stats\n",
    "import statsmodels.formula.api as smf\n",
    "import statsmodels.api as sm\n",
    "\n",
    "import matplotlib.pyplot as plt\n",
    "%matplotlib inline\n",
    "\n",
    "\n",
    "from sklearn.cross_validation import train_test_split, cross_val_score\n",
    "# from sklearn import datasets, metrics\n",
    "import sklearn.linear_model as lm\n",
    "\n",
    "# from sklearn.tree import DecisionTreeClassifier, export_graphviz\n",
    "# from sklearn.ensemble import RandomForestClassifier\n",
    "# import pydot\n",
    "# from os import system\n",
    "# from sklearn.externals.six import StringIO\n",
    "# from IPython.display import Image\n",
    "\n",
    "#import itertools\n",
    "#import pandas_datareader.data as pdweb\n",
    "#from pandas_datareader.data import DataReader\n",
    "#from datetime import datetime\n",
    "#from io import StringIO"
   ]
  },
  {
   "cell_type": "code",
   "execution_count": 17,
   "metadata": {
    "collapsed": false
   },
   "outputs": [
    {
     "data": {
      "text/html": [
       "<div>\n",
       "<table border=\"1\" class=\"dataframe\">\n",
       "  <thead>\n",
       "    <tr style=\"text-align: right;\">\n",
       "      <th></th>\n",
       "      <th>male</th>\n",
       "      <th>race</th>\n",
       "      <th>age</th>\n",
       "      <th>state</th>\n",
       "      <th>time.served</th>\n",
       "      <th>max.sentence</th>\n",
       "      <th>multiple.offenses</th>\n",
       "      <th>crime</th>\n",
       "      <th>violator</th>\n",
       "    </tr>\n",
       "  </thead>\n",
       "  <tbody>\n",
       "    <tr>\n",
       "      <th>0</th>\n",
       "      <td>1</td>\n",
       "      <td>1</td>\n",
       "      <td>33.2</td>\n",
       "      <td>1</td>\n",
       "      <td>5.5</td>\n",
       "      <td>18</td>\n",
       "      <td>0</td>\n",
       "      <td>4</td>\n",
       "      <td>0</td>\n",
       "    </tr>\n",
       "    <tr>\n",
       "      <th>1</th>\n",
       "      <td>0</td>\n",
       "      <td>1</td>\n",
       "      <td>39.7</td>\n",
       "      <td>1</td>\n",
       "      <td>5.4</td>\n",
       "      <td>12</td>\n",
       "      <td>0</td>\n",
       "      <td>3</td>\n",
       "      <td>0</td>\n",
       "    </tr>\n",
       "    <tr>\n",
       "      <th>2</th>\n",
       "      <td>1</td>\n",
       "      <td>2</td>\n",
       "      <td>29.5</td>\n",
       "      <td>1</td>\n",
       "      <td>5.6</td>\n",
       "      <td>12</td>\n",
       "      <td>0</td>\n",
       "      <td>3</td>\n",
       "      <td>0</td>\n",
       "    </tr>\n",
       "    <tr>\n",
       "      <th>3</th>\n",
       "      <td>1</td>\n",
       "      <td>1</td>\n",
       "      <td>22.4</td>\n",
       "      <td>1</td>\n",
       "      <td>5.7</td>\n",
       "      <td>18</td>\n",
       "      <td>0</td>\n",
       "      <td>1</td>\n",
       "      <td>0</td>\n",
       "    </tr>\n",
       "    <tr>\n",
       "      <th>4</th>\n",
       "      <td>1</td>\n",
       "      <td>2</td>\n",
       "      <td>21.6</td>\n",
       "      <td>1</td>\n",
       "      <td>5.4</td>\n",
       "      <td>12</td>\n",
       "      <td>0</td>\n",
       "      <td>1</td>\n",
       "      <td>0</td>\n",
       "    </tr>\n",
       "  </tbody>\n",
       "</table>\n",
       "</div>"
      ],
      "text/plain": [
       "   male  race   age  state  time.served  max.sentence  multiple.offenses  \\\n",
       "0     1     1  33.2      1          5.5            18                  0   \n",
       "1     0     1  39.7      1          5.4            12                  0   \n",
       "2     1     2  29.5      1          5.6            12                  0   \n",
       "3     1     1  22.4      1          5.7            18                  0   \n",
       "4     1     2  21.6      1          5.4            12                  0   \n",
       "\n",
       "   crime  violator  \n",
       "0      4         0  \n",
       "1      3         0  \n",
       "2      3         0  \n",
       "3      1         0  \n",
       "4      1         0  "
      ]
     },
     "execution_count": 17,
     "metadata": {},
     "output_type": "execute_result"
    }
   ],
   "source": [
    "parole = pd.read_csv('../data/parole.csv')\n",
    "parole[:5]"
   ]
  },
  {
   "cell_type": "code",
   "execution_count": 18,
   "metadata": {
    "collapsed": false
   },
   "outputs": [
    {
     "name": "stdout",
     "output_type": "stream",
     "text": [
      "<class 'pandas.core.frame.DataFrame'>\n",
      "RangeIndex: 675 entries, 0 to 674\n",
      "Data columns (total 9 columns):\n",
      "male                 675 non-null int64\n",
      "race                 675 non-null int64\n",
      "age                  675 non-null float64\n",
      "state                675 non-null int64\n",
      "time.served          675 non-null float64\n",
      "max.sentence         675 non-null int64\n",
      "multiple.offenses    675 non-null int64\n",
      "crime                675 non-null int64\n",
      "violator             675 non-null int64\n",
      "dtypes: float64(2), int64(7)\n",
      "memory usage: 47.5 KB\n"
     ]
    }
   ],
   "source": [
    "parole.info()"
   ]
  },
  {
   "cell_type": "code",
   "execution_count": 19,
   "metadata": {
    "collapsed": false
   },
   "outputs": [
    {
     "data": {
      "text/plain": [
       "Index(['male', 'race', 'age', 'state', 'time.served', 'max.sentence',\n",
       "       'multiple.offenses', 'crime', 'violator'],\n",
       "      dtype='object')"
      ]
     },
     "execution_count": 19,
     "metadata": {},
     "output_type": "execute_result"
    }
   ],
   "source": [
    "# Fix the weight column names that Python won't like\n",
    "\n",
    "parole.columns"
   ]
  },
  {
   "cell_type": "code",
   "execution_count": 20,
   "metadata": {
    "collapsed": false
   },
   "outputs": [
    {
     "data": {
      "text/plain": [
       "Index(['male', 'race', 'age', 'state', 'time_served', 'max_sentence',\n",
       "       'multiple_offenses', 'crime', 'violator'],\n",
       "      dtype='object')"
      ]
     },
     "execution_count": 20,
     "metadata": {},
     "output_type": "execute_result"
    }
   ],
   "source": [
    "parole.columns = ['male', 'race', 'age', 'state', 'time_served', 'max_sentence',\n",
    "       'multiple_offenses', 'crime', 'violator']\n",
    "parole.columns"
   ]
  },
  {
   "cell_type": "code",
   "execution_count": 21,
   "metadata": {
    "collapsed": false
   },
   "outputs": [
    {
     "data": {
      "text/plain": [
       "0    597\n",
       "1     78\n",
       "Name: violator, dtype: int64"
      ]
     },
     "execution_count": 21,
     "metadata": {},
     "output_type": "execute_result"
    }
   ],
   "source": [
    "# How many of the 675 parolees broke their parole?\n",
    "\n",
    "parole['violator'].value_counts()"
   ]
  },
  {
   "cell_type": "code",
   "execution_count": 22,
   "metadata": {
    "collapsed": false
   },
   "outputs": [
    {
     "data": {
      "text/plain": [
       "1    389\n",
       "2    286\n",
       "Name: race, dtype: int64"
      ]
     },
     "execution_count": 22,
     "metadata": {},
     "output_type": "execute_result"
    }
   ],
   "source": [
    "# There are categorical vars (\"factors\") that look like numerical vars\n",
    "\n",
    "parole['race'].value_counts()"
   ]
  },
  {
   "cell_type": "code",
   "execution_count": 23,
   "metadata": {
    "collapsed": false
   },
   "outputs": [
    {
     "name": "stdout",
     "output_type": "stream",
     "text": [
      "<class 'pandas.core.frame.DataFrame'>\n",
      "RangeIndex: 675 entries, 0 to 674\n",
      "Data columns (total 9 columns):\n",
      "male                 675 non-null int64\n",
      "race                 675 non-null int64\n",
      "age                  675 non-null float64\n",
      "state                675 non-null object\n",
      "time_served          675 non-null float64\n",
      "max_sentence         675 non-null int64\n",
      "multiple_offenses    675 non-null int64\n",
      "crime                675 non-null object\n",
      "violator             675 non-null int64\n",
      "dtypes: float64(2), int64(5), object(2)\n",
      "memory usage: 47.5+ KB\n"
     ]
    }
   ],
   "source": [
    "# We need to change them to categorical if they're more than 0 & 1,\n",
    "# so Python doesn't think they're numbers\n",
    "\n",
    "parole['state'] = parole['state'].astype(str)\n",
    "parole['crime'] = parole['crime'].astype(str)\n",
    "parole.info()"
   ]
  },
  {
   "cell_type": "code",
   "execution_count": 24,
   "metadata": {
    "collapsed": false
   },
   "outputs": [
    {
     "name": "stdout",
     "output_type": "stream",
     "text": [
      "472\n",
      "203\n"
     ]
    }
   ],
   "source": [
    "train, test = train_test_split(parole, test_size=0.3, random_state=144)\n",
    "print(len(train))\n",
    "print(len(test))"
   ]
  },
  {
   "cell_type": "markdown",
   "metadata": {},
   "source": [
    "Using glm (and remembering the parameter family=\"binomial\"), train a logistic regression model on the training set. Your dependent variable is \"violator\", and you should use all of the other variables as independent variables.\n",
    "\n",
    "What variables are significant in this model?"
   ]
  },
  {
   "cell_type": "code",
   "execution_count": null,
   "metadata": {
    "collapsed": true
   },
   "outputs": [],
   "source": []
  }
 ],
 "metadata": {
  "kernelspec": {
   "display_name": "Python [Root]",
   "language": "python",
   "name": "Python [Root]"
  },
  "language_info": {
   "codemirror_mode": {
    "name": "ipython",
    "version": 3
   },
   "file_extension": ".py",
   "mimetype": "text/x-python",
   "name": "python",
   "nbconvert_exporter": "python",
   "pygments_lexer": "ipython3",
   "version": "3.5.2"
  }
 },
 "nbformat": 4,
 "nbformat_minor": 0
}
