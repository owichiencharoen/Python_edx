{
 "cells": [
  {
   "cell_type": "markdown",
   "metadata": {},
   "source": [
    "#### POPULARITY OF MUSIC RECORDS\n",
    "\n",
    "The music industry has a well-developed market with a global annual revenue around $15 billion. The recording industry is highly competitive and is dominated by three big production companies which make up nearly 82% of the total annual album sales. \n",
    "\n",
    "Artists are at the core of the music industry and record labels provide them with the necessary resources to sell their music on a large scale. A record label incurs numerous costs (studio recording, marketing, distribution, and touring) in exchange for a percentage of the profits from album sales, singles and concert tickets.\n",
    "\n",
    "Unfortunately, the success of an artist's release is highly uncertain: a single may be extremely popular, resulting in widespread radio play and digital downloads, while another single may turn out quite unpopular, and therefore unprofitable. \n",
    "\n",
    "Knowing the competitive nature of the recording industry, record labels face the fundamental decision problem of which musical releases to support to maximize their financial success. \n",
    "\n",
    "How can we use analytics to predict the popularity of a song? In this assignment, we challenge ourselves to predict whether a song will reach a spot in the Top 10 of the Billboard Hot 100 Chart.\n",
    "\n",
    "Taking an analytics approach, we aim to use information about a song's properties to predict its popularity. The dataset songs.csv consists of all songs which made it to the Top 10 of the Billboard Hot 100 Chart from 1990-2010 plus a sample of additional songs that didn't make the Top 10. This data comes from three sources: Wikipedia, Billboard.com, and EchoNest.\n",
    "\n",
    "The variables included in the dataset either describe the artist or the song, or they are associated with the following song attributes: time signature, loudness, key, pitch, tempo, and timbre.\n",
    "\n",
    "Here's a detailed description of the variables:\n",
    "\n",
    "- year = the year the song was released\n",
    "- songtitle = the title of the song\n",
    "- artistname = the name of the artist of the song\n",
    "- songID and artistID = identifying variables for the song and artist\n",
    "- timesignature and timesignature_confidence = a variable estimating the time signature of the song, and the confidence in the estimate\n",
    "- loudness = a continuous variable indicating the average amplitude of the audio in decibels\n",
    "- tempo and tempo_confidence = a variable indicating the estimated beats per minute of the song, and the confidence in the estimate\n",
    "- key and key_confidence = a variable with twelve levels indicating the estimated key of the song (C, C#, . . ., B), and the confidence in the estimate\n",
    "- energy = a variable that represents the overall acoustic energy of the song, using a mix of features such as loudness\n",
    "- pitch = a continuous variable that indicates the pitch of the song\n",
    "timbre_0_min, timbre_0_max, timbre_1_min, timbre_1_max, . . . , timbre_11_min, and timbre_11_max = variables that indicate the minimum/maximum values over all segments for each of the twelve values in the timbre vector (resulting in 24 continuous variables)\n",
    "- Top10 = a binary variable indicating whether or not the song made it to the Top 10 of the Billboard Hot 100 Chart (1 if it was in the top 10, and 0 if it was not)"
   ]
  },
  {
   "cell_type": "code",
   "execution_count": 45,
   "metadata": {
    "collapsed": false
   },
   "outputs": [],
   "source": [
    "# Owen Wichiencharoen's standard Python Imports:\n",
    "\n",
    "import pandas as pd\n",
    "from pandas import Series, DataFrame\n",
    "import numpy as np\n",
    "import seaborn as sns\n",
    "sns.set_style('darkgrid')\n",
    "\n",
    "from scipy import stats\n",
    "import statsmodels.formula.api as smf\n",
    "import statsmodels.api as sm\n",
    "\n",
    "import matplotlib.pyplot as plt\n",
    "%matplotlib inline\n",
    "\n",
    "\n",
    "from sklearn.cross_validation import train_test_split, cross_val_score\n",
    "from sklearn import datasets, metrics\n",
    "import sklearn.linear_model as lm\n",
    "\n",
    "# from sklearn.tree import DecisionTreeClassifier, export_graphviz\n",
    "# from sklearn.ensemble import RandomForestClassifier\n",
    "# import pydot\n",
    "# from os import system\n",
    "# from sklearn.externals.six import StringIO\n",
    "# from IPython.display import Image\n",
    "\n",
    "#import itertools\n",
    "#import pandas_datareader.data as pdweb\n",
    "#from pandas_datareader.data import DataReader\n",
    "#from datetime import datetime\n",
    "#from io import StringIO"
   ]
  },
  {
   "cell_type": "code",
   "execution_count": 2,
   "metadata": {
    "collapsed": false
   },
   "outputs": [
    {
     "data": {
      "text/html": [
       "<div>\n",
       "<table border=\"1\" class=\"dataframe\">\n",
       "  <thead>\n",
       "    <tr style=\"text-align: right;\">\n",
       "      <th></th>\n",
       "      <th>year</th>\n",
       "      <th>songtitle</th>\n",
       "      <th>artistname</th>\n",
       "      <th>songID</th>\n",
       "      <th>artistID</th>\n",
       "      <th>timesignature</th>\n",
       "      <th>timesignature_confidence</th>\n",
       "      <th>loudness</th>\n",
       "      <th>tempo</th>\n",
       "      <th>tempo_confidence</th>\n",
       "      <th>...</th>\n",
       "      <th>timbre_7_max</th>\n",
       "      <th>timbre_8_min</th>\n",
       "      <th>timbre_8_max</th>\n",
       "      <th>timbre_9_min</th>\n",
       "      <th>timbre_9_max</th>\n",
       "      <th>timbre_10_min</th>\n",
       "      <th>timbre_10_max</th>\n",
       "      <th>timbre_11_min</th>\n",
       "      <th>timbre_11_max</th>\n",
       "      <th>Top10</th>\n",
       "    </tr>\n",
       "  </thead>\n",
       "  <tbody>\n",
       "    <tr>\n",
       "      <th>0</th>\n",
       "      <td>2010</td>\n",
       "      <td>This Is the House That Doubt Built</td>\n",
       "      <td>A Day to Remember</td>\n",
       "      <td>SOBGGAB12C5664F054</td>\n",
       "      <td>AROBSHL1187B9AFB01</td>\n",
       "      <td>3</td>\n",
       "      <td>0.853</td>\n",
       "      <td>-4.262</td>\n",
       "      <td>91.525</td>\n",
       "      <td>0.953</td>\n",
       "      <td>...</td>\n",
       "      <td>82.475</td>\n",
       "      <td>-52.025</td>\n",
       "      <td>39.116</td>\n",
       "      <td>-35.368</td>\n",
       "      <td>71.642</td>\n",
       "      <td>-126.440</td>\n",
       "      <td>18.658</td>\n",
       "      <td>-44.770</td>\n",
       "      <td>25.989</td>\n",
       "      <td>0</td>\n",
       "    </tr>\n",
       "    <tr>\n",
       "      <th>1</th>\n",
       "      <td>2010</td>\n",
       "      <td>Sticks &amp; Bricks</td>\n",
       "      <td>A Day to Remember</td>\n",
       "      <td>SOPAQHU1315CD47F31</td>\n",
       "      <td>AROBSHL1187B9AFB01</td>\n",
       "      <td>4</td>\n",
       "      <td>1.000</td>\n",
       "      <td>-4.051</td>\n",
       "      <td>140.048</td>\n",
       "      <td>0.921</td>\n",
       "      <td>...</td>\n",
       "      <td>106.918</td>\n",
       "      <td>-61.320</td>\n",
       "      <td>35.378</td>\n",
       "      <td>-81.928</td>\n",
       "      <td>74.574</td>\n",
       "      <td>-103.808</td>\n",
       "      <td>121.935</td>\n",
       "      <td>-38.892</td>\n",
       "      <td>22.513</td>\n",
       "      <td>0</td>\n",
       "    </tr>\n",
       "    <tr>\n",
       "      <th>2</th>\n",
       "      <td>2010</td>\n",
       "      <td>All I Want</td>\n",
       "      <td>A Day to Remember</td>\n",
       "      <td>SOOIZOU1376E7C6386</td>\n",
       "      <td>AROBSHL1187B9AFB01</td>\n",
       "      <td>4</td>\n",
       "      <td>1.000</td>\n",
       "      <td>-3.571</td>\n",
       "      <td>160.512</td>\n",
       "      <td>0.489</td>\n",
       "      <td>...</td>\n",
       "      <td>80.621</td>\n",
       "      <td>-59.773</td>\n",
       "      <td>45.979</td>\n",
       "      <td>-46.293</td>\n",
       "      <td>59.904</td>\n",
       "      <td>-108.313</td>\n",
       "      <td>33.300</td>\n",
       "      <td>-43.733</td>\n",
       "      <td>25.744</td>\n",
       "      <td>0</td>\n",
       "    </tr>\n",
       "    <tr>\n",
       "      <th>3</th>\n",
       "      <td>2010</td>\n",
       "      <td>It's Complicated</td>\n",
       "      <td>A Day to Remember</td>\n",
       "      <td>SODRYWD1315CD49DBE</td>\n",
       "      <td>AROBSHL1187B9AFB01</td>\n",
       "      <td>4</td>\n",
       "      <td>1.000</td>\n",
       "      <td>-3.815</td>\n",
       "      <td>97.525</td>\n",
       "      <td>0.794</td>\n",
       "      <td>...</td>\n",
       "      <td>96.675</td>\n",
       "      <td>-78.660</td>\n",
       "      <td>41.088</td>\n",
       "      <td>-49.194</td>\n",
       "      <td>95.440</td>\n",
       "      <td>-102.676</td>\n",
       "      <td>46.422</td>\n",
       "      <td>-59.439</td>\n",
       "      <td>37.082</td>\n",
       "      <td>0</td>\n",
       "    </tr>\n",
       "    <tr>\n",
       "      <th>4</th>\n",
       "      <td>2010</td>\n",
       "      <td>2nd Sucks</td>\n",
       "      <td>A Day to Remember</td>\n",
       "      <td>SOICMQB1315CD46EE3</td>\n",
       "      <td>AROBSHL1187B9AFB01</td>\n",
       "      <td>4</td>\n",
       "      <td>0.788</td>\n",
       "      <td>-4.707</td>\n",
       "      <td>140.053</td>\n",
       "      <td>0.286</td>\n",
       "      <td>...</td>\n",
       "      <td>110.332</td>\n",
       "      <td>-56.450</td>\n",
       "      <td>37.555</td>\n",
       "      <td>-48.588</td>\n",
       "      <td>67.570</td>\n",
       "      <td>-52.796</td>\n",
       "      <td>22.888</td>\n",
       "      <td>-50.414</td>\n",
       "      <td>32.758</td>\n",
       "      <td>0</td>\n",
       "    </tr>\n",
       "  </tbody>\n",
       "</table>\n",
       "<p>5 rows × 39 columns</p>\n",
       "</div>"
      ],
      "text/plain": [
       "   year                           songtitle         artistname  \\\n",
       "0  2010  This Is the House That Doubt Built  A Day to Remember   \n",
       "1  2010                     Sticks & Bricks  A Day to Remember   \n",
       "2  2010                          All I Want  A Day to Remember   \n",
       "3  2010                    It's Complicated  A Day to Remember   \n",
       "4  2010                           2nd Sucks  A Day to Remember   \n",
       "\n",
       "               songID            artistID  timesignature  \\\n",
       "0  SOBGGAB12C5664F054  AROBSHL1187B9AFB01              3   \n",
       "1  SOPAQHU1315CD47F31  AROBSHL1187B9AFB01              4   \n",
       "2  SOOIZOU1376E7C6386  AROBSHL1187B9AFB01              4   \n",
       "3  SODRYWD1315CD49DBE  AROBSHL1187B9AFB01              4   \n",
       "4  SOICMQB1315CD46EE3  AROBSHL1187B9AFB01              4   \n",
       "\n",
       "   timesignature_confidence  loudness    tempo  tempo_confidence  ...    \\\n",
       "0                     0.853    -4.262   91.525             0.953  ...     \n",
       "1                     1.000    -4.051  140.048             0.921  ...     \n",
       "2                     1.000    -3.571  160.512             0.489  ...     \n",
       "3                     1.000    -3.815   97.525             0.794  ...     \n",
       "4                     0.788    -4.707  140.053             0.286  ...     \n",
       "\n",
       "   timbre_7_max  timbre_8_min  timbre_8_max  timbre_9_min  timbre_9_max  \\\n",
       "0        82.475       -52.025        39.116       -35.368        71.642   \n",
       "1       106.918       -61.320        35.378       -81.928        74.574   \n",
       "2        80.621       -59.773        45.979       -46.293        59.904   \n",
       "3        96.675       -78.660        41.088       -49.194        95.440   \n",
       "4       110.332       -56.450        37.555       -48.588        67.570   \n",
       "\n",
       "   timbre_10_min  timbre_10_max  timbre_11_min  timbre_11_max  Top10  \n",
       "0       -126.440         18.658        -44.770         25.989      0  \n",
       "1       -103.808        121.935        -38.892         22.513      0  \n",
       "2       -108.313         33.300        -43.733         25.744      0  \n",
       "3       -102.676         46.422        -59.439         37.082      0  \n",
       "4        -52.796         22.888        -50.414         32.758      0  \n",
       "\n",
       "[5 rows x 39 columns]"
      ]
     },
     "execution_count": 2,
     "metadata": {},
     "output_type": "execute_result"
    }
   ],
   "source": [
    "df_raw = pd.read_csv('../data/songs.csv', encoding='latin-1')\n",
    "df_raw[:5]"
   ]
  },
  {
   "cell_type": "code",
   "execution_count": 3,
   "metadata": {
    "collapsed": false
   },
   "outputs": [
    {
     "name": "stdout",
     "output_type": "stream",
     "text": [
      "<class 'pandas.core.frame.DataFrame'>\n",
      "Int64Index: 373 entries, 0 to 372\n",
      "Data columns (total 39 columns):\n",
      "year                        373 non-null int64\n",
      "songtitle                   373 non-null object\n",
      "artistname                  373 non-null object\n",
      "songID                      373 non-null object\n",
      "artistID                    373 non-null object\n",
      "timesignature               373 non-null int64\n",
      "timesignature_confidence    373 non-null float64\n",
      "loudness                    373 non-null float64\n",
      "tempo                       373 non-null float64\n",
      "tempo_confidence            373 non-null float64\n",
      "key                         373 non-null int64\n",
      "key_confidence              373 non-null float64\n",
      "energy                      373 non-null float64\n",
      "pitch                       373 non-null float64\n",
      "timbre_0_min                373 non-null float64\n",
      "timbre_0_max                373 non-null float64\n",
      "timbre_1_min                373 non-null float64\n",
      "timbre_1_max                373 non-null float64\n",
      "timbre_2_min                373 non-null float64\n",
      "timbre_2_max                373 non-null float64\n",
      "timbre_3_min                373 non-null float64\n",
      "timbre_3_max                373 non-null float64\n",
      "timbre_4_min                373 non-null float64\n",
      "timbre_4_max                373 non-null float64\n",
      "timbre_5_min                373 non-null float64\n",
      "timbre_5_max                373 non-null float64\n",
      "timbre_6_min                373 non-null float64\n",
      "timbre_6_max                373 non-null float64\n",
      "timbre_7_min                373 non-null float64\n",
      "timbre_7_max                373 non-null float64\n",
      "timbre_8_min                373 non-null float64\n",
      "timbre_8_max                373 non-null float64\n",
      "timbre_9_min                373 non-null float64\n",
      "timbre_9_max                373 non-null float64\n",
      "timbre_10_min               373 non-null float64\n",
      "timbre_10_max               373 non-null float64\n",
      "timbre_11_min               373 non-null float64\n",
      "timbre_11_max               373 non-null float64\n",
      "Top10                       373 non-null int64\n",
      "dtypes: float64(31), int64(4), object(4)\n",
      "memory usage: 116.6+ KB\n"
     ]
    }
   ],
   "source": [
    "# How many 2010 songs are there in this dataset?\n",
    "\n",
    "df_raw[df_raw['year']==2010].info()"
   ]
  },
  {
   "cell_type": "code",
   "execution_count": 4,
   "metadata": {
    "collapsed": false
   },
   "outputs": [
    {
     "data": {
      "text/plain": [
       "18"
      ]
     },
     "execution_count": 4,
     "metadata": {},
     "output_type": "execute_result"
    }
   ],
   "source": [
    "# How many Michael Jackson songs are there in this data set?\n",
    "\n",
    "len(df_raw[df_raw['artistname']=='Michael Jackson'])"
   ]
  },
  {
   "cell_type": "code",
   "execution_count": 5,
   "metadata": {
    "collapsed": false
   },
   "outputs": [
    {
     "data": {
      "text/html": [
       "<div>\n",
       "<table border=\"1\" class=\"dataframe\">\n",
       "  <thead>\n",
       "    <tr style=\"text-align: right;\">\n",
       "      <th>Top10</th>\n",
       "      <th>0</th>\n",
       "      <th>1</th>\n",
       "    </tr>\n",
       "    <tr>\n",
       "      <th>artistname</th>\n",
       "      <th></th>\n",
       "      <th></th>\n",
       "    </tr>\n",
       "  </thead>\n",
       "  <tbody>\n",
       "    <tr>\n",
       "      <th>Michael Jackson</th>\n",
       "      <td>13</td>\n",
       "      <td>5</td>\n",
       "    </tr>\n",
       "  </tbody>\n",
       "</table>\n",
       "</div>"
      ],
      "text/plain": [
       "Top10             0  1\n",
       "artistname            \n",
       "Michael Jackson  13  5"
      ]
     },
     "execution_count": 5,
     "metadata": {},
     "output_type": "execute_result"
    }
   ],
   "source": [
    "# How many MJ songs made top 10?\n",
    "\n",
    "pd.crosstab(index=df_raw[df_raw['artistname']=='Michael Jackson']['artistname'],columns=df_raw['Top10'])"
   ]
  },
  {
   "cell_type": "code",
   "execution_count": 6,
   "metadata": {
    "collapsed": false
   },
   "outputs": [
    {
     "data": {
      "text/html": [
       "<div>\n",
       "<table border=\"1\" class=\"dataframe\">\n",
       "  <thead>\n",
       "    <tr style=\"text-align: right;\">\n",
       "      <th></th>\n",
       "      <th>year</th>\n",
       "      <th>songtitle</th>\n",
       "      <th>artistname</th>\n",
       "      <th>songID</th>\n",
       "      <th>artistID</th>\n",
       "      <th>timesignature</th>\n",
       "      <th>timesignature_confidence</th>\n",
       "      <th>loudness</th>\n",
       "      <th>tempo</th>\n",
       "      <th>tempo_confidence</th>\n",
       "      <th>...</th>\n",
       "      <th>timbre_7_max</th>\n",
       "      <th>timbre_8_min</th>\n",
       "      <th>timbre_8_max</th>\n",
       "      <th>timbre_9_min</th>\n",
       "      <th>timbre_9_max</th>\n",
       "      <th>timbre_10_min</th>\n",
       "      <th>timbre_10_max</th>\n",
       "      <th>timbre_11_min</th>\n",
       "      <th>timbre_11_max</th>\n",
       "      <th>Top10</th>\n",
       "    </tr>\n",
       "  </thead>\n",
       "  <tbody>\n",
       "    <tr>\n",
       "      <th>4328</th>\n",
       "      <td>2001</td>\n",
       "      <td>You Rock My World</td>\n",
       "      <td>Michael Jackson</td>\n",
       "      <td>SOBLCOF13134393021</td>\n",
       "      <td>ARXPPEY1187FB51DF4</td>\n",
       "      <td>4</td>\n",
       "      <td>1.000</td>\n",
       "      <td>-2.768</td>\n",
       "      <td>95.003</td>\n",
       "      <td>0.892</td>\n",
       "      <td>...</td>\n",
       "      <td>120.076</td>\n",
       "      <td>-53.839</td>\n",
       "      <td>63.576</td>\n",
       "      <td>-85.169</td>\n",
       "      <td>84.840</td>\n",
       "      <td>-102.185</td>\n",
       "      <td>55.266</td>\n",
       "      <td>-48.107</td>\n",
       "      <td>56.116</td>\n",
       "      <td>1</td>\n",
       "    </tr>\n",
       "    <tr>\n",
       "      <th>6206</th>\n",
       "      <td>1995</td>\n",
       "      <td>You Are Not Alone</td>\n",
       "      <td>Michael Jackson</td>\n",
       "      <td>SOJKNNO13737CEB162</td>\n",
       "      <td>ARXPPEY1187FB51DF4</td>\n",
       "      <td>4</td>\n",
       "      <td>1.000</td>\n",
       "      <td>-9.408</td>\n",
       "      <td>120.566</td>\n",
       "      <td>0.805</td>\n",
       "      <td>...</td>\n",
       "      <td>90.735</td>\n",
       "      <td>-61.583</td>\n",
       "      <td>60.920</td>\n",
       "      <td>-55.904</td>\n",
       "      <td>76.632</td>\n",
       "      <td>-69.799</td>\n",
       "      <td>46.173</td>\n",
       "      <td>-67.281</td>\n",
       "      <td>47.128</td>\n",
       "      <td>1</td>\n",
       "    </tr>\n",
       "    <tr>\n",
       "      <th>6209</th>\n",
       "      <td>1995</td>\n",
       "      <td>Black or White</td>\n",
       "      <td>Michael Jackson</td>\n",
       "      <td>SOBBRFO137756C9CB7</td>\n",
       "      <td>ARXPPEY1187FB51DF4</td>\n",
       "      <td>4</td>\n",
       "      <td>1.000</td>\n",
       "      <td>-4.017</td>\n",
       "      <td>115.027</td>\n",
       "      <td>0.535</td>\n",
       "      <td>...</td>\n",
       "      <td>107.974</td>\n",
       "      <td>-55.063</td>\n",
       "      <td>52.505</td>\n",
       "      <td>-110.999</td>\n",
       "      <td>71.477</td>\n",
       "      <td>-133.939</td>\n",
       "      <td>60.442</td>\n",
       "      <td>-55.008</td>\n",
       "      <td>43.473</td>\n",
       "      <td>1</td>\n",
       "    </tr>\n",
       "    <tr>\n",
       "      <th>6217</th>\n",
       "      <td>1995</td>\n",
       "      <td>Remember the Time</td>\n",
       "      <td>Michael Jackson</td>\n",
       "      <td>SOIQZMT136C9704DA5</td>\n",
       "      <td>ARXPPEY1187FB51DF4</td>\n",
       "      <td>4</td>\n",
       "      <td>1.000</td>\n",
       "      <td>-3.633</td>\n",
       "      <td>107.921</td>\n",
       "      <td>1.000</td>\n",
       "      <td>...</td>\n",
       "      <td>146.587</td>\n",
       "      <td>-58.117</td>\n",
       "      <td>62.157</td>\n",
       "      <td>-54.440</td>\n",
       "      <td>94.501</td>\n",
       "      <td>-112.348</td>\n",
       "      <td>90.437</td>\n",
       "      <td>-53.634</td>\n",
       "      <td>51.681</td>\n",
       "      <td>1</td>\n",
       "    </tr>\n",
       "    <tr>\n",
       "      <th>6914</th>\n",
       "      <td>1992</td>\n",
       "      <td>In The Closet</td>\n",
       "      <td>Michael Jackson</td>\n",
       "      <td>SOKIOOC12AF729ED9E</td>\n",
       "      <td>ARXPPEY1187FB51DF4</td>\n",
       "      <td>4</td>\n",
       "      <td>0.991</td>\n",
       "      <td>-4.315</td>\n",
       "      <td>110.501</td>\n",
       "      <td>0.949</td>\n",
       "      <td>...</td>\n",
       "      <td>124.354</td>\n",
       "      <td>-78.303</td>\n",
       "      <td>41.322</td>\n",
       "      <td>-83.184</td>\n",
       "      <td>106.263</td>\n",
       "      <td>-136.109</td>\n",
       "      <td>102.829</td>\n",
       "      <td>-48.192</td>\n",
       "      <td>74.575</td>\n",
       "      <td>1</td>\n",
       "    </tr>\n",
       "  </tbody>\n",
       "</table>\n",
       "<p>5 rows × 39 columns</p>\n",
       "</div>"
      ],
      "text/plain": [
       "      year          songtitle       artistname              songID  \\\n",
       "4328  2001  You Rock My World  Michael Jackson  SOBLCOF13134393021   \n",
       "6206  1995  You Are Not Alone  Michael Jackson  SOJKNNO13737CEB162   \n",
       "6209  1995     Black or White  Michael Jackson  SOBBRFO137756C9CB7   \n",
       "6217  1995  Remember the Time  Michael Jackson  SOIQZMT136C9704DA5   \n",
       "6914  1992      In The Closet  Michael Jackson  SOKIOOC12AF729ED9E   \n",
       "\n",
       "                artistID  timesignature  timesignature_confidence  loudness  \\\n",
       "4328  ARXPPEY1187FB51DF4              4                     1.000    -2.768   \n",
       "6206  ARXPPEY1187FB51DF4              4                     1.000    -9.408   \n",
       "6209  ARXPPEY1187FB51DF4              4                     1.000    -4.017   \n",
       "6217  ARXPPEY1187FB51DF4              4                     1.000    -3.633   \n",
       "6914  ARXPPEY1187FB51DF4              4                     0.991    -4.315   \n",
       "\n",
       "        tempo  tempo_confidence  ...    timbre_7_max  timbre_8_min  \\\n",
       "4328   95.003             0.892  ...         120.076       -53.839   \n",
       "6206  120.566             0.805  ...          90.735       -61.583   \n",
       "6209  115.027             0.535  ...         107.974       -55.063   \n",
       "6217  107.921             1.000  ...         146.587       -58.117   \n",
       "6914  110.501             0.949  ...         124.354       -78.303   \n",
       "\n",
       "      timbre_8_max  timbre_9_min  timbre_9_max  timbre_10_min  timbre_10_max  \\\n",
       "4328        63.576       -85.169        84.840       -102.185         55.266   \n",
       "6206        60.920       -55.904        76.632        -69.799         46.173   \n",
       "6209        52.505      -110.999        71.477       -133.939         60.442   \n",
       "6217        62.157       -54.440        94.501       -112.348         90.437   \n",
       "6914        41.322       -83.184       106.263       -136.109        102.829   \n",
       "\n",
       "      timbre_11_min  timbre_11_max  Top10  \n",
       "4328        -48.107         56.116      1  \n",
       "6206        -67.281         47.128      1  \n",
       "6209        -55.008         43.473      1  \n",
       "6217        -53.634         51.681      1  \n",
       "6914        -48.192         74.575      1  \n",
       "\n",
       "[5 rows x 39 columns]"
      ]
     },
     "execution_count": 6,
     "metadata": {},
     "output_type": "execute_result"
    }
   ],
   "source": [
    "# Which MJ songs made top 10?\n",
    "\n",
    "df_raw[(df_raw['artistname']=='Michael Jackson') & (df_raw['Top10']==1)]"
   ]
  },
  {
   "cell_type": "code",
   "execution_count": 7,
   "metadata": {
    "collapsed": false
   },
   "outputs": [
    {
     "data": {
      "text/plain": [
       "4    6787\n",
       "3     503\n",
       "1     143\n",
       "5     112\n",
       "7      19\n",
       "0      10\n",
       "Name: timesignature, dtype: int64"
      ]
     },
     "execution_count": 7,
     "metadata": {},
     "output_type": "execute_result"
    }
   ],
   "source": [
    "# What are the values of timesignature that occur in our dataset?\n",
    "# Which timesignature value is the most frequent among songs in our dataset?\n",
    "\n",
    "df_raw['timesignature'].value_counts()"
   ]
  },
  {
   "cell_type": "code",
   "execution_count": 8,
   "metadata": {
    "collapsed": false
   },
   "outputs": [
    {
     "data": {
      "text/html": [
       "<div>\n",
       "<table border=\"1\" class=\"dataframe\">\n",
       "  <thead>\n",
       "    <tr style=\"text-align: right;\">\n",
       "      <th></th>\n",
       "      <th>year</th>\n",
       "      <th>songtitle</th>\n",
       "      <th>artistname</th>\n",
       "      <th>songID</th>\n",
       "      <th>artistID</th>\n",
       "      <th>timesignature</th>\n",
       "      <th>timesignature_confidence</th>\n",
       "      <th>loudness</th>\n",
       "      <th>tempo</th>\n",
       "      <th>tempo_confidence</th>\n",
       "      <th>...</th>\n",
       "      <th>timbre_7_max</th>\n",
       "      <th>timbre_8_min</th>\n",
       "      <th>timbre_8_max</th>\n",
       "      <th>timbre_9_min</th>\n",
       "      <th>timbre_9_max</th>\n",
       "      <th>timbre_10_min</th>\n",
       "      <th>timbre_10_max</th>\n",
       "      <th>timbre_11_min</th>\n",
       "      <th>timbre_11_max</th>\n",
       "      <th>Top10</th>\n",
       "    </tr>\n",
       "  </thead>\n",
       "  <tbody>\n",
       "    <tr>\n",
       "      <th>6205</th>\n",
       "      <td>1995</td>\n",
       "      <td>Wanna Be Startin' Somethin'</td>\n",
       "      <td>Michael Jackson</td>\n",
       "      <td>SONHIQM13738B7BE80</td>\n",
       "      <td>ARXPPEY1187FB51DF4</td>\n",
       "      <td>3</td>\n",
       "      <td>1.0</td>\n",
       "      <td>-14.528</td>\n",
       "      <td>244.307</td>\n",
       "      <td>0.566</td>\n",
       "      <td>...</td>\n",
       "      <td>93.6</td>\n",
       "      <td>-52.012</td>\n",
       "      <td>95.827</td>\n",
       "      <td>-63.554</td>\n",
       "      <td>84.129</td>\n",
       "      <td>-53.492</td>\n",
       "      <td>67.001</td>\n",
       "      <td>-73.421</td>\n",
       "      <td>67.308</td>\n",
       "      <td>0</td>\n",
       "    </tr>\n",
       "  </tbody>\n",
       "</table>\n",
       "<p>1 rows × 39 columns</p>\n",
       "</div>"
      ],
      "text/plain": [
       "      year                    songtitle       artistname              songID  \\\n",
       "6205  1995  Wanna Be Startin' Somethin'  Michael Jackson  SONHIQM13738B7BE80   \n",
       "\n",
       "                artistID  timesignature  timesignature_confidence  loudness  \\\n",
       "6205  ARXPPEY1187FB51DF4              3                       1.0   -14.528   \n",
       "\n",
       "        tempo  tempo_confidence  ...    timbre_7_max  timbre_8_min  \\\n",
       "6205  244.307             0.566  ...            93.6       -52.012   \n",
       "\n",
       "      timbre_8_max  timbre_9_min  timbre_9_max  timbre_10_min  timbre_10_max  \\\n",
       "6205        95.827       -63.554        84.129        -53.492         67.001   \n",
       "\n",
       "      timbre_11_min  timbre_11_max  Top10  \n",
       "6205        -73.421         67.308      0  \n",
       "\n",
       "[1 rows x 39 columns]"
      ]
     },
     "execution_count": 8,
     "metadata": {},
     "output_type": "execute_result"
    }
   ],
   "source": [
    "# What is the song with the highest tempo in this dataset?\n",
    "\n",
    "df_raw[df_raw['tempo']==df_raw['tempo'].max()]"
   ]
  },
  {
   "cell_type": "markdown",
   "metadata": {},
   "source": [
    "#### Creating Our Prediction Model\n",
    "\n",
    "We wish to predict whether or not a song will make it to the Top 10.\n",
    "\n",
    "To do this, first use the subset function to split the data into a training set \"SongsTrain\" consisting of all the observations up to and including 2009 song releases, and a testing set \"SongsTest\", consisting of the 2010 song releases.\n",
    "\n",
    "How many observations (songs) are in the training set?"
   ]
  },
  {
   "cell_type": "code",
   "execution_count": 9,
   "metadata": {
    "collapsed": false
   },
   "outputs": [
    {
     "data": {
      "text/plain": [
       "7201"
      ]
     },
     "execution_count": 9,
     "metadata": {},
     "output_type": "execute_result"
    }
   ],
   "source": [
    "SongsTrain = df_raw[df_raw['year']<=2009]\n",
    "SongsTest = df_raw[df_raw['year']>2009]\n",
    "\n",
    "len(SongsTrain)"
   ]
  },
  {
   "cell_type": "markdown",
   "metadata": {},
   "source": [
    "In this problem, our outcome variable is \"Top10\" - we are trying to predict whether or not a song will make it to the Top 10 of the Billboard Hot 100 Chart. Since the outcome variable is binary, we will build a logistic regression model. We'll start by using all song attributes as our independent variables, which we'll call Model 1.\n",
    "\n",
    "We will only use the variables in our dataset that describe the numerical attributes of the song in our logistic regression model. So we won't use the variables \"year\", \"songtitle\", \"artistname\", \"songID\" or \"artistID\".\n",
    "\n",
    "Now, use the glm function to build a logistic regression model to predict Top10 using all of the other variables as the independent variables. You should use SongsTrain to build the model.\n",
    "\n",
    "Looking at the summary of your model, what is the value of the Akaike Information Criterion (AIC)?"
   ]
  },
  {
   "cell_type": "code",
   "execution_count": 10,
   "metadata": {
    "collapsed": false
   },
   "outputs": [
    {
     "name": "stderr",
     "output_type": "stream",
     "text": [
      "C:\\Anaconda3\\lib\\site-packages\\ipykernel\\__main__.py:1: SettingWithCopyWarning: \n",
      "A value is trying to be set on a copy of a slice from a DataFrame\n",
      "\n",
      "See the caveats in the documentation: http://pandas.pydata.org/pandas-docs/stable/indexing.html#indexing-view-versus-copy\n",
      "  if __name__ == '__main__':\n",
      "C:\\Anaconda3\\lib\\site-packages\\ipykernel\\__main__.py:2: SettingWithCopyWarning: \n",
      "A value is trying to be set on a copy of a slice from a DataFrame\n",
      "\n",
      "See the caveats in the documentation: http://pandas.pydata.org/pandas-docs/stable/indexing.html#indexing-view-versus-copy\n",
      "  from ipykernel import kernelapp as app\n"
     ]
    },
    {
     "data": {
      "text/plain": [
       "Index(['timesignature', 'timesignature_confidence', 'loudness', 'tempo',\n",
       "       'tempo_confidence', 'key', 'key_confidence', 'energy', 'pitch',\n",
       "       'timbre_0_min', 'timbre_0_max', 'timbre_1_min', 'timbre_1_max',\n",
       "       'timbre_2_min', 'timbre_2_max', 'timbre_3_min', 'timbre_3_max',\n",
       "       'timbre_4_min', 'timbre_4_max', 'timbre_5_min', 'timbre_5_max',\n",
       "       'timbre_6_min', 'timbre_6_max', 'timbre_7_min', 'timbre_7_max',\n",
       "       'timbre_8_min', 'timbre_8_max', 'timbre_9_min', 'timbre_9_max',\n",
       "       'timbre_10_min', 'timbre_10_max', 'timbre_11_min', 'timbre_11_max',\n",
       "       'Top10'],\n",
       "      dtype='object')"
      ]
     },
     "execution_count": 10,
     "metadata": {},
     "output_type": "execute_result"
    }
   ],
   "source": [
    "SongsTrain.drop([\"year\", \"songtitle\", \"artistname\", \"songID\",\"artistID\"],axis=1,inplace=True)\n",
    "SongsTest.drop([\"year\", \"songtitle\", \"artistname\", \"songID\",\"artistID\"],axis=1,inplace=True)\n",
    "SongsTest.columns"
   ]
  },
  {
   "cell_type": "code",
   "execution_count": 11,
   "metadata": {
    "collapsed": false
   },
   "outputs": [
    {
     "data": {
      "text/html": [
       "<table class=\"simpletable\">\n",
       "<caption>Generalized Linear Model Regression Results</caption>\n",
       "<tr>\n",
       "  <th>Dep. Variable:</th>        <td>Top10</td>      <th>  No. Observations:  </th>  <td>  7201</td> \n",
       "</tr>\n",
       "<tr>\n",
       "  <th>Model:</th>                 <td>GLM</td>       <th>  Df Residuals:      </th>  <td>  7167</td> \n",
       "</tr>\n",
       "<tr>\n",
       "  <th>Model Family:</th>       <td>Binomial</td>     <th>  Df Model:          </th>  <td>    33</td> \n",
       "</tr>\n",
       "<tr>\n",
       "  <th>Link Function:</th>        <td>logit</td>      <th>  Scale:             </th>    <td>1.0</td>  \n",
       "</tr>\n",
       "<tr>\n",
       "  <th>Method:</th>               <td>IRLS</td>       <th>  Log-Likelihood:    </th> <td> -2379.6</td>\n",
       "</tr>\n",
       "<tr>\n",
       "  <th>Date:</th>           <td>Sun, 07 Aug 2016</td> <th>  Deviance:          </th> <td>  4759.2</td>\n",
       "</tr>\n",
       "<tr>\n",
       "  <th>Time:</th>               <td>02:06:58</td>     <th>  Pearson chi2:      </th> <td>6.70e+03</td>\n",
       "</tr>\n",
       "<tr>\n",
       "  <th>No. Iterations:</th>         <td>9</td>        <th>                     </th>     <td> </td>   \n",
       "</tr>\n",
       "</table>\n",
       "<table class=\"simpletable\">\n",
       "<tr>\n",
       "              <td></td>                <th>coef</th>     <th>std err</th>      <th>z</th>      <th>P>|z|</th> <th>[95.0% Conf. Int.]</th> \n",
       "</tr>\n",
       "<tr>\n",
       "  <th>Intercept</th>                <td>   14.7000</td> <td>    1.806</td> <td>    8.138</td> <td> 0.000</td> <td>   11.160    18.240</td>\n",
       "</tr>\n",
       "<tr>\n",
       "  <th>timesignature</th>            <td>    0.1264</td> <td>    0.087</td> <td>    1.457</td> <td> 0.145</td> <td>   -0.044     0.296</td>\n",
       "</tr>\n",
       "<tr>\n",
       "  <th>timesignature_confidence</th> <td>    0.7450</td> <td>    0.195</td> <td>    3.814</td> <td> 0.000</td> <td>    0.362     1.128</td>\n",
       "</tr>\n",
       "<tr>\n",
       "  <th>loudness</th>                 <td>    0.2999</td> <td>    0.029</td> <td>   10.282</td> <td> 0.000</td> <td>    0.243     0.357</td>\n",
       "</tr>\n",
       "<tr>\n",
       "  <th>tempo</th>                    <td>    0.0004</td> <td>    0.002</td> <td>    0.215</td> <td> 0.830</td> <td>   -0.003     0.004</td>\n",
       "</tr>\n",
       "<tr>\n",
       "  <th>tempo_confidence</th>         <td>    0.4732</td> <td>    0.142</td> <td>    3.328</td> <td> 0.001</td> <td>    0.195     0.752</td>\n",
       "</tr>\n",
       "<tr>\n",
       "  <th>key</th>                      <td>    0.0159</td> <td>    0.010</td> <td>    1.529</td> <td> 0.126</td> <td>   -0.004     0.036</td>\n",
       "</tr>\n",
       "<tr>\n",
       "  <th>key_confidence</th>           <td>    0.3087</td> <td>    0.141</td> <td>    2.187</td> <td> 0.029</td> <td>    0.032     0.585</td>\n",
       "</tr>\n",
       "<tr>\n",
       "  <th>energy</th>                   <td>   -1.5021</td> <td>    0.310</td> <td>   -4.847</td> <td> 0.000</td> <td>   -2.110    -0.895</td>\n",
       "</tr>\n",
       "<tr>\n",
       "  <th>pitch</th>                    <td>  -44.9077</td> <td>    6.835</td> <td>   -6.570</td> <td> 0.000</td> <td>  -58.304   -31.511</td>\n",
       "</tr>\n",
       "<tr>\n",
       "  <th>timbre_0_min</th>             <td>    0.0232</td> <td>    0.004</td> <td>    5.441</td> <td> 0.000</td> <td>    0.015     0.032</td>\n",
       "</tr>\n",
       "<tr>\n",
       "  <th>timbre_0_max</th>             <td>   -0.3310</td> <td>    0.026</td> <td>  -12.882</td> <td> 0.000</td> <td>   -0.381    -0.281</td>\n",
       "</tr>\n",
       "<tr>\n",
       "  <th>timbre_1_min</th>             <td>    0.0059</td> <td>    0.001</td> <td>    7.542</td> <td> 0.000</td> <td>    0.004     0.007</td>\n",
       "</tr>\n",
       "<tr>\n",
       "  <th>timbre_1_max</th>             <td>   -0.0002</td> <td>    0.001</td> <td>   -0.342</td> <td> 0.732</td> <td>   -0.002     0.001</td>\n",
       "</tr>\n",
       "<tr>\n",
       "  <th>timbre_2_min</th>             <td>   -0.0021</td> <td>    0.001</td> <td>   -1.889</td> <td> 0.059</td> <td>   -0.004  7.95e-05</td>\n",
       "</tr>\n",
       "<tr>\n",
       "  <th>timbre_2_max</th>             <td>    0.0007</td> <td>    0.001</td> <td>    0.726</td> <td> 0.468</td> <td>   -0.001     0.002</td>\n",
       "</tr>\n",
       "<tr>\n",
       "  <th>timbre_3_min</th>             <td>    0.0007</td> <td>    0.001</td> <td>    1.156</td> <td> 0.248</td> <td>   -0.000     0.002</td>\n",
       "</tr>\n",
       "<tr>\n",
       "  <th>timbre_3_max</th>             <td>   -0.0030</td> <td>    0.001</td> <td>   -5.103</td> <td> 0.000</td> <td>   -0.004    -0.002</td>\n",
       "</tr>\n",
       "<tr>\n",
       "  <th>timbre_4_min</th>             <td>    0.0104</td> <td>    0.002</td> <td>    5.237</td> <td> 0.000</td> <td>    0.007     0.014</td>\n",
       "</tr>\n",
       "<tr>\n",
       "  <th>timbre_4_max</th>             <td>    0.0061</td> <td>    0.002</td> <td>    3.942</td> <td> 0.000</td> <td>    0.003     0.009</td>\n",
       "</tr>\n",
       "<tr>\n",
       "  <th>timbre_5_min</th>             <td>   -0.0056</td> <td>    0.001</td> <td>   -4.385</td> <td> 0.000</td> <td>   -0.008    -0.003</td>\n",
       "</tr>\n",
       "<tr>\n",
       "  <th>timbre_5_max</th>             <td> 7.736e-05</td> <td>    0.001</td> <td>    0.097</td> <td> 0.922</td> <td>   -0.001     0.002</td>\n",
       "</tr>\n",
       "<tr>\n",
       "  <th>timbre_6_min</th>             <td>   -0.0169</td> <td>    0.002</td> <td>   -7.445</td> <td> 0.000</td> <td>   -0.021    -0.012</td>\n",
       "</tr>\n",
       "<tr>\n",
       "  <th>timbre_6_max</th>             <td>    0.0037</td> <td>    0.002</td> <td>    1.675</td> <td> 0.094</td> <td>   -0.001     0.008</td>\n",
       "</tr>\n",
       "<tr>\n",
       "  <th>timbre_7_min</th>             <td>   -0.0045</td> <td>    0.002</td> <td>   -2.554</td> <td> 0.011</td> <td>   -0.008    -0.001</td>\n",
       "</tr>\n",
       "<tr>\n",
       "  <th>timbre_7_max</th>             <td>   -0.0038</td> <td>    0.002</td> <td>   -2.060</td> <td> 0.039</td> <td>   -0.007    -0.000</td>\n",
       "</tr>\n",
       "<tr>\n",
       "  <th>timbre_8_min</th>             <td>    0.0039</td> <td>    0.003</td> <td>    1.372</td> <td> 0.170</td> <td>   -0.002     0.009</td>\n",
       "</tr>\n",
       "<tr>\n",
       "  <th>timbre_8_max</th>             <td>    0.0040</td> <td>    0.003</td> <td>    1.336</td> <td> 0.182</td> <td>   -0.002     0.010</td>\n",
       "</tr>\n",
       "<tr>\n",
       "  <th>timbre_9_min</th>             <td>    0.0014</td> <td>    0.003</td> <td>    0.456</td> <td> 0.648</td> <td>   -0.005     0.007</td>\n",
       "</tr>\n",
       "<tr>\n",
       "  <th>timbre_9_max</th>             <td>    0.0016</td> <td>    0.002</td> <td>    0.659</td> <td> 0.510</td> <td>   -0.003     0.006</td>\n",
       "</tr>\n",
       "<tr>\n",
       "  <th>timbre_10_min</th>            <td>    0.0041</td> <td>    0.002</td> <td>    2.244</td> <td> 0.025</td> <td>    0.001     0.008</td>\n",
       "</tr>\n",
       "<tr>\n",
       "  <th>timbre_10_max</th>            <td>    0.0058</td> <td>    0.002</td> <td>    3.292</td> <td> 0.001</td> <td>    0.002     0.009</td>\n",
       "</tr>\n",
       "<tr>\n",
       "  <th>timbre_11_min</th>            <td>   -0.0263</td> <td>    0.004</td> <td>   -7.108</td> <td> 0.000</td> <td>   -0.033    -0.019</td>\n",
       "</tr>\n",
       "<tr>\n",
       "  <th>timbre_11_max</th>            <td>    0.0197</td> <td>    0.003</td> <td>    5.811</td> <td> 0.000</td> <td>    0.013     0.026</td>\n",
       "</tr>\n",
       "</table>"
      ],
      "text/plain": [
       "<class 'statsmodels.iolib.summary.Summary'>\n",
       "\"\"\"\n",
       "                 Generalized Linear Model Regression Results                  \n",
       "==============================================================================\n",
       "Dep. Variable:                  Top10   No. Observations:                 7201\n",
       "Model:                            GLM   Df Residuals:                     7167\n",
       "Model Family:                Binomial   Df Model:                           33\n",
       "Link Function:                  logit   Scale:                             1.0\n",
       "Method:                          IRLS   Log-Likelihood:                -2379.6\n",
       "Date:                Sun, 07 Aug 2016   Deviance:                       4759.2\n",
       "Time:                        02:06:58   Pearson chi2:                 6.70e+03\n",
       "No. Iterations:                     9                                         \n",
       "============================================================================================\n",
       "                               coef    std err          z      P>|z|      [95.0% Conf. Int.]\n",
       "--------------------------------------------------------------------------------------------\n",
       "Intercept                   14.7000      1.806      8.138      0.000        11.160    18.240\n",
       "timesignature                0.1264      0.087      1.457      0.145        -0.044     0.296\n",
       "timesignature_confidence     0.7450      0.195      3.814      0.000         0.362     1.128\n",
       "loudness                     0.2999      0.029     10.282      0.000         0.243     0.357\n",
       "tempo                        0.0004      0.002      0.215      0.830        -0.003     0.004\n",
       "tempo_confidence             0.4732      0.142      3.328      0.001         0.195     0.752\n",
       "key                          0.0159      0.010      1.529      0.126        -0.004     0.036\n",
       "key_confidence               0.3087      0.141      2.187      0.029         0.032     0.585\n",
       "energy                      -1.5021      0.310     -4.847      0.000        -2.110    -0.895\n",
       "pitch                      -44.9077      6.835     -6.570      0.000       -58.304   -31.511\n",
       "timbre_0_min                 0.0232      0.004      5.441      0.000         0.015     0.032\n",
       "timbre_0_max                -0.3310      0.026    -12.882      0.000        -0.381    -0.281\n",
       "timbre_1_min                 0.0059      0.001      7.542      0.000         0.004     0.007\n",
       "timbre_1_max                -0.0002      0.001     -0.342      0.732        -0.002     0.001\n",
       "timbre_2_min                -0.0021      0.001     -1.889      0.059        -0.004  7.95e-05\n",
       "timbre_2_max                 0.0007      0.001      0.726      0.468        -0.001     0.002\n",
       "timbre_3_min                 0.0007      0.001      1.156      0.248        -0.000     0.002\n",
       "timbre_3_max                -0.0030      0.001     -5.103      0.000        -0.004    -0.002\n",
       "timbre_4_min                 0.0104      0.002      5.237      0.000         0.007     0.014\n",
       "timbre_4_max                 0.0061      0.002      3.942      0.000         0.003     0.009\n",
       "timbre_5_min                -0.0056      0.001     -4.385      0.000        -0.008    -0.003\n",
       "timbre_5_max              7.736e-05      0.001      0.097      0.922        -0.001     0.002\n",
       "timbre_6_min                -0.0169      0.002     -7.445      0.000        -0.021    -0.012\n",
       "timbre_6_max                 0.0037      0.002      1.675      0.094        -0.001     0.008\n",
       "timbre_7_min                -0.0045      0.002     -2.554      0.011        -0.008    -0.001\n",
       "timbre_7_max                -0.0038      0.002     -2.060      0.039        -0.007    -0.000\n",
       "timbre_8_min                 0.0039      0.003      1.372      0.170        -0.002     0.009\n",
       "timbre_8_max                 0.0040      0.003      1.336      0.182        -0.002     0.010\n",
       "timbre_9_min                 0.0014      0.003      0.456      0.648        -0.005     0.007\n",
       "timbre_9_max                 0.0016      0.002      0.659      0.510        -0.003     0.006\n",
       "timbre_10_min                0.0041      0.002      2.244      0.025         0.001     0.008\n",
       "timbre_10_max                0.0058      0.002      3.292      0.001         0.002     0.009\n",
       "timbre_11_min               -0.0263      0.004     -7.108      0.000        -0.033    -0.019\n",
       "timbre_11_max                0.0197      0.003      5.811      0.000         0.013     0.026\n",
       "============================================================================================\n",
       "\"\"\""
      ]
     },
     "execution_count": 11,
     "metadata": {},
     "output_type": "execute_result"
    }
   ],
   "source": [
    "# Let's use statsmodel, so we can calculate AIC with llf (log likelihood function) ...\n",
    "formula = 'Top10 ~ timesignature + timesignature_confidence + loudness + tempo + tempo_confidence + key + key_confidence + energy + pitch + timbre_0_min + timbre_0_max + timbre_1_min + timbre_1_max + timbre_2_min + timbre_2_max + timbre_3_min + timbre_3_max + timbre_4_min + timbre_4_max + timbre_5_min + timbre_5_max + timbre_6_min + timbre_6_max + timbre_7_min + timbre_7_max + timbre_8_min + timbre_8_max + timbre_9_min + timbre_9_max + timbre_10_min + timbre_10_max + timbre_11_min + timbre_11_max'\n",
    "LogReg0 = smf.GLM.from_formula(formula=formula, data=SongsTrain, family=sm.families.Binomial()).fit()\n",
    "LogReg0.summary()"
   ]
  },
  {
   "cell_type": "code",
   "execution_count": 12,
   "metadata": {
    "collapsed": false,
    "scrolled": true
   },
   "outputs": [
    {
     "name": "stdout",
     "output_type": "stream",
     "text": [
      "Intercept                   14.699988\n",
      "timesignature                0.126395\n",
      "timesignature_confidence     0.744992\n",
      "loudness                     0.299879\n",
      "tempo                        0.000363\n",
      "tempo_confidence             0.473227\n",
      "key                          0.015882\n",
      "key_confidence               0.308675\n",
      "energy                      -1.502144\n",
      "pitch                      -44.907740\n",
      "timbre_0_min                 0.023159\n",
      "timbre_0_max                -0.330982\n",
      "timbre_1_min                 0.005881\n",
      "timbre_1_max                -0.000245\n",
      "timbre_2_min                -0.002127\n",
      "timbre_2_max                 0.000659\n",
      "timbre_3_min                 0.000692\n",
      "timbre_3_max                -0.002967\n",
      "timbre_4_min                 0.010396\n",
      "timbre_4_max                 0.006111\n",
      "timbre_5_min                -0.005598\n",
      "timbre_5_max                 0.000077\n",
      "timbre_6_min                -0.016856\n",
      "timbre_6_max                 0.003668\n",
      "timbre_7_min                -0.004549\n",
      "timbre_7_max                -0.003774\n",
      "timbre_8_min                 0.003911\n",
      "timbre_8_max                 0.004011\n",
      "timbre_9_min                 0.001367\n",
      "timbre_9_max                 0.001603\n",
      "timbre_10_min                0.004126\n",
      "timbre_10_max                0.005825\n",
      "timbre_11_min               -0.026252\n",
      "timbre_11_max                0.019673\n",
      "dtype: float64\n"
     ]
    }
   ],
   "source": [
    "print(LogReg0.params)"
   ]
  },
  {
   "cell_type": "code",
   "execution_count": 13,
   "metadata": {
    "collapsed": false
   },
   "outputs": [
    {
     "name": "stdout",
     "output_type": "stream",
     "text": [
      "AIC is:  4827.15410239\n"
     ]
    }
   ],
   "source": [
    "# AIC is computed like this:\n",
    "print ('AIC is: ',2*(33+1) - 2*LogReg0.llf)"
   ]
  },
  {
   "cell_type": "markdown",
   "metadata": {},
   "source": [
    "####  Let's try sklearn linear model - because Stefan Jansen says it's better"
   ]
  },
  {
   "cell_type": "code",
   "execution_count": 14,
   "metadata": {
    "collapsed": false
   },
   "outputs": [
    {
     "data": {
      "text/plain": [
       "LogisticRegression(C=1.0, class_weight=None, dual=False, fit_intercept=True,\n",
       "          intercept_scaling=1, max_iter=100, multi_class='ovr', n_jobs=1,\n",
       "          penalty='l2', random_state=None, solver='liblinear', tol=0.0001,\n",
       "          verbose=0, warm_start=False)"
      ]
     },
     "execution_count": 14,
     "metadata": {},
     "output_type": "execute_result"
    }
   ],
   "source": [
    "LogReg = lm.LogisticRegression()\n",
    "X = SongsTrain[['timesignature', 'timesignature_confidence', 'loudness', 'tempo',\n",
    "       'tempo_confidence', 'key', 'key_confidence', 'energy', 'pitch',\n",
    "       'timbre_0_min', 'timbre_0_max', 'timbre_1_min', 'timbre_1_max',\n",
    "       'timbre_2_min', 'timbre_2_max', 'timbre_3_min', 'timbre_3_max',\n",
    "       'timbre_4_min', 'timbre_4_max', 'timbre_5_min', 'timbre_5_max',\n",
    "       'timbre_6_min', 'timbre_6_max', 'timbre_7_min', 'timbre_7_max',\n",
    "       'timbre_8_min', 'timbre_8_max', 'timbre_9_min', 'timbre_9_max',\n",
    "       'timbre_10_min', 'timbre_10_max', 'timbre_11_min', 'timbre_11_max']]\n",
    "# X = sm.add_constant(X)\n",
    "y = SongsTrain['Top10']\n",
    "LogReg.fit(X,y)"
   ]
  },
  {
   "cell_type": "code",
   "execution_count": 15,
   "metadata": {
    "collapsed": false,
    "scrolled": true
   },
   "outputs": [
    {
     "name": "stdout",
     "output_type": "stream",
     "text": [
      "                  Indep_vars  LogReg_coefs\n",
      "0              timesignature      0.251621\n",
      "1   timesignature_confidence      0.735213\n",
      "2                   loudness      0.109770\n",
      "3                      tempo      0.001656\n",
      "4           tempo_confidence      0.553166\n",
      "5                        key      0.018453\n",
      "6             key_confidence      0.348524\n",
      "7                     energy     -0.905281\n",
      "8                      pitch     -0.129706\n",
      "9               timbre_0_min      0.024806\n",
      "10              timbre_0_max     -0.154196\n",
      "11              timbre_1_min      0.005909\n",
      "12              timbre_1_max     -0.000576\n",
      "13              timbre_2_min     -0.003374\n",
      "14              timbre_2_max      0.000209\n",
      "15              timbre_3_min      0.000702\n",
      "16              timbre_3_max     -0.003026\n",
      "17              timbre_4_min      0.007977\n",
      "18              timbre_4_max      0.007225\n",
      "19              timbre_5_min     -0.006468\n",
      "20              timbre_5_max      0.000404\n",
      "21              timbre_6_min     -0.017489\n",
      "22              timbre_6_max      0.005313\n",
      "23              timbre_7_min     -0.005521\n",
      "24              timbre_7_max     -0.002916\n",
      "25              timbre_8_min      0.003540\n",
      "26              timbre_8_max      0.008008\n",
      "27              timbre_9_min      0.000122\n",
      "28              timbre_9_max      0.003505\n",
      "29             timbre_10_min      0.003350\n",
      "30             timbre_10_max      0.006387\n",
      "31             timbre_11_min     -0.030695\n",
      "32             timbre_11_max      0.019743\n"
     ]
    }
   ],
   "source": [
    "LogReg_results = pd.DataFrame({'Indep_vars': X.columns,'LogReg_coefs': LogReg.coef_.flatten()})\n",
    "print(LogReg_results)"
   ]
  },
  {
   "cell_type": "code",
   "execution_count": 16,
   "metadata": {
    "collapsed": false
   },
   "outputs": [
    {
     "data": {
      "text/plain": [
       "array([ 0.36153456])"
      ]
     },
     "execution_count": 16,
     "metadata": {},
     "output_type": "execute_result"
    }
   ],
   "source": [
    "LogReg.intercept_"
   ]
  },
  {
   "cell_type": "code",
   "execution_count": 17,
   "metadata": {
    "collapsed": false,
    "scrolled": true
   },
   "outputs": [
    {
     "data": {
      "text/html": [
       "<div>\n",
       "<table border=\"1\" class=\"dataframe\">\n",
       "  <thead>\n",
       "    <tr style=\"text-align: right;\">\n",
       "      <th></th>\n",
       "      <th>timesignature</th>\n",
       "      <th>timesignature_confidence</th>\n",
       "      <th>loudness</th>\n",
       "      <th>tempo</th>\n",
       "      <th>tempo_confidence</th>\n",
       "      <th>key</th>\n",
       "      <th>key_confidence</th>\n",
       "      <th>energy</th>\n",
       "      <th>pitch</th>\n",
       "      <th>timbre_0_min</th>\n",
       "      <th>...</th>\n",
       "      <th>timbre_8_min</th>\n",
       "      <th>timbre_8_max</th>\n",
       "      <th>timbre_9_min</th>\n",
       "      <th>timbre_9_max</th>\n",
       "      <th>timbre_10_min</th>\n",
       "      <th>timbre_10_max</th>\n",
       "      <th>timbre_11_min</th>\n",
       "      <th>timbre_11_max</th>\n",
       "      <th>Top10</th>\n",
       "      <th>probability</th>\n",
       "    </tr>\n",
       "  </thead>\n",
       "  <tbody>\n",
       "    <tr>\n",
       "      <th>373</th>\n",
       "      <td>3</td>\n",
       "      <td>0.732</td>\n",
       "      <td>-6.320</td>\n",
       "      <td>89.614</td>\n",
       "      <td>0.652</td>\n",
       "      <td>1</td>\n",
       "      <td>0.773</td>\n",
       "      <td>0.598529</td>\n",
       "      <td>0.004</td>\n",
       "      <td>0.000</td>\n",
       "      <td>...</td>\n",
       "      <td>-71.776</td>\n",
       "      <td>58.432</td>\n",
       "      <td>-53.816</td>\n",
       "      <td>88.571</td>\n",
       "      <td>-89.816</td>\n",
       "      <td>38.026</td>\n",
       "      <td>-52.075</td>\n",
       "      <td>52.827</td>\n",
       "      <td>0</td>\n",
       "      <td>0.060917</td>\n",
       "    </tr>\n",
       "    <tr>\n",
       "      <th>374</th>\n",
       "      <td>3</td>\n",
       "      <td>0.906</td>\n",
       "      <td>-9.541</td>\n",
       "      <td>117.742</td>\n",
       "      <td>0.542</td>\n",
       "      <td>0</td>\n",
       "      <td>0.722</td>\n",
       "      <td>0.363399</td>\n",
       "      <td>0.006</td>\n",
       "      <td>0.739</td>\n",
       "      <td>...</td>\n",
       "      <td>-64.470</td>\n",
       "      <td>58.086</td>\n",
       "      <td>-76.937</td>\n",
       "      <td>74.441</td>\n",
       "      <td>-88.244</td>\n",
       "      <td>42.209</td>\n",
       "      <td>-66.812</td>\n",
       "      <td>40.749</td>\n",
       "      <td>0</td>\n",
       "      <td>0.039069</td>\n",
       "    </tr>\n",
       "    <tr>\n",
       "      <th>375</th>\n",
       "      <td>4</td>\n",
       "      <td>0.987</td>\n",
       "      <td>-4.842</td>\n",
       "      <td>119.018</td>\n",
       "      <td>0.838</td>\n",
       "      <td>6</td>\n",
       "      <td>0.106</td>\n",
       "      <td>0.760151</td>\n",
       "      <td>0.003</td>\n",
       "      <td>0.000</td>\n",
       "      <td>...</td>\n",
       "      <td>-52.459</td>\n",
       "      <td>40.679</td>\n",
       "      <td>-50.408</td>\n",
       "      <td>58.811</td>\n",
       "      <td>-78.239</td>\n",
       "      <td>35.264</td>\n",
       "      <td>-54.200</td>\n",
       "      <td>46.490</td>\n",
       "      <td>0</td>\n",
       "      <td>0.025370</td>\n",
       "    </tr>\n",
       "    <tr>\n",
       "      <th>376</th>\n",
       "      <td>4</td>\n",
       "      <td>0.822</td>\n",
       "      <td>-5.272</td>\n",
       "      <td>71.479</td>\n",
       "      <td>0.613</td>\n",
       "      <td>4</td>\n",
       "      <td>0.781</td>\n",
       "      <td>0.755034</td>\n",
       "      <td>0.014</td>\n",
       "      <td>0.000</td>\n",
       "      <td>...</td>\n",
       "      <td>-55.811</td>\n",
       "      <td>78.963</td>\n",
       "      <td>-51.504</td>\n",
       "      <td>70.455</td>\n",
       "      <td>-74.928</td>\n",
       "      <td>30.839</td>\n",
       "      <td>-51.377</td>\n",
       "      <td>27.768</td>\n",
       "      <td>0</td>\n",
       "      <td>0.047078</td>\n",
       "    </tr>\n",
       "    <tr>\n",
       "      <th>377</th>\n",
       "      <td>4</td>\n",
       "      <td>0.983</td>\n",
       "      <td>-6.233</td>\n",
       "      <td>77.492</td>\n",
       "      <td>0.740</td>\n",
       "      <td>8</td>\n",
       "      <td>0.552</td>\n",
       "      <td>0.523658</td>\n",
       "      <td>0.008</td>\n",
       "      <td>0.000</td>\n",
       "      <td>...</td>\n",
       "      <td>-61.392</td>\n",
       "      <td>50.309</td>\n",
       "      <td>-62.994</td>\n",
       "      <td>96.837</td>\n",
       "      <td>-90.397</td>\n",
       "      <td>60.549</td>\n",
       "      <td>-52.122</td>\n",
       "      <td>48.059</td>\n",
       "      <td>0</td>\n",
       "      <td>0.135712</td>\n",
       "    </tr>\n",
       "  </tbody>\n",
       "</table>\n",
       "<p>5 rows × 35 columns</p>\n",
       "</div>"
      ],
      "text/plain": [
       "     timesignature  timesignature_confidence  loudness    tempo  \\\n",
       "373              3                     0.732    -6.320   89.614   \n",
       "374              3                     0.906    -9.541  117.742   \n",
       "375              4                     0.987    -4.842  119.018   \n",
       "376              4                     0.822    -5.272   71.479   \n",
       "377              4                     0.983    -6.233   77.492   \n",
       "\n",
       "     tempo_confidence  key  key_confidence    energy  pitch  timbre_0_min  \\\n",
       "373             0.652    1           0.773  0.598529  0.004         0.000   \n",
       "374             0.542    0           0.722  0.363399  0.006         0.739   \n",
       "375             0.838    6           0.106  0.760151  0.003         0.000   \n",
       "376             0.613    4           0.781  0.755034  0.014         0.000   \n",
       "377             0.740    8           0.552  0.523658  0.008         0.000   \n",
       "\n",
       "        ...       timbre_8_min  timbre_8_max  timbre_9_min  timbre_9_max  \\\n",
       "373     ...            -71.776        58.432       -53.816        88.571   \n",
       "374     ...            -64.470        58.086       -76.937        74.441   \n",
       "375     ...            -52.459        40.679       -50.408        58.811   \n",
       "376     ...            -55.811        78.963       -51.504        70.455   \n",
       "377     ...            -61.392        50.309       -62.994        96.837   \n",
       "\n",
       "     timbre_10_min  timbre_10_max  timbre_11_min  timbre_11_max  Top10  \\\n",
       "373        -89.816         38.026        -52.075         52.827      0   \n",
       "374        -88.244         42.209        -66.812         40.749      0   \n",
       "375        -78.239         35.264        -54.200         46.490      0   \n",
       "376        -74.928         30.839        -51.377         27.768      0   \n",
       "377        -90.397         60.549        -52.122         48.059      0   \n",
       "\n",
       "     probability  \n",
       "373     0.060917  \n",
       "374     0.039069  \n",
       "375     0.025370  \n",
       "376     0.047078  \n",
       "377     0.135712  \n",
       "\n",
       "[5 rows x 35 columns]"
      ]
     },
     "execution_count": 17,
     "metadata": {},
     "output_type": "execute_result"
    }
   ],
   "source": [
    "LogReg_data = SongsTrain.copy()\n",
    "LogReg_data['probability'] = LogReg.predict_proba(SongsTrain.drop('Top10',axis=1)).T[1]\n",
    "LogReg_data[:5]"
   ]
  },
  {
   "cell_type": "markdown",
   "metadata": {
    "collapsed": false
   },
   "source": [
    "Let's now think about the variables in our dataset related to the confidence of the time signature, key and tempo (timesignature_confidence, key_confidence, and tempo_confidence). Our model seems to indicate that these confidence variables are significant (rather than the variables timesignature, key and tempo themselves). What does the model suggest?\n",
    "\n",
    "Answer: These columns should be used as predictors?"
   ]
  },
  {
   "cell_type": "code",
   "execution_count": 18,
   "metadata": {
    "collapsed": false
   },
   "outputs": [
    {
     "data": {
      "text/plain": [
       "array([[ 1.        ,  0.73990671],\n",
       "       [ 0.73990671,  1.        ]])"
      ]
     },
     "execution_count": 18,
     "metadata": {},
     "output_type": "execute_result"
    }
   ],
   "source": [
    "np.corrcoef(SongsTrain['loudness'],SongsTrain['energy'])"
   ]
  },
  {
   "cell_type": "markdown",
   "metadata": {},
   "source": [
    "Given that these two variables are highly correlated, LogReg suffers from multicollinearity. To avoid this issue, we will omit one of these two variables and rerun the logistic regression. In the rest of this problem, we'll build two variations of our original model: LogReg2, in which we keep \"energy\" and omit \"loudness\", and LogReg3 (Model3), in which we keep \"loudness\" and omit \"energy\"."
   ]
  },
  {
   "cell_type": "code",
   "execution_count": 19,
   "metadata": {
    "collapsed": false
   },
   "outputs": [
    {
     "name": "stdout",
     "output_type": "stream",
     "text": [
      "                  Indep_vars  LogReg2_coefs\n",
      "0              timesignature       0.104796\n",
      "1   timesignature_confidence       0.725203\n",
      "2                      tempo      -0.000553\n",
      "3           tempo_confidence       0.530720\n",
      "4                        key       0.014666\n",
      "5             key_confidence       0.325711\n",
      "6                     energy      -0.200724\n",
      "7                      pitch      -1.121612\n",
      "8               timbre_0_min       0.022986\n",
      "9               timbre_0_max      -0.098995\n",
      "10              timbre_1_min       0.006435\n",
      "11              timbre_1_max      -0.000792\n",
      "12              timbre_2_min      -0.003402\n",
      "13              timbre_2_max       0.000322\n",
      "14              timbre_3_min       0.000756\n",
      "15              timbre_3_max      -0.002799\n",
      "16              timbre_4_min       0.008183\n",
      "17              timbre_4_max       0.007223\n",
      "18              timbre_5_min      -0.006651\n",
      "19              timbre_5_max       0.000643\n",
      "20              timbre_6_min      -0.016335\n",
      "21              timbre_6_max       0.005468\n",
      "22              timbre_7_min      -0.006000\n",
      "23              timbre_7_max      -0.003107\n",
      "24              timbre_8_min       0.004564\n",
      "25              timbre_8_max       0.006645\n",
      "26              timbre_9_min      -0.000012\n",
      "27              timbre_9_max       0.003650\n",
      "28             timbre_10_min       0.002882\n",
      "29             timbre_10_max       0.007057\n",
      "30             timbre_11_min      -0.029383\n",
      "31             timbre_11_max       0.016447\n",
      "intercept :  [-2.83743794]\n"
     ]
    }
   ],
   "source": [
    "LogReg2 = lm.LogisticRegression()\n",
    "X = SongsTrain[['timesignature', 'timesignature_confidence', 'tempo',\n",
    "       'tempo_confidence', 'key', 'key_confidence', 'energy', 'pitch',\n",
    "       'timbre_0_min', 'timbre_0_max', 'timbre_1_min', 'timbre_1_max',\n",
    "       'timbre_2_min', 'timbre_2_max', 'timbre_3_min', 'timbre_3_max',\n",
    "       'timbre_4_min', 'timbre_4_max', 'timbre_5_min', 'timbre_5_max',\n",
    "       'timbre_6_min', 'timbre_6_max', 'timbre_7_min', 'timbre_7_max',\n",
    "       'timbre_8_min', 'timbre_8_max', 'timbre_9_min', 'timbre_9_max',\n",
    "       'timbre_10_min', 'timbre_10_max', 'timbre_11_min', 'timbre_11_max']]\n",
    "y = SongsTrain['Top10']\n",
    "LogReg2.fit(X,y)\n",
    "\n",
    "LogReg2_results = pd.DataFrame({'Indep_vars': X.columns,'LogReg2_coefs': LogReg2.coef_.flatten()})\n",
    "print(LogReg2_results)\n",
    "print(\"intercept : \",LogReg2.intercept_)"
   ]
  },
  {
   "cell_type": "code",
   "execution_count": 20,
   "metadata": {
    "collapsed": false
   },
   "outputs": [
    {
     "name": "stdout",
     "output_type": "stream",
     "text": [
      "                  Indep_vars  LogReg3_coefs\n",
      "0              timesignature       0.236011\n",
      "1   timesignature_confidence       0.720563\n",
      "2                   loudness       0.098730\n",
      "3                      tempo       0.000510\n",
      "4           tempo_confidence       0.408968\n",
      "5                        key       0.017520\n",
      "6             key_confidence       0.323141\n",
      "7                      pitch      -0.358035\n",
      "8               timbre_0_min       0.023101\n",
      "9               timbre_0_max      -0.172972\n",
      "10              timbre_1_min       0.005301\n",
      "11              timbre_1_max      -0.000715\n",
      "12              timbre_2_min      -0.003812\n",
      "13              timbre_2_max       0.000039\n",
      "14              timbre_3_min       0.000431\n",
      "15              timbre_3_max      -0.003135\n",
      "16              timbre_4_min       0.008652\n",
      "17              timbre_4_max       0.007568\n",
      "18              timbre_5_min      -0.006217\n",
      "19              timbre_5_max       0.000494\n",
      "20              timbre_6_min      -0.018353\n",
      "21              timbre_6_max       0.005266\n",
      "22              timbre_7_min      -0.006013\n",
      "23              timbre_7_max      -0.002733\n",
      "24              timbre_8_min       0.003368\n",
      "25              timbre_8_max       0.007981\n",
      "26              timbre_9_min      -0.000632\n",
      "27              timbre_9_max       0.002954\n",
      "28             timbre_10_min       0.003474\n",
      "29             timbre_10_max       0.006153\n",
      "30             timbre_11_min      -0.030516\n",
      "31             timbre_11_max       0.019592\n",
      "intercept :  [ 0.81684074]\n"
     ]
    }
   ],
   "source": [
    "LogReg3 = lm.LogisticRegression()\n",
    "X = SongsTrain[['timesignature', 'timesignature_confidence', 'loudness', 'tempo',\n",
    "       'tempo_confidence', 'key', 'key_confidence', 'pitch',\n",
    "       'timbre_0_min', 'timbre_0_max', 'timbre_1_min', 'timbre_1_max',\n",
    "       'timbre_2_min', 'timbre_2_max', 'timbre_3_min', 'timbre_3_max',\n",
    "       'timbre_4_min', 'timbre_4_max', 'timbre_5_min', 'timbre_5_max',\n",
    "       'timbre_6_min', 'timbre_6_max', 'timbre_7_min', 'timbre_7_max',\n",
    "       'timbre_8_min', 'timbre_8_max', 'timbre_9_min', 'timbre_9_max',\n",
    "       'timbre_10_min', 'timbre_10_max', 'timbre_11_min', 'timbre_11_max']]\n",
    "y = SongsTrain['Top10']\n",
    "LogReg3.fit(X,y)\n",
    "\n",
    "LogReg3_results = pd.DataFrame({'Indep_vars': X.columns,'LogReg3_coefs': LogReg3.coef_.flatten()})\n",
    "print(LogReg3_results)\n",
    "print(\"intercept : \",LogReg3.intercept_)"
   ]
  },
  {
   "cell_type": "code",
   "execution_count": 42,
   "metadata": {
    "collapsed": false
   },
   "outputs": [
    {
     "data": {
      "text/html": [
       "<div>\n",
       "<table border=\"1\" class=\"dataframe\">\n",
       "  <thead>\n",
       "    <tr style=\"text-align: right;\">\n",
       "      <th>col_0</th>\n",
       "      <th>False</th>\n",
       "      <th>True</th>\n",
       "    </tr>\n",
       "    <tr>\n",
       "      <th>Top10</th>\n",
       "      <th></th>\n",
       "      <th></th>\n",
       "    </tr>\n",
       "  </thead>\n",
       "  <tbody>\n",
       "    <tr>\n",
       "      <th>0</th>\n",
       "      <td>311</td>\n",
       "      <td>3</td>\n",
       "    </tr>\n",
       "    <tr>\n",
       "      <th>1</th>\n",
       "      <td>47</td>\n",
       "      <td>12</td>\n",
       "    </tr>\n",
       "  </tbody>\n",
       "</table>\n",
       "</div>"
      ],
      "text/plain": [
       "col_0  False  True \n",
       "Top10              \n",
       "0        311      3\n",
       "1         47     12"
      ]
     },
     "execution_count": 42,
     "metadata": {},
     "output_type": "execute_result"
    }
   ],
   "source": [
    "LogReg3_predictions = LogReg3.predict_proba(SongsTest[X.columns]).T[1]\n",
    "\n",
    "threshold = 0.45\n",
    "LogReg3_pred_0_1 = (LogReg3_predictions > threshold)\n",
    "pd.crosstab(index=SongsTest['Top10'], columns=LogReg3_pred_0_1)"
   ]
  },
  {
   "cell_type": "markdown",
   "metadata": {},
   "source": [
    "#### Now let's repeat and do it with statsmodel"
   ]
  },
  {
   "cell_type": "code",
   "execution_count": 25,
   "metadata": {
    "collapsed": false,
    "scrolled": true
   },
   "outputs": [
    {
     "data": {
      "text/html": [
       "<table class=\"simpletable\">\n",
       "<caption>Generalized Linear Model Regression Results</caption>\n",
       "<tr>\n",
       "  <th>Dep. Variable:</th>        <td>Top10</td>      <th>  No. Observations:  </th>  <td>  7201</td> \n",
       "</tr>\n",
       "<tr>\n",
       "  <th>Model:</th>                 <td>GLM</td>       <th>  Df Residuals:      </th>  <td>  7168</td> \n",
       "</tr>\n",
       "<tr>\n",
       "  <th>Model Family:</th>       <td>Binomial</td>     <th>  Df Model:          </th>  <td>    32</td> \n",
       "</tr>\n",
       "<tr>\n",
       "  <th>Link Function:</th>        <td>logit</td>      <th>  Scale:             </th>    <td>1.0</td>  \n",
       "</tr>\n",
       "<tr>\n",
       "  <th>Method:</th>               <td>IRLS</td>       <th>  Log-Likelihood:    </th> <td> -2391.4</td>\n",
       "</tr>\n",
       "<tr>\n",
       "  <th>Date:</th>           <td>Sun, 07 Aug 2016</td> <th>  Deviance:          </th> <td>  4782.7</td>\n",
       "</tr>\n",
       "<tr>\n",
       "  <th>Time:</th>               <td>02:09:52</td>     <th>  Pearson chi2:      </th> <td>7.00e+03</td>\n",
       "</tr>\n",
       "<tr>\n",
       "  <th>No. Iterations:</th>         <td>9</td>        <th>                     </th>     <td> </td>   \n",
       "</tr>\n",
       "</table>\n",
       "<table class=\"simpletable\">\n",
       "<tr>\n",
       "              <td></td>                <th>coef</th>     <th>std err</th>      <th>z</th>      <th>P>|z|</th> <th>[95.0% Conf. Int.]</th> \n",
       "</tr>\n",
       "<tr>\n",
       "  <th>Intercept</th>                <td>   11.9606</td> <td>    1.714</td> <td>    6.977</td> <td> 0.000</td> <td>    8.601    15.320</td>\n",
       "</tr>\n",
       "<tr>\n",
       "  <th>timesignature</th>            <td>    0.1151</td> <td>    0.087</td> <td>    1.319</td> <td> 0.187</td> <td>   -0.056     0.286</td>\n",
       "</tr>\n",
       "<tr>\n",
       "  <th>timesignature_confidence</th> <td>    0.7143</td> <td>    0.195</td> <td>    3.670</td> <td> 0.000</td> <td>    0.333     1.096</td>\n",
       "</tr>\n",
       "<tr>\n",
       "  <th>loudness</th>                 <td>    0.2306</td> <td>    0.025</td> <td>    9.120</td> <td> 0.000</td> <td>    0.181     0.280</td>\n",
       "</tr>\n",
       "<tr>\n",
       "  <th>tempo</th>                    <td>   -0.0006</td> <td>    0.002</td> <td>   -0.388</td> <td> 0.698</td> <td>   -0.004     0.003</td>\n",
       "</tr>\n",
       "<tr>\n",
       "  <th>tempo_confidence</th>         <td>    0.3841</td> <td>    0.140</td> <td>    2.747</td> <td> 0.006</td> <td>    0.110     0.658</td>\n",
       "</tr>\n",
       "<tr>\n",
       "  <th>key</th>                      <td>    0.0165</td> <td>    0.010</td> <td>    1.593</td> <td> 0.111</td> <td>   -0.004     0.037</td>\n",
       "</tr>\n",
       "<tr>\n",
       "  <th>key_confidence</th>           <td>    0.3394</td> <td>    0.141</td> <td>    2.409</td> <td> 0.016</td> <td>    0.063     0.616</td>\n",
       "</tr>\n",
       "<tr>\n",
       "  <th>pitch</th>                    <td>  -53.2841</td> <td>    6.733</td> <td>   -7.914</td> <td> 0.000</td> <td>  -66.480   -40.088</td>\n",
       "</tr>\n",
       "<tr>\n",
       "  <th>timbre_0_min</th>             <td>    0.0220</td> <td>    0.004</td> <td>    5.200</td> <td> 0.000</td> <td>    0.014     0.030</td>\n",
       "</tr>\n",
       "<tr>\n",
       "  <th>timbre_0_max</th>             <td>   -0.3105</td> <td>    0.025</td> <td>  -12.240</td> <td> 0.000</td> <td>   -0.360    -0.261</td>\n",
       "</tr>\n",
       "<tr>\n",
       "  <th>timbre_1_min</th>             <td>    0.0054</td> <td>    0.001</td> <td>    7.086</td> <td> 0.000</td> <td>    0.004     0.007</td>\n",
       "</tr>\n",
       "<tr>\n",
       "  <th>timbre_1_max</th>             <td>   -0.0005</td> <td>    0.001</td> <td>   -0.719</td> <td> 0.472</td> <td>   -0.002     0.001</td>\n",
       "</tr>\n",
       "<tr>\n",
       "  <th>timbre_2_min</th>             <td>   -0.0023</td> <td>    0.001</td> <td>   -2.012</td> <td> 0.044</td> <td>   -0.004 -5.86e-05</td>\n",
       "</tr>\n",
       "<tr>\n",
       "  <th>timbre_2_max</th>             <td>    0.0004</td> <td>    0.001</td> <td>    0.457</td> <td> 0.648</td> <td>   -0.001     0.002</td>\n",
       "</tr>\n",
       "<tr>\n",
       "  <th>timbre_3_min</th>             <td>    0.0003</td> <td>    0.001</td> <td>    0.542</td> <td> 0.588</td> <td>   -0.001     0.001</td>\n",
       "</tr>\n",
       "<tr>\n",
       "  <th>timbre_3_max</th>             <td>   -0.0030</td> <td>    0.001</td> <td>   -5.147</td> <td> 0.000</td> <td>   -0.004    -0.002</td>\n",
       "</tr>\n",
       "<tr>\n",
       "  <th>timbre_4_min</th>             <td>    0.0110</td> <td>    0.002</td> <td>    5.585</td> <td> 0.000</td> <td>    0.007     0.015</td>\n",
       "</tr>\n",
       "<tr>\n",
       "  <th>timbre_4_max</th>             <td>    0.0065</td> <td>    0.002</td> <td>    4.196</td> <td> 0.000</td> <td>    0.003     0.009</td>\n",
       "</tr>\n",
       "<tr>\n",
       "  <th>timbre_5_min</th>             <td>   -0.0051</td> <td>    0.001</td> <td>   -4.046</td> <td> 0.000</td> <td>   -0.008    -0.003</td>\n",
       "</tr>\n",
       "<tr>\n",
       "  <th>timbre_5_max</th>             <td>    0.0003</td> <td>    0.001</td> <td>    0.379</td> <td> 0.705</td> <td>   -0.001     0.002</td>\n",
       "</tr>\n",
       "<tr>\n",
       "  <th>timbre_6_min</th>             <td>   -0.0178</td> <td>    0.002</td> <td>   -7.945</td> <td> 0.000</td> <td>   -0.022    -0.013</td>\n",
       "</tr>\n",
       "<tr>\n",
       "  <th>timbre_6_max</th>             <td>    0.0034</td> <td>    0.002</td> <td>    1.580</td> <td> 0.114</td> <td>   -0.001     0.008</td>\n",
       "</tr>\n",
       "<tr>\n",
       "  <th>timbre_7_min</th>             <td>   -0.0051</td> <td>    0.002</td> <td>   -2.900</td> <td> 0.004</td> <td>   -0.009    -0.002</td>\n",
       "</tr>\n",
       "<tr>\n",
       "  <th>timbre_7_max</th>             <td>   -0.0034</td> <td>    0.002</td> <td>   -1.865</td> <td> 0.062</td> <td>   -0.007     0.000</td>\n",
       "</tr>\n",
       "<tr>\n",
       "  <th>timbre_8_min</th>             <td>    0.0037</td> <td>    0.003</td> <td>    1.301</td> <td> 0.193</td> <td>   -0.002     0.009</td>\n",
       "</tr>\n",
       "<tr>\n",
       "  <th>timbre_8_max</th>             <td>    0.0047</td> <td>    0.003</td> <td>    1.559</td> <td> 0.119</td> <td>   -0.001     0.011</td>\n",
       "</tr>\n",
       "<tr>\n",
       "  <th>timbre_9_min</th>             <td>-9.318e-05</td> <td>    0.003</td> <td>   -0.032</td> <td> 0.975</td> <td>   -0.006     0.006</td>\n",
       "</tr>\n",
       "<tr>\n",
       "  <th>timbre_9_max</th>             <td>    0.0013</td> <td>    0.002</td> <td>    0.554</td> <td> 0.580</td> <td>   -0.003     0.006</td>\n",
       "</tr>\n",
       "<tr>\n",
       "  <th>timbre_10_min</th>            <td>    0.0041</td> <td>    0.002</td> <td>    2.217</td> <td> 0.027</td> <td>    0.000     0.008</td>\n",
       "</tr>\n",
       "<tr>\n",
       "  <th>timbre_10_max</th>            <td>    0.0058</td> <td>    0.002</td> <td>    3.294</td> <td> 0.001</td> <td>    0.002     0.009</td>\n",
       "</tr>\n",
       "<tr>\n",
       "  <th>timbre_11_min</th>            <td>   -0.0264</td> <td>    0.004</td> <td>   -7.162</td> <td> 0.000</td> <td>   -0.034    -0.019</td>\n",
       "</tr>\n",
       "<tr>\n",
       "  <th>timbre_11_max</th>            <td>    0.0198</td> <td>    0.003</td> <td>    5.896</td> <td> 0.000</td> <td>    0.013     0.026</td>\n",
       "</tr>\n",
       "</table>"
      ],
      "text/plain": [
       "<class 'statsmodels.iolib.summary.Summary'>\n",
       "\"\"\"\n",
       "                 Generalized Linear Model Regression Results                  \n",
       "==============================================================================\n",
       "Dep. Variable:                  Top10   No. Observations:                 7201\n",
       "Model:                            GLM   Df Residuals:                     7168\n",
       "Model Family:                Binomial   Df Model:                           32\n",
       "Link Function:                  logit   Scale:                             1.0\n",
       "Method:                          IRLS   Log-Likelihood:                -2391.4\n",
       "Date:                Sun, 07 Aug 2016   Deviance:                       4782.7\n",
       "Time:                        02:09:52   Pearson chi2:                 7.00e+03\n",
       "No. Iterations:                     9                                         \n",
       "============================================================================================\n",
       "                               coef    std err          z      P>|z|      [95.0% Conf. Int.]\n",
       "--------------------------------------------------------------------------------------------\n",
       "Intercept                   11.9606      1.714      6.977      0.000         8.601    15.320\n",
       "timesignature                0.1151      0.087      1.319      0.187        -0.056     0.286\n",
       "timesignature_confidence     0.7143      0.195      3.670      0.000         0.333     1.096\n",
       "loudness                     0.2306      0.025      9.120      0.000         0.181     0.280\n",
       "tempo                       -0.0006      0.002     -0.388      0.698        -0.004     0.003\n",
       "tempo_confidence             0.3841      0.140      2.747      0.006         0.110     0.658\n",
       "key                          0.0165      0.010      1.593      0.111        -0.004     0.037\n",
       "key_confidence               0.3394      0.141      2.409      0.016         0.063     0.616\n",
       "pitch                      -53.2841      6.733     -7.914      0.000       -66.480   -40.088\n",
       "timbre_0_min                 0.0220      0.004      5.200      0.000         0.014     0.030\n",
       "timbre_0_max                -0.3105      0.025    -12.240      0.000        -0.360    -0.261\n",
       "timbre_1_min                 0.0054      0.001      7.086      0.000         0.004     0.007\n",
       "timbre_1_max                -0.0005      0.001     -0.719      0.472        -0.002     0.001\n",
       "timbre_2_min                -0.0023      0.001     -2.012      0.044        -0.004 -5.86e-05\n",
       "timbre_2_max                 0.0004      0.001      0.457      0.648        -0.001     0.002\n",
       "timbre_3_min                 0.0003      0.001      0.542      0.588        -0.001     0.001\n",
       "timbre_3_max                -0.0030      0.001     -5.147      0.000        -0.004    -0.002\n",
       "timbre_4_min                 0.0110      0.002      5.585      0.000         0.007     0.015\n",
       "timbre_4_max                 0.0065      0.002      4.196      0.000         0.003     0.009\n",
       "timbre_5_min                -0.0051      0.001     -4.046      0.000        -0.008    -0.003\n",
       "timbre_5_max                 0.0003      0.001      0.379      0.705        -0.001     0.002\n",
       "timbre_6_min                -0.0178      0.002     -7.945      0.000        -0.022    -0.013\n",
       "timbre_6_max                 0.0034      0.002      1.580      0.114        -0.001     0.008\n",
       "timbre_7_min                -0.0051      0.002     -2.900      0.004        -0.009    -0.002\n",
       "timbre_7_max                -0.0034      0.002     -1.865      0.062        -0.007     0.000\n",
       "timbre_8_min                 0.0037      0.003      1.301      0.193        -0.002     0.009\n",
       "timbre_8_max                 0.0047      0.003      1.559      0.119        -0.001     0.011\n",
       "timbre_9_min             -9.318e-05      0.003     -0.032      0.975        -0.006     0.006\n",
       "timbre_9_max                 0.0013      0.002      0.554      0.580        -0.003     0.006\n",
       "timbre_10_min                0.0041      0.002      2.217      0.027         0.000     0.008\n",
       "timbre_10_max                0.0058      0.002      3.294      0.001         0.002     0.009\n",
       "timbre_11_min               -0.0264      0.004     -7.162      0.000        -0.034    -0.019\n",
       "timbre_11_max                0.0198      0.003      5.896      0.000         0.013     0.026\n",
       "============================================================================================\n",
       "\"\"\""
      ]
     },
     "execution_count": 25,
     "metadata": {},
     "output_type": "execute_result"
    }
   ],
   "source": [
    "formula = 'Top10 ~ timesignature + timesignature_confidence + loudness + tempo + tempo_confidence + key + key_confidence + pitch + timbre_0_min + timbre_0_max + timbre_1_min + timbre_1_max + timbre_2_min + timbre_2_max + timbre_3_min + timbre_3_max + timbre_4_min + timbre_4_max + timbre_5_min + timbre_5_max + timbre_6_min + timbre_6_max + timbre_7_min + timbre_7_max + timbre_8_min + timbre_8_max + timbre_9_min + timbre_9_max + timbre_10_min + timbre_10_max + timbre_11_min + timbre_11_max'\n",
    "model3 = smf.GLM.from_formula(formula=formula, data=SongsTrain, family=sm.families.Binomial()).fit()\n",
    "model3.summary()"
   ]
  },
  {
   "cell_type": "code",
   "execution_count": 26,
   "metadata": {
    "collapsed": false
   },
   "outputs": [
    {
     "name": "stdout",
     "output_type": "stream",
     "text": [
      "32\n",
      "33\n",
      "7201\n"
     ]
    }
   ],
   "source": [
    "print(len(X.columns))\n",
    "print(len(model3.params))\n",
    "print(len(model3.predict()))"
   ]
  },
  {
   "cell_type": "code",
   "execution_count": 27,
   "metadata": {
    "collapsed": false
   },
   "outputs": [
    {
     "data": {
      "text/plain": [
       "['intercept',\n",
       " 'timesignature',\n",
       " 'timesignature_confidence',\n",
       " 'loudness',\n",
       " 'tempo',\n",
       " 'tempo_confidence',\n",
       " 'key',\n",
       " 'key_confidence',\n",
       " 'pitch',\n",
       " 'timbre_0_min',\n",
       " 'timbre_0_max',\n",
       " 'timbre_1_min',\n",
       " 'timbre_1_max',\n",
       " 'timbre_2_min',\n",
       " 'timbre_2_max',\n",
       " 'timbre_3_min',\n",
       " 'timbre_3_max',\n",
       " 'timbre_4_min',\n",
       " 'timbre_4_max',\n",
       " 'timbre_5_min',\n",
       " 'timbre_5_max',\n",
       " 'timbre_6_min',\n",
       " 'timbre_6_max',\n",
       " 'timbre_7_min',\n",
       " 'timbre_7_max',\n",
       " 'timbre_8_min',\n",
       " 'timbre_8_max',\n",
       " 'timbre_9_min',\n",
       " 'timbre_9_max',\n",
       " 'timbre_10_min',\n",
       " 'timbre_10_max',\n",
       " 'timbre_11_min',\n",
       " 'timbre_11_max']"
      ]
     },
     "execution_count": 27,
     "metadata": {},
     "output_type": "execute_result"
    }
   ],
   "source": [
    "temp = ['intercept']\n",
    "temp += [i for i in X.columns]\n",
    "temp"
   ]
  },
  {
   "cell_type": "code",
   "execution_count": 28,
   "metadata": {
    "collapsed": false
   },
   "outputs": [
    {
     "name": "stdout",
     "output_type": "stream",
     "text": [
      "                                        Indep_vars  model3_coefs\n",
      "Intercept                                intercept     11.960562\n",
      "timesignature                        timesignature      0.115094\n",
      "timesignature_confidence  timesignature_confidence      0.714270\n",
      "loudness                                  loudness      0.230557\n",
      "tempo                                        tempo     -0.000646\n",
      "tempo_confidence                  tempo_confidence      0.384093\n",
      "key                                            key      0.016495\n",
      "key_confidence                      key_confidence      0.339406\n",
      "pitch                                        pitch    -53.284058\n",
      "timbre_0_min                          timbre_0_min      0.022045\n",
      "timbre_0_max                          timbre_0_max     -0.310480\n",
      "timbre_1_min                          timbre_1_min      0.005416\n",
      "timbre_1_max                          timbre_1_max     -0.000511\n",
      "timbre_2_min                          timbre_2_min     -0.002254\n",
      "timbre_2_max                          timbre_2_max      0.000412\n",
      "timbre_3_min                          timbre_3_min      0.000318\n",
      "timbre_3_max                          timbre_3_max     -0.002964\n",
      "timbre_4_min                          timbre_4_min      0.011046\n",
      "timbre_4_max                          timbre_4_max      0.006467\n",
      "timbre_5_min                          timbre_5_min     -0.005135\n",
      "timbre_5_max                          timbre_5_max      0.000298\n",
      "timbre_6_min                          timbre_6_min     -0.017845\n",
      "timbre_6_max                          timbre_6_max      0.003447\n",
      "timbre_7_min                          timbre_7_min     -0.005128\n",
      "timbre_7_max                          timbre_7_max     -0.003394\n",
      "timbre_8_min                          timbre_8_min      0.003686\n",
      "timbre_8_max                          timbre_8_max      0.004658\n",
      "timbre_9_min                          timbre_9_min     -0.000093\n",
      "timbre_9_max                          timbre_9_max      0.001342\n",
      "timbre_10_min                        timbre_10_min      0.004050\n",
      "timbre_10_max                        timbre_10_max      0.005793\n",
      "timbre_11_min                        timbre_11_min     -0.026377\n",
      "timbre_11_max                        timbre_11_max      0.019836\n"
     ]
    }
   ],
   "source": [
    "model3_results = pd.DataFrame({'Indep_vars': temp,'model3_coefs': model3.params})\n",
    "print(model3_results)"
   ]
  },
  {
   "cell_type": "code",
   "execution_count": 38,
   "metadata": {
    "collapsed": false
   },
   "outputs": [
    {
     "data": {
      "text/html": [
       "<div>\n",
       "<table border=\"1\" class=\"dataframe\">\n",
       "  <thead>\n",
       "    <tr style=\"text-align: right;\">\n",
       "      <th>col_0</th>\n",
       "      <th>False</th>\n",
       "      <th>True</th>\n",
       "    </tr>\n",
       "    <tr>\n",
       "      <th>Top10</th>\n",
       "      <th></th>\n",
       "      <th></th>\n",
       "    </tr>\n",
       "  </thead>\n",
       "  <tbody>\n",
       "    <tr>\n",
       "      <th>0</th>\n",
       "      <td>309</td>\n",
       "      <td>5</td>\n",
       "    </tr>\n",
       "    <tr>\n",
       "      <th>1</th>\n",
       "      <td>40</td>\n",
       "      <td>19</td>\n",
       "    </tr>\n",
       "  </tbody>\n",
       "</table>\n",
       "</div>"
      ],
      "text/plain": [
       "col_0  False  True \n",
       "Top10              \n",
       "0        309      5\n",
       "1         40     19"
      ]
     },
     "execution_count": 38,
     "metadata": {},
     "output_type": "execute_result"
    }
   ],
   "source": [
    "model3_predictions = model3.predict(SongsTest[['timesignature', 'timesignature_confidence', 'loudness', 'tempo',\n",
    "       'tempo_confidence', 'key', 'key_confidence', 'pitch',\n",
    "       'timbre_0_min', 'timbre_0_max', 'timbre_1_min', 'timbre_1_max',\n",
    "       'timbre_2_min', 'timbre_2_max', 'timbre_3_min', 'timbre_3_max',\n",
    "       'timbre_4_min', 'timbre_4_max', 'timbre_5_min', 'timbre_5_max',\n",
    "       'timbre_6_min', 'timbre_6_max', 'timbre_7_min', 'timbre_7_max',\n",
    "       'timbre_8_min', 'timbre_8_max', 'timbre_9_min', 'timbre_9_max',\n",
    "       'timbre_10_min', 'timbre_10_max', 'timbre_11_min', 'timbre_11_max']],linear=False)\n",
    "\n",
    "threshold = 0.45\n",
    "model3_pred_0_1 = (model3_predictions>threshold)\n",
    "pd.crosstab(index=SongsTest['Top10'], columns=model3_pred_0_1)"
   ]
  },
  {
   "cell_type": "code",
   "execution_count": 43,
   "metadata": {
    "collapsed": false
   },
   "outputs": [
    {
     "name": "stdout",
     "output_type": "stream",
     "text": [
      "accuracy :  0.8793565683646113\n",
      "sensitivity :  0.3220338983050847\n",
      "specificity :  0.9840764331210191\n"
     ]
    }
   ],
   "source": [
    "print(\"accuracy : \",(19+309)/(19+309+5+40))\n",
    "print(\"sensitivity : \",19/59)\n",
    "print(\"specificity : \",309/314)"
   ]
  },
  {
   "cell_type": "markdown",
   "metadata": {},
   "source": [
    "#### So is this model good or bad?\n",
    "\n",
    "High specificity and low sensitivity means:\n",
    "\n",
    "Model 3 provides conservative predictions, and predicts that a song will make it to the Top 10 very rarely. So while it detects less than half of the Top 10 songs, we can be very confident in the songs that it does predict to be Top 10 hits. "
   ]
  },
  {
   "cell_type": "code",
   "execution_count": 46,
   "metadata": {
    "collapsed": false
   },
   "outputs": [
    {
     "data": {
      "text/plain": [
       "0.84896901651732692"
      ]
     },
     "execution_count": 46,
     "metadata": {},
     "output_type": "execute_result"
    }
   ],
   "source": [
    "metrics.roc_auc_score(SongsTest['Top10'], model3_predictions)"
   ]
  },
  {
   "cell_type": "code",
   "execution_count": 50,
   "metadata": {
    "collapsed": false
   },
   "outputs": [
    {
     "data": {
      "text/plain": [
       "0.5820177599773827"
      ]
     },
     "execution_count": 50,
     "metadata": {},
     "output_type": "execute_result"
    }
   ],
   "source": [
    "metrics.average_precision_score(SongsTest['Top10'], model3_predictions)"
   ]
  },
  {
   "cell_type": "code",
   "execution_count": 53,
   "metadata": {
    "collapsed": false
   },
   "outputs": [
    {
     "data": {
      "text/plain": [
       "0.32203389830508472"
      ]
     },
     "execution_count": 53,
     "metadata": {},
     "output_type": "execute_result"
    }
   ],
   "source": [
    "metrics.recall_score(SongsTest['Top10'], model3_pred_0_1)"
   ]
  },
  {
   "cell_type": "code",
   "execution_count": 55,
   "metadata": {
    "collapsed": false
   },
   "outputs": [
    {
     "data": {
      "text/plain": [
       "0.87935656836461129"
      ]
     },
     "execution_count": 55,
     "metadata": {},
     "output_type": "execute_result"
    }
   ],
   "source": [
    "metrics.accuracy_score(SongsTest['Top10'], model3_pred_0_1)"
   ]
  },
  {
   "cell_type": "code",
   "execution_count": 56,
   "metadata": {
    "collapsed": false
   },
   "outputs": [
    {
     "data": {
      "text/plain": [
       "0.79166666666666663"
      ]
     },
     "execution_count": 56,
     "metadata": {},
     "output_type": "execute_result"
    }
   ],
   "source": [
    "metrics.precision_score(SongsTest['Top10'], model3_pred_0_1)"
   ]
  },
  {
   "cell_type": "code",
   "execution_count": 60,
   "metadata": {
    "collapsed": false
   },
   "outputs": [
    {
     "data": {
      "text/plain": [
       "0.3176440416229917"
      ]
     },
     "execution_count": 60,
     "metadata": {},
     "output_type": "execute_result"
    }
   ],
   "source": [
    "# Is this the same as log likelihood function? Apparently no\n",
    "\n",
    "metrics.log_loss(SongsTest['Top10'], model3_predictions)"
   ]
  },
  {
   "cell_type": "code",
   "execution_count": null,
   "metadata": {
    "collapsed": true
   },
   "outputs": [],
   "source": []
  }
 ],
 "metadata": {
  "anaconda-cloud": {},
  "kernelspec": {
   "display_name": "Python [Root]",
   "language": "python",
   "name": "Python [Root]"
  },
  "language_info": {
   "codemirror_mode": {
    "name": "ipython",
    "version": 3
   },
   "file_extension": ".py",
   "mimetype": "text/x-python",
   "name": "python",
   "nbconvert_exporter": "python",
   "pygments_lexer": "ipython3",
   "version": "3.5.2"
  }
 },
 "nbformat": 4,
 "nbformat_minor": 0
}
