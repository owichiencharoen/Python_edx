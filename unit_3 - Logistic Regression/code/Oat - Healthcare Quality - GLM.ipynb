{
 "cells": [
  {
   "cell_type": "markdown",
   "metadata": {},
   "source": [
    "- odds = P(Y=1)/P(Y=0)\n",
    "- odds = e^(B0 + B1X1 + B2X2 + ... + BkXk)\n",
    "- Logit = log(odds) = B0 + B1X1 + B2X2 + ... + BkXk\n",
    "- P(y = 1) = 1/(1 + e^(-Logit))\n",
    "\n",
    "Confusion Matrix\n",
    "- Accuracy = (TP+TN)/(TP+TN+FP+FN)\n",
    "- Sensitivity = Recall = TP Rate = TP/(TP+FN)\n",
    "- Specificity = TN Rate = TN/(TN+FP)\n",
    "- Precision = TP/(TP+FP)\n",
    "\n",
    "- F-measure = 2/((1/precision)+(1/recall))\n"
   ]
  },
  {
   "cell_type": "code",
   "execution_count": 1,
   "metadata": {
    "collapsed": true
   },
   "outputs": [],
   "source": [
    "import pandas as pd\n",
    "from pandas import Series, DataFrame\n",
    "import numpy as np\n",
    "import seaborn as sns\n",
    "sns.set_style('darkgrid')\n",
    "\n",
    "from scipy import stats\n",
    "import statsmodels.formula.api as smf\n",
    "import statsmodels.api as sm\n",
    "\n",
    "import matplotlib.pyplot as plt\n",
    "%matplotlib inline\n",
    "\n",
    "from sklearn.cross_validation import train_test_split\n",
    "# from sklearn import datasets, linear_model, metrics\n",
    "import sklearn.linear_model as lm\n",
    "\n",
    "#import itertools\n",
    "#import pandas_datareader.data as pdweb\n",
    "#from pandas_datareader.data import DataReader\n",
    "#from datetime import datetime\n",
    "#from io import StringIO"
   ]
  },
  {
   "cell_type": "code",
   "execution_count": 2,
   "metadata": {
    "collapsed": false
   },
   "outputs": [
    {
     "name": "stdout",
     "output_type": "stream",
     "text": [
      "<class 'pandas.core.frame.DataFrame'>\n",
      "RangeIndex: 131 entries, 0 to 130\n",
      "Data columns (total 14 columns):\n",
      "MemberID                131 non-null int64\n",
      "InpatientDays           131 non-null int64\n",
      "ERVisits                131 non-null int64\n",
      "OfficeVisits            131 non-null int64\n",
      "Narcotics               131 non-null int64\n",
      "DaysSinceLastERVisit    131 non-null float64\n",
      "Pain                    131 non-null int64\n",
      "TotalVisits             131 non-null int64\n",
      "ProviderCount           131 non-null int64\n",
      "MedicalClaims           131 non-null int64\n",
      "ClaimLines              131 non-null int64\n",
      "StartedOnCombination    131 non-null bool\n",
      "AcuteDrugGapSmall       131 non-null int64\n",
      "PoorCare                131 non-null int64\n",
      "dtypes: bool(1), float64(1), int64(12)\n",
      "memory usage: 13.5 KB\n"
     ]
    }
   ],
   "source": [
    "raw_df = pd.read_csv('../data/quality.csv')\n",
    "raw_df.info()"
   ]
  },
  {
   "cell_type": "code",
   "execution_count": 3,
   "metadata": {
    "collapsed": false
   },
   "outputs": [
    {
     "data": {
      "text/plain": [
       "[<matplotlib.lines.Line2D at 0xb262940>]"
      ]
     },
     "execution_count": 3,
     "metadata": {},
     "output_type": "execute_result"
    },
    {
     "data": {
      "image/png": "[encoded data removed]",
      "text/plain": [
       "<matplotlib.figure.Figure at 0x4530cc0>"
      ]
     },
     "metadata": {},
     "output_type": "display_data"
    }
   ],
   "source": [
    "plt.plot(raw_df['OfficeVisits'],raw_df['Narcotics'],'go')"
   ]
  },
  {
   "cell_type": "code",
   "execution_count": 4,
   "metadata": {
    "collapsed": false
   },
   "outputs": [
    {
     "data": {
      "text/plain": [
       "(0, 70.0)"
      ]
     },
     "execution_count": 4,
     "metadata": {},
     "output_type": "execute_result"
    },
    {
     "data": {
      "image/png": "[encoded data removed]",
      "text/plain": [
       "<matplotlib.figure.Figure at 0xb2b0b38>"
      ]
     },
     "metadata": {},
     "output_type": "display_data"
    }
   ],
   "source": [
    "colors = ['green','red']\n",
    "sns.lmplot(x='OfficeVisits',y='Narcotics',data=raw_df,fit_reg=False, hue='PoorCare',palette=colors)\n",
    "sns.plt.xlim(0,)\n",
    "sns.plt.ylim(0,)"
   ]
  },
  {
   "cell_type": "code",
   "execution_count": 5,
   "metadata": {
    "collapsed": false
   },
   "outputs": [
    {
     "data": {
      "text/html": [
       "<div>\n",
       "<table border=\"1\" class=\"dataframe\">\n",
       "  <thead>\n",
       "    <tr style=\"text-align: right;\">\n",
       "      <th>Row_Count</th>\n",
       "      <th>131</th>\n",
       "    </tr>\n",
       "    <tr>\n",
       "      <th>PoorCare</th>\n",
       "      <th></th>\n",
       "    </tr>\n",
       "  </thead>\n",
       "  <tbody>\n",
       "    <tr>\n",
       "      <th>0</th>\n",
       "      <td>98</td>\n",
       "    </tr>\n",
       "    <tr>\n",
       "      <th>1</th>\n",
       "      <td>33</td>\n",
       "    </tr>\n",
       "  </tbody>\n",
       "</table>\n",
       "</div>"
      ],
      "text/plain": [
       "Row_Count  131\n",
       "PoorCare      \n",
       "0           98\n",
       "1           33"
      ]
     },
     "execution_count": 5,
     "metadata": {},
     "output_type": "execute_result"
    }
   ],
   "source": [
    "pd.crosstab(raw_df['PoorCare'], raw_df['PoorCare'].count(), colnames=['Row_Count'])"
   ]
  },
  {
   "cell_type": "markdown",
   "metadata": {},
   "source": [
    "#### baseline prediction\n",
    "\n",
    "In classification problems, we just predict the most common result, in this case we predict 0. And in this case, we would be correct 98/131 = 75% of the time.  That's our baseline 'dumb' approach."
   ]
  },
  {
   "cell_type": "code",
   "execution_count": 6,
   "metadata": {
    "collapsed": false
   },
   "outputs": [
    {
     "name": "stdout",
     "output_type": "stream",
     "text": [
      "train has: 98 \n",
      "test has: 33\n"
     ]
    }
   ],
   "source": [
    "qualityTrain, qualityTest = train_test_split(raw_df, test_size=0.25)\n",
    "print('train has:',len(qualityTrain),'\\ntest has:',len(qualityTest))"
   ]
  },
  {
   "cell_type": "code",
   "execution_count": 7,
   "metadata": {
    "collapsed": false
   },
   "outputs": [
    {
     "data": {
      "text/html": [
       "<table class=\"simpletable\">\n",
       "<caption>Generalized Linear Model Regression Results</caption>\n",
       "<tr>\n",
       "  <th>Dep. Variable:</th>      <td>PoorCare</td>     <th>  No. Observations:  </th>  <td>    98</td> \n",
       "</tr>\n",
       "<tr>\n",
       "  <th>Model:</th>                 <td>GLM</td>       <th>  Df Residuals:      </th>  <td>    95</td> \n",
       "</tr>\n",
       "<tr>\n",
       "  <th>Model Family:</th>       <td>Binomial</td>     <th>  Df Model:          </th>  <td>     2</td> \n",
       "</tr>\n",
       "<tr>\n",
       "  <th>Link Function:</th>        <td>logit</td>      <th>  Scale:             </th>    <td>1.0</td>  \n",
       "</tr>\n",
       "<tr>\n",
       "  <th>Method:</th>               <td>IRLS</td>       <th>  Log-Likelihood:    </th> <td> -44.882</td>\n",
       "</tr>\n",
       "<tr>\n",
       "  <th>Date:</th>           <td>Fri, 29 Jul 2016</td> <th>  Deviance:          </th> <td>  89.764</td>\n",
       "</tr>\n",
       "<tr>\n",
       "  <th>Time:</th>               <td>14:33:07</td>     <th>  Pearson chi2:      </th>  <td>  101.</td> \n",
       "</tr>\n",
       "<tr>\n",
       "  <th>No. Iterations:</th>         <td>7</td>        <th>                     </th>     <td> </td>   \n",
       "</tr>\n",
       "</table>\n",
       "<table class=\"simpletable\">\n",
       "<tr>\n",
       "        <td></td>          <th>coef</th>     <th>std err</th>      <th>z</th>      <th>P>|z|</th> <th>[95.0% Conf. Int.]</th> \n",
       "</tr>\n",
       "<tr>\n",
       "  <th>Intercept</th>    <td>   -2.5184</td> <td>    0.538</td> <td>   -4.680</td> <td> 0.000</td> <td>   -3.573    -1.464</td>\n",
       "</tr>\n",
       "<tr>\n",
       "  <th>OfficeVisits</th> <td>    0.0640</td> <td>    0.030</td> <td>    2.116</td> <td> 0.034</td> <td>    0.005     0.123</td>\n",
       "</tr>\n",
       "<tr>\n",
       "  <th>Narcotics</th>    <td>    0.1023</td> <td>    0.039</td> <td>    2.630</td> <td> 0.009</td> <td>    0.026     0.179</td>\n",
       "</tr>\n",
       "</table>"
      ],
      "text/plain": [
       "<class 'statsmodels.iolib.summary.Summary'>\n",
       "\"\"\"\n",
       "                 Generalized Linear Model Regression Results                  \n",
       "==============================================================================\n",
       "Dep. Variable:               PoorCare   No. Observations:                   98\n",
       "Model:                            GLM   Df Residuals:                       95\n",
       "Model Family:                Binomial   Df Model:                            2\n",
       "Link Function:                  logit   Scale:                             1.0\n",
       "Method:                          IRLS   Log-Likelihood:                -44.882\n",
       "Date:                Fri, 29 Jul 2016   Deviance:                       89.764\n",
       "Time:                        14:33:07   Pearson chi2:                     101.\n",
       "No. Iterations:                     7                                         \n",
       "================================================================================\n",
       "                   coef    std err          z      P>|z|      [95.0% Conf. Int.]\n",
       "--------------------------------------------------------------------------------\n",
       "Intercept       -2.5184      0.538     -4.680      0.000        -3.573    -1.464\n",
       "OfficeVisits     0.0640      0.030      2.116      0.034         0.005     0.123\n",
       "Narcotics        0.1023      0.039      2.630      0.009         0.026     0.179\n",
       "================================================================================\n",
       "\"\"\""
      ]
     },
     "execution_count": 7,
     "metadata": {},
     "output_type": "execute_result"
    }
   ],
   "source": [
    "# predictor_col = ['OfficeVisits','Narcotics']\n",
    "\n",
    "# LogReg = lm.LogisticRegression()\n",
    "# LogReg.fit(qualityTrain[predictor_col],qualityTrain['PoorCare'])\n",
    "\n",
    "LogReg = smf.GLM.from_formula(formula='PoorCare ~ OfficeVisits + Narcotics',data=qualityTrain,family=sm.families.Binomial()).fit()\n",
    "LogReg.summary()"
   ]
  },
  {
   "cell_type": "code",
   "execution_count": 8,
   "metadata": {
    "collapsed": false
   },
   "outputs": [
    {
     "name": "stdout",
     "output_type": "stream",
     "text": [
      "Intercept      -2.599956\n",
      "OfficeVisits    0.072276\n",
      "Narcotics       0.093312\n",
      "dtype: float64\n"
     ]
    }
   ],
   "source": [
    "# print(predictor_col,':')\n",
    "# print(LogReg.coef_)\n",
    "# print()\n",
    "# print('intercept:')\n",
    "# print(LogReg.intercept_)\n",
    "\n",
    "print(LogReg.params)"
   ]
  },
  {
   "cell_type": "markdown",
   "metadata": {},
   "source": [
    "#### Preferred model is the one with the minimum AIC.  But how do we compute AIC?\n",
    "\n",
    "- In Wikipedia:  AIC = 2k + n [Ln( 2(pi) RSS/n ) + 1],\n",
    "\n",
    "- In a referenced article:  AIC = 2k + n Log(RSS/n), \n",
    "\n",
    "- In a published paper:  AIC = k + n [Ln( 2(pi) RSS/(n-k) ) +1],\n",
    "\n",
    "RSS = Residual Sum of Squares = ???\n",
    "\n",
    "k = number of model parameters"
   ]
  },
  {
   "cell_type": "code",
   "execution_count": 9,
   "metadata": {
    "collapsed": false
   },
   "outputs": [
    {
     "name": "stdout",
     "output_type": "stream",
     "text": [
      "AIC is:  97.8702762019\n"
     ]
    }
   ],
   "source": [
    "# If same as OLS model, then AIC is computed like this:\n",
    "print ('AIC is: ',2*(2+1) - 2*LogReg.llf)\n",
    "\n",
    "# AIC can only be compared among models with the same dataset."
   ]
  },
  {
   "cell_type": "code",
   "execution_count": 10,
   "metadata": {
    "collapsed": true
   },
   "outputs": [],
   "source": [
    "predictTrain = LogReg.predict(linear=False)"
   ]
  },
  {
   "cell_type": "code",
   "execution_count": 11,
   "metadata": {
    "collapsed": false
   },
   "outputs": [
    {
     "name": "stdout",
     "output_type": "stream",
     "text": [
      "min:  0.0821043601585\n",
      "mean:  0.265306122449\n",
      "median:  0.183203587277\n",
      "max:  0.989606144731\n"
     ]
    }
   ],
   "source": [
    "print('min: ',predictTrain.min())\n",
    "print('mean: ',predictTrain.mean())\n",
    "print('median: ',np.median(predictTrain))\n",
    "print('max: ',predictTrain.max())"
   ]
  },
  {
   "cell_type": "code",
   "execution_count": 45,
   "metadata": {
    "collapsed": false,
    "scrolled": true
   },
   "outputs": [
    {
     "data": {
      "text/html": [
       "<div>\n",
       "<table border=\"1\" class=\"dataframe\">\n",
       "  <thead>\n",
       "    <tr style=\"text-align: right;\">\n",
       "      <th></th>\n",
       "      <th>pred</th>\n",
       "    </tr>\n",
       "    <tr>\n",
       "      <th>Poorcare</th>\n",
       "      <th></th>\n",
       "    </tr>\n",
       "  </thead>\n",
       "  <tbody>\n",
       "    <tr>\n",
       "      <th>0</th>\n",
       "      <td>0.203031</td>\n",
       "    </tr>\n",
       "    <tr>\n",
       "      <th>1</th>\n",
       "      <td>0.437760</td>\n",
       "    </tr>\n",
       "  </tbody>\n",
       "</table>\n",
       "</div>"
      ],
      "text/plain": [
       "              pred\n",
       "Poorcare          \n",
       "0         0.203031\n",
       "1         0.437760"
      ]
     },
     "execution_count": 45,
     "metadata": {},
     "output_type": "execute_result"
    }
   ],
   "source": [
    "#For true poor care cases (PoorCare = 1), what is the average probability that we predicted?\n",
    "#For true good care cases (PoorCare = 0), what is the average probability that we predicted?\n",
    "\n",
    "temp_df = pd.DataFrame(predictTrain, columns=['pred'])\n",
    "temp2 = pd.DataFrame(qualityTrain['PoorCare'].tolist(), columns=['Poorcare'])\n",
    "temp_df = temp_df.join(temp2)\n",
    "pd.pivot_table(temp_df, index=['Poorcare'], values=['pred'], aggfunc=np.mean)"
   ]
  },
  {
   "cell_type": "code",
   "execution_count": 52,
   "metadata": {
    "collapsed": false
   },
   "outputs": [
    {
     "data": {
      "text/html": [
       "<div>\n",
       "<table border=\"1\" class=\"dataframe\">\n",
       "  <thead>\n",
       "    <tr>\n",
       "      <th></th>\n",
       "      <th colspan=\"2\" halign=\"left\">pred</th>\n",
       "    </tr>\n",
       "    <tr>\n",
       "      <th>pred_TF</th>\n",
       "      <th>False</th>\n",
       "      <th>True</th>\n",
       "    </tr>\n",
       "    <tr>\n",
       "      <th>Poorcare</th>\n",
       "      <th></th>\n",
       "      <th></th>\n",
       "    </tr>\n",
       "  </thead>\n",
       "  <tbody>\n",
       "    <tr>\n",
       "      <th>0</th>\n",
       "      <td>69</td>\n",
       "      <td>3</td>\n",
       "    </tr>\n",
       "    <tr>\n",
       "      <th>1</th>\n",
       "      <td>17</td>\n",
       "      <td>9</td>\n",
       "    </tr>\n",
       "  </tbody>\n",
       "</table>\n",
       "</div>"
      ],
      "text/plain": [
       "          pred      \n",
       "pred_TF  False True \n",
       "Poorcare            \n",
       "0           69     3\n",
       "1           17     9"
      ]
     },
     "execution_count": 52,
     "metadata": {},
     "output_type": "execute_result"
    }
   ],
   "source": [
    "threshold = 0.5\n",
    "temp_df['pred_TF']=temp_df['pred']>threshold\n",
    "pd.pivot_table(temp_df,index='Poorcare',columns='pred_TF',aggfunc='count')"
   ]
  },
  {
   "cell_type": "markdown",
   "metadata": {
    "collapsed": true
   },
   "source": [
    "# New Section"
   ]
  },
  {
   "cell_type": "code",
   "execution_count": 14,
   "metadata": {
    "collapsed": false
   },
   "outputs": [
    {
     "data": {
      "text/html": [
       "<table class=\"simpletable\">\n",
       "<caption>Generalized Linear Model Regression Results</caption>\n",
       "<tr>\n",
       "  <th>Dep. Variable:</th>      <td>PoorCare</td>     <th>  No. Observations:  </th>  <td>    98</td> \n",
       "</tr>\n",
       "<tr>\n",
       "  <th>Model:</th>                 <td>GLM</td>       <th>  Df Residuals:      </th>  <td>    95</td> \n",
       "</tr>\n",
       "<tr>\n",
       "  <th>Model Family:</th>       <td>Binomial</td>     <th>  Df Model:          </th>  <td>     2</td> \n",
       "</tr>\n",
       "<tr>\n",
       "  <th>Link Function:</th>        <td>logit</td>      <th>  Scale:             </th>    <td>1.0</td>  \n",
       "</tr>\n",
       "<tr>\n",
       "  <th>Method:</th>               <td>IRLS</td>       <th>  Log-Likelihood:    </th> <td> -52.478</td>\n",
       "</tr>\n",
       "<tr>\n",
       "  <th>Date:</th>           <td>Thu, 28 Jul 2016</td> <th>  Deviance:          </th> <td>  104.96</td>\n",
       "</tr>\n",
       "<tr>\n",
       "  <th>Time:</th>               <td>15:23:00</td>     <th>  Pearson chi2:      </th>  <td>  99.4</td> \n",
       "</tr>\n",
       "<tr>\n",
       "  <th>No. Iterations:</th>         <td>6</td>        <th>                     </th>     <td> </td>   \n",
       "</tr>\n",
       "</table>\n",
       "<table class=\"simpletable\">\n",
       "<tr>\n",
       "                <td></td>                  <th>coef</th>     <th>std err</th>      <th>z</th>      <th>P>|z|</th> <th>[95.0% Conf. Int.]</th> \n",
       "</tr>\n",
       "<tr>\n",
       "  <th>Intercept</th>                    <td>   -2.0628</td> <td>    0.546</td> <td>   -3.779</td> <td> 0.000</td> <td>   -3.133    -0.993</td>\n",
       "</tr>\n",
       "<tr>\n",
       "  <th>StartedOnCombination[T.True]</th> <td>    2.3732</td> <td>    1.194</td> <td>    1.988</td> <td> 0.047</td> <td>    0.033     4.713</td>\n",
       "</tr>\n",
       "<tr>\n",
       "  <th>ProviderCount</th>                <td>    0.0372</td> <td>    0.019</td> <td>    1.989</td> <td> 0.047</td> <td>    0.001     0.074</td>\n",
       "</tr>\n",
       "</table>"
      ],
      "text/plain": [
       "<class 'statsmodels.iolib.summary.Summary'>\n",
       "\"\"\"\n",
       "                 Generalized Linear Model Regression Results                  \n",
       "==============================================================================\n",
       "Dep. Variable:               PoorCare   No. Observations:                   98\n",
       "Model:                            GLM   Df Residuals:                       95\n",
       "Model Family:                Binomial   Df Model:                            2\n",
       "Link Function:                  logit   Scale:                             1.0\n",
       "Method:                          IRLS   Log-Likelihood:                -52.478\n",
       "Date:                Thu, 28 Jul 2016   Deviance:                       104.96\n",
       "Time:                        15:23:00   Pearson chi2:                     99.4\n",
       "No. Iterations:                     6                                         \n",
       "================================================================================================\n",
       "                                   coef    std err          z      P>|z|      [95.0% Conf. Int.]\n",
       "------------------------------------------------------------------------------------------------\n",
       "Intercept                       -2.0628      0.546     -3.779      0.000        -3.133    -0.993\n",
       "StartedOnCombination[T.True]     2.3732      1.194      1.988      0.047         0.033     4.713\n",
       "ProviderCount                    0.0372      0.019      1.989      0.047         0.001     0.074\n",
       "================================================================================================\n",
       "\"\"\""
      ]
     },
     "execution_count": 14,
     "metadata": {},
     "output_type": "execute_result"
    }
   ],
   "source": [
    "LogReg2 = smf.glm(formula='PoorCare ~ StartedOnCombination + ProviderCount',data=qualityTrain,family=sm.families.Binomial()).fit()\n",
    "LogReg2.summary()"
   ]
  },
  {
   "cell_type": "code",
   "execution_count": 15,
   "metadata": {
    "collapsed": false
   },
   "outputs": [
    {
     "name": "stdout",
     "output_type": "stream",
     "text": [
      "min:  0.13275586442\n",
      "mean:  0.265306122449\n",
      "median:  0.217280436403\n",
      "max:  0.812079764725\n"
     ]
    }
   ],
   "source": [
    "predictTrain2 = LogReg2.predict()\n",
    "print('min: ',predictTrain2.min())\n",
    "print('mean: ',predictTrain2.mean())\n",
    "print('median: ',np.median(predictTrain2))\n",
    "print('max: ',predictTrain2.max())"
   ]
  },
  {
   "cell_type": "code",
   "execution_count": null,
   "metadata": {
    "collapsed": true
   },
   "outputs": [],
   "source": []
  }
 ],
 "metadata": {
  "kernelspec": {
   "display_name": "Python [Root]",
   "language": "python",
   "name": "Python [Root]"
  },
  "language_info": {
   "codemirror_mode": {
    "name": "ipython",
    "version": 3
   },
   "file_extension": ".py",
   "mimetype": "text/x-python",
   "name": "python",
   "nbconvert_exporter": "python",
   "pygments_lexer": "ipython3",
   "version": "3.5.2"
  }
 },
 "nbformat": 4,
 "nbformat_minor": 0
}
